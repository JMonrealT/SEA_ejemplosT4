{
 "cells": [
  {
   "cell_type": "markdown",
   "id": "356f2e6d",
   "metadata": {},
   "source": [
    "# ## 10. Funciones como Objetos\n",
    "\n",
    "🔧 Funciones asignables, pasables y retornables\n",
    "\n",
    "En Python, las funciones son objetos de primera clase: pueden ser asignadas a variables, pasadas como argumentos y retornadas por otras funciones."
   ]
  },
  {
   "cell_type": "markdown",
   "id": "ba22bedf",
   "metadata": {},
   "source": [
    "## 1️⃣ Asignar Funciones a Variables\n"
   ]
  },
  {
   "cell_type": "code",
   "execution_count": null,
   "id": "fde9efe7",
   "metadata": {},
   "outputs": [
    {
     "name": "stdout",
     "output_type": "stream",
     "text": [
      "Llamada directa: Hola, Ana!\n",
      "Llamada via variable: Hola, Luis!\n",
      "\n",
      "--- Comprobación de identidad ---\n",
      "¿Son la misma función? (is): True\n",
      "ID de saludar: 132457927322304\n",
      "ID de mi_funcion: 132457927322304\n",
      "¿Mismo ID?: True\n"
     ]
    }
   ],
   "source": [
    "def saludar(nombre):\n",
    "    return f\"Hola, {nombre}!\"\n",
    "\n",
    "# Asignar función a variable\n",
    "mi_funcion = saludar\n",
    "\n",
    "print(f\"Llamada directa: {saludar('Ana')}\")\n",
    "print(f\"Llamada via variable: {mi_funcion('Luis')}\")\n",
    "\n",
    "print(\"\\n--- Comprobación de identidad ---\")\n",
    "print(f\"¿Son la misma función? (is): {saludar is mi_funcion}\")\n",
    "print(f\"ID de saludar: {id(saludar)}\")\n",
    "print(f\"ID de mi_funcion: {id(mi_funcion)}\")\n",
    "print(f\"¿Mismo ID?: {id(saludar) == id(mi_funcion)}\")"
   ]
  },
  {
   "cell_type": "markdown",
   "id": "70e23ef6",
   "metadata": {},
   "source": [
    "## 2️⃣ Funciones como Argumentos\n"
   ]
  },
  {
   "cell_type": "code",
   "execution_count": null,
   "id": "338b6a6e",
   "metadata": {},
   "outputs": [
    {
     "name": "stdout",
     "output_type": "stream",
     "text": [
      "Suma: 15\n",
      "Resta: 5\n"
     ]
    }
   ],
   "source": [
    "def sumar(a, b):\n",
    "    return a + b\n",
    "\n",
    "def restar(a, b):\n",
    "    return a - b\n",
    "\n",
    "def ejecutar_operacion(operacion, x, y):\n",
    "    \"\"\"Ejecuta una operación dada sobre dos números\"\"\"\n",
    "    return operacion(x, y)\n",
    "\n",
    "# Pasar funciones como argumentos\n",
    "print(f\"Suma: {ejecutar_operacion(sumar, 10, 5)}\")\n",
    "print(f\"Resta: {ejecutar_operacion(restar, 10, 5)}\")"
   ]
  },
  {
   "cell_type": "markdown",
   "id": "fa55aa25",
   "metadata": {},
   "source": [
    "## 3️⃣ Retornar Funciones desde Funciones\n"
   ]
  },
  {
   "cell_type": "code",
   "execution_count": null,
   "id": "f003c4a4",
   "metadata": {},
   "outputs": [
    {
     "name": "stdout",
     "output_type": "stream",
     "text": [
      "duplicar(5) = 10\n",
      "triplicar(5) = 15\n"
     ]
    }
   ],
   "source": [
    "def crear_multiplicador(factor):\n",
    "    \"\"\"Crea una función que multiplica por un factor dado\"\"\"\n",
    "    def multiplicador(x):\n",
    "        return x * factor\n",
    "    return multiplicador\n",
    "\n",
    "# Crear funciones especializadas\n",
    "duplicar = crear_multiplicador(2)\n",
    "triplicar = crear_multiplicador(3)\n",
    "\n",
    "print(f\"duplicar(5) = {duplicar(5)}\")\n",
    "print(f\"triplicar(5) = {triplicar(5)}\")"
   ]
  },
  {
   "cell_type": "markdown",
   "id": "7269fc02",
   "metadata": {},
   "source": [
    "## 4️⃣ Closures - Funciones con Estado\n"
   ]
  },
  {
   "cell_type": "code",
   "execution_count": null,
   "id": "4b791641",
   "metadata": {},
   "outputs": [
    {
     "name": "stdout",
     "output_type": "stream",
     "text": [
      "Contador 1:\n",
      "  1\n",
      "  2\n",
      "\n",
      "Contador 2:\n",
      "  1\n"
     ]
    }
   ],
   "source": [
    "def contador():\n",
    "    \"\"\"Crea un contador con estado interno (closure)\"\"\"\n",
    "    cuenta = 0\n",
    "    \n",
    "    def incrementar():\n",
    "        nonlocal cuenta  # Permite modificar la variable del ámbito exterior\n",
    "        cuenta += 1\n",
    "        return cuenta\n",
    "    \n",
    "    return incrementar\n",
    "\n",
    "# Crear dos contadores independientes\n",
    "contador1 = contador()\n",
    "contador2 = contador()\n",
    "\n",
    "print(\"Contador 1:\")\n",
    "print(f\"  {contador1()}\")  # 1\n",
    "print(f\"  {contador1()}\")  # 2\n",
    "\n",
    "print(\"\\nContador 2:\")\n",
    "print(f\"  {contador2()}\")  # 1 (independiente)"
   ]
  },
  {
   "cell_type": "markdown",
   "id": "cbb60fd3",
   "metadata": {},
   "source": [
    "## 5️⃣ Almacenar Funciones en Estructuras de Datos\n"
   ]
  },
  {
   "cell_type": "code",
   "execution_count": null,
   "id": "3dcdc2f3",
   "metadata": {},
   "outputs": [
    {
     "name": "stdout",
     "output_type": "stream",
     "text": [
      "10 + 5 = 15\n",
      "10 - 5 = 5\n",
      "10 * 5 = 50\n",
      "10 / 2 = Operador no válido\n"
     ]
    }
   ],
   "source": [
    "# Diccionario de funciones (patrón dispatcher)\n",
    "def suma(a, b):\n",
    "    return a + b\n",
    "\n",
    "def resta(a, b):\n",
    "    return a - b\n",
    "\n",
    "def multiplicacion(a, b):\n",
    "    return a * b\n",
    "\n",
    "# Calculadora como diccionario de funciones\n",
    "calculadora = {\n",
    "    '+': suma,\n",
    "    '-': resta,\n",
    "    '*': multiplicacion\n",
    "}\n",
    "\n",
    "# Usar la calculadora\n",
    "def calcular(a, operador, b):\n",
    "    if operador in calculadora:\n",
    "        return calculadora[operador](a, b)\n",
    "    return \"Operador no válido\"\n",
    "\n",
    "print(f\"10 + 5 = {calcular(10, '+', 5)}\")\n",
    "print(f\"10 - 5 = {calcular(10, '-', 5)}\")\n",
    "print(f\"10 * 5 = {calcular(10, '*', 5)}\")\n",
    "print(f\"10 / 2 = {calcular(10, '/', 5)}\")  # Operador no válido"
   ]
  },
  {
   "cell_type": "markdown",
   "id": "3dcdc2f3",
   "metadata": {},
   "source": [
    "## 6️⃣ Funciones de Orden Superior\n",
    "\n",
    "Una **función de orden superior** es una función que recibe otras funciones como argumentos o retorna funciones.\n",
    "\n",
    "Ejemplo simple: función que modifica cómo ejecutamos otra función.\n"
   ]
  },
  {
   "cell_type": "code",
   "execution_count": null,
   "id": "9a32b602",
   "metadata": {},
   "outputs": [
    {
     "name": "stdout",
     "output_type": "stream",
     "text": [
      "=== Transformaciones de Datos ===\n",
      "Números originales: [1, 2, 3, 4, 5]\n",
      "Doblados: [2, 4, 6, 8, 10]\n",
      "Al cuadrado: [1, 4, 9, 16, 25]\n",
      "\n",
      "=== Función de Orden Superior: Decorador ===\n",
      "⏱️  Función 'procesar_lista' tomó 0.000002 segundos\n",
      "Resultado: [2, 4, 6, 8, 10]\n",
      "\n",
      "=== Pipeline de Transformaciones ===\n",
      "Valor inicial: 5\n",
      "Después de pipeline: 15.0\n",
      "  5 + 10 = 15 → 15 * 2 = 30 → 30 / 2 = 15\n"
     ]
    }
   ],
   "source": [
    "# Función de orden superior: aplica una función a cada elemento de una lista\n",
    "def aplicar_a_todos(datos, transformacion):\n",
    "    \"\"\"Aplica una función a cada elemento de una lista\"\"\"\n",
    "    return [transformacion(x) for x in datos]\n",
    "\n",
    "def doblar(x):\n",
    "    return x * 2\n",
    "\n",
    "def cuadrado(x):\n",
    "    return x ** 2\n",
    "\n",
    "# Usar la función de orden superior con diferentes funciones\n",
    "numeros = [1, 2, 3, 4, 5]\n",
    "\n",
    "print(\"=== Funciones de Orden Superior ===\")\n",
    "print(f\"Números originales: {numeros}\")\n",
    "print(f\"Doblados: {aplicar_a_todos(numeros, doblar)}\")\n",
    "print(f\"Al cuadrado: {aplicar_a_todos(numeros, cuadrado)}\")\n",
    "\n",
    "print(\"\\n✨ La misma función 'aplicar_a_todos' funciona con cualquier transformación\")\n"
   ]
  },
  {
   "cell_type": "markdown",
   "id": "f70a160e",
   "metadata": {},
   "source": [
    "## 📚 Resumen: Funciones como Objetos\n",
    "\n",
    "### 🎯 Características de Primera Clase en Python:\n",
    "Las funciones son objetos como cualquier otro (strings, números, listas):\n",
    "\n",
    "1. **Asignar a variables**: `mi_func = funcion` → Una variable apunta a la función\n",
    "2. **Pasar como argumentos**: `ejecutar(mi_func, args)` → Usar función como parámetro\n",
    "3. **Retornar desde funciones**: `return funcion_interna` → Función retorna otra función\n",
    "4. **Almacenar en estructuras**: `dict = {'op': func}` → Funciones en diccionarios/listas\n",
    "5. **Closures**: Funciones que recuerdan su entorno local\n",
    "\n",
    "### 📋 Conceptos Clave:\n",
    "\n",
    "| Concepto | Descripción | Uso |\n",
    "|----------|-------------|-----|\n",
    "| **Función de orden superior** | Recibe o devuelve funciones | Procesar datos, decoradores |\n",
    "| **Closure** | Función que recuerda variables del ámbito exterior | Contadores, configuración |\n",
    "| **Dispatcher** | Diccionario que mapea claves a funciones | Calculadora, handlers |\n",
    "| **Decorador** | Función que modifica el comportamiento de otra | Logging, timing, validación |\n",
    "| **Pipeline** | Composición de funciones en secuencia | Procesamiento de datos |\n",
    "\n",
    "### 💡 Ventajas Prácticas:\n",
    "\n",
    "✅ **Flexibilidad**: Código genérico que funciona con cualquier función  \n",
    "✅ **Abstracción**: Separar lógica de negocio de implementación  \n",
    "✅ **Reutilización**: Mismo código para múltiples comportamientos  \n",
    "✅ **Patrones de diseño**: Strategy, Factory, Decorator, Chain of Responsibility  \n",
    "\n",
    "### 🚀 Ejemplo Real - API REST:\n",
    "```python\n",
    "# Diferentes funciones de validación que podemos pasar\n",
    "def validar_email(valor): ...\n",
    "def validar_edad(valor): ...\n",
    "def validar_contraseña(valor): ...\n",
    "\n",
    "# Una función genérica que aplica validación\n",
    "def aplicar_validacion(datos, campo, validador):\n",
    "    if validador(datos[campo]):\n",
    "        return True\n",
    "    return False\n",
    "```\n",
    "\n",
    "### ⚡ Casos de Uso Comunes:\n",
    "\n",
    "1. **Procesamiento de datos** → `map()`, `filter()`, `sorted()` con funciones personalizadas\n",
    "2. **Event handlers** → Callbacks en interfaces gráficas\n",
    "3. **Decoradores** → Logging, timing, caching, autenticación\n",
    "4. **Configuración** → Pasar estrategias a funciones genéricas\n",
    "5. **Async/await** → Callbacks para operaciones asincrónicas\n"
   ]
  }
 ],
 "metadata": {
  "kernelspec": {
   "display_name": "SEA_ejemplosT4",
   "language": "python",
   "name": "python3"
  },
  "language_info": {
   "codemirror_mode": {
    "name": "ipython",
    "version": 3
   },
   "file_extension": ".py",
   "mimetype": "text/x-python",
   "name": "python",
   "nbconvert_exporter": "python",
   "pygments_lexer": "ipython3",
   "version": "3.12.3"
  }
 },
 "nbformat": 4,
 "nbformat_minor": 5
}
