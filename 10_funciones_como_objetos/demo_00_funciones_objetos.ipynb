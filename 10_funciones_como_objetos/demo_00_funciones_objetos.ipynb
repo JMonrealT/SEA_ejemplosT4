{
 "cells": [
  {
   "cell_type": "markdown",
   "id": "356f2e6d",
   "metadata": {},
   "source": [
    "# ## 10. Funciones como Objetos\n",
    "\n",
    "🔧 Funciones asignables, pasables y retornables\n",
    "\n",
    "En Python, las funciones son objetos de primera clase: pueden ser asignadas a variables, pasadas como argumentos y retornadas por otras funciones."
   ]
  },
  {
   "cell_type": "markdown",
   "id": "ba22bedf",
   "metadata": {},
   "source": [
    "## 1️⃣ Asignar Funciones a Variables\n"
   ]
  },
  {
   "cell_type": "code",
   "execution_count": null,
   "id": "fde9efe7",
   "metadata": {},
   "outputs": [
    {
     "name": "stdout",
     "output_type": "stream",
     "text": [
      "Llamada directa: Hola, Ana!\n",
      "Llamada via variable: Hola, Luis!\n",
      "\n",
      "--- Comprobación de identidad ---\n",
      "¿Son la misma función? (is): True\n",
      "ID de saludar: 132457927322304\n",
      "ID de mi_funcion: 132457927322304\n",
      "¿Mismo ID?: True\n"
     ]
    }
   ],
   "source": [
    "def saludar(nombre):\n",
    "    return f\"Hola, {nombre}!\"\n",
    "\n",
    "# Asignar función a variable\n",
    "mi_funcion = saludar\n",
    "\n",
    "print(f\"Llamada directa: {saludar('Ana')}\")\n",
    "print(f\"Llamada via variable: {mi_funcion('Luis')}\")\n",
    "\n",
    "print(\"\\n--- Comprobación de identidad ---\")\n",
    "print(f\"¿Son la misma función? (is): {saludar is mi_funcion}\")\n",
    "print(f\"ID de saludar: {id(saludar)}\")\n",
    "print(f\"ID de mi_funcion: {id(mi_funcion)}\")\n",
    "print(f\"¿Mismo ID?: {id(saludar) == id(mi_funcion)}\")"
   ]
  },
  {
   "cell_type": "markdown",
   "id": "70e23ef6",
   "metadata": {},
   "source": [
    "## 2️⃣ Funciones como Argumentos\n"
   ]
  },
  {
   "cell_type": "code",
   "execution_count": null,
   "id": "338b6a6e",
   "metadata": {},
   "outputs": [
    {
     "name": "stdout",
     "output_type": "stream",
     "text": [
      "Suma: 15\n",
      "Resta: 5\n"
     ]
    }
   ],
   "source": [
    "def sumar(a, b):\n",
    "    return a + b\n",
    "\n",
    "def restar(a, b):\n",
    "    return a - b\n",
    "\n",
    "def ejecutar_operacion(operacion, x, y):\n",
    "    \"\"\"Ejecuta una operación dada sobre dos números\"\"\"\n",
    "    return operacion(x, y)\n",
    "\n",
    "# Pasar funciones como argumentos\n",
    "print(f\"Suma: {ejecutar_operacion(sumar, 10, 5)}\")\n",
    "print(f\"Resta: {ejecutar_operacion(restar, 10, 5)}\")"
   ]
  },
  {
   "cell_type": "markdown",
   "id": "fa55aa25",
   "metadata": {},
   "source": [
    "## 3️⃣ Retornar Funciones desde Funciones\n"
   ]
  },
  {
   "cell_type": "code",
   "execution_count": null,
   "id": "f003c4a4",
   "metadata": {},
   "outputs": [
    {
     "name": "stdout",
     "output_type": "stream",
     "text": [
      "duplicar(5) = 10\n",
      "triplicar(5) = 15\n"
     ]
    }
   ],
   "source": [
    "def crear_multiplicador(factor):\n",
    "    \"\"\"Crea una función que multiplica por un factor dado\"\"\"\n",
    "    def multiplicador(x):\n",
    "        return x * factor\n",
    "    return multiplicador\n",
    "\n",
    "# Crear funciones especializadas\n",
    "duplicar = crear_multiplicador(2)\n",
    "triplicar = crear_multiplicador(3)\n",
    "\n",
    "print(f\"duplicar(5) = {duplicar(5)}\")\n",
    "print(f\"triplicar(5) = {triplicar(5)}\")"
   ]
  },
  {
   "cell_type": "markdown",
   "id": "7269fc02",
   "metadata": {},
   "source": [
    "## 4️⃣ Closures - Funciones con Estado\n"
   ]
  },
  {
   "cell_type": "code",
   "execution_count": null,
   "id": "4b791641",
   "metadata": {},
   "outputs": [
    {
     "name": "stdout",
     "output_type": "stream",
     "text": [
      "Contador 1:\n",
      "  1\n",
      "  2\n",
      "\n",
      "Contador 2:\n",
      "  1\n"
     ]
    }
   ],
   "source": [
    "def contador():\n",
    "    \"\"\"Crea un contador con estado interno (closure)\"\"\"\n",
    "    cuenta = 0\n",
    "    \n",
    "    def incrementar():\n",
    "        nonlocal cuenta  # Permite modificar la variable del ámbito exterior\n",
    "        cuenta += 1\n",
    "        return cuenta\n",
    "    \n",
    "    return incrementar\n",
    "\n",
    "# Crear dos contadores independientes\n",
    "contador1 = contador()\n",
    "contador2 = contador()\n",
    "\n",
    "print(\"Contador 1:\")\n",
    "print(f\"  {contador1()}\")  # 1\n",
    "print(f\"  {contador1()}\")  # 2\n",
    "\n",
    "print(\"\\nContador 2:\")\n",
    "print(f\"  {contador2()}\")  # 1 (independiente)"
   ]
  },
  {
   "cell_type": "markdown",
   "id": "cbb60fd3",
   "metadata": {},
   "source": [
    "## 5️⃣ Almacenar Funciones en Estructuras de Datos\n"
   ]
  },
  {
   "cell_type": "code",
   "execution_count": null,
   "id": "3dcdc2f3",
   "metadata": {},
   "outputs": [
    {
     "name": "stdout",
     "output_type": "stream",
     "text": [
      "10 + 5 = 15\n",
      "10 - 5 = 5\n",
      "10 * 5 = 50\n",
      "10 / 2 = Operador no válido\n"
     ]
    }
   ],
   "source": [
    "# Diccionario de funciones (patrón dispatcher)\n",
    "def suma(a, b):\n",
    "    return a + b\n",
    "\n",
    "def resta(a, b):\n",
    "    return a - b\n",
    "\n",
    "def multiplicacion(a, b):\n",
    "    return a * b\n",
    "\n",
    "# Calculadora como diccionario de funciones\n",
    "calculadora = {\n",
    "    '+': suma,\n",
    "    '-': resta,\n",
    "    '*': multiplicacion\n",
    "}\n",
    "\n",
    "# Usar la calculadora\n",
    "def calcular(a, operador, b):\n",
    "    if operador in calculadora:\n",
    "        return calculadora[operador](a, b)\n",
    "    return \"Operador no válido\"\n",
    "\n",
    "print(f\"10 + 5 = {calcular(10, '+', 5)}\")\n",
    "print(f\"10 - 5 = {calcular(10, '-', 5)}\")\n",
    "print(f\"10 * 5 = {calcular(10, '*', 5)}\")\n",
    "print(f\"10 / 2 = {calcular(10, '/', 5)}\")  # Operador no válido"
   ]
  },
  {
   "cell_type": "markdown",
   "id": "3dcdc2f3",
   "metadata": {},
   "source": [
    "## 6️⃣ Funciones de Orden Superior\n",
    "\n",
    "Una **función de orden superior** es una función que recibe otras funciones como argumentos o retorna funciones.\n",
    "\n",
    "Ejemplo simple: función que modifica cómo ejecutamos otra función.\n"
   ]
  },
  {
   "cell_type": "code",
   "execution_count": null,
   "id": "9a32b602",
   "metadata": {},
   "outputs": [
    {
     "name": "stdout",
     "output_type": "stream",
     "text": [
      "√2 ≈ 1.414213562374690 (en 5 iteraciones)\n",
      "Verificación: 1.4142135623746899² = 2.000000000004511\n",
      "\n",
      "∛27 ≈ 3.000000000001650 (en 6 iteraciones)\n",
      "Verificación: 3.0000000000016502³ = 27.000000000044555\n",
      "\n",
      "Solución de cos(x) = x: 0.739085133215161 (en 5 iteraciones)\n",
      "Verificación: cos(0.739085) = 0.739085133215161\n"
     ]
    }
   ],
   "source": [
    "def aplicar_dos_veces(funcion, valor):\n",
    "    \"\"\"Función de orden superior: aplica una función dos veces\"\"\"\n",
    "    resultado1 = funcion(valor)\n",
    "    resultado2 = funcion(resultado1)\n",
    "    return resultado2\n",
    "\n",
    "def sumar_tres(x):\n",
    "    return x + 3\n",
    "\n",
    "def multiplicar_dos(x):\n",
    "    return x * 2\n",
    "\n",
    "# Usar la función de orden superior\n",
    "print(\"=== Aplicar dos veces ===\")\n",
    "print(f\"sumar_tres(5) dos veces: {aplicar_dos_veces(sumar_tres, 5)}\")\n",
    "print(f\"  5 → 8 → 11\")\n",
    "\n",
    "print(f\"\\nmultiplicar_dos(5) dos veces: {aplicar_dos_veces(multiplicar_dos, 5)}\")\n",
    "print(f\"  5 → 10 → 20\")\n",
    "\n",
    "# Composición de funciones\n",
    "def componer(f, g):\n",
    "    \"\"\"Retorna una función que es la composición f(g(x))\"\"\"\n",
    "    def composicion(x):\n",
    "        return f(g(x))\n",
    "    return composicion\n",
    "\n",
    "# Crear funciones compuestas\n",
    "sumar_y_multiplicar = componer(multiplicar_dos, sumar_tres)\n",
    "multiplicar_y_sumar = componer(sumar_tres, multiplicar_dos)\n",
    "\n",
    "print(\"\\n=== Composición de funciones ===\")\n",
    "print(f\"(multiplicar_dos ∘ sumar_tres)(5) = {sumar_y_multiplicar(5)}\")\n",
    "print(f\"  5 + 3 = 8 → 8 * 2 = 16\")\n",
    "\n",
    "print(f\"\\n(sumar_tres ∘ multiplicar_dos)(5) = {multiplicar_y_sumar(5)}\")\n",
    "print(f\"  5 * 2 = 10 → 10 + 3 = 13\")\n"
   ]
  },
  {
   "cell_type": "markdown",
   "id": "f70a160e",
   "metadata": {},
   "source": [
    "## 📚 Resumen: Funciones como Objetos\n",
    "\n",
    "### Características de Primera Clase:\n",
    "1. **Asignar a variables**: `mi_func = funcion`\n",
    "2. **Pasar como argumentos**: `ejecutar(mi_func, args)`\n",
    "3. **Retornar desde funciones**: `return funcion_interna`\n",
    "4. **Almacenar en estructuras**: `dict = {'op': func}`\n",
    "5. **Closures**: Funciones que recuerdan su entorno\n",
    "\n",
    "### Conceptos Clave:\n",
    "\n",
    "| Concepto | Descripción |\n",
    "|----------|-------------|\n",
    "| **Función de orden superior** | Recibe o devuelve funciones |\n",
    "| **Closure** | Función que recuerda variables del ámbito exterior |\n",
    "| **Dispatcher** | Diccionario que mapea claves a funciones |\n",
    "\n",
    "### 💡 Ventajas:\n",
    "- **Flexibilidad**: Código más modular y reutilizable\n",
    "- **Abstracción**: Separar comportamiento de implementación\n",
    "- **Patrones de diseño**: Strategy, Factory, etc."
   ]
  }
 ],
 "metadata": {
  "kernelspec": {
   "display_name": "SEA_ejemplosT4",
   "language": "python",
   "name": "python3"
  },
  "language_info": {
   "codemirror_mode": {
    "name": "ipython",
    "version": 3
   },
   "file_extension": ".py",
   "mimetype": "text/x-python",
   "name": "python",
   "nbconvert_exporter": "python",
   "pygments_lexer": "ipython3",
   "version": "3.12.3"
  }
 },
 "nbformat": 4,
 "nbformat_minor": 5
}
