{
 "cells": [
  {
   "cell_type": "markdown",
   "id": "8295a543",
   "metadata": {},
   "source": [
    "# Demo 05: range() y Secuencias\n",
    "\n",
    "La función `range()` genera secuencias de números y es muy eficiente en memoria (es un generador)."
   ]
  },
  {
   "cell_type": "markdown",
   "id": "83f58f55",
   "metadata": {},
   "source": [
    "## ¿Qué es range()?\n",
    "\n",
    "`range()` genera una secuencia de números. **No crea una lista**, genera números bajo demanda.\n",
    "\n",
    "**Sintaxis:**\n",
    "```python\n",
    "range(stop)           # De 0 a stop-1\n",
    "range(start, stop)    # De start a stop-1\n",
    "range(start, stop, step)  # De start a stop-1, con incremento step\n",
    "```"
   ]
  },
  {
   "cell_type": "markdown",
   "id": "2ee9d766",
   "metadata": {},
   "source": [
    "## range() Básico"
   ]
  },
  {
   "cell_type": "code",
   "execution_count": 1,
   "id": "9afa8bf4",
   "metadata": {},
   "outputs": [
    {
     "name": "stdout",
     "output_type": "stream",
     "text": [
      "range(5): range(0, 5)\n",
      "Tipo: <class 'range'>\n",
      "Convertido a lista: [0, 1, 2, 3, 4]\n"
     ]
    }
   ],
   "source": [
    "# range(stop) - desde 0 hasta stop-1\n",
    "numeros = range(5)\n",
    "print(f\"range(5): {numeros}\")\n",
    "print(f\"Tipo: {type(numeros)}\")\n",
    "print(f\"Convertido a lista: {list(numeros)}\")"
   ]
  },
  {
   "cell_type": "code",
   "execution_count": 2,
   "id": "9b648999",
   "metadata": {},
   "outputs": [
    {
     "name": "stdout",
     "output_type": "stream",
     "text": [
      "range(3, 8): [3, 4, 5, 6, 7]\n"
     ]
    }
   ],
   "source": [
    "# range(start, stop) - desde start hasta stop-1\n",
    "numeros = range(3, 8)\n",
    "print(f\"range(3, 8): {list(numeros)}\")"
   ]
  },
  {
   "cell_type": "code",
   "execution_count": 3,
   "id": "dc4a0d8c",
   "metadata": {},
   "outputs": [
    {
     "name": "stdout",
     "output_type": "stream",
     "text": [
      "range(0, 10, 2): [0, 2, 4, 6, 8]\n"
     ]
    }
   ],
   "source": [
    "# range(start, stop, step) - con incremento\n",
    "numeros = range(0, 10, 2)\n",
    "print(f\"range(0, 10, 2): {list(numeros)}\")"
   ]
  },
  {
   "cell_type": "markdown",
   "id": "10010fae",
   "metadata": {},
   "source": [
    "## range() con Pasos Negativos"
   ]
  },
  {
   "cell_type": "code",
   "execution_count": 4,
   "id": "40126005",
   "metadata": {},
   "outputs": [
    {
     "name": "stdout",
     "output_type": "stream",
     "text": [
      "range(10, 0, -1): [10, 9, 8, 7, 6, 5, 4, 3, 2, 1]\n"
     ]
    }
   ],
   "source": [
    "# Contar hacia atrás\n",
    "descendente = range(10, 0, -1)\n",
    "print(f\"range(10, 0, -1): {list(descendente)}\")"
   ]
  },
  {
   "cell_type": "code",
   "execution_count": 5,
   "id": "73972776",
   "metadata": {},
   "outputs": [
    {
     "name": "stdout",
     "output_type": "stream",
     "text": [
      "Pares de 20 a 2: [20, 18, 16, 14, 12, 10, 8, 6, 4, 2]\n"
     ]
    }
   ],
   "source": [
    "# Números pares descendentes\n",
    "pares_desc = range(20, 0, -2)\n",
    "print(f\"Pares de 20 a 2: {list(pares_desc)}\")"
   ]
  },
  {
   "cell_type": "markdown",
   "id": "4c9bab3b",
   "metadata": {},
   "source": [
    "## Usar range() en Bucles"
   ]
  },
  {
   "cell_type": "code",
   "execution_count": 6,
   "id": "56d0047c",
   "metadata": {},
   "outputs": [
    {
     "name": "stdout",
     "output_type": "stream",
     "text": [
      "Números del 0 al 4:\n",
      "0 1 2 3 4 \n"
     ]
    }
   ],
   "source": [
    "# Bucle simple\n",
    "print(\"Números del 0 al 4:\")\n",
    "for i in range(5):\n",
    "    print(i, end=' ')\n",
    "print()"
   ]
  },
  {
   "cell_type": "code",
   "execution_count": 7,
   "id": "13db3f12",
   "metadata": {},
   "outputs": [
    {
     "name": "stdout",
     "output_type": "stream",
     "text": [
      "\n",
      "Números del 5 al 10:\n",
      "5 6 7 8 9 10 \n"
     ]
    }
   ],
   "source": [
    "# Bucle con inicio y fin\n",
    "print(\"\\nNúmeros del 5 al 10:\")\n",
    "for i in range(5, 11):\n",
    "    print(i, end=' ')\n",
    "print()"
   ]
  },
  {
   "cell_type": "code",
   "execution_count": 8,
   "id": "b4e826e0",
   "metadata": {},
   "outputs": [
    {
     "name": "stdout",
     "output_type": "stream",
     "text": [
      "\n",
      "Impares del 1 al 20:\n",
      "1 3 5 7 9 11 13 15 17 19 \n"
     ]
    }
   ],
   "source": [
    "# Bucle con paso\n",
    "print(\"\\nImpares del 1 al 20:\")\n",
    "for i in range(1, 21, 2):\n",
    "    print(i, end=' ')\n",
    "print()"
   ]
  },
  {
   "cell_type": "markdown",
   "id": "40a3b101",
   "metadata": {},
   "source": [
    "## range() con Índices de Listas"
   ]
  },
  {
   "cell_type": "code",
   "execution_count": 3,
   "id": "f89bd336",
   "metadata": {},
   "outputs": [
    {
     "name": "stdout",
     "output_type": "stream",
     "text": [
      "Usando range con len():\n",
      "  Índice 0: manzana\n",
      "  Índice 1: banana\n",
      "  Índice 2: naranja\n",
      "  Índice 3: pera\n"
     ]
    }
   ],
   "source": [
    "# Iterar sobre índices con range(len())\n",
    "frutas = ['manzana', 'banana', 'naranja', 'pera']\n",
    "\n",
    "# len(frutas) devuelve 4\n",
    "# range(4) genera: 0, 1, 2, 3\n",
    "# Usamos cada número como índice para acceder a frutas[i]\n",
    "print(\"Usando range con len():\")\n",
    "for i in range(len(frutas)):\n",
    "    print(f\"  Índice {i}: {frutas[i]}\")"
   ]
  },
  {
   "cell_type": "code",
   "execution_count": null,
   "id": "d1bd37a7",
   "metadata": {},
   "outputs": [
    {
     "name": "stdout",
     "output_type": "stream",
     "text": [
      "\n",
      "Solo índices pares:\n",
      "  Índice 0: manzana\n",
      "  Índice 2: naranja\n"
     ]
    }
   ],
   "source": [
    "# Iterar solo sobre índices pares (0, 2, 4...)\n",
    "# range(0, len(frutas), 2) genera: 0, 2\n",
    "# step=2 hace que salte de 2 en 2\n",
    "print(\"\\nSolo índices pares:\")\n",
    "for i in range(0, len(frutas), 2):\n",
    "    print(f\"  Índice {i}: {frutas[i]}\")\n",
    "\n",
    "# Alternativa más pythonica (sin range):\n",
    "# for fruta in frutas[::2]:\n",
    "#     print(fruta)"
   ]
  },
  {
   "cell_type": "markdown",
   "id": "b9d1e602",
   "metadata": {},
   "source": [
    "## Operaciones con range()"
   ]
  },
  {
   "cell_type": "code",
   "execution_count": 11,
   "id": "8d955791",
   "metadata": {},
   "outputs": [
    {
     "name": "stdout",
     "output_type": "stream",
     "text": [
      "¿15 está en range(10, 20)? True\n",
      "¿5 está en range(10, 20)? False\n",
      "¿20 está en range(10, 20)? False\n"
     ]
    }
   ],
   "source": [
    "# Verificar si un número está en el rango\n",
    "rango = range(10, 20)\n",
    "\n",
    "print(f\"¿15 está en range(10, 20)? {15 in rango}\")\n",
    "print(f\"¿5 está en range(10, 20)? {5 in rango}\")\n",
    "print(f\"¿20 está en range(10, 20)? {20 in rango}\")  # False, stop es exclusivo"
   ]
  },
  {
   "cell_type": "code",
   "execution_count": 12,
   "id": "c2feb17e",
   "metadata": {},
   "outputs": [
    {
     "name": "stdout",
     "output_type": "stream",
     "text": [
      "range(5, 15) tiene 10 elementos\n"
     ]
    }
   ],
   "source": [
    "# Obtener longitud de un range\n",
    "rango = range(5, 15)\n",
    "print(f\"range(5, 15) tiene {len(rango)} elementos\")"
   ]
  },
  {
   "cell_type": "code",
   "execution_count": 13,
   "id": "7a229f06",
   "metadata": {},
   "outputs": [
    {
     "name": "stdout",
     "output_type": "stream",
     "text": [
      "Rango: [10, 15, 20, 25, 30, 35, 40, 45]\n",
      "Primer elemento: 10\n",
      "Último elemento: 45\n",
      "Tercer elemento: 20\n"
     ]
    }
   ],
   "source": [
    "# Acceso por índice\n",
    "rango = range(10, 50, 5)\n",
    "print(f\"Rango: {list(rango)}\")\n",
    "print(f\"Primer elemento: {rango[0]}\")\n",
    "print(f\"Último elemento: {rango[-1]}\")\n",
    "print(f\"Tercer elemento: {rango[2]}\")"
   ]
  },
  {
   "cell_type": "markdown",
   "id": "528d0ff5",
   "metadata": {},
   "source": [
    "## range() es Eficiente en Memoria"
   ]
  },
  {
   "cell_type": "code",
   "execution_count": 14,
   "id": "2e072ad6",
   "metadata": {},
   "outputs": [
    {
     "name": "stdout",
     "output_type": "stream",
     "text": [
      "Lista de 1,000,000 elementos: 8,000,056 bytes\n",
      "Range de 1,000,000 elementos: 48 bytes\n",
      "Diferencia: 166668x más memoria\n"
     ]
    }
   ],
   "source": [
    "import sys\n",
    "\n",
    "# Lista: ocupa mucha memoria\n",
    "lista = list(range(1000000))\n",
    "tamaño_lista = sys.getsizeof(lista)\n",
    "\n",
    "# Range: ocupa memoria constante\n",
    "rango = range(1000000)\n",
    "tamaño_rango = sys.getsizeof(rango)\n",
    "\n",
    "print(f\"Lista de 1,000,000 elementos: {tamaño_lista:,} bytes\")\n",
    "print(f\"Range de 1,000,000 elementos: {tamaño_rango} bytes\")\n",
    "print(f\"Diferencia: {tamaño_lista / tamaño_rango:.0f}x más memoria\")"
   ]
  },
  {
   "cell_type": "markdown",
   "id": "f21554fa",
   "metadata": {},
   "source": [
    "## range() con map() y filter()\n",
    "\n",
    "`range()` funciona perfectamente con `map()` y `filter()` porque es un iterable:\n",
    "- No necesitas crear una lista primero\n",
    "- Muy eficiente: genera números bajo demanda"
   ]
  },
  {
   "cell_type": "code",
   "execution_count": null,
   "id": "6fa150ee",
   "metadata": {},
   "outputs": [
    {
     "name": "stdout",
     "output_type": "stream",
     "text": [
      "Cuadrados del 1 al 10: [1, 4, 9, 16, 25, 36, 49, 64, 81, 100]\n"
     ]
    }
   ],
   "source": [
    "# Cuadrados de números del 1 al 10\n",
    "# range(1, 11) genera: 1, 2, 3, ..., 10\n",
    "# map() aplica x**2 a cada número\n",
    "# list() convierte el resultado en lista\n",
    "cuadrados = list(map(lambda x: x**2, range(1, 11)))\n",
    "print(f\"Cuadrados del 1 al 10: {cuadrados}\")"
   ]
  },
  {
   "cell_type": "code",
   "execution_count": null,
   "id": "6e251c84",
   "metadata": {},
   "outputs": [
    {
     "name": "stdout",
     "output_type": "stream",
     "text": [
      "Números primos del 2 al 50: [2, 3, 5, 7, 11, 13, 17, 19, 23, 29, 31, 37, 41, 43, 47]\n"
     ]
    }
   ],
   "source": [
    "# Filtrar números primos del 2 al 50\n",
    "# range(2, 51) genera: 2, 3, 4, ..., 50\n",
    "# filter() mantiene solo los primos (criterio complejo)\n",
    "def es_primo(n):\n",
    "    if n < 2:\n",
    "        return False\n",
    "    # Solo necesitamos probar divisores hasta la raíz cuadrada de n\n",
    "    # Ej: para n=25, probamos hasta 5 (porque 5*5=25)\n",
    "    # Si n tuviera un divisor mayor que √n, ya habríamos encontrado su pareja menor\n",
    "    for i in range(2, int(n**0.5) + 1):\n",
    "        if n % i == 0:\n",
    "            return False\n",
    "    return True\n",
    "\n",
    "primos = list(filter(es_primo, range(2, 51)))\n",
    "print(f\"Números primos del 2 al 50: {primos}\")"
   ]
  },
  {
   "cell_type": "markdown",
   "id": "8c5c664c",
   "metadata": {},
   "source": [
    "**Ventaja de usar `range()` con `map()` y `filter()`:**\n",
    "\n",
    "En lugar de escribir:\n",
    "```python\n",
    "lista = [1, 2, 3, 4, 5, 6, 7, 8, 9, 10]\n",
    "cuadrados = list(map(lambda x: x**2, lista))\n",
    "```\n",
    "\n",
    "Usas:\n",
    "```python\n",
    "cuadrados = list(map(lambda x: x**2, range(1, 11)))\n",
    "```\n",
    "\n",
    "✅ Más corto  \n",
    "✅ No creas lista temporal  \n",
    "✅ Más eficiente"
   ]
  },
  {
   "cell_type": "markdown",
   "id": "e90255b9",
   "metadata": {},
   "source": [
    "## 📚 Resumen\n",
    "\n",
    "### Sintaxis:\n",
    "```python\n",
    "range(stop)              # 0, 1, 2, ..., stop-1\n",
    "range(start, stop)       # start, start+1, ..., stop-1\n",
    "range(start, stop, step) # start, start+step, ..., < stop\n",
    "```\n",
    "\n",
    "### Características:\n",
    "- ✅ **Generador**: No crea lista, genera valores bajo demanda\n",
    "- ✅ **Eficiente**: Ocupa memoria constante (no importa el tamaño)\n",
    "- ✅ **Inmutable**: No se puede modificar\n",
    "- ✅ **Indexable**: Puedes acceder con `rango[índice]`\n",
    "\n",
    "### Puntos importantes:\n",
    "- `stop` es **exclusivo** (no se incluye)\n",
    "- `step` puede ser negativo (para contar hacia atrás)\n",
    "- `step` no puede ser 0\n",
    "\n",
    "### Uso común:\n",
    "```python\n",
    "# Bucles simples\n",
    "for i in range(10):\n",
    "    print(i)\n",
    "\n",
    "# Índices de lista\n",
    "for i in range(len(lista)):\n",
    "    print(lista[i])\n",
    "\n",
    "# Con map/filter\n",
    "cuadrados = list(map(lambda x: x**2, range(10)))\n",
    "pares = list(filter(lambda x: x % 2 == 0, range(20)))\n",
    "```\n",
    "\n",
    "### ¿Por qué usar range()?\n",
    "- Más eficiente que crear listas con `list()`\n",
    "- Ideal para bucles\n",
    "- Funciona perfectamente con `for`, `map()`, `filter()`\n",
    "- No ocupa memoria extra innecesaria"
   ]
  },
  {
   "cell_type": "code",
   "execution_count": null,
   "id": "192d40d1",
   "metadata": {},
   "outputs": [
    {
     "name": "stdout",
     "output_type": "stream",
     "text": [
      "Demo completada ✓\n"
     ]
    }
   ],
   "source": [
    "# Limpiar espacio de nombres\n",
    "del numeros, descendente, pares_desc\n",
    "del frutas, rango\n",
    "del lista, tamaño_lista, tamaño_rango\n",
    "del cuadrados, primos\n",
    "print(\"Demo completada ✓\")"
   ]
  }
 ],
 "metadata": {
  "kernelspec": {
   "display_name": "SEA_ejemplosT4",
   "language": "python",
   "name": "python3"
  },
  "language_info": {
   "codemirror_mode": {
    "name": "ipython",
    "version": 3
   },
   "file_extension": ".py",
   "mimetype": "text/x-python",
   "name": "python",
   "nbconvert_exporter": "python",
   "pygments_lexer": "ipython3",
   "version": "3.12.3"
  }
 },
 "nbformat": 4,
 "nbformat_minor": 5
}
