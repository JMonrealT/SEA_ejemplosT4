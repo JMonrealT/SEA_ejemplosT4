{
 "cells": [
  {
   "cell_type": "markdown",
   "id": "dd6273da",
   "metadata": {},
   "source": [
    "# Demo 03: Lambda con filter()\n",
    "\n",
    "En esta demo aprenderás a usar funciones lambda con la función `filter()` para filtrar elementos de colecciones basándote en condiciones."
   ]
  },
  {
   "cell_type": "markdown",
   "id": "4830d083",
   "metadata": {},
   "source": [
    "## ¿Qué es filter()?\n",
    "\n",
    "`filter(función, iterable)` filtra elementos de un iterable, conservando solo aquellos para los cuales la función retorna `True`.\n",
    "\n",
    "**Sintaxis:**\n",
    "```python\n",
    "filter(función_condición, iterable)\n",
    "```\n",
    "\n",
    "**Nota:** Retorna un iterador, necesitas convertirlo a lista con `list()`."
   ]
  },
  {
   "cell_type": "markdown",
   "id": "25ce1a5a",
   "metadata": {},
   "source": [
    "## Filtrado Básico"
   ]
  },
  {
   "cell_type": "code",
   "execution_count": 1,
   "id": "10d8d8ba",
   "metadata": {},
   "outputs": [
    {
     "name": "stdout",
     "output_type": "stream",
     "text": [
      "Números originales: [1, 2, 3, 4, 5, 6, 7, 8, 9, 10]\n",
      "Números pares: [2, 4, 6, 8, 10]\n"
     ]
    }
   ],
   "source": [
    "# Filtrar números pares\n",
    "numeros = [1, 2, 3, 4, 5, 6, 7, 8, 9, 10]\n",
    "pares = list(filter(lambda x: x % 2 == 0, numeros))\n",
    "\n",
    "print(f\"Números originales: {numeros}\")\n",
    "print(f\"Números pares: {pares}\")"
   ]
  },
  {
   "cell_type": "markdown",
   "id": "7e3e9eec",
   "metadata": {},
   "source": [
    "## Filtros con Condiciones Numéricas"
   ]
  },
  {
   "cell_type": "code",
   "execution_count": 2,
   "id": "ec9e73bc",
   "metadata": {},
   "outputs": [
    {
     "name": "stdout",
     "output_type": "stream",
     "text": [
      "Números: [1, 3, 5, 7, 9, 2, 4, 6, 8, 10]\n",
      "Mayores que 5: [7, 9, 6, 8, 10]\n"
     ]
    }
   ],
   "source": [
    "# Filtrar números mayores que 5\n",
    "numeros = [1, 3, 5, 7, 9, 2, 4, 6, 8, 10]\n",
    "mayores_5 = list(filter(lambda x: x > 5, numeros))\n",
    "\n",
    "print(f\"Números: {numeros}\")\n",
    "print(f\"Mayores que 5: {mayores_5}\")"
   ]
  },
  {
   "cell_type": "markdown",
   "id": "ad8947cc",
   "metadata": {},
   "source": [
    "## Filtros con Strings"
   ]
  },
  {
   "cell_type": "code",
   "execution_count": 3,
   "id": "1a1a1685",
   "metadata": {},
   "outputs": [
    {
     "name": "stdout",
     "output_type": "stream",
     "text": [
      "Palabras: ['sol', 'python', 'hola', 'mundo', 'programación', 'a']\n",
      "Palabras largas (>5 caracteres): ['python', 'programación']\n"
     ]
    }
   ],
   "source": [
    "# Filtrar palabras largas (más de 5 caracteres)\n",
    "palabras = ['sol', 'python', 'hola', 'mundo', 'programación', 'a']\n",
    "palabras_largas = list(filter(lambda s: len(s) > 5, palabras))\n",
    "\n",
    "print(f\"Palabras: {palabras}\")\n",
    "print(f\"Palabras largas (>5 caracteres): {palabras_largas}\")"
   ]
  },
  {
   "cell_type": "markdown",
   "id": "51707f7a",
   "metadata": {},
   "source": [
    "## Filtros con Listas y Diccionarios"
   ]
  },
  {
   "cell_type": "code",
   "execution_count": 4,
   "id": "9061dcd8",
   "metadata": {},
   "outputs": [
    {
     "name": "stdout",
     "output_type": "stream",
     "text": [
      "Todas las personas:\n",
      "  Ana: 25 años\n",
      "  Luis: 17 años\n",
      "  María: 30 años\n",
      "  Pedro: 16 años\n",
      "\n",
      "Adultos (>=18):\n",
      "  Ana: 25 años\n",
      "  María: 30 años\n"
     ]
    }
   ],
   "source": [
    "# Filtrar diccionarios por valor\n",
    "personas = [\n",
    "    {'nombre': 'Ana', 'edad': 25},\n",
    "    {'nombre': 'Luis', 'edad': 17},\n",
    "    {'nombre': 'María', 'edad': 30},\n",
    "    {'nombre': 'Pedro', 'edad': 16}\n",
    "]\n",
    "\n",
    "adultos = list(filter(lambda p: p['edad'] >= 18, personas))\n",
    "\n",
    "print(\"Todas las personas:\")\n",
    "for p in personas:\n",
    "    print(f\"  {p['nombre']}: {p['edad']} años\")\n",
    "\n",
    "print(\"\\nAdultos (>=18):\")\n",
    "for p in adultos:\n",
    "    print(f\"  {p['nombre']}: {p['edad']} años\")"
   ]
  },
  {
   "cell_type": "markdown",
   "id": "c0ccaaec",
   "metadata": {},
   "source": [
    "## Filtros con Condiciones Múltiples"
   ]
  },
  {
   "cell_type": "code",
   "execution_count": 5,
   "id": "fddaab86",
   "metadata": {},
   "outputs": [
    {
     "name": "stdout",
     "output_type": "stream",
     "text": [
      "Números del 1 al 20\n",
      "Pares y mayores que 5: [6, 8, 10, 12, 14, 16, 18, 20]\n"
     ]
    }
   ],
   "source": [
    "# Filtrar números pares Y mayores que 5\n",
    "numeros = range(1, 21)\n",
    "pares_mayores_5 = list(filter(lambda x: x % 2 == 0 and x > 5, numeros))\n",
    "\n",
    "print(f\"Números del 1 al 20\")\n",
    "print(f\"Pares y mayores que 5: {pares_mayores_5}\")"
   ]
  },
  {
   "cell_type": "markdown",
   "id": "bad5f2c6",
   "metadata": {},
   "source": [
    "## 📚 Resumen\n",
    "\n",
    "### Función filter():\n",
    "```python\n",
    "filter(función_condición, iterable)\n",
    "```\n",
    "\n",
    "### Características:\n",
    "- Filtra elementos según una condición\n",
    "- La función debe retornar `True` o `False`\n",
    "- Retorna un iterador (convertir a lista)\n",
    "- Muy útil con funciones lambda\n",
    "\n",
    "### Ventajas:\n",
    "- ✅ Código más limpio y expresivo\n",
    "- ✅ Evita bucles con condicionales\n",
    "- ✅ Programación funcional\n",
    "\n",
    "### Alternativa Moderna:\n",
    "```python\n",
    "# En lugar de filter + lambda\n",
    "resultado = list(filter(lambda x: x > 5, lista))\n",
    "\n",
    "# Se puede usar list comprehension\n",
    "resultado = [x for x in lista if x > 5]\n",
    "```\n",
    "\n",
    "### Operadores Lógicos:\n",
    "- `and` - Ambas condiciones deben ser verdaderas\n",
    "- `or` - Al menos una condición debe ser verdadera\n",
    "- `not` - Niega la condición"
   ]
  },
  {
   "cell_type": "code",
   "execution_count": 6,
   "id": "f2adc4d7",
   "metadata": {},
   "outputs": [
    {
     "name": "stdout",
     "output_type": "stream",
     "text": [
      "Demo completada ✓\n"
     ]
    }
   ],
   "source": [
    "# Limpiar espacio de nombres\n",
    "del numeros, pares, mayores_5\n",
    "del palabras, palabras_largas\n",
    "del personas, adultos\n",
    "del pares_mayores_5\n",
    "print(\"Demo completada ✓\")"
   ]
  }
 ],
 "metadata": {
  "kernelspec": {
   "display_name": "SEA_ejemplosT4",
   "language": "python",
   "name": "python3"
  },
  "language_info": {
   "codemirror_mode": {
    "name": "ipython",
    "version": 3
   },
   "file_extension": ".py",
   "mimetype": "text/x-python",
   "name": "python",
   "nbconvert_exporter": "python",
   "pygments_lexer": "ipython3",
   "version": "3.12.3"
  }
 },
 "nbformat": 4,
 "nbformat_minor": 5
}
