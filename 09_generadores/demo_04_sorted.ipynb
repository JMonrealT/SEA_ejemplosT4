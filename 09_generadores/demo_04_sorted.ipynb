{
 "cells": [
  {
   "cell_type": "markdown",
   "id": "e23c0833",
   "metadata": {},
   "source": [
    "# Demo 04: sorted() con Lambda\n",
    "\n",
    "La función `sorted()` ordena iterables y permite personalizar el criterio de ordenamiento con funciones lambda."
   ]
  },
  {
   "cell_type": "markdown",
   "id": "a6b3e0f1",
   "metadata": {},
   "source": [
    "## ¿Qué es sorted()?\n",
    "\n",
    "`sorted(iterable, key=función, reverse=False)` retorna una **nueva lista ordenada** sin modificar el original.\n",
    "\n",
    "**Parámetros:**\n",
    "- `iterable`: Lo que quieres ordenar\n",
    "- `key`: Función que define el criterio de ordenamiento (opcional)\n",
    "- `reverse`: `True` para orden descendente (opcional)"
   ]
  },
  {
   "cell_type": "markdown",
   "id": "9a46646f",
   "metadata": {},
   "source": [
    "## Ordenamiento Básico"
   ]
  },
  {
   "cell_type": "code",
   "execution_count": 11,
   "id": "5b372db3",
   "metadata": {},
   "outputs": [
    {
     "name": "stdout",
     "output_type": "stream",
     "text": [
      "Original: [5, 2, 8, 1, 9, 3]\n",
      "Ordenados: [1, 2, 3, 5, 8, 9]\n",
      "Original no cambió: [5, 2, 8, 1, 9, 3]\n"
     ]
    }
   ],
   "source": [
    "# Ordenar números\n",
    "numeros = [5, 2, 8, 1, 9, 3]\n",
    "ordenados = sorted(numeros)\n",
    "\n",
    "print(f\"Original: {numeros}\")\n",
    "print(f\"Ordenados: {ordenados}\")\n",
    "print(f\"Original no cambió: {numeros}\")"
   ]
  },
  {
   "cell_type": "code",
   "execution_count": 12,
   "id": "eb56acfb",
   "metadata": {},
   "outputs": [
    {
     "name": "stdout",
     "output_type": "stream",
     "text": [
      "Números: [5, 2, 8, 1, 9, 3]\n",
      "Descendente: [9, 8, 5, 3, 2, 1]\n"
     ]
    }
   ],
   "source": [
    "# Orden descendente\n",
    "numeros = [5, 2, 8, 1, 9, 3]\n",
    "descendente = sorted(numeros, reverse=True)\n",
    "\n",
    "print(f\"Números: {numeros}\")\n",
    "print(f\"Descendente: {descendente}\")"
   ]
  },
  {
   "cell_type": "markdown",
   "id": "5df0c7b6",
   "metadata": {},
   "source": [
    "## sorted() con Strings"
   ]
  },
  {
   "cell_type": "code",
   "execution_count": 13,
   "id": "97dcc3af",
   "metadata": {},
   "outputs": [
    {
     "name": "stdout",
     "output_type": "stream",
     "text": [
      "Original: ['python', 'java', 'c++', 'ruby', 'javascript']\n",
      "Alfabético: ['c++', 'java', 'javascript', 'python', 'ruby']\n"
     ]
    }
   ],
   "source": [
    "# Ordenar palabras alfabéticamente\n",
    "palabras = ['python', 'java', 'c++', 'ruby', 'javascript']\n",
    "ordenadas = sorted(palabras)\n",
    "\n",
    "print(f\"Original: {palabras}\")\n",
    "print(f\"Alfabético: {ordenadas}\")"
   ]
  },
  {
   "cell_type": "code",
   "execution_count": 14,
   "id": "d02ff490",
   "metadata": {},
   "outputs": [
    {
     "name": "stdout",
     "output_type": "stream",
     "text": [
      "Palabras: ['python', 'java', 'c++', 'ruby', 'javascript']\n",
      "Por longitud: ['c++', 'java', 'ruby', 'python', 'javascript']\n"
     ]
    }
   ],
   "source": [
    "# Ordenar por longitud con lambda\n",
    "palabras = ['python', 'java', 'c++', 'ruby', 'javascript']\n",
    "por_longitud = sorted(palabras, key=lambda s: len(s))\n",
    "\n",
    "print(f\"Palabras: {palabras}\")\n",
    "print(f\"Por longitud: {por_longitud}\")"
   ]
  },
  {
   "cell_type": "markdown",
   "id": "5480b9f6",
   "metadata": {},
   "source": [
    "## sorted() con Tuplas y Listas"
   ]
  },
  {
   "cell_type": "code",
   "execution_count": 15,
   "id": "8b6b2c8e",
   "metadata": {},
   "outputs": [
    {
     "name": "stdout",
     "output_type": "stream",
     "text": [
      "Tuplas originales: [(1, 50), (3, 20), (2, 100), (4, 30)]\n",
      "Ordenadas por segundo elemento: [(3, 20), (4, 30), (1, 50), (2, 100)]\n"
     ]
    }
   ],
   "source": [
    "# Ordenar tuplas por el segundo elemento\n",
    "tuplas = [(1, 50), (3, 20), (2, 100), (4, 30)]\n",
    "por_segundo = sorted(tuplas, key=lambda t: t[1])\n",
    "\n",
    "print(f\"Tuplas originales: {tuplas}\")\n",
    "print(f\"Ordenadas por segundo elemento: {por_segundo}\")"
   ]
  },
  {
   "cell_type": "markdown",
   "id": "3e3cde3f",
   "metadata": {},
   "source": [
    "## sorted() con Diccionarios"
   ]
  },
  {
   "cell_type": "code",
   "execution_count": 16,
   "id": "f87f4b6e",
   "metadata": {},
   "outputs": [
    {
     "name": "stdout",
     "output_type": "stream",
     "text": [
      "Ordenadas por edad:\n",
      "  Pedro: 20 años\n",
      "  Luis: 25 años\n",
      "  Ana: 30 años\n",
      "  María: 35 años\n"
     ]
    }
   ],
   "source": [
    "# Ordenar lista de diccionarios por edad\n",
    "personas = [\n",
    "    {'nombre': 'Ana', 'edad': 30},\n",
    "    {'nombre': 'Luis', 'edad': 25},\n",
    "    {'nombre': 'María', 'edad': 35},\n",
    "    {'nombre': 'Pedro', 'edad': 20}\n",
    "]\n",
    "\n",
    "por_edad = sorted(personas, key=lambda p: p['edad'])\n",
    "\n",
    "print(\"Ordenadas por edad:\")\n",
    "for p in por_edad:\n",
    "    print(f\"  {p['nombre']}: {p['edad']} años\")"
   ]
  },
  {
   "cell_type": "code",
   "execution_count": 17,
   "id": "85675301",
   "metadata": {},
   "outputs": [
    {
     "name": "stdout",
     "output_type": "stream",
     "text": [
      "\n",
      "Ordenadas por nombre:\n",
      "  Ana: 30 años\n",
      "  Luis: 25 años\n",
      "  María: 35 años\n",
      "  Pedro: 20 años\n"
     ]
    }
   ],
   "source": [
    "# Ordenar por nombre\n",
    "por_nombre = sorted(personas, key=lambda p: p['nombre'])\n",
    "\n",
    "print(\"\\nOrdenadas por nombre:\")\n",
    "for p in por_nombre:\n",
    "    print(f\"  {p['nombre']}: {p['edad']} años\")"
   ]
  },
  {
   "cell_type": "markdown",
   "id": "f0d783f2",
   "metadata": {},
   "source": [
    "## Ordenamiento con Criterios Múltiples"
   ]
  },
  {
   "cell_type": "code",
   "execution_count": 1,
   "id": "5fd82d25",
   "metadata": {},
   "outputs": [
    {
     "name": "stdout",
     "output_type": "stream",
     "text": [
      "Original: ['sol', 'luna', 'mar', 'estrella', 'río', 'cielo']\n",
      "Solo por longitud: ['sol', 'mar', 'río', 'luna', 'cielo', 'estrella']\n",
      "  (Nota: palabras del mismo tamaño quedan en orden original)\n",
      "\n",
      "Por longitud + alfabético: ['mar', 'río', 'sol', 'luna', 'cielo', 'estrella']\n",
      "  (Mismo tamaño → orden alfabético: 'mar' < 'río' < 'sol')\n",
      "\n",
      "Por longitud + alfabético al revés: ['estrella', 'cielo', 'luna', 'sol', 'río', 'mar']\n",
      "  (Mayor longitud primero + orden alfabético inverso)\n"
     ]
    }
   ],
   "source": [
    "# Comparación de diferentes ordenamientos\n",
    "palabras = ['sol', 'luna', 'mar', 'estrella', 'río', 'cielo']\n",
    "\n",
    "# 1. Solo por longitud\n",
    "por_longitud = sorted(palabras, key=lambda s: len(s))\n",
    "print(f\"Original: {palabras}\")\n",
    "print(f\"Solo por longitud: {por_longitud}\")\n",
    "print(\"  (Nota: palabras del mismo tamaño quedan en orden original)\")\n",
    "\n",
    "# 2. Por longitud y alfabético\n",
    "longitud_alfabeto = sorted(palabras, key=lambda s: (len(s), s))\n",
    "print(f\"\\nPor longitud + alfabético: {longitud_alfabeto}\")\n",
    "print(\"  (Mismo tamaño → orden alfabético: 'mar' < 'río' < 'sol')\")\n",
    "\n",
    "# 3. Por longitud y alfabético al revés\n",
    "longitud_alfabeto_rev = sorted(palabras, key=lambda s: (len(s), s), reverse=True)\n",
    "print(f\"\\nPor longitud + alfabético al revés: {longitud_alfabeto_rev}\")\n",
    "print(\"  (Mayor longitud primero + orden alfabético inverso)\")"
   ]
  },
  {
   "cell_type": "markdown",
   "id": "d10e0ee3",
   "metadata": {},
   "source": [
    "## sorted() vs list.sort()\n",
    "\n",
    "**Diferencias clave:**\n",
    "\n",
    "| `sorted()` | `list.sort()` |\n",
    "|------------|---------------|\n",
    "| Función incorporada | Método de lista |\n",
    "| Retorna nueva lista | Modifica la lista original |\n",
    "| Funciona con cualquier iterable | Solo con listas |\n",
    "| `nueva = sorted(lista)` | `lista.sort()` |"
   ]
  },
  {
   "cell_type": "code",
   "execution_count": null,
   "id": "887fead7",
   "metadata": {},
   "outputs": [
    {
     "name": "stdout",
     "output_type": "stream",
     "text": [
      "sorted() - Original: [5, 2, 8, 1, 9]\n",
      "sorted() - Nueva: [1, 2, 5, 8, 9]\n",
      "\n",
      "list.sort() - Original modificada: [1, 2, 5, 8, 9]\n",
      "[5, 2, 8, 1, 9]\n"
     ]
    }
   ],
   "source": [
    "# Demostración de la diferencia\n",
    "numeros = [5, 2, 8, 1, 9]\n",
    "\n",
    "# sorted() - retorna nueva lista\n",
    "nueva_lista = sorted(numeros)\n",
    "print(f\"sorted() - Original: {numeros}\")\n",
    "print(f\"sorted() - Nueva: {nueva_lista}\")\n",
    "\n",
    "# list.sort() - modifica la original\n",
    "numeros.sort()\n",
    "print(f\"\\nlist.sort() - Original modificada: {numeros}\")"
   ]
  },
  {
   "cell_type": "markdown",
   "id": "6a67d510",
   "metadata": {},
   "source": [
    "## 📚 Resumen\n",
    "\n",
    "### Sintaxis:\n",
    "```python\n",
    "sorted(iterable, key=función, reverse=False)\n",
    "```\n",
    "\n",
    "### Características:\n",
    "- ✅ Retorna **nueva lista** ordenada\n",
    "- ✅ No modifica el iterable original\n",
    "- ✅ Funciona con listas, tuplas, strings, etc.\n",
    "- ✅ `key` define el criterio con lambda\n",
    "\n",
    "### Ejemplos comunes:\n",
    "```python\n",
    "# Por longitud\n",
    "sorted(palabras, key=lambda s: len(s))\n",
    "\n",
    "# Por valor específico\n",
    "sorted(tuplas, key=lambda t: t[1])\n",
    "\n",
    "# Por campo de diccionario\n",
    "sorted(personas, key=lambda p: p['edad'])\n",
    "\n",
    "# Descendente\n",
    "sorted(numeros, reverse=True)\n",
    "```\n",
    "\n",
    "### Orden por defecto:\n",
    "- Números: menor a mayor\n",
    "- Strings: alfabético (orden lexicográfico)\n",
    "- Tuplas: por primer elemento, luego segundo, etc."
   ]
  },
  {
   "cell_type": "code",
   "execution_count": 20,
   "id": "775e62dc",
   "metadata": {},
   "outputs": [
    {
     "name": "stdout",
     "output_type": "stream",
     "text": [
      "Demo completada ✓\n"
     ]
    }
   ],
   "source": [
    "# Limpiar espacio de nombres\n",
    "del numeros, ordenados, descendente\n",
    "del palabras, ordenadas, por_longitud\n",
    "del tuplas, por_segundo\n",
    "del personas, por_edad, por_nombre\n",
    "del nueva_lista\n",
    "print(\"Demo completada ✓\")"
   ]
  }
 ],
 "metadata": {
  "kernelspec": {
   "display_name": "SEA_ejemplosT4",
   "language": "python",
   "name": "python3"
  },
  "language_info": {
   "codemirror_mode": {
    "name": "ipython",
    "version": 3
   },
   "file_extension": ".py",
   "mimetype": "text/x-python",
   "name": "python",
   "nbconvert_exporter": "python",
   "pygments_lexer": "ipython3",
   "version": "3.12.3"
  }
 },
 "nbformat": 4,
 "nbformat_minor": 5
}
