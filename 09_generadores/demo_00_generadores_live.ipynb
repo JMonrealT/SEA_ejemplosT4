{
 "cells": [
  {
   "cell_type": "markdown",
   "id": "73af00b1",
   "metadata": {},
   "source": [
    "# ## 09. Generadores y Funciones Útiles\n",
    "\n",
    "⚙️ yield, map(), filter(), sorted(), range()\n",
    "\n",
    "Una guía compacta con lo fundamental sobre generadores, `map()`, `filter()`, `sorted()` y `range()`.\n",
    "\n",
    "## 📋 Contenido:\n",
    "\n",
    "1. **Generadores** - Funciones con `yield`\n",
    "2. **map()** - Aplicar función a elementos\n",
    "3. **filter()** - Filtrar elementos por condición\n",
    "4. **sorted()** - Ordenar con criterios personalizados\n",
    "5. **range()** - Generar secuencias de números\n",
    "\n",
    "| Función | Qué hace | Ejemplo |\n",
    "|---------|----------|---------|\n",
    "| `yield` | Genera valores bajo demanda | `def gen(): n=1; while True: yield n; n+=1` |\n",
    "| `map()` | Transforma cada elemento | `map(lambda x: x*2, lista)` |\n",
    "| `filter()` | Filtra por condición | `filter(lambda x: x>5, lista)` |\n",
    "| `sorted()` | Ordena con criterio | `sorted(lista, key=lambda x: x)` |\n",
    "| `range()` | Secuencia de números | `range(0, 10, 2)` |\n",
    "\n",
    "### 💡 Características:\n",
    "- **`yield`, `map()`, `filter()`, `range()`**: Eficientes en memoria (generan bajo demanda)\n",
    "- **`sorted()`**: Necesita cargar todos los datos en memoria para ordenar\n",
    "\n",
    "---"
   ]
  },
  {
   "cell_type": "markdown",
   "id": "4d41223b",
   "metadata": {},
   "source": [
    "## 1️⃣ Generadores con `yield`\n",
    "\n",
    "Funciones que pausan y reanudan su ejecución, generando valores bajo demanda."
   ]
  },
  {
   "cell_type": "code",
   "execution_count": 45,
   "id": "46482dd1",
   "metadata": {},
   "outputs": [
    {
     "name": "stdout",
     "output_type": "stream",
     "text": [
      "Lista: [0, 1, 2, 3, 4] - Tipo: <class 'list'>\n",
      "Generador: <generator object generador at 0x7cd70c29ca00> - Tipo: <class 'generator'>\n"
     ]
    }
   ],
   "source": [
    "# Función normal vs Generador\n",
    "def lista_normal(n):\n",
    "    resultado = []\n",
    "    for i in range(n):\n",
    "        resultado.append(i)\n",
    "    return resultado\n",
    "\n",
    "def generador(n):\n",
    "    for i in range(n):\n",
    "        yield i  # Genera un valor a la vez\n",
    "\n",
    "# Comparación\n",
    "lista = lista_normal(5)\n",
    "gen = generador(5)\n",
    "\n",
    "print(f\"Lista: {lista} - Tipo: {type(lista)}\")\n",
    "print(f\"Generador: {gen} - Tipo: {type(gen)}\")"
   ]
  },
  {
   "cell_type": "code",
   "execution_count": 46,
   "id": "3307f404",
   "metadata": {},
   "outputs": [
    {
     "name": "stdout",
     "output_type": "stream",
     "text": [
      "\n",
      "📋 Valores del generador:\n",
      "  0\n",
      "  1\n",
      "  2\n",
      "  3\n",
      "  4\n"
     ]
    }
   ],
   "source": [
    "# Consumir generador con for\n",
    "print(\"\\n📋 Valores del generador:\")\n",
    "for valor in generador(5):\n",
    "    print(f\"  {valor}\")"
   ]
  },
  {
   "cell_type": "code",
   "execution_count": 47,
   "id": "dcf3adc4",
   "metadata": {},
   "outputs": [
    {
     "name": "stdout",
     "output_type": "stream",
     "text": [
      "\n",
      "🔢 Usando next():\n",
      "1º valor: 0\n",
      "2º valor: 1\n",
      "3º valor: 2\n",
      "\n",
      "📊 Como lista: [0, 1, 2, 3, 4]\n"
     ]
    }
   ],
   "source": [
    "# Usar next() para obtener valores uno a uno\n",
    "gen = generador(5)\n",
    "print(\"\\n🔢 Usando next():\")\n",
    "print(f\"1º valor: {next(gen)}\")\n",
    "print(f\"2º valor: {next(gen)}\")\n",
    "print(f\"3º valor: {next(gen)}\")\n",
    "\n",
    "# Convertir a lista\n",
    "gen = generador(5)\n",
    "print(f\"\\n📊 Como lista: {list(gen)}\")"
   ]
  },
  {
   "cell_type": "code",
   "execution_count": 48,
   "id": "516dc6bd",
   "metadata": {},
   "outputs": [
    {
     "name": "stdout",
     "output_type": "stream",
     "text": [
      "📈 Números pares hasta 20:\n",
      "[0, 2, 4, 6, 8, 10, 12, 14, 16, 18, 20]\n"
     ]
    }
   ],
   "source": [
    "# Generador útil: números pares\n",
    "def pares(limite):\n",
    "    n = 0\n",
    "    while n <= limite:\n",
    "        yield n\n",
    "        n += 2\n",
    "\n",
    "print(\"📈 Números pares hasta 20:\")\n",
    "print(list(pares(20)))"
   ]
  },
  {
   "cell_type": "markdown",
   "id": "24722262",
   "metadata": {},
   "source": [
    "## 2️⃣ map() - Aplicar Función a Elementos\n",
    "\n",
    "Aplica una función a cada elemento y retorna un iterador con los resultados.\n",
    "\n",
    "**Sintaxis**: `map(función, iterable)`"
   ]
  },
  {
   "cell_type": "code",
   "execution_count": 49,
   "id": "98e368d4",
   "metadata": {},
   "outputs": [
    {
     "name": "stdout",
     "output_type": "stream",
     "text": [
      "Original: [1, 2, 3, 4, 5]\n",
      "Duplicados: [2, 4, 6, 8, 10]\n"
     ]
    }
   ],
   "source": [
    "# Duplicar cada número\n",
    "numeros = [1, 2, 3, 4, 5]\n",
    "duplicados = list(map(lambda x: x * 2, numeros))\n",
    "\n",
    "print(f\"Original: {numeros}\")\n",
    "print(f\"Duplicados: {duplicados}\")"
   ]
  },
  {
   "cell_type": "code",
   "execution_count": 50,
   "id": "d14586a9",
   "metadata": {},
   "outputs": [
    {
     "name": "stdout",
     "output_type": "stream",
     "text": [
      "Números: [1, 2, 3, 4, 5]\n",
      "Cuadrados: [1, 4, 9, 16, 25]\n"
     ]
    }
   ],
   "source": [
    "# Calcular cuadrados\n",
    "numeros = [1, 2, 3, 4, 5]\n",
    "cuadrados = list(map(lambda x: x ** 2, numeros))\n",
    "\n",
    "print(f\"Números: {numeros}\")\n",
    "print(f\"Cuadrados: {cuadrados}\")"
   ]
  },
  {
   "cell_type": "code",
   "execution_count": 51,
   "id": "77816864",
   "metadata": {},
   "outputs": [
    {
     "name": "stdout",
     "output_type": "stream",
     "text": [
      "Palabras: ['python', 'es', 'genial']\n",
      "Mayúsculas: ['PYTHON', 'ES', 'GENIAL']\n",
      "Longitudes: [6, 2, 6]\n"
     ]
    }
   ],
   "source": [
    "# map() con strings\n",
    "palabras = ['python', 'es', 'genial']\n",
    "mayusculas = list(map(lambda s: s.upper(), palabras))\n",
    "longitudes = list(map(lambda s: len(s), palabras))\n",
    "\n",
    "print(f\"Palabras: {palabras}\")\n",
    "print(f\"Mayúsculas: {mayusculas}\")\n",
    "print(f\"Longitudes: {longitudes}\")"
   ]
  },
  {
   "cell_type": "code",
   "execution_count": 52,
   "id": "bd4ae9fb",
   "metadata": {},
   "outputs": [
    {
     "name": "stdout",
     "output_type": "stream",
     "text": [
      "Lista 1: [1, 2, 3]\n",
      "Lista 2: [10, 20, 30]\n",
      "Sumas: [11, 22, 33]\n"
     ]
    }
   ],
   "source": [
    "# map() con múltiples iterables\n",
    "numeros1 = [1, 2, 3]\n",
    "numeros2 = [10, 20, 30]\n",
    "sumas = list(map(lambda x, y: x + y, numeros1, numeros2))\n",
    "\n",
    "print(f\"Lista 1: {numeros1}\")\n",
    "print(f\"Lista 2: {numeros2}\")\n",
    "print(f\"Sumas: {sumas}\")"
   ]
  },
  {
   "cell_type": "markdown",
   "id": "ab81a488",
   "metadata": {},
   "source": [
    "## 3️⃣ filter() - Filtrar Elementos\n",
    "\n",
    "Filtra elementos conservando solo los que cumplen una condición.\n",
    "\n",
    "**Sintaxis**: `filter(función_condición, iterable)`"
   ]
  },
  {
   "cell_type": "code",
   "execution_count": 53,
   "id": "1bd47196",
   "metadata": {},
   "outputs": [
    {
     "name": "stdout",
     "output_type": "stream",
     "text": [
      "Números: [1, 2, 3, 4, 5, 6, 7, 8, 9, 10]\n",
      "Pares: [2, 4, 6, 8, 10]\n",
      "Impares: [1, 3, 5, 7, 9]\n"
     ]
    }
   ],
   "source": [
    "# Filtrar números pares\n",
    "numeros = [1, 2, 3, 4, 5, 6, 7, 8, 9, 10]\n",
    "pares = list(filter(lambda x: x % 2 == 0, numeros))\n",
    "impares = list(filter(lambda x: x % 2 != 0, numeros))\n",
    "\n",
    "print(f\"Números: {numeros}\")\n",
    "print(f\"Pares: {pares}\")\n",
    "print(f\"Impares: {impares}\")"
   ]
  },
  {
   "cell_type": "code",
   "execution_count": 54,
   "id": "c6dee5c2",
   "metadata": {},
   "outputs": [
    {
     "name": "stdout",
     "output_type": "stream",
     "text": [
      "Números: [1, 3, 5, 7, 9, 2, 4, 6, 8, 10]\n",
      "Mayores que 5: [7, 9, 6, 8, 10]\n"
     ]
    }
   ],
   "source": [
    "# Filtrar por valor\n",
    "numeros = [1, 3, 5, 7, 9, 2, 4, 6, 8, 10]\n",
    "mayores_5 = list(filter(lambda x: x > 5, numeros))\n",
    "\n",
    "print(f\"Números: {numeros}\")\n",
    "print(f\"Mayores que 5: {mayores_5}\")"
   ]
  },
  {
   "cell_type": "code",
   "execution_count": 55,
   "id": "ff1844a8",
   "metadata": {},
   "outputs": [
    {
     "name": "stdout",
     "output_type": "stream",
     "text": [
      "Palabras: ['sol', 'python', 'hola', 'mundo', 'programación', 'a']\n",
      "Largas (>5): ['python', 'programación']\n",
      "Con 'o': ['sol', 'python', 'hola', 'mundo', 'programación']\n"
     ]
    }
   ],
   "source": [
    "# Filtrar strings\n",
    "palabras = ['sol', 'python', 'hola', 'mundo', 'programación', 'a']\n",
    "largas = list(filter(lambda s: len(s) > 5, palabras))\n",
    "con_o = list(filter(lambda s: 'o' in s, palabras))\n",
    "\n",
    "print(f\"Palabras: {palabras}\")\n",
    "print(f\"Largas (>5): {largas}\")\n",
    "print(f\"Con 'o': {con_o}\")"
   ]
  },
  {
   "cell_type": "code",
   "execution_count": 56,
   "id": "92d0e088",
   "metadata": {},
   "outputs": [
    {
     "name": "stdout",
     "output_type": "stream",
     "text": [
      "Personas:\n",
      "  Ana: 25 años\n",
      "  Luis: 17 años\n",
      "  María: 30 años\n",
      "  Pedro: 16 años\n",
      "\n",
      "Adultos (≥18): ['Ana', 'María']\n"
     ]
    }
   ],
   "source": [
    "# Filtrar diccionarios\n",
    "personas = [\n",
    "    {'nombre': 'Ana', 'edad': 25},\n",
    "    {'nombre': 'Luis', 'edad': 17},\n",
    "    {'nombre': 'María', 'edad': 30},\n",
    "    {'nombre': 'Pedro', 'edad': 16}\n",
    "]\n",
    "adultos = list(filter(lambda p: p['edad'] >= 18, personas))\n",
    "\n",
    "print(\"Personas:\")\n",
    "for p in personas:\n",
    "    print(f\"  {p['nombre']}: {p['edad']} años\")\n",
    "print(f\"\\nAdultos (≥18): {[p['nombre'] for p in adultos]}\")"
   ]
  },
  {
   "cell_type": "markdown",
   "id": "fc0ef664",
   "metadata": {},
   "source": [
    "## 4️⃣ sorted() - Ordenar con Criterios\n",
    "\n",
    "Ordena iterables y permite personalizar el criterio con `key`.\n",
    "\n",
    "**Sintaxis**: `sorted(iterable, key=función, reverse=False)`"
   ]
  },
  {
   "cell_type": "code",
   "execution_count": 57,
   "id": "6fa67fca",
   "metadata": {},
   "outputs": [
    {
     "name": "stdout",
     "output_type": "stream",
     "text": [
      "Original: [5, 2, 8, 1, 9, 3]\n",
      "Ascendente: [1, 2, 3, 5, 8, 9]\n",
      "Descendente: [9, 8, 5, 3, 2, 1]\n",
      "Original no cambió: [5, 2, 8, 1, 9, 3]\n"
     ]
    }
   ],
   "source": [
    "# Ordenar números\n",
    "numeros = [5, 2, 8, 1, 9, 3]\n",
    "ascendente = sorted(numeros)\n",
    "descendente = sorted(numeros, reverse=True)\n",
    "\n",
    "print(f\"Original: {numeros}\")\n",
    "print(f\"Ascendente: {ascendente}\")\n",
    "print(f\"Descendente: {descendente}\")\n",
    "print(f\"Original no cambió: {numeros}\")"
   ]
  },
  {
   "cell_type": "code",
   "execution_count": 58,
   "id": "b58d09e6",
   "metadata": {},
   "outputs": [
    {
     "name": "stdout",
     "output_type": "stream",
     "text": [
      "Original: ['python', 'java', 'c++', 'ruby', 'javascript']\n",
      "Alfabético: ['c++', 'java', 'javascript', 'python', 'ruby']\n"
     ]
    }
   ],
   "source": [
    "# Ordenar strings alfabéticamente\n",
    "palabras = ['python', 'java', 'c++', 'ruby', 'javascript']\n",
    "alfabetico = sorted(palabras)\n",
    "\n",
    "print(f\"Original: {palabras}\")\n",
    "print(f\"Alfabético: {alfabetico}\")"
   ]
  },
  {
   "cell_type": "code",
   "execution_count": 59,
   "id": "0f336276",
   "metadata": {},
   "outputs": [
    {
     "name": "stdout",
     "output_type": "stream",
     "text": [
      "Palabras: ['python', 'java', 'c++', 'ruby', 'javascript']\n",
      "Por longitud: ['c++', 'java', 'ruby', 'python', 'javascript']\n",
      "Por longitud (desc): ['javascript', 'python', 'java', 'ruby', 'c++']\n"
     ]
    }
   ],
   "source": [
    "# Ordenar por longitud con lambda\n",
    "palabras = ['python', 'java', 'c++', 'ruby', 'javascript']\n",
    "por_longitud = sorted(palabras, key=lambda s: len(s))\n",
    "por_longitud_desc = sorted(palabras, key=lambda s: len(s), reverse=True)\n",
    "\n",
    "print(f\"Palabras: {palabras}\")\n",
    "print(f\"Por longitud: {por_longitud}\")\n",
    "print(f\"Por longitud (desc): {por_longitud_desc}\")"
   ]
  },
  {
   "cell_type": "code",
   "execution_count": 60,
   "id": "6f1b0df7",
   "metadata": {},
   "outputs": [
    {
     "name": "stdout",
     "output_type": "stream",
     "text": [
      "Tuplas: [(1, 50), (3, 20), (2, 100), (4, 30)]\n",
      "Por 1er elemento: [(1, 50), (2, 100), (3, 20), (4, 30)]\n",
      "Por 2do elemento: [(3, 20), (4, 30), (1, 50), (2, 100)]\n"
     ]
    }
   ],
   "source": [
    "# Ordenar tuplas y listas anidadas\n",
    "tuplas = [(1, 50), (3, 20), (2, 100), (4, 30)]\n",
    "por_primero = sorted(tuplas)  # Por defecto usa el primer elemento\n",
    "por_segundo = sorted(tuplas, key=lambda t: t[1])\n",
    "\n",
    "print(f\"Tuplas: {tuplas}\")\n",
    "print(f\"Por 1er elemento: {por_primero}\")\n",
    "print(f\"Por 2do elemento: {por_segundo}\")"
   ]
  },
  {
   "cell_type": "code",
   "execution_count": 61,
   "id": "3582ad34",
   "metadata": {},
   "outputs": [
    {
     "name": "stdout",
     "output_type": "stream",
     "text": [
      "Por edad:\n",
      "  Luis: 17 años\n",
      "  Ana: 25 años\n",
      "  María: 30 años\n",
      "\n",
      "Por nombre:\n",
      "  Ana: 25 años\n",
      "  Luis: 17 años\n",
      "  María: 30 años\n"
     ]
    }
   ],
   "source": [
    "# Ordenar diccionarios\n",
    "personas = [\n",
    "    {'nombre': 'Ana', 'edad': 25},\n",
    "    {'nombre': 'Luis', 'edad': 17},\n",
    "    {'nombre': 'María', 'edad': 30}\n",
    "]\n",
    "por_edad = sorted(personas, key=lambda p: p['edad'])\n",
    "por_nombre = sorted(personas, key=lambda p: p['nombre'])\n",
    "\n",
    "print(\"Por edad:\")\n",
    "for p in por_edad:\n",
    "    print(f\"  {p['nombre']}: {p['edad']} años\")\n",
    "\n",
    "print(\"\\nPor nombre:\")\n",
    "for p in por_nombre:\n",
    "    print(f\"  {p['nombre']}: {p['edad']} años\")"
   ]
  },
  {
   "cell_type": "markdown",
   "id": "a31ff6af",
   "metadata": {},
   "source": [
    "## 5️⃣ range() - Secuencias de Números\n",
    "\n",
    "Genera secuencias de números eficientemente (no crea listas en memoria).\n",
    "\n",
    "**Sintaxis**: \n",
    "- `range(stop)` → de 0 a stop-1\n",
    "- `range(start, stop)` → de start a stop-1\n",
    "- `range(start, stop, step)` → con incremento"
   ]
  },
  {
   "cell_type": "code",
   "execution_count": 62,
   "id": "9094bd51",
   "metadata": {},
   "outputs": [
    {
     "name": "stdout",
     "output_type": "stream",
     "text": [
      "range(5): [0, 1, 2, 3, 4]\n",
      "range(2, 7): [2, 3, 4, 5, 6]\n",
      "range(0, 10, 2): [0, 2, 4, 6, 8]\n"
     ]
    }
   ],
   "source": [
    "# range básico\n",
    "print(f\"range(5): {list(range(5))}\")\n",
    "print(f\"range(2, 7): {list(range(2, 7))}\")\n",
    "print(f\"range(0, 10, 2): {list(range(0, 10, 2))}\")"
   ]
  },
  {
   "cell_type": "code",
   "execution_count": 63,
   "id": "7dbe36f2",
   "metadata": {},
   "outputs": [
    {
     "name": "stdout",
     "output_type": "stream",
     "text": [
      "De 10 a 1: [10, 9, 8, 7, 6, 5, 4, 3, 2, 1]\n",
      "Pares de 20 a 2: [20, 18, 16, 14, 12, 10, 8, 6, 4, 2]\n"
     ]
    }
   ],
   "source": [
    "# range con paso negativo (cuenta atrás)\n",
    "descendente = list(range(10, 0, -1))\n",
    "pares_desc = list(range(20, 0, -2))\n",
    "\n",
    "print(f\"De 10 a 1: {descendente}\")\n",
    "print(f\"Pares de 20 a 2: {pares_desc}\")"
   ]
  },
  {
   "cell_type": "code",
   "execution_count": 64,
   "id": "b33067d5",
   "metadata": {},
   "outputs": [
    {
     "name": "stdout",
     "output_type": "stream",
     "text": [
      "📊 Cuadrados del 0 al 9:\n",
      "0² = 0  1² = 1  2² = 4  3² = 9  4² = 16  5² = 25  6² = 36  7² = 49  8² = 64  9² = 81  \n"
     ]
    }
   ],
   "source": [
    "# range en bucles\n",
    "print(\"📊 Cuadrados del 0 al 9:\")\n",
    "for i in range(10):\n",
    "    print(f\"{i}² = {i**2}\", end='  ')\n",
    "print()"
   ]
  },
  {
   "cell_type": "code",
   "execution_count": 65,
   "id": "4e8e1677",
   "metadata": {},
   "outputs": [
    {
     "name": "stdout",
     "output_type": "stream",
     "text": [
      "Memoria de lista: 8,000,056 bytes\n",
      "Memoria de range: 48 bytes\n",
      "Range usa ~166667x menos memoria\n"
     ]
    }
   ],
   "source": [
    "# Eficiencia: range NO crea listas\n",
    "import sys\n",
    "\n",
    "lista = list(range(1000000))\n",
    "rango = range(1000000)\n",
    "\n",
    "print(f\"Memoria de lista: {sys.getsizeof(lista):,} bytes\")\n",
    "print(f\"Memoria de range: {sys.getsizeof(rango):,} bytes\")\n",
    "print(f\"Range usa ~{sys.getsizeof(lista) // sys.getsizeof(rango)}x menos memoria\")"
   ]
  },
  {
   "cell_type": "markdown",
   "id": "cf44ed2a",
   "metadata": {},
   "source": [
    "## 📚 Resumen y Comparación\n",
    "\n",
    "### Tabla de funciones:\n",
    "\n",
    "| Función | Entrada | Salida | Uso típico |\n",
    "|---------|---------|--------|------------|\n",
    "| **yield** | - | Generador | Crear generadores personalizados |\n",
    "| **map()** | función + iterable | Iterador | Transformar cada elemento |\n",
    "| **filter()** | condición + iterable | Iterador | Seleccionar elementos |\n",
    "| **sorted()** | iterable | Lista | Ordenar con criterio |\n",
    "| **range()** | start, stop, step | Objeto range | Secuencias numéricas |\n",
    "\n",
    "### Combinando funciones:\n",
    "\n",
    "```python\n",
    "# Ejemplo completo: números pares del 1-20, al cuadrado, ordenados descendente\n",
    "numeros = range(1, 21)\n",
    "pares = filter(lambda x: x % 2 == 0, numeros)\n",
    "cuadrados = map(lambda x: x ** 2, pares)\n",
    "resultado = sorted(cuadrados, reverse=True)\n",
    "```"
   ]
  },
  {
   "cell_type": "code",
   "execution_count": 66,
   "id": "0aaeb6b7",
   "metadata": {},
   "outputs": [
    {
     "name": "stdout",
     "output_type": "stream",
     "text": [
      "🎯 Combinando todo:\n",
      "1. range(1, 21): [1, 2, 3, 4, 5, 6, 7, 8, 9, 10, 11, 12, 13, 14, 15, 16, 17, 18, 19, 20]\n",
      "2. Pares: [2, 4, 6, 8, 10, 12, 14, 16, 18, 20]\n",
      "3. Cuadrados: [4, 16, 36, 64, 100, 144, 196, 256, 324, 400]\n",
      "4. Descendente: [400, 324, 256, 196, 144, 100, 64, 36, 16, 4]\n"
     ]
    }
   ],
   "source": [
    "# Ejemplo combinado\n",
    "print(\"🎯 Combinando todo:\")\n",
    "\n",
    "# 1. range: números del 1 al 20\n",
    "numeros = range(1, 21)\n",
    "print(f\"1. range(1, 21): {list(numeros)}\")\n",
    "\n",
    "# 2. filter: solo pares\n",
    "pares = filter(lambda x: x % 2 == 0, numeros)\n",
    "print(f\"2. Pares: {list(pares)}\")\n",
    "\n",
    "# 3. map: elevar al cuadrado (recrear filter porque ya se consumió)\n",
    "pares = filter(lambda x: x % 2 == 0, range(1, 21))\n",
    "cuadrados = map(lambda x: x ** 2, pares)\n",
    "print(f\"3. Cuadrados: {list(cuadrados)}\")\n",
    "\n",
    "# 4. sorted: ordenar descendente (recrear toda la cadena)\n",
    "pares = filter(lambda x: x % 2 == 0, range(1, 21))\n",
    "cuadrados = map(lambda x: x ** 2, pares)\n",
    "resultado = sorted(cuadrados, reverse=True)\n",
    "print(f\"4. Descendente: {resultado}\")"
   ]
  },
  {
   "cell_type": "markdown",
   "id": "b4d6b0cc",
   "metadata": {},
   "source": [
    "### 💡 Mejores prácticas:\n",
    "\n",
    "✅ **USAR:**\n",
    "- Generadores para datos grandes o infinitos\n",
    "- `map()` en lugar de bucles para transformaciones simples\n",
    "- `filter()` en lugar de bucles con `if` para filtrado\n",
    "- `sorted()` cuando necesites el resultado completo ordenado\n",
    "- `range()` para bucles y secuencias numéricas\n",
    "\n",
    "❌ **EVITAR:**\n",
    "- Crear listas gigantes en memoria si no es necesario\n",
    "- Convertir a lista si solo vas a iterar una vez\n",
    "- `map()/filter()` para operaciones muy complejas (usa bucles)\n",
    "\n",
    "### 🎯 Recuerda:\n",
    "1. **Iteradores son perezosos** - generan bajo demanda\n",
    "2. **Se consumen una vez** - guarda en lista si necesitas reutilizar\n",
    "3. **Combina funciones** para código más expresivo\n",
    "4. **Más eficiente en memoria** que listas equivalentes\n",
    "\n",
    "---\n",
    "\n",
    "**¡Guía rápida de generadores completada!** 🎉\n",
    "\n",
    "### 📖 Para profundizar:\n",
    "- **`demo_01_generadores.ipynb`** - Generadores en detalle\n",
    "- **`demo_02_map.ipynb`** - Más ejemplos de map()\n",
    "- **`demo_03_filter.ipynb`** - Filtrado avanzado\n",
    "- **`demo_04_sorted.ipynb`** - Ordenamiento personalizado\n",
    "- **`demo_05_range.ipynb`** - Uso extensivo de range()"
   ]
  }
 ],
 "metadata": {
  "kernelspec": {
   "display_name": "SEA_ejemplosT4",
   "language": "python",
   "name": "python3"
  },
  "language_info": {
   "codemirror_mode": {
    "name": "ipython",
    "version": 3
   },
   "file_extension": ".py",
   "mimetype": "text/x-python",
   "name": "python",
   "nbconvert_exporter": "python",
   "pygments_lexer": "ipython3",
   "version": "3.12.3"
  }
 },
 "nbformat": 4,
 "nbformat_minor": 5
}