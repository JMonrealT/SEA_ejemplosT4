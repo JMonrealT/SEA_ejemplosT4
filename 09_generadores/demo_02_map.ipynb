{
 "cells": [
  {
   "cell_type": "markdown",
   "id": "c8c5e0a5",
   "metadata": {},
   "source": [
    "# Demo 02: Lambda con map()\n",
    "\n",
    "En esta demo aprenderás a usar funciones lambda con la función `map()` para aplicar operaciones a colecciones de datos."
   ]
  },
  {
   "cell_type": "markdown",
   "id": "fd9cfa5b",
   "metadata": {},
   "source": [
    "## ¿Qué es map()?\n",
    "\n",
    "`map(función, iterable)` aplica una función a cada elemento de un iterable y retorna un iterador con los resultados.\n",
    "\n",
    "**Sintaxis:**\n",
    "```python\n",
    "map(función, iterable)\n",
    "```\n",
    "\n",
    "**Nota:** Debes convertir el resultado a lista con `list()` para verlo."
   ]
  },
  {
   "cell_type": "markdown",
   "id": "7c48d834",
   "metadata": {},
   "source": [
    "## Ejemplo Básico con map()"
   ]
  },
  {
   "cell_type": "code",
   "execution_count": 1,
   "id": "cbbdade5",
   "metadata": {},
   "outputs": [
    {
     "name": "stdout",
     "output_type": "stream",
     "text": [
      "Números originales: [1, 2, 3, 4, 5]\n",
      "Números duplicados: [2, 4, 6, 8, 10]\n"
     ]
    }
   ],
   "source": [
    "# Duplicar cada número de una lista\n",
    "numeros = [1, 2, 3, 4, 5]\n",
    "duplicados = list(map(lambda x: x * 2, numeros))\n",
    "\n",
    "print(f\"Números originales: {numeros}\")\n",
    "print(f\"Números duplicados: {duplicados}\")"
   ]
  },
  {
   "cell_type": "markdown",
   "id": "0bb2f239",
   "metadata": {},
   "source": [
    "## Operaciones Matemáticas con map()"
   ]
  },
  {
   "cell_type": "code",
   "execution_count": 2,
   "id": "d3f0deec",
   "metadata": {},
   "outputs": [
    {
     "name": "stdout",
     "output_type": "stream",
     "text": [
      "Números: [1, 2, 3, 4, 5]\n",
      "Cuadrados: [1, 4, 9, 16, 25]\n"
     ]
    }
   ],
   "source": [
    "# Calcular el cuadrado de cada número\n",
    "numeros = [1, 2, 3, 4, 5]\n",
    "cuadrados = list(map(lambda x: x ** 2, numeros))\n",
    "\n",
    "print(f\"Números: {numeros}\")\n",
    "print(f\"Cuadrados: {cuadrados}\")"
   ]
  },
  {
   "cell_type": "markdown",
   "id": "219a7595",
   "metadata": {},
   "source": [
    "## map() con Strings"
   ]
  },
  {
   "cell_type": "code",
   "execution_count": 3,
   "id": "092f969d",
   "metadata": {},
   "outputs": [
    {
     "name": "stdout",
     "output_type": "stream",
     "text": [
      "Palabras originales: ['python', 'es', 'genial']\n",
      "En mayúsculas: ['PYTHON', 'ES', 'GENIAL']\n"
     ]
    }
   ],
   "source": [
    "# Convertir a mayúsculas\n",
    "palabras = ['python', 'es', 'genial']\n",
    "mayusculas = list(map(lambda s: s.upper(), palabras))\n",
    "\n",
    "print(f\"Palabras originales: {palabras}\")\n",
    "print(f\"En mayúsculas: {mayusculas}\")"
   ]
  },
  {
   "cell_type": "markdown",
   "id": "6174b1c2",
   "metadata": {},
   "source": [
    "## 📚 Resumen\n",
    "\n",
    "### Función map():\n",
    "```python\n",
    "map(función, iterable1, iterable2, ...)\n",
    "```\n",
    "\n",
    "### Características:\n",
    "- Aplica una función a cada elemento de un iterable\n",
    "- Retorna un iterador (necesita convertir a lista)\n",
    "- Puede trabajar con múltiples iterables\n",
    "- Muy útil con funciones lambda\n",
    "\n",
    "### Ventajas:\n",
    "- ✅ Código más conciso y legible\n",
    "- ✅ Evita bucles explícitos\n",
    "- ✅ Programación funcional\n",
    "\n",
    "### Alternativa Moderna:\n",
    "```python\n",
    "# En lugar de map + lambda\n",
    "resultado = list(map(lambda x: x * 2, lista))\n",
    "\n",
    "# Se puede usar list comprehension\n",
    "resultado = [x * 2 for x in lista]\n",
    "```"
   ]
  },
  {
   "cell_type": "code",
   "execution_count": 4,
   "id": "fed332d9",
   "metadata": {},
   "outputs": [
    {
     "name": "stdout",
     "output_type": "stream",
     "text": [
      "Demo completada ✓\n"
     ]
    }
   ],
   "source": [
    "# Limpiar espacio de nombres\n",
    "del numeros, duplicados, cuadrados\n",
    "del palabras, mayusculas\n",
    "print(\"Demo completada ✓\")"
   ]
  }
 ],
 "metadata": {
  "kernelspec": {
   "display_name": "SEA_ejemplosT4",
   "language": "python",
   "name": "python3"
  },
  "language_info": {
   "codemirror_mode": {
    "name": "ipython",
    "version": 3
   },
   "file_extension": ".py",
   "mimetype": "text/x-python",
   "name": "python",
   "nbconvert_exporter": "python",
   "pygments_lexer": "ipython3",
   "version": "3.12.3"
  }
 },
 "nbformat": 4,
 "nbformat_minor": 5
}
