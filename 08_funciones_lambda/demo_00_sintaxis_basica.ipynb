{
 "cells": [
  {
   "cell_type": "markdown",
   "id": "titulo",
   "metadata": {},
   "source": [
    "# ## 8. Funciones Lambda\n",
    "\n",
    "Las funciones lambda son funciones anónimas y pequeñas. Útiles para operaciones simples."
   ]
  },
  {
   "cell_type": "markdown",
   "id": "resumen",
   "metadata": {},
   "source": [
    "## Resumen\n",
    "\n",
    "- **Lambda**: función anónima de una línea\n",
    "- **Sintaxis**: `lambda args: expresion`\n",
    "- **Casos de uso**: map(), filter(), sorted()\n",
    "- **Limitación**: solo una expresión\n",
    "- **map**: aplicar función a cada elemento\n",
    "- **filter**: seleccionar elementos que cumplan condición"
   ]
  },
  {
   "cell_type": "markdown",
   "id": "seccion1",
   "metadata": {},
   "source": [
    "## 1️⃣ Sintaxis Básica de Lambda\n",
    "\n",
    "`lambda args: expresión`"
   ]
  },
  {
   "cell_type": "code",
   "execution_count": 1,
   "id": "lambda_basica",
   "metadata": {},
   "outputs": [
    {
     "name": "stdout",
     "output_type": "stream",
     "text": [
      "cuadrado(5) = 25\n",
      "cuadrado(10) = 100\n",
      "suma(3, 7) = 10\n"
     ]
    }
   ],
   "source": [
    "# Lambda simple\n",
    "cuadrado = lambda x: x ** 2\n",
    "\n",
    "print(f\"cuadrado(5) = {cuadrado(5)}\")\n",
    "print(f\"cuadrado(10) = {cuadrado(10)}\")\n",
    "\n",
    "# Lambda con múltiples argumentos\n",
    "suma = lambda x, y: x + y\n",
    "print(f\"suma(3, 7) = {suma(3, 7)}\")"
   ]
  },
  {
   "cell_type": "markdown",
   "id": "seccion2",
   "metadata": {},
   "source": [
    "## 2️⃣ Lambda vs Función Tradicional\n",
    "\n",
    "Lambda es equivalente a una función tradicional pero más compacta."
   ]
  },
  {
   "cell_type": "code",
   "execution_count": 2,
   "id": "lambda_vs_def",
   "metadata": {},
   "outputs": [
    {
     "name": "stdout",
     "output_type": "stream",
     "text": [
      "Tradicional: 10\n",
      "Lambda: 10\n",
      "Son equivalentes: True\n"
     ]
    }
   ],
   "source": [
    "# Forma tradicional\n",
    "def doble_tradicional(x):\n",
    "    return x * 2\n",
    "\n",
    "# Lambda\n",
    "doble_lambda = lambda x: x * 2\n",
    "\n",
    "print(f\"Tradicional: {doble_tradicional(5)}\")\n",
    "print(f\"Lambda: {doble_lambda(5)}\")\n",
    "print(f\"Son equivalentes: {doble_tradicional(5) == doble_lambda(5)}\")"
   ]
  },
  {
   "cell_type": "markdown",
   "id": "seccion3",
   "metadata": {},
   "source": [
    "## 3️⃣ map() con Lambda\n",
    "\n",
    "Aplicar una función a cada elemento de una lista."
   ]
  },
  {
   "cell_type": "code",
   "execution_count": 3,
   "id": "map_lambda",
   "metadata": {},
   "outputs": [
    {
     "name": "stdout",
     "output_type": "stream",
     "text": [
      "Números: [1, 2, 3, 4, 5]\n",
      "Cuadrados: [1, 4, 9, 16, 25]\n",
      "Strings: ['Número 1', 'Número 2', 'Número 3', 'Número 4', 'Número 5']\n"
     ]
    }
   ],
   "source": [
    "numeros = [1, 2, 3, 4, 5]\n",
    "\n",
    "# Elevar al cuadrado\n",
    "cuadrados = list(map(lambda x: x ** 2, numeros))\n",
    "print(f\"Números: {numeros}\")\n",
    "print(f\"Cuadrados: {cuadrados}\")\n",
    "\n",
    "# Convertir a strings\n",
    "strings = list(map(lambda x: f\"Número {x}\", numeros))\n",
    "print(f\"Strings: {strings}\")"
   ]
  },
  {
   "cell_type": "markdown",
   "id": "seccion4",
   "metadata": {},
   "source": [
    "## 4️⃣ filter() con Lambda\n",
    "\n",
    "Seleccionar elementos que cumplen una condición."
   ]
  },
  {
   "cell_type": "code",
   "execution_count": 4,
   "id": "filter_lambda",
   "metadata": {},
   "outputs": [
    {
     "name": "stdout",
     "output_type": "stream",
     "text": [
      "Pares: [2, 4, 6, 8, 10]\n",
      "Mayores a 5: [6, 7, 8, 9, 10]\n"
     ]
    }
   ],
   "source": [
    "numeros = [1, 2, 3, 4, 5, 6, 7, 8, 9, 10]\n",
    "\n",
    "# Números pares\n",
    "pares = list(filter(lambda x: x % 2 == 0, numeros))\n",
    "print(f\"Pares: {pares}\")\n",
    "\n",
    "# Números mayores a 5\n",
    "mayores = list(filter(lambda x: x > 5, numeros))\n",
    "print(f\"Mayores a 5: {mayores}\")"
   ]
  },
  {
   "cell_type": "markdown",
   "id": "seccion5",
   "metadata": {},
   "source": [
    "## 5️⃣ sorted() con Lambda\n",
    "\n",
    "Ordenar listas usando lambda como clave."
   ]
  },
  {
   "cell_type": "code",
   "execution_count": 5,
   "id": "sorted_lambda",
   "metadata": {},
   "outputs": [
    {
     "name": "stdout",
     "output_type": "stream",
     "text": [
      "Por edad: [('Bob', 25), ('Alice', 30), ('Charlie', 35)]\n",
      "Por nombre: [('Alice', 30), ('Bob', 25), ('Charlie', 35)]\n"
     ]
    }
   ],
   "source": [
    "personas = [(\"Alice\", 30), (\"Bob\", 25), (\"Charlie\", 35)]\n",
    "\n",
    "# Ordenar por edad (segundo elemento)\n",
    "por_edad = sorted(personas, key=lambda p: p[1])\n",
    "print(f\"Por edad: {por_edad}\")\n",
    "\n",
    "# Ordenar por nombre\n",
    "por_nombre = sorted(personas, key=lambda p: p[0])\n",
    "print(f\"Por nombre: {por_nombre}\")"
   ]
  },
  {
   "cell_type": "markdown",
   "id": "seccion6",
   "metadata": {},
   "source": [
    "## 6️⃣ Composición de Funcionales\n",
    "\n",
    "Combinar map, filter y lambda."
   ]
  },
  {
   "cell_type": "code",
   "execution_count": 6,
   "id": "composicion",
   "metadata": {},
   "outputs": [
    {
     "name": "stdout",
     "output_type": "stream",
     "text": [
      "Números: [1, 2, 3, 4, 5, 6, 7, 8, 9, 10]\n",
      "Pares al cuadrado: [4, 16, 36, 64, 100]\n",
      "Con list comprehension: [4, 16, 36, 64, 100]\n"
     ]
    }
   ],
   "source": [
    "numeros = [1, 2, 3, 4, 5, 6, 7, 8, 9, 10]\n",
    "\n",
    "# 1. Filtrar pares\n",
    "# 2. Elevar al cuadrado\n",
    "resultado = list(map(\n",
    "    lambda x: x ** 2,\n",
    "    filter(lambda x: x % 2 == 0, numeros)\n",
    "))\n",
    "\n",
    "print(f\"Números: {numeros}\")\n",
    "print(f\"Pares al cuadrado: {resultado}\")\n",
    "\n",
    "# Con list comprehension (alternativa más legible)\n",
    "resultado2 = [x ** 2 for x in numeros if x % 2 == 0]\n",
    "print(f\"Con list comprehension: {resultado2}\")"
   ]
  },
  {
   "cell_type": "markdown",
   "id": "conclusiones",
   "metadata": {},
   "source": [
    "## Conclusiones\n",
    "\n",
    "- Lambda es útil para funciones simples y pequeñas\n",
    "- map() y filter() son funcionales comunes con lambda\n",
    "- List comprehension es a menudo más legible que map/filter\n",
    "- Lambda solo puede tener una expresión\n",
    "- Útil para callbacks en sorted(), key=lambda..."
   ]
  }
 ],
 "metadata": {
  "kernelspec": {
   "display_name": "SEA_ejemplosT4",
   "language": "python",
   "name": "python3"
  },
  "language_info": {
   "codemirror_mode": {
    "name": "ipython",
    "version": 3
   },
   "file_extension": ".py",
   "mimetype": "text/x-python",
   "name": "python",
   "nbconvert_exporter": "python",
   "pygments_lexer": "ipython3",
   "version": "3.12.3"
  }
 },
 "nbformat": 4,
 "nbformat_minor": 5
}
