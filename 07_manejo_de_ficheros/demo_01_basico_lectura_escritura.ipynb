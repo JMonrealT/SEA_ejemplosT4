{
 "cells": [
  {
   "cell_type": "markdown",
   "id": "ac1385c9",
   "metadata": {},
   "source": [
    "# Lectura y Escritura Básica de Archivos\n",
    "\n",
    "Operaciones fundamentales para crear, escribir y leer archivos de texto."
   ]
  },
  {
   "cell_type": "markdown",
   "id": "c85d3241",
   "metadata": {},
   "source": [
    "## Crear y Escribir Archivos de Texto"
   ]
  },
  {
   "cell_type": "code",
   "execution_count": 99,
   "id": "fcd010a5",
   "metadata": {},
   "outputs": [
    {
     "name": "stdout",
     "output_type": "stream",
     "text": [
      "✅ Archivo 'ejemplo.txt' creado\n"
     ]
    }
   ],
   "source": [
    "# Crear y escribir en un archivo (modo 'w' - write)\n",
    "with open('ejemplo.txt', 'w') as archivo:\n",
    "    archivo.write('Primera línea\\n')\n",
    "    archivo.write('Segunda línea\\n')\n",
    "    archivo.write('Tercera línea\\n')\n",
    "\n",
    "print(\"✅ Archivo 'ejemplo.txt' creado\")"
   ]
  },
  {
   "cell_type": "code",
   "execution_count": 100,
   "id": "922e9a79",
   "metadata": {},
   "outputs": [
    {
     "name": "stdout",
     "output_type": "stream",
     "text": [
      "✅ Archivo 'ejemplo2.txt' creado con writelines()\n"
     ]
    }
   ],
   "source": [
    "# Escribir múltiples líneas a la vez\n",
    "lineas = [\n",
    "    'Esta es la línea 1\\n',\n",
    "    'Esta es la línea 2\\n',\n",
    "    'Esta es la línea 3\\n'\n",
    "]\n",
    "\n",
    "with open('ejemplo2.txt', 'w') as archivo:\n",
    "    archivo.writelines(lineas)\n",
    "\n",
    "print(\"✅ Archivo 'ejemplo2.txt' creado con writelines()\")"
   ]
  },
  {
   "cell_type": "markdown",
   "id": "cdf0fae4",
   "metadata": {},
   "source": [
    "## Leer Archivos de Texto"
   ]
  },
  {
   "cell_type": "code",
   "execution_count": 101,
   "id": "7bff9387",
   "metadata": {},
   "outputs": [
    {
     "name": "stdout",
     "output_type": "stream",
     "text": [
      "Contenido completo:\n",
      "Primera línea\n",
      "Segunda línea\n",
      "Tercera línea\n",
      "\n",
      "Tipo: <class 'str'>\n"
     ]
    }
   ],
   "source": [
    "# Leer todo el contenido de una vez\n",
    "with open('ejemplo.txt', 'r') as archivo:\n",
    "    contenido = archivo.read()\n",
    "\n",
    "print(\"Contenido completo:\")\n",
    "print(contenido)\n",
    "print(f\"Tipo: {type(contenido)}\")"
   ]
  },
  {
   "cell_type": "code",
   "execution_count": 102,
   "id": "9409c8a1",
   "metadata": {},
   "outputs": [
    {
     "name": "stdout",
     "output_type": "stream",
     "text": [
      "Líneas como lista:\n",
      "['Primera línea\\n', 'Segunda línea\\n', 'Tercera línea\\n']\n",
      "\n",
      "Número de líneas: 3\n"
     ]
    }
   ],
   "source": [
    "# Leer línea por línea\n",
    "with open('ejemplo.txt', 'r') as archivo:\n",
    "    lineas = archivo.readlines()\n",
    "\n",
    "print(\"Líneas como lista:\")\n",
    "print(lineas)\n",
    "print(f\"\\nNúmero de líneas: {len(lineas)}\")"
   ]
  },
  {
   "cell_type": "code",
   "execution_count": 103,
   "id": "7f6b6ba8",
   "metadata": {},
   "outputs": [
    {
     "name": "stdout",
     "output_type": "stream",
     "text": [
      "Leyendo con readline():\n",
      "Línea 1: Primera línea\n",
      "Línea 2: Segunda línea\n",
      "Línea 3: Tercera línea\n"
     ]
    }
   ],
   "source": [
    "# Leer una línea a la vez\n",
    "with open('ejemplo.txt', 'r') as archivo:\n",
    "    linea1 = archivo.readline()\n",
    "    linea2 = archivo.readline()\n",
    "    linea3 = archivo.readline()\n",
    "\n",
    "print(\"Leyendo con readline():\")\n",
    "print(f\"Línea 1: {linea1.strip()}\")\n",
    "print(f\"Línea 2: {linea2.strip()}\")\n",
    "print(f\"Línea 3: {linea3.strip()}\")"
   ]
  },
  {
   "cell_type": "code",
   "execution_count": 104,
   "id": "641c8650",
   "metadata": {},
   "outputs": [
    {
     "name": "stdout",
     "output_type": "stream",
     "text": [
      "Iterando línea por línea:\n",
      "Línea 1: Primera línea\n",
      "Línea 2: Segunda línea\n",
      "Línea 3: Tercera línea\n"
     ]
    }
   ],
   "source": [
    "# Iterar sobre líneas (más eficiente para archivos grandes)\n",
    "print(\"Iterando línea por línea:\")\n",
    "with open('ejemplo.txt', 'r') as archivo:\n",
    "    for numero, linea in enumerate(archivo, 1):\n",
    "        print(f\"Línea {numero}: {linea.strip()}\")"
   ]
  },
  {
   "cell_type": "markdown",
   "id": "46776946",
   "metadata": {},
   "source": [
    "## Modos de Apertura de Archivos"
   ]
  },
  {
   "cell_type": "code",
   "execution_count": 105,
   "id": "17ce4f5e",
   "metadata": {},
   "outputs": [
    {
     "name": "stdout",
     "output_type": "stream",
     "text": [
      "Modo 'r' - lectura:\n",
      "Primera línea\n",
      "Segunda línea\n",
      "Te...\n"
     ]
    }
   ],
   "source": [
    "# Modo 'r' - read (lectura, por defecto)\n",
    "# El archivo DEBE existir\n",
    "with open('ejemplo.txt', 'r') as archivo:\n",
    "    contenido = archivo.read()\n",
    "\n",
    "print(\"Modo 'r' - lectura:\")\n",
    "print(contenido[:30] + \"...\")"
   ]
  },
  {
   "cell_type": "code",
   "execution_count": 106,
   "id": "f4e7e049",
   "metadata": {},
   "outputs": [
    {
     "name": "stdout",
     "output_type": "stream",
     "text": [
      "✅ Archivo creado con 'w'\n",
      "Contenido después de sobrescribir: Contenido nuevo (sobrescrito)\n"
     ]
    }
   ],
   "source": [
    "# Modo 'w' - write (escritura)\n",
    "# ⚠️ CUIDADO: Sobrescribe el archivo si existe\n",
    "with open('sobrescrito.txt', 'w') as archivo:\n",
    "    archivo.write('Contenido original\\n')\n",
    "\n",
    "print(\"✅ Archivo creado con 'w'\")\n",
    "\n",
    "# Sobrescribir\n",
    "with open('sobrescrito.txt', 'w') as archivo:\n",
    "    archivo.write('Contenido nuevo (sobrescrito)\\n')\n",
    "\n",
    "with open('sobrescrito.txt', 'r') as archivo:\n",
    "    print(f\"Contenido después de sobrescribir: {archivo.read().strip()}\")"
   ]
  },
  {
   "cell_type": "code",
   "execution_count": 107,
   "id": "7b013734",
   "metadata": {},
   "outputs": [
    {
     "name": "stdout",
     "output_type": "stream",
     "text": [
      "✅ Línea añadida al archivo\n",
      "\n",
      "Contenido después de append:\n",
      "Primera línea\n",
      "Segunda línea\n",
      "Tercera línea\n",
      "Línea añadida con append\n",
      "\n"
     ]
    }
   ],
   "source": [
    "# Modo 'a' - append (añadir al final)\n",
    "with open('ejemplo.txt', 'a') as archivo:\n",
    "    archivo.write('Línea añadida con append\\n')\n",
    "\n",
    "print(\"✅ Línea añadida al archivo\")\n",
    "\n",
    "# Verificar el contenido actualizado\n",
    "with open('ejemplo.txt', 'r') as archivo:\n",
    "    print(\"\\nContenido después de append:\")\n",
    "    print(archivo.read())"
   ]
  },
  {
   "cell_type": "code",
   "execution_count": 108,
   "id": "4281f74f",
   "metadata": {},
   "outputs": [
    {
     "name": "stdout",
     "output_type": "stream",
     "text": [
      "✅ Archivo creado con modo 'x'\n",
      "❌ Error: El archivo ya existe\n"
     ]
    }
   ],
   "source": [
    "# Modo 'x' - exclusive creation (creación exclusiva)\n",
    "# Error si el archivo ya existe\n",
    "try:\n",
    "    with open('nuevo_exclusivo.txt', 'x') as archivo:\n",
    "        archivo.write('Solo se crea si no existe\\n')\n",
    "    print(\"✅ Archivo creado con modo 'x'\")\n",
    "except FileExistsError:\n",
    "    print(\"❌ El archivo ya existe, no se puede crear con modo 'x'\")\n",
    "\n",
    "# Intentar crear de nuevo (dará error)\n",
    "try:\n",
    "    with open('nuevo_exclusivo.txt', 'x') as archivo:\n",
    "        archivo.write('Intentando crear de nuevo\\n')\n",
    "except FileExistsError:\n",
    "    print(\"❌ Error: El archivo ya existe\")"
   ]
  },
  {
   "cell_type": "markdown",
   "id": "a25636c6",
   "metadata": {},
   "source": [
    "## Modos de Lectura y Escritura Combinados"
   ]
  },
  {
   "cell_type": "code",
   "execution_count": 109,
   "id": "4d9a8260",
   "metadata": {},
   "outputs": [
    {
     "name": "stdout",
     "output_type": "stream",
     "text": [
      "Contenido original:\n",
      "Primera línea\n",
      "Segunda línea\n",
      "Tercera línea\n",
      "Línea añadida con append\n",
      "\n",
      "\n",
      "✅ Contenido añadido con 'r+'\n"
     ]
    }
   ],
   "source": [
    "# Modo 'r+' - lectura y escritura\n",
    "# El archivo DEBE existir\n",
    "with open('ejemplo.txt', 'r+') as archivo:\n",
    "    # Leer\n",
    "    contenido = archivo.read()\n",
    "    print(\"Contenido original:\")\n",
    "    print(contenido)\n",
    "    \n",
    "    # Escribir al final\n",
    "    archivo.write('Línea añadida con r+\\n')\n",
    "\n",
    "print(\"\\n✅ Contenido añadido con 'r+'\")"
   ]
  },
  {
   "cell_type": "code",
   "execution_count": 110,
   "id": "fb4bb56f",
   "metadata": {},
   "outputs": [
    {
     "name": "stdout",
     "output_type": "stream",
     "text": [
      "Contenido escrito y leído con 'w+':\n",
      "Primera línea\n",
      "Segunda línea\n",
      "\n"
     ]
    }
   ],
   "source": [
    "# Modo 'w+' - escritura y lectura\n",
    "# Crea el archivo si no existe, lo sobrescribe si existe\n",
    "with open('rwfile.txt', 'w+') as archivo:\n",
    "    # Escribir\n",
    "    archivo.write('Primera línea\\n')\n",
    "    archivo.write('Segunda línea\\n')\n",
    "    \n",
    "    # Volver al inicio para leer\n",
    "    archivo.seek(0)\n",
    "    \n",
    "    # Leer\n",
    "    contenido = archivo.read()\n",
    "    print(\"Contenido escrito y leído con 'w+':\")\n",
    "    print(contenido)"
   ]
  },
  {
   "cell_type": "code",
   "execution_count": 111,
   "id": "d5ae19a6",
   "metadata": {},
   "outputs": [
    {
     "name": "stdout",
     "output_type": "stream",
     "text": [
      "Contenido completo después de usar 'a+':\n",
      "Línea inicial\n",
      "Línea añadida con a+\n",
      "\n"
     ]
    }
   ],
   "source": [
    "# Modo 'a+' - añadir y leer\n",
    "# Crear un archivo nuevo para este ejemplo\n",
    "with open('archivo_a_plus.txt', 'w') as f:\n",
    "    f.write('Línea inicial\\n')\n",
    "\n",
    "# Ahora usar 'a+' para añadir y leer\n",
    "with open('archivo_a_plus.txt', 'a+') as archivo:\n",
    "    # Añadir nueva línea\n",
    "    archivo.write('Línea añadida con a+\\n')\n",
    "    \n",
    "    # Volver al inicio para leer todo\n",
    "    archivo.seek(0)\n",
    "    \n",
    "    contenido = archivo.read()\n",
    "    print(\"Contenido completo después de usar 'a+':\")\n",
    "    print(contenido)"
   ]
  },
  {
   "cell_type": "markdown",
   "id": "1ba3e8db",
   "metadata": {},
   "source": [
    "## Encoding y Caracteres Especiales\n",
    "\n",
    "**¿Qué es el encoding?**\n",
    "El encoding (codificación) define cómo se convierten los caracteres en bytes para guardarlos en el archivo.\n",
    "\n",
    "**UTF-8** es el estándar moderno que soporta todos los idiomas:\n",
    "- Caracteres españoles: á, é, í, ó, ú, ñ, ¿, ¡\n",
    "- Símbolos: €, £, ¥, ©, ®\n",
    "- Emojis: 😊, 🎉, ✅\n",
    "\n",
    "**Regla importante:** Siempre especifica `encoding='utf-8'` al trabajar con archivos de texto que puedan contener caracteres especiales. Si no lo haces, Python usará el encoding por defecto de tu sistema operativo (puede ser diferente en Windows, Linux, Mac) y causará errores."
   ]
  },
  {
   "cell_type": "code",
   "execution_count": 112,
   "id": "eff456d0",
   "metadata": {},
   "outputs": [
    {
     "name": "stdout",
     "output_type": "stream",
     "text": [
      "✅ Archivo con caracteres especiales creado\n"
     ]
    }
   ],
   "source": [
    "# Escribir con caracteres especiales (tildes, ñ, etc.)\n",
    "texto_espanol = \"\"\"Línea con tildes: áéíóú\n",
    "Línea con ñ: español, mañana\n",
    "Línea con símbolos: € £ ¥\n",
    "\"\"\"\n",
    "\n",
    "# ✅ SIEMPRE especificar encoding='utf-8'\n",
    "# Esto garantiza que los caracteres especiales se guarden correctamente\n",
    "# Sin encoding='utf-8' podría dar errores o guardar caracteres incorrectos\n",
    "with open('espanol.txt', 'w', encoding='utf-8') as archivo:\n",
    "    archivo.write(texto_espanol)\n",
    "\n",
    "print(\"✅ Archivo con caracteres especiales creado\")"
   ]
  },
  {
   "cell_type": "code",
   "execution_count": 113,
   "id": "f3289646",
   "metadata": {},
   "outputs": [
    {
     "name": "stdout",
     "output_type": "stream",
     "text": [
      "Contenido con caracteres especiales:\n",
      "Línea con tildes: áéíóú\n",
      "Línea con ñ: español, mañana\n",
      "Línea con símbolos: € £ ¥\n",
      "\n"
     ]
    }
   ],
   "source": [
    "# Leer con encoding correcto\n",
    "# IMPORTANTE: Usar el MISMO encoding con el que se escribió\n",
    "with open('espanol.txt', 'r', encoding='utf-8') as archivo:\n",
    "    contenido = archivo.read()\n",
    "\n",
    "print(\"Contenido con caracteres especiales:\")\n",
    "print(contenido)\n",
    "\n",
    "# ❌ Sin encoding='utf-8' podrías ver:\n",
    "# - Caracteres extraños: Ã¡ en vez de á\n",
    "# - Errores: UnicodeDecodeError\n",
    "# - Símbolos incorrectos: â‚¬ en vez de €"
   ]
  },
  {
   "cell_type": "markdown",
   "id": "7e4c6f3c",
   "metadata": {},
   "source": [
    "## Limpieza de Archivos de Prueba"
   ]
  },
  {
   "cell_type": "code",
   "execution_count": 114,
   "id": "4a02e0cc",
   "metadata": {},
   "outputs": [
    {
     "name": "stdout",
     "output_type": "stream",
     "text": [
      "Limpiando archivos de prueba...\n",
      "  ✅ Eliminado: ejemplo.txt\n",
      "  ✅ Eliminado: ejemplo2.txt\n",
      "  ✅ Eliminado: sobrescrito.txt\n",
      "  ✅ Eliminado: nuevo_exclusivo.txt\n",
      "  ✅ Eliminado: rwfile.txt\n",
      "  ✅ Eliminado: archivo_a_plus.txt\n",
      "  ✅ Eliminado: espanol.txt\n",
      "\n",
      "🎉 Limpieza completada\n"
     ]
    }
   ],
   "source": [
    "import os\n",
    "\n",
    "archivos_prueba = [\n",
    "    'ejemplo.txt',\n",
    "    'ejemplo2.txt',\n",
    "    'sobrescrito.txt',\n",
    "    'nuevo_exclusivo.txt',\n",
    "    'rwfile.txt',\n",
    "    'archivo_a_plus.txt',\n",
    "    'espanol.txt'\n",
    "]\n",
    "\n",
    "print(\"Limpiando archivos de prueba...\")\n",
    "for archivo in archivos_prueba:\n",
    "    if os.path.exists(archivo):\n",
    "        os.remove(archivo)\n",
    "        print(f\"  ✅ Eliminado: {archivo}\")\n",
    "\n",
    "print(\"\\n🎉 Limpieza completada\")"
   ]
  },
  {
   "cell_type": "markdown",
   "id": "4450d5c6",
   "metadata": {},
   "source": [
    "## 📚 Resumen: Modos de Apertura\n",
    "\n",
    "**Modos básicos:**\n",
    "```python\n",
    "'r'   # Lectura (archivo debe existir)\n",
    "'w'   # Escritura (sobrescribe si existe)\n",
    "'a'   # Añadir al final (crea si no existe)\n",
    "'x'   # Creación exclusiva (error si existe)\n",
    "```\n",
    "\n",
    "**Modos combinados:**\n",
    "```python\n",
    "'r+'  # Lectura y escritura (archivo debe existir)\n",
    "'w+'  # Escritura y lectura (sobrescribe)\n",
    "'a+'  # Añadir y lectura\n",
    "```\n",
    "\n",
    "**Métodos de lectura:**\n",
    "```python\n",
    "read()       # Lee todo el archivo como string\n",
    "readline()   # Lee una línea\n",
    "readlines()  # Lee todas las líneas como lista\n",
    "# Iterar: for linea in archivo\n",
    "```\n",
    "\n",
    "**Métodos de escritura:**\n",
    "```python\n",
    "write(string)        # Escribe un string\n",
    "writelines(lista)    # Escribe lista de strings\n",
    "```\n",
    "\n",
    "**Mejores prácticas:**\n",
    "- ✅ Usa `with` para cerrar automáticamente\n",
    "- ✅ Especifica `encoding='utf-8'` siempre\n",
    "- ✅ Usa modo 'a' para añadir sin sobrescribir\n",
    "- ✅ Itera línea por línea para archivos grandes\n",
    "- ⚠️ Cuidado con modo 'w' (sobrescribe)\n",
    "- ⚠️ Usa `seek(0)` para volver al inicio después de escribir"
   ]
  }
 ],
 "metadata": {
  "kernelspec": {
   "display_name": "SEA_ejemplosT4",
   "language": "python",
   "name": "python3"
  },
  "language_info": {
   "codemirror_mode": {
    "name": "ipython",
    "version": 3
   },
   "file_extension": ".py",
   "mimetype": "text/x-python",
   "name": "python",
   "nbconvert_exporter": "python",
   "pygments_lexer": "ipython3",
   "version": "3.12.3"
  }
 },
 "nbformat": 4,
 "nbformat_minor": 5
}
