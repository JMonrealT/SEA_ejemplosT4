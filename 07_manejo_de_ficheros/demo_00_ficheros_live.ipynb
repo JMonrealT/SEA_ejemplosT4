{
 "cells": [
  {
   "cell_type": "markdown",
   "id": "ecf665e3",
   "metadata": {},
   "source": [
    "# ## 07. Manejo de Archivos en Python\n",
    "\n",
    "📁 Leer, escribir y gestionar archivos de texto\n",
    "\n",
    "Una guía compacta con lo esencial para leer, escribir y gestionar archivos de texto.\n",
    "\n",
    "## 📋 Contenido:\n",
    "\n",
    "1. **Escribir archivos** - Crear y escribir contenido\n",
    "2. **Leer archivos** - Diferentes formas de leer\n",
    "3. **Modos de apertura** - `'r'`, `'w'`, `'a'`\n",
    "4. **Context managers** - Uso de `with` (recomendado)\n",
    "\n",
    "| Modo | Descripción | Uso |\n",
    "|------|-------------|-----|\n",
    "| `'r'` | Read - Lectura | Leer archivo (debe existir) |\n",
    "| `'w'` | Write - Escritura | Crear/sobrescribir archivo |\n",
    "| `'a'` | Append - Añadir | Agregar al final del archivo |\n",
    "\n",
    "### 💡 Regla de oro:\n",
    "**Siempre usa `with`** para abrir archivos. Cierra automáticamente y es más seguro.\n",
    "\n",
    "---"
   ]
  },
  {
   "cell_type": "markdown",
   "id": "414df6f9",
   "metadata": {},
   "source": [
    "## 1️⃣ Escribir Archivos\n",
    "\n",
    "Crear archivos y escribir contenido."
   ]
  },
  {
   "cell_type": "code",
   "execution_count": 1,
   "id": "9e3526be",
   "metadata": {},
   "outputs": [
    {
     "name": "stdout",
     "output_type": "stream",
     "text": [
      "✅ Archivo 'ejemplo.txt' creado\n"
     ]
    }
   ],
   "source": [
    "# Escribir en un archivo (modo 'w' - write)\n",
    "# ⚠️ Si el archivo existe, lo sobrescribe\n",
    "with open('ejemplo.txt', 'w') as archivo:\n",
    "    archivo.write('Primera línea\\n')\n",
    "    archivo.write('Segunda línea\\n')\n",
    "    archivo.write('Tercera línea\\n')\n",
    "\n",
    "print(\"✅ Archivo 'ejemplo.txt' creado\")"
   ]
  },
  {
   "cell_type": "code",
   "execution_count": 2,
   "id": "367e58e9",
   "metadata": {},
   "outputs": [
    {
     "name": "stdout",
     "output_type": "stream",
     "text": [
      "✅ Archivo 'ejemplo2.txt' creado\n"
     ]
    }
   ],
   "source": [
    "# Escribir múltiples líneas a la vez con writelines()\n",
    "lineas = [\n",
    "    'Línea 1 del archivo\\n',\n",
    "    'Línea 2 del archivo\\n',\n",
    "    'Línea 3 del archivo\\n'\n",
    "]\n",
    "\n",
    "with open('ejemplo2.txt', 'w') as archivo:\n",
    "    archivo.writelines(lineas)\n",
    "\n",
    "print(\"✅ Archivo 'ejemplo2.txt' creado\")"
   ]
  },
  {
   "cell_type": "markdown",
   "id": "df2dad63",
   "metadata": {},
   "source": [
    "## 2️⃣ Leer Archivos\n",
    "\n",
    "Diferentes formas de leer el contenido de un archivo."
   ]
  },
  {
   "cell_type": "code",
   "execution_count": 3,
   "id": "30f2d1a3",
   "metadata": {},
   "outputs": [
    {
     "name": "stdout",
     "output_type": "stream",
     "text": [
      "📖 Contenido completo:\n",
      "Primera línea\n",
      "Segunda línea\n",
      "Tercera línea\n",
      "\n"
     ]
    }
   ],
   "source": [
    "# Leer todo el contenido de una vez con read()\n",
    "with open('ejemplo.txt', 'r') as archivo:\n",
    "    contenido = archivo.read()\n",
    "\n",
    "print(\"📖 Contenido completo:\")\n",
    "print(contenido)"
   ]
  },
  {
   "cell_type": "code",
   "execution_count": 4,
   "id": "a6fe51da",
   "metadata": {},
   "outputs": [
    {
     "name": "stdout",
     "output_type": "stream",
     "text": [
      "📋 Número de líneas: 3\n",
      "Lista de líneas: ['Primera línea\\n', 'Segunda línea\\n', 'Tercera línea\\n']\n"
     ]
    }
   ],
   "source": [
    "# Leer todas las líneas como lista con readlines()\n",
    "with open('ejemplo.txt', 'r') as archivo:\n",
    "    lineas = archivo.readlines()\n",
    "\n",
    "print(f\"📋 Número de líneas: {len(lineas)}\")\n",
    "print(f\"Lista de líneas: {lineas}\")"
   ]
  },
  {
   "cell_type": "code",
   "execution_count": 5,
   "id": "94a48455",
   "metadata": {},
   "outputs": [
    {
     "name": "stdout",
     "output_type": "stream",
     "text": [
      "📄 Iterando línea por línea:\n",
      "  Línea 1: Primera línea\n",
      "  Línea 2: Segunda línea\n",
      "  Línea 3: Tercera línea\n"
     ]
    }
   ],
   "source": [
    "# Iterar línea por línea (más eficiente para archivos grandes)\n",
    "print(\"📄 Iterando línea por línea:\")\n",
    "with open('ejemplo.txt', 'r') as archivo:\n",
    "    for numero, linea in enumerate(archivo, 1):\n",
    "        print(f\"  Línea {numero}: {linea.strip()}\")"
   ]
  },
  {
   "cell_type": "markdown",
   "id": "4df646c0",
   "metadata": {},
   "source": [
    "## 3️⃣ Modos de Apertura\n",
    "\n",
    "Los tres modos principales para trabajar con archivos."
   ]
  },
  {
   "cell_type": "code",
   "execution_count": 6,
   "id": "62d77a02",
   "metadata": {},
   "outputs": [
    {
     "name": "stdout",
     "output_type": "stream",
     "text": [
      "✅ Creado con 'w'\n",
      "📖 Resultado: Contenido sobrescrito\n"
     ]
    }
   ],
   "source": [
    "# Modo 'w' - Write (Escritura)\n",
    "# ⚠️ Sobrescribe si el archivo existe\n",
    "with open('modo_w.txt', 'w') as archivo:\n",
    "    archivo.write('Primera escritura\\n')\n",
    "print(\"✅ Creado con 'w'\")\n",
    "\n",
    "# Sobrescribir el mismo archivo\n",
    "with open('modo_w.txt', 'w') as archivo:\n",
    "    archivo.write('Contenido sobrescrito\\n')\n",
    "\n",
    "with open('modo_w.txt', 'r') as archivo:\n",
    "    print(f\"📖 Resultado: {archivo.read().strip()}\")"
   ]
  },
  {
   "cell_type": "code",
   "execution_count": 7,
   "id": "e8f0ecc7",
   "metadata": {},
   "outputs": [
    {
     "name": "stdout",
     "output_type": "stream",
     "text": [
      "📄 Contenido con append:\n",
      "Línea inicial\n",
      "Línea añadida 1\n",
      "Línea añadida 2\n",
      "\n"
     ]
    }
   ],
   "source": [
    "# Modo 'a' - Append (Añadir al final)\n",
    "# No sobrescribe, agrega al final\n",
    "with open('modo_a.txt', 'w') as archivo:\n",
    "    archivo.write('Línea inicial\\n')\n",
    "\n",
    "# Añadir más líneas\n",
    "with open('modo_a.txt', 'a') as archivo:\n",
    "    archivo.write('Línea añadida 1\\n')\n",
    "    archivo.write('Línea añadida 2\\n')\n",
    "\n",
    "print(\"📄 Contenido con append:\")\n",
    "with open('modo_a.txt', 'r') as archivo:\n",
    "    print(archivo.read())"
   ]
  },
  {
   "cell_type": "code",
   "execution_count": 8,
   "id": "0cde5485",
   "metadata": {},
   "outputs": [
    {
     "name": "stdout",
     "output_type": "stream",
     "text": [
      "✅ Lectura exitosa: 42 caracteres\n"
     ]
    }
   ],
   "source": [
    "# Modo 'r' - Read (Lectura) - Es el modo por defecto\n",
    "# El archivo DEBE existir\n",
    "try:\n",
    "    with open('ejemplo.txt', 'r') as archivo:\n",
    "        contenido = archivo.read()\n",
    "    print(f\"✅ Lectura exitosa: {len(contenido)} caracteres\")\n",
    "except FileNotFoundError:\n",
    "    print(\"❌ Error: El archivo no existe\")"
   ]
  },
  {
   "cell_type": "markdown",
   "id": "bb123cd9",
   "metadata": {},
   "source": [
    "## 4️⃣ Context Managers con `with`\n",
    "\n",
    "Por qué usar `with` es la mejor práctica."
   ]
  },
  {
   "cell_type": "code",
   "execution_count": 9,
   "id": "942795e7",
   "metadata": {},
   "outputs": [
    {
     "name": "stdout",
     "output_type": "stream",
     "text": [
      "❌ Sin with: Tienes que cerrar manualmente\n",
      "✅ Con with: Cierre automático\n"
     ]
    }
   ],
   "source": [
    "# ❌ Forma ANTIGUA (no recomendada)\n",
    "archivo = open('sin_with.txt', 'w')\n",
    "archivo.write('Contenido\\n')\n",
    "archivo.close()  # ⚠️ Fácil olvidarse\n",
    "print(\"❌ Sin with: Tienes que cerrar manualmente\")\n",
    "\n",
    "# ✅ Forma MODERNA (recomendada)\n",
    "with open('con_with.txt', 'w') as archivo:\n",
    "    archivo.write('Contenido\\n')\n",
    "    # Se cierra automáticamente\n",
    "print(\"✅ Con with: Cierre automático\")"
   ]
  },
  {
   "cell_type": "code",
   "execution_count": 10,
   "id": "aec0ba21",
   "metadata": {},
   "outputs": [
    {
     "name": "stdout",
     "output_type": "stream",
     "text": [
      "🔒 Prueba de seguridad con error:\n",
      "❌ Error: Error simulado\n",
      "✅ Archivo cerrado correctamente\n",
      "📖 Contenido guardado: Primera línea\n"
     ]
    }
   ],
   "source": [
    "# Context manager es seguro incluso con errores\n",
    "print(\"🔒 Prueba de seguridad con error:\")\n",
    "\n",
    "try:\n",
    "    with open('prueba_error.txt', 'w') as archivo:\n",
    "        archivo.write('Primera línea\\n')\n",
    "        raise ValueError(\"Error simulado\")\n",
    "        archivo.write('Esta línea no se escribe\\n')\n",
    "except ValueError as e:\n",
    "    print(f\"❌ Error: {e}\")\n",
    "\n",
    "# El archivo se cerró correctamente\n",
    "with open('prueba_error.txt', 'r') as archivo:\n",
    "    print(f\"✅ Archivo cerrado correctamente\")\n",
    "    print(f\"📖 Contenido guardado: {archivo.read().strip()}\")"
   ]
  },
  {
   "cell_type": "code",
   "execution_count": 11,
   "id": "452b8891",
   "metadata": {},
   "outputs": [
    {
     "name": "stdout",
     "output_type": "stream",
     "text": [
      "✅ Archivos procesados\n",
      "📄 Contenido de copia.txt:\n",
      "Contenido original\n",
      "Segunda línea\n",
      "Línea añadida en copia\n",
      "\n"
     ]
    }
   ],
   "source": [
    "# Copiar contenido de un archivo a otro\n",
    "# Abrir dos archivos simultáneamente\n",
    "with open('origen.txt', 'w') as archivo:\n",
    "    archivo.write('Contenido original\\n')\n",
    "    archivo.write('Segunda línea\\n')\n",
    "\n",
    "with open('origen.txt', 'r') as entrada, open('copia.txt', 'w') as salida:\n",
    "    contenido = entrada.read()\n",
    "    salida.write(contenido)\n",
    "    salida.write('Línea añadida en copia\\n')\n",
    "\n",
    "print(\"✅ Archivos procesados\")\n",
    "\n",
    "# Verificar\n",
    "with open('copia.txt', 'r') as archivo:\n",
    "    print(\"📄 Contenido de copia.txt:\")\n",
    "    print(archivo.read())"
   ]
  },
  {
   "cell_type": "code",
   "execution_count": 12,
   "id": "8a4f33f2",
   "metadata": {},
   "outputs": [
    {
     "name": "stdout",
     "output_type": "stream",
     "text": [
      "🗑️ Archivos de prueba eliminados\n"
     ]
    }
   ],
   "source": [
    "# Limpieza - Eliminar archivos de prueba\n",
    "import os\n",
    "\n",
    "archivos_prueba = [\n",
    "    'ejemplo.txt', 'ejemplo2.txt', 'modo_w.txt', 'modo_a.txt',\n",
    "    'sin_with.txt', 'con_with.txt', 'prueba_error.txt',\n",
    "    'origen.txt', 'copia.txt'\n",
    "]\n",
    "\n",
    "for archivo in archivos_prueba:\n",
    "    if os.path.exists(archivo):\n",
    "        os.remove(archivo)\n",
    "\n",
    "print(\"🗑️ Archivos de prueba eliminados\")"
   ]
  },
  {
   "cell_type": "markdown",
   "id": "7fd50fd3",
   "metadata": {},
   "source": [
    "## 📚 Resumen\n",
    "\n",
    "### Métodos de escritura:\n",
    "- `write(texto)` - Escribe una cadena\n",
    "- `writelines(lista)` - Escribe lista de líneas\n",
    "\n",
    "### Métodos de lectura:\n",
    "- `read()` - Lee todo el contenido como string\n",
    "- `readlines()` - Lee todas las líneas como lista\n",
    "- `for linea in archivo:` - Itera línea por línea (eficiente)\n",
    "\n",
    "### Modos principales:\n",
    "- `'r'` - Lectura (archivo debe existir)\n",
    "- `'w'` - Escritura (sobrescribe si existe)\n",
    "- `'a'` - Append (añade al final)\n",
    "- `'r+'` - Lectura y escritura\n",
    "- `'w+'` - Escritura y lectura (sobrescribe)\n",
    "\n",
    "### 🎯 Mejores prácticas:\n",
    "\n",
    "✅ **HACER:**\n",
    "- Usar siempre `with` para abrir archivos\n",
    "- Cerrar automáticamente es más seguro\n",
    "- Usar modo `'a'` para no perder datos\n",
    "- Iterar línea por línea para archivos grandes\n",
    "\n",
    "❌ **EVITAR:**\n",
    "- Abrir archivos sin `with`\n",
    "- Olvidar cerrar archivos manualmente\n",
    "- Usar `'w'` sin verificar si existe el archivo\n",
    "- Leer archivos enormes con `read()` completo\n",
    "\n",
    "### 💡 Diferencia clave:\n",
    "\n",
    "| Sin `with` | Con `with` |\n",
    "|------------|------------|\n",
    "| `archivo = open('file.txt')` | `with open('file.txt') as archivo:` |\n",
    "| `# trabajar con archivo` | &nbsp;&nbsp;&nbsp;&nbsp;`# trabajar con archivo` |\n",
    "| `archivo.close()` # ⚠️ manual | `# cierre automático` ✅ |\n",
    "\n",
    "---\n",
    "\n",
    "**¡Guía rápida de archivos completada!** 🎉\n",
    "\n",
    "### 📖 Para profundizar:\n",
    "- **`demo_01_basico_lectura_escritura.ipynb`** - Más ejemplos de lectura/escritura\n",
    "- **`demo_02_context_managers.ipynb`** - Context managers en detalle"
   ]
  }
 ],
 "metadata": {
  "kernelspec": {
   "display_name": "SEA_ejemplosT4",
   "language": "python",
   "name": "python3"
  },
  "language_info": {
   "codemirror_mode": {
    "name": "ipython",
    "version": 3
   },
   "file_extension": ".py",
   "mimetype": "text/x-python",
   "name": "python",
   "nbconvert_exporter": "python",
   "pygments_lexer": "ipython3",
   "version": "3.12.3"
  }
 },
 "nbformat": 4,
 "nbformat_minor": 5
}