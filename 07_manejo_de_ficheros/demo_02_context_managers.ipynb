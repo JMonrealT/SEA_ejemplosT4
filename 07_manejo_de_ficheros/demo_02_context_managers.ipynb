{
 "cells": [
  {
   "cell_type": "markdown",
   "id": "46e37d1e",
   "metadata": {},
   "source": [
    "# Context Managers con `with`\n",
    "\n",
    "Uso de context managers para manejo seguro de archivos."
   ]
  },
  {
   "cell_type": "markdown",
   "id": "a9877d3f",
   "metadata": {},
   "source": [
    "## ¿Por qué usar Context Managers?"
   ]
  },
  {
   "cell_type": "code",
   "execution_count": 68,
   "id": "72bf6405",
   "metadata": {},
   "outputs": [
    {
     "name": "stdout",
     "output_type": "stream",
     "text": [
      "❌ Forma antigua (no recomendada)\n",
      "   Tienes que acordarte de cerrar el archivo manualmente\n",
      "   Contenido: Contenido de prueba\n"
     ]
    }
   ],
   "source": [
    "# ❌ Forma antigua: Sin context manager\n",
    "# Problemas:\n",
    "# 1. Hay que recordar cerrar el archivo\n",
    "# 2. Si hay error, el archivo puede quedar abierto\n",
    "# 3. Más líneas de código\n",
    "\n",
    "archivo = open('prueba_sin_with.txt', 'w')\n",
    "archivo.write('Contenido de prueba\\n')\n",
    "archivo.close()  # ⚠️ Fácil olvidarse de esto\n",
    "\n",
    "print(\"❌ Forma antigua (no recomendada)\")\n",
    "print(\"   Tienes que acordarte de cerrar el archivo manualmente\")\n",
    "\n",
    "# Verificar que funcionó\n",
    "archivo = open('prueba_sin_with.txt', 'r')\n",
    "contenido = archivo.read()\n",
    "archivo.close()\n",
    "print(f\"   Contenido: {contenido.strip()}\")"
   ]
  },
  {
   "cell_type": "code",
   "execution_count": 69,
   "id": "6d68922a",
   "metadata": {},
   "outputs": [
    {
     "name": "stdout",
     "output_type": "stream",
     "text": [
      "✅ Forma recomendada con 'with'\n",
      "   El archivo se cierra automáticamente\n",
      "   Contenido: Contenido de prueba\n"
     ]
    }
   ],
   "source": [
    "# ✅ Forma moderna: Con context manager\n",
    "# Ventajas:\n",
    "# 1. Cierra automáticamente\n",
    "# 2. Seguro incluso si hay errores\n",
    "# 3. Código más limpio y legible\n",
    "\n",
    "with open('prueba_con_with.txt', 'w') as archivo:\n",
    "    archivo.write('Contenido de prueba\\n')\n",
    "    # El archivo se cierra automáticamente al salir del bloque\n",
    "\n",
    "print(\"✅ Forma recomendada con 'with'\")\n",
    "print(\"   El archivo se cierra automáticamente\")\n",
    "\n",
    "# Verificar que funcionó (también con with)\n",
    "with open('prueba_con_with.txt', 'r') as archivo:\n",
    "    contenido = archivo.read()\n",
    "    print(f\"   Contenido: {contenido.strip()}\")"
   ]
  },
  {
   "cell_type": "markdown",
   "id": "10b83b65",
   "metadata": {},
   "source": [
    "## Context Manager con Excepciones"
   ]
  },
  {
   "cell_type": "code",
   "execution_count": 70,
   "id": "8daa7d83",
   "metadata": {},
   "outputs": [
    {
     "name": "stdout",
     "output_type": "stream",
     "text": [
      "❌ Error capturado: Error simulado\n",
      "\n",
      "✅ El archivo se cerró correctamente\n",
      "Contenido guardado: Primera línea\n"
     ]
    }
   ],
   "source": [
    "# El context manager cierra el archivo incluso si hay error\n",
    "try:\n",
    "    with open('prueba_error.txt', 'w') as archivo:\n",
    "        archivo.write('Primera línea\\n')\n",
    "        # Simular un error\n",
    "        raise ValueError(\"Error simulado\")\n",
    "        archivo.write('Esta línea no se escribe\\n')\n",
    "except ValueError as e:\n",
    "    print(f\"❌ Error capturado: {e}\")\n",
    "\n",
    "# Verificar que el archivo se cerró y se escribió lo anterior al error\n",
    "with open('prueba_error.txt', 'r') as archivo:\n",
    "    contenido = archivo.read()\n",
    "    print(f\"\\n✅ El archivo se cerró correctamente\")\n",
    "    print(f\"Contenido guardado: {contenido.strip()}\")"
   ]
  },
  {
   "cell_type": "markdown",
   "id": "0d44e432",
   "metadata": {},
   "source": [
    "## Múltiples Archivos con Context Manager"
   ]
  },
  {
   "cell_type": "code",
   "execution_count": 71,
   "id": "a8063d0b",
   "metadata": {},
   "outputs": [
    {
     "name": "stdout",
     "output_type": "stream",
     "text": [
      "✅ Archivos procesados con múltiples context managers\n"
     ]
    }
   ],
   "source": [
    "# Abrir múltiples archivos a la vez (forma 1)\n",
    "with open('origen.txt', 'w') as archivo_origen:\n",
    "    archivo_origen.write('Contenido original\\n')\n",
    "    archivo_origen.write('Segunda línea\\n')\n",
    "\n",
    "with open('origen.txt', 'r') as entrada, open('destino.txt', 'w') as salida:\n",
    "    contenido = entrada.read()\n",
    "    salida.write(contenido)\n",
    "    salida.write('Línea añadida en destino\\n')\n",
    "\n",
    "print(\"✅ Archivos procesados con múltiples context managers\")"
   ]
  },
  {
   "cell_type": "code",
   "execution_count": 72,
   "id": "bfe07540",
   "metadata": {},
   "outputs": [
    {
     "name": "stdout",
     "output_type": "stream",
     "text": [
      "Contenido de destino.txt:\n",
      "Contenido original\n",
      "Segunda línea\n",
      "Línea añadida en destino\n",
      "\n"
     ]
    }
   ],
   "source": [
    "# Verificar resultado\n",
    "with open('destino.txt', 'r') as archivo:\n",
    "    print(\"Contenido de destino.txt:\")\n",
    "    print(archivo.read())"
   ]
  },
  {
   "cell_type": "code",
   "execution_count": 73,
   "id": "06ce9fe7",
   "metadata": {},
   "outputs": [
    {
     "name": "stdout",
     "output_type": "stream",
     "text": [
      "✅ Tres archivos creados simultáneamente\n"
     ]
    }
   ],
   "source": [
    "# Abrir múltiples archivos (forma 2 - más legible)\n",
    "with open('archivo1.txt', 'w') as f1, \\\n",
    "     open('archivo2.txt', 'w') as f2, \\\n",
    "     open('archivo3.txt', 'w') as f3:\n",
    "    \n",
    "    f1.write('Contenido archivo 1\\n')\n",
    "    f2.write('Contenido archivo 2\\n')\n",
    "    f3.write('Contenido archivo 3\\n')\n",
    "\n",
    "print(\"✅ Tres archivos creados simultáneamente\")"
   ]
  },
  {
   "cell_type": "markdown",
   "id": "ac23a7b1",
   "metadata": {},
   "source": [
    "## Verificar Estado del Archivo"
   ]
  },
  {
   "cell_type": "code",
   "execution_count": 74,
   "id": "8654b8c3",
   "metadata": {},
   "outputs": [
    {
     "name": "stdout",
     "output_type": "stream",
     "text": [
      "¿Archivo cerrado? False\n",
      "¿Archivo cerrado? True\n"
     ]
    }
   ],
   "source": [
    "# Verificar si un archivo está cerrado\n",
    "archivo = open('estado.txt', 'w')\n",
    "print(f\"¿Archivo cerrado? {archivo.closed}\")  # False\n",
    "\n",
    "archivo.close()\n",
    "print(f\"¿Archivo cerrado? {archivo.closed}\")  # True"
   ]
  },
  {
   "cell_type": "code",
   "execution_count": 75,
   "id": "b9a91c65",
   "metadata": {},
   "outputs": [
    {
     "name": "stdout",
     "output_type": "stream",
     "text": [
      "Dentro del 'with' - ¿Cerrado? False\n",
      "Fuera del 'with' - ¿Cerrado? True\n"
     ]
    }
   ],
   "source": [
    "# Con context manager se cierra automáticamente\n",
    "with open('estado2.txt', 'w') as archivo:\n",
    "    print(f\"Dentro del 'with' - ¿Cerrado? {archivo.closed}\")\n",
    "\n",
    "print(f\"Fuera del 'with' - ¿Cerrado? {archivo.closed}\")"
   ]
  },
  {
   "cell_type": "markdown",
   "id": "030a6f3e",
   "metadata": {},
   "source": [
    "## Limpieza de Archivos de Prueba"
   ]
  },
  {
   "cell_type": "code",
   "execution_count": 76,
   "id": "0e4210a9",
   "metadata": {},
   "outputs": [
    {
     "name": "stdout",
     "output_type": "stream",
     "text": [
      "Limpiando archivos de prueba...\n",
      "  ✅ Eliminado: prueba_sin_with.txt\n",
      "  ✅ Eliminado: prueba_con_with.txt\n",
      "  ✅ Eliminado: prueba_error.txt\n",
      "  ✅ Eliminado: origen.txt\n",
      "  ✅ Eliminado: destino.txt\n",
      "  ✅ Eliminado: archivo1.txt\n",
      "  ✅ Eliminado: archivo2.txt\n",
      "  ✅ Eliminado: archivo3.txt\n",
      "  ✅ Eliminado: estado.txt\n",
      "  ✅ Eliminado: estado2.txt\n",
      "\n",
      "🎉 Limpieza completada\n"
     ]
    }
   ],
   "source": [
    "import os\n",
    "\n",
    "archivos_prueba = [\n",
    "    'prueba_sin_with.txt',\n",
    "    'prueba_con_with.txt',\n",
    "    'prueba_error.txt',\n",
    "    'origen.txt',\n",
    "    'destino.txt',\n",
    "    'archivo1.txt',\n",
    "    'archivo2.txt',\n",
    "    'archivo3.txt',\n",
    "    'estado.txt',\n",
    "    'estado2.txt'\n",
    "]\n",
    "\n",
    "print(\"Limpiando archivos de prueba...\")\n",
    "for archivo in archivos_prueba:\n",
    "    if os.path.exists(archivo):\n",
    "        os.remove(archivo)\n",
    "        print(f\"  ✅ Eliminado: {archivo}\")\n",
    "\n",
    "print(\"\\n🎉 Limpieza completada\")"
   ]
  },
  {
   "cell_type": "markdown",
   "id": "7faca12c",
   "metadata": {},
   "source": [
    "## 📚 Resumen\n",
    "\n",
    "**Context manager básico:**\n",
    "```python\n",
    "with open('archivo.txt', 'r') as archivo:\n",
    "    contenido = archivo.read()\n",
    "# Archivo cerrado automáticamente aquí\n",
    "```\n",
    "\n",
    "**Ventajas de usar `with`:**\n",
    "- ✅ Cierre automático garantizado\n",
    "- ✅ Manejo seguro de excepciones\n",
    "- ✅ Código más limpio y legible\n",
    "- ✅ Libera recursos correctamente\n",
    "- ✅ Evita fugas de memoria\n",
    "\n",
    "**Múltiples archivos:**\n",
    "```python\n",
    "with open('f1.txt', 'r') as f1, open('f2.txt', 'w') as f2:\n",
    "    f2.write(f1.read())\n",
    "```\n",
    "\n",
    "**Comparación con método antiguo:**\n",
    "```python\n",
    "# ❌ Sin with (no recomendado)\n",
    "f = open('file.txt', 'r')\n",
    "data = f.read()\n",
    "f.close()  # Fácil olvidar\n",
    "\n",
    "# ✅ Con with (recomendado)\n",
    "with open('file.txt', 'r') as f:\n",
    "    data = f.read()\n",
    "```\n",
    "\n",
    "**Regla de oro:**\n",
    "> Siempre usa `with` al trabajar con archivos.  \n",
    "> Python cerrará el archivo automáticamente, incluso si hay errores."
   ]
  }
 ],
 "metadata": {
  "kernelspec": {
   "display_name": "SEA_ejemplosT4",
   "language": "python",
   "name": "python3"
  },
  "language_info": {
   "codemirror_mode": {
    "name": "ipython",
    "version": 3
   },
   "file_extension": ".py",
   "mimetype": "text/x-python",
   "name": "python",
   "nbconvert_exporter": "python",
   "pygments_lexer": "ipython3",
   "version": "3.12.3"
  }
 },
 "nbformat": 4,
 "nbformat_minor": 5
}
