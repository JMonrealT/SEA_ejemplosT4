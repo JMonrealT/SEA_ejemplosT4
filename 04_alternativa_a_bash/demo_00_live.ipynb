{
 "cells": [
  {
   "cell_type": "markdown",
   "id": "4da09d7e",
   "metadata": {},
   "source": [
    "# ## 04. Python como Alternativa a Bash\n",
    "\n",
    "🔧 Resumen esencial de módulos `os`, `subprocess`, `pathlib` y `shutil`\n",
    "\n",
    "Esta demo condensa las operaciones más importantes de los módulos `os`, `subprocess`, `pathlib` y `shutil` para trabajar con archivos y el sistema operativo.\n",
    "\n",
    "## 📋 Contenido:\n",
    "\n",
    "1. **os** - Operaciones básicas del sistema\n",
    "2. **subprocess** - Ejecutar comandos externos\n",
    "3. **pathlib** - Rutas orientadas a objetos (moderno)\n",
    "4. **shutil** - Copiar, mover, eliminar\n",
    "\n",
    "| Módulo | Para qué | Ejemplo |\n",
    "|--------|----------|---------|\n",
    "| `os` | Navegación, variables de entorno | `os.getcwd()`, `os.listdir()` |\n",
    "| `subprocess` | Comandos externos | `subprocess.run(['ls', '-l'])` |\n",
    "| `pathlib` | Rutas con objetos | `Path.home() / 'docs'` |\n",
    "| `shutil` | Copiar, mover, eliminar | `shutil.copy()`, `shutil.rmtree()` |\n",
    "\n",
    "---"
   ]
  },
  {
   "cell_type": "markdown",
   "id": "be583cc3",
   "metadata": {},
   "source": [
    "## 1️⃣ Módulo `os` - Operaciones Básicas del Sistema\n",
    "\n",
    "Funciones para navegar, listar, crear y gestionar directorios."
   ]
  },
  {
   "cell_type": "code",
   "execution_count": 1,
   "id": "6cb9f25e",
   "metadata": {},
   "outputs": [
    {
     "name": "stdout",
     "output_type": "stream",
     "text": [
      "📂 Directorio actual: /home/user/Escritorio/SEA_ejemplosT4/04_alternativa_a_bash\n",
      "🏠 Home: /home/user\n",
      "\n",
      "📋 Contenido del directorio:\n",
      "  📄 demo_00_live.ipynb\n",
      "  📄 demo_02_subprocess.ipynb\n",
      "  📄 demo_03_pathlib.ipynb\n",
      "  📄 demo_04_shutil.ipynb\n",
      "  📄 demo_05_adicional_ejecucion.ipynb\n"
     ]
    }
   ],
   "source": [
    "import os\n",
    "\n",
    "# Directorio actual (pwd)\n",
    "print(f\"📂 Directorio actual: {os.getcwd()}\")\n",
    "\n",
    "# Directorio home\n",
    "home = os.path.expanduser('~')\n",
    "print(f\"🏠 Home: {home}\")\n",
    "\n",
    "# Listar contenido (ls)\n",
    "print(\"\\n📋 Contenido del directorio:\")\n",
    "for item in sorted(os.listdir('.')[:5]):  # Primeros 5\n",
    "    tipo = \"📁\" if os.path.isdir(item) else \"📄\"\n",
    "    print(f\"  {tipo} {item}\")"
   ]
  },
  {
   "cell_type": "code",
   "execution_count": 2,
   "id": "6669d584",
   "metadata": {},
   "outputs": [
    {
     "name": "stdout",
     "output_type": "stream",
     "text": [
      "\n",
      "🔗 Ruta construida: /home/user/documentos/archivo.txt\n",
      "📁 Directorio: /home/user/documentos\n",
      "📄 Nombre: archivo.txt\n",
      "🔤 Sin extensión: /home/user/documentos/archivo\n",
      "📝 Extensión: .txt\n"
     ]
    }
   ],
   "source": [
    "# Manipular rutas de forma portable\n",
    "ruta = os.path.join(home, 'documentos', 'archivo.txt')\n",
    "print(f\"\\n🔗 Ruta construida: {ruta}\")\n",
    "print(f\"📁 Directorio: {os.path.dirname(ruta)}\")\n",
    "print(f\"📄 Nombre: {os.path.basename(ruta)}\")\n",
    "print(f\"🔤 Sin extensión: {os.path.splitext(ruta)[0]}\")\n",
    "print(f\"📝 Extensión: {os.path.splitext(ruta)[1]}\")"
   ]
  },
  {
   "cell_type": "code",
   "execution_count": 3,
   "id": "376845c3",
   "metadata": {},
   "outputs": [
    {
     "name": "stdout",
     "output_type": "stream",
     "text": [
      "✅ Creado: temp_os_test\n",
      "🗑️ Eliminado: temp_os_test\n"
     ]
    }
   ],
   "source": [
    "# Crear y eliminar directorios\n",
    "test_dir = 'temp_os_test'\n",
    "\n",
    "# Crear si no existe\n",
    "if not os.path.exists(test_dir):\n",
    "    os.mkdir(test_dir)\n",
    "    print(f\"✅ Creado: {test_dir}\")\n",
    "else:\n",
    "    print(f\"ℹ️ Ya existe: {test_dir}\")\n",
    "\n",
    "# Eliminar (solo si está vacío)\n",
    "os.rmdir(test_dir)\n",
    "print(f\"🗑️ Eliminado: {test_dir}\")"
   ]
  },
  {
   "cell_type": "code",
   "execution_count": 4,
   "id": "85ef87a5",
   "metadata": {},
   "outputs": [
    {
     "name": "stdout",
     "output_type": "stream",
     "text": [
      "\n",
      "🌍 Variables de entorno:\n",
      "  USER: user\n",
      "  HOME: /home/user\n",
      "  Separador de ruta: '/'\n",
      "  Sistema operativo: posix\n"
     ]
    }
   ],
   "source": [
    "# Variables de entorno\n",
    "print(\"\\n🌍 Variables de entorno:\")\n",
    "print(f\"  USER: {os.environ.get('USER', 'N/A')}\")\n",
    "print(f\"  HOME: {os.environ.get('HOME', 'N/A')}\")\n",
    "print(f\"  Separador de ruta: '{os.sep}'\")\n",
    "print(f\"  Sistema operativo: {os.name}\")"
   ]
  },
  {
   "cell_type": "markdown",
   "id": "3e3c5986",
   "metadata": {},
   "source": [
    "## 2️⃣ Módulo `subprocess` - Ejecutar Comandos Externos\n",
    "\n",
    "Para ejecutar comandos del sistema y capturar su salida."
   ]
  },
  {
   "cell_type": "code",
   "execution_count": 5,
   "id": "eac6b69d",
   "metadata": {},
   "outputs": [
    {
     "name": "stdout",
     "output_type": "stream",
     "text": [
      "📤 Salida: Hola desde Python\n",
      "📊 Código retorno: 0\n"
     ]
    }
   ],
   "source": [
    "import subprocess\n",
    "\n",
    "# Ejecutar comando simple\n",
    "resultado = subprocess.run(\n",
    "    ['echo', 'Hola desde Python'],\n",
    "    capture_output=True,\n",
    "    text=True\n",
    ")\n",
    "print(f\"📤 Salida: {resultado.stdout.strip()}\")\n",
    "print(f\"📊 Código retorno: {resultado.returncode}\")"
   ]
  },
  {
   "cell_type": "code",
   "execution_count": 6,
   "id": "47bbe4cf",
   "metadata": {},
   "outputs": [
    {
     "name": "stdout",
     "output_type": "stream",
     "text": [
      "📋 Primeras 5 líneas de 'ls -lh':\n",
      "  total 156K\n",
      "  -rw-rw-r-- 1 user user 16K oct 22 18:43 demo_00_live.ipynb\n",
      "  -rw-rw-r-- 1 user user 13K oct 20 19:47 demo_01_modulo_os.ipynb\n",
      "  -rw-rw-r-- 1 user user 18K oct 21 11:40 demo_02_subprocess.ipynb\n",
      "  -rw-rw-r-- 1 user user 16K oct 20 19:55 demo_03_pathlib.ipynb\n"
     ]
    }
   ],
   "source": [
    "# Listar archivos con ls (Unix/Linux)\n",
    "try:\n",
    "    resultado = subprocess.run(\n",
    "        ['ls', '-lh'],\n",
    "        capture_output=True,\n",
    "        text=True,\n",
    "        check=True\n",
    "    )\n",
    "    print(\"📋 Primeras 5 líneas de 'ls -lh':\")\n",
    "    lineas = resultado.stdout.split('\\n')[:5]\n",
    "    for linea in lineas:\n",
    "        if linea:\n",
    "            print(f\"  {linea}\")\n",
    "except FileNotFoundError:\n",
    "    print(\"⚠️ Comando 'ls' no disponible (Windows?)\")\n",
    "except subprocess.CalledProcessError as e:\n",
    "    print(f\"❌ Error ejecutando comando: {e}\")"
   ]
  },
  {
   "cell_type": "code",
   "execution_count": 7,
   "id": "298b93f8",
   "metadata": {},
   "outputs": [
    {
     "name": "stdout",
     "output_type": "stream",
     "text": [
      "🐚 Con shell: Usuario: user, Home: /home/user\n"
     ]
    }
   ],
   "source": [
    "# Usar shell para pipes y variables (⚠️ cuidado con seguridad)\n",
    "try:\n",
    "    resultado = subprocess.run(\n",
    "        'echo \"Usuario: $USER, Home: $HOME\"',\n",
    "        shell=True,\n",
    "        capture_output=True,\n",
    "        text=True\n",
    "    )\n",
    "    print(f\"🐚 Con shell: {resultado.stdout.strip()}\")\n",
    "except Exception as e:\n",
    "    print(f\"❌ Error: {e}\")"
   ]
  },
  {
   "cell_type": "code",
   "execution_count": 8,
   "id": "5f292a94",
   "metadata": {},
   "outputs": [
    {
     "name": "stdout",
     "output_type": "stream",
     "text": [
      "⏱️ El comando tardó demasiado (timeout)\n"
     ]
    }
   ],
   "source": [
    "# Timeout para comandos lentos\n",
    "try:\n",
    "    resultado = subprocess.run(\n",
    "        ['sleep', '2'],\n",
    "        timeout=1,  # Máximo 1 segundo\n",
    "        capture_output=True\n",
    "    )\n",
    "except subprocess.TimeoutExpired:\n",
    "    print(\"⏱️ El comando tardó demasiado (timeout)\")\n",
    "except FileNotFoundError:\n",
    "    print(\"ℹ️ Comando 'sleep' no disponible\")"
   ]
  },
  {
   "cell_type": "markdown",
   "id": "7ecafdad",
   "metadata": {},
   "source": [
    "## 3️⃣ Módulo `pathlib` - Rutas Orientadas a Objetos (Moderno)\n",
    "\n",
    "La forma moderna y elegante de trabajar con rutas usando el operador `/`."
   ]
  },
  {
   "cell_type": "code",
   "execution_count": 9,
   "id": "3d36fc32",
   "metadata": {},
   "outputs": [
    {
     "name": "stdout",
     "output_type": "stream",
     "text": [
      "📂 Directorio actual: /home/user/Escritorio/SEA_ejemplosT4/04_alternativa_a_bash\n",
      "🏠 Home: /home/user\n",
      "\n",
      "🔗 Ruta construida: /home/user/documentos/proyectos/archivo.py\n"
     ]
    }
   ],
   "source": [
    "from pathlib import Path\n",
    "\n",
    "# Directorios importantes\n",
    "print(f\"📂 Directorio actual: {Path.cwd()}\")\n",
    "print(f\"🏠 Home: {Path.home()}\")\n",
    "\n",
    "# Construir rutas elegantemente con /\n",
    "ruta = Path.home() / 'documentos' / 'proyectos' / 'archivo.py'\n",
    "print(f\"\\n🔗 Ruta construida: {ruta}\")"
   ]
  },
  {
   "cell_type": "code",
   "execution_count": 10,
   "id": "e10c4e54",
   "metadata": {},
   "outputs": [
    {
     "name": "stdout",
     "output_type": "stream",
     "text": [
      "📄 Nombre completo: script.py\n",
      "🔤 Sin extensión: script\n",
      "📝 Extensión: .py\n",
      "📁 Directorio padre: /home/user/documentos/proyecto\n",
      "🗂️ Partes: ('/', 'home', 'user', 'documentos', 'proyecto', 'script.py')\n"
     ]
    }
   ],
   "source": [
    "# Propiedades de rutas\n",
    "ruta = Path.home() / 'documentos' / 'proyecto' / 'script.py'\n",
    "\n",
    "print(f\"📄 Nombre completo: {ruta.name}\")\n",
    "print(f\"🔤 Sin extensión: {ruta.stem}\")\n",
    "print(f\"📝 Extensión: {ruta.suffix}\")\n",
    "print(f\"📁 Directorio padre: {ruta.parent}\")\n",
    "print(f\"🗂️ Partes: {ruta.parts}\")"
   ]
  },
  {
   "cell_type": "code",
   "execution_count": 11,
   "id": "572af7f3",
   "metadata": {},
   "outputs": [
    {
     "name": "stdout",
     "output_type": "stream",
     "text": [
      "✅ Directorio creado: temp_pathlib_test\n",
      "✅ Archivo creado: prueba.txt\n",
      "📝 Contenido escrito\n",
      "📖 Leído: Contenido de prueba\n",
      "\n",
      "🔍 ¿Existe? True\n",
      "📄 ¿Es archivo? True\n",
      "📁 ¿Es directorio? False\n"
     ]
    }
   ],
   "source": [
    "# Crear archivos y directorios\n",
    "test_path = Path('temp_pathlib_test')\n",
    "test_path.mkdir(exist_ok=True)\n",
    "print(f\"✅ Directorio creado: {test_path}\")\n",
    "\n",
    "# Crear archivo vacío\n",
    "archivo = test_path / 'prueba.txt'\n",
    "archivo.touch()\n",
    "print(f\"✅ Archivo creado: {archivo.name}\")\n",
    "\n",
    "# Escribir contenido\n",
    "archivo.write_text('Contenido de prueba')\n",
    "print(f\"📝 Contenido escrito\")\n",
    "\n",
    "# Leer contenido\n",
    "contenido = archivo.read_text()\n",
    "print(f\"📖 Leído: {contenido}\")\n",
    "\n",
    "# Verificaciones\n",
    "print(f\"\\n🔍 ¿Existe? {archivo.exists()}\")\n",
    "print(f\"📄 ¿Es archivo? {archivo.is_file()}\")\n",
    "print(f\"📁 ¿Es directorio? {archivo.is_dir()}\")"
   ]
  },
  {
   "cell_type": "code",
   "execution_count": 12,
   "id": "68a57cd5",
   "metadata": {},
   "outputs": [
    {
     "name": "stdout",
     "output_type": "stream",
     "text": [
      "\n",
      "📋 Contenido de temp_pathlib_test:\n",
      "  📄 prueba.txt\n",
      "\n",
      "🔍 Archivos .txt encontrados: 1\n"
     ]
    }
   ],
   "source": [
    "# Listar contenido del directorio\n",
    "print(f\"\\n📋 Contenido de {test_path}:\")\n",
    "for item in test_path.iterdir():\n",
    "    tipo = \"📁\" if item.is_dir() else \"📄\"\n",
    "    print(f\"  {tipo} {item.name}\")\n",
    "\n",
    "# Buscar con patrones (glob)\n",
    "archivos_txt = list(test_path.glob('*.txt'))\n",
    "print(f\"\\n🔍 Archivos .txt encontrados: {len(archivos_txt)}\")"
   ]
  },
  {
   "cell_type": "code",
   "execution_count": 13,
   "id": "f603071e",
   "metadata": {},
   "outputs": [
    {
     "name": "stdout",
     "output_type": "stream",
     "text": [
      "🗑️ Archivo eliminado\n",
      "🗑️ Directorio eliminado\n"
     ]
    }
   ],
   "source": [
    "# Limpieza\n",
    "archivo.unlink()  # Eliminar archivo\n",
    "print(f\"🗑️ Archivo eliminado\")\n",
    "\n",
    "test_path.rmdir()  # Eliminar directorio vacío\n",
    "print(f\"🗑️ Directorio eliminado\")"
   ]
  },
  {
   "cell_type": "markdown",
   "id": "602f214d",
   "metadata": {},
   "source": [
    "## 4️⃣ Módulo `shutil` - Copiar, Mover, Eliminar\n",
    "\n",
    "Operaciones de alto nivel que `os` y `pathlib` no tienen."
   ]
  },
  {
   "cell_type": "code",
   "execution_count": 14,
   "id": "aba69e1a",
   "metadata": {},
   "outputs": [
    {
     "name": "stdout",
     "output_type": "stream",
     "text": [
      "✅ Estructura creada: temp_shutil_test\n"
     ]
    }
   ],
   "source": [
    "import shutil\n",
    "from pathlib import Path\n",
    "\n",
    "# Crear estructura de prueba\n",
    "test_dir = Path('temp_shutil_test')\n",
    "test_dir.mkdir(exist_ok=True)\n",
    "\n",
    "archivo_original = test_dir / 'original.txt'\n",
    "archivo_original.write_text('Contenido original')\n",
    "\n",
    "print(f\"✅ Estructura creada: {test_dir}\")"
   ]
  },
  {
   "cell_type": "code",
   "execution_count": 15,
   "id": "e10b3a70",
   "metadata": {},
   "outputs": [
    {
     "name": "stdout",
     "output_type": "stream",
     "text": [
      "📋 Copiado: copia.txt\n",
      "📋 Copiado con metadatos: copia2.txt\n"
     ]
    }
   ],
   "source": [
    "# Copiar archivo\n",
    "copia = test_dir / 'copia.txt'\n",
    "shutil.copy(archivo_original, copia)\n",
    "print(f\"📋 Copiado: {copia.name}\")\n",
    "\n",
    "# Copiar preservando metadatos (timestamps, permisos)\n",
    "copia2 = test_dir / 'copia2.txt'\n",
    "shutil.copy2(archivo_original, copia2)\n",
    "print(f\"📋 Copiado con metadatos: {copia2.name}\")"
   ]
  },
  {
   "cell_type": "code",
   "execution_count": 16,
   "id": "f2c5fcbc",
   "metadata": {},
   "outputs": [
    {
     "name": "stdout",
     "output_type": "stream",
     "text": [
      "🚚 Movido: copia.txt → movido.txt\n"
     ]
    }
   ],
   "source": [
    "# Mover/renombrar\n",
    "movido = test_dir / 'movido.txt'\n",
    "shutil.move(str(copia), str(movido))\n",
    "print(f\"🚚 Movido: copia.txt → {movido.name}\")"
   ]
  },
  {
   "cell_type": "code",
   "execution_count": 17,
   "id": "700bb8b4",
   "metadata": {},
   "outputs": [
    {
     "name": "stdout",
     "output_type": "stream",
     "text": [
      "📁 Directorio copiado: temp_shutil_test → temp_copia_dir\n",
      "📋 Archivos en copia:\n",
      "  📄 copia2.txt\n",
      "  📄 movido.txt\n",
      "  📄 original.txt\n"
     ]
    }
   ],
   "source": [
    "# Copiar directorio completo\n",
    "dir_destino = Path('temp_copia_dir')\n",
    "if dir_destino.exists():\n",
    "    shutil.rmtree(dir_destino)\n",
    "\n",
    "shutil.copytree(test_dir, dir_destino)\n",
    "print(f\"📁 Directorio copiado: {test_dir} → {dir_destino}\")\n",
    "print(f\"📋 Archivos en copia:\")\n",
    "for item in sorted(dir_destino.iterdir()):\n",
    "    print(f\"  📄 {item.name}\")"
   ]
  },
  {
   "cell_type": "code",
   "execution_count": 18,
   "id": "a08c5faa",
   "metadata": {},
   "outputs": [
    {
     "name": "stdout",
     "output_type": "stream",
     "text": [
      "\n",
      "💾 Uso del disco:\n",
      "  Total: 76.23 GB\n",
      "  Usado: 67.53 GB\n",
      "  Libre: 5.11 GB\n"
     ]
    }
   ],
   "source": [
    "# Información del disco\n",
    "usage = shutil.disk_usage('.')\n",
    "total_gb = usage.total / (1024**3)\n",
    "usado_gb = usage.used / (1024**3)\n",
    "libre_gb = usage.free / (1024**3)\n",
    "\n",
    "print(f\"\\n💾 Uso del disco:\")\n",
    "print(f\"  Total: {total_gb:.2f} GB\")\n",
    "print(f\"  Usado: {usado_gb:.2f} GB\")\n",
    "print(f\"  Libre: {libre_gb:.2f} GB\")"
   ]
  },
  {
   "cell_type": "code",
   "execution_count": 19,
   "id": "f448b4c6",
   "metadata": {},
   "outputs": [
    {
     "name": "stdout",
     "output_type": "stream",
     "text": [
      "\n",
      "🔍 Ejecutables en el PATH:\n",
      "  ✅ python3: /home/user/miniconda3/envs/SEA_ejemplosT4/bin/python3\n",
      "  ✅ ls: /usr/bin/ls\n",
      "  ✅ git: /usr/bin/git\n"
     ]
    }
   ],
   "source": [
    "# Buscar ejecutables en el PATH\n",
    "ejecutables = ['python3', 'ls', 'git']\n",
    "print(f\"\\n🔍 Ejecutables en el PATH:\")\n",
    "for cmd in ejecutables:\n",
    "    ubicacion = shutil.which(cmd)\n",
    "    if ubicacion:\n",
    "        print(f\"  ✅ {cmd}: {ubicacion}\")\n",
    "    else:\n",
    "        print(f\"  ❌ {cmd}: no encontrado\")"
   ]
  },
  {
   "cell_type": "code",
   "execution_count": 20,
   "id": "7dc93d25",
   "metadata": {},
   "outputs": [
    {
     "name": "stdout",
     "output_type": "stream",
     "text": [
      "🗑️ Eliminado: temp_shutil_test\n",
      "🗑️ Eliminado: temp_copia_dir\n",
      "\n",
      "✅ Limpieza completada\n"
     ]
    }
   ],
   "source": [
    "# ⚠️ Eliminar todo el directorio (¡CUIDADO!)\n",
    "shutil.rmtree(test_dir)\n",
    "print(f\"🗑️ Eliminado: {test_dir}\")\n",
    "\n",
    "shutil.rmtree(dir_destino)\n",
    "print(f\"🗑️ Eliminado: {dir_destino}\")\n",
    "\n",
    "print(\"\\n✅ Limpieza completada\")"
   ]
  },
  {
   "cell_type": "markdown",
   "id": "c8496cc0",
   "metadata": {},
   "source": [
    "## 📚 Resumen de Equivalencias Bash vs Python\n",
    "\n",
    "| Bash | Python | Descripción |\n",
    "|------|--------|-------------|\n",
    "| `pwd` | `os.getcwd()` o `Path.cwd()` | Directorio actual |\n",
    "| `cd DIR` | `os.chdir(DIR)` | Cambiar directorio |\n",
    "| `ls` | `os.listdir()` o `Path.iterdir()` | Listar contenido |\n",
    "| `mkdir DIR` | `os.mkdir()` o `Path.mkdir()` | Crear directorio |\n",
    "| `rm -rf DIR` | `shutil.rmtree()` | Eliminar todo |\n",
    "| `cp FILE DST` | `shutil.copy()` | Copiar archivo |\n",
    "| `cp -r DIR DST` | `shutil.copytree()` | Copiar directorio |\n",
    "| `mv SRC DST` | `shutil.move()` | Mover/renombrar |\n",
    "| `$HOME` | `os.environ['HOME']` o `Path.home()` | Variable entorno |\n",
    "| `which CMD` | `shutil.which()` | Buscar ejecutable |\n",
    "| `df` | `shutil.disk_usage()` | Espacio en disco |\n",
    "\n",
    "### 🎯 ¿Cuándo usar cada módulo?\n",
    "\n",
    "- **`os`**: Navegación básica, variables de entorno, manipulación de rutas (viejo estilo)\n",
    "- **`pathlib`**: ✅ **RECOMENDADO** - Rutas modernas, orientadas a objetos\n",
    "- **`subprocess`**: Ejecutar comandos externos que no tienen equivalente en Python\n",
    "- **`shutil`**: Copiar, mover, eliminar archivos/directorios completos\n",
    "\n",
    "### 💡 Ventajas de Python sobre Bash:\n",
    "\n",
    "- ✅ **Multiplataforma**: Mismo código en Linux, Windows, macOS\n",
    "- ✅ **Manejo de errores**: Excepciones claras vs códigos de retorno\n",
    "- ✅ **Estructuras de datos**: Listas, diccionarios para procesar info\n",
    "- ✅ **Legibilidad**: Código más estructurado y mantenible\n",
    "- ✅ **Testing**: Fácil de probar unitariamente\n",
    "\n",
    "---\n",
    "\n",
    "**¡Fin del resumen!** 🎉"
   ]
  }
 ],
 "metadata": {
  "kernelspec": {
   "display_name": "SEA_ejemplosT4",
   "language": "python",
   "name": "python3"
  },
  "language_info": {
   "codemirror_mode": {
    "name": "ipython",
    "version": 3
   },
   "file_extension": ".py",
   "mimetype": "text/x-python",
   "name": "python",
   "nbconvert_exporter": "python",
   "pygments_lexer": "ipython3",
   "version": "3.12.3"
  }
 },
 "nbformat": 4,
 "nbformat_minor": 5
}
