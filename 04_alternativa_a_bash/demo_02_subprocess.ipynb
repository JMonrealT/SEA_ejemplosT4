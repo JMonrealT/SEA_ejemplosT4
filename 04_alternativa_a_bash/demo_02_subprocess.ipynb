{
 "cells": [
  {
   "cell_type": "markdown",
   "id": "d15539b1",
   "metadata": {},
   "source": [
    "# Módulo `subprocess` - Ejecutar Comandos del Sistema\n",
    "\n",
    "El módulo `subprocess` permite ejecutar comandos del sistema operativo y capturar su salida desde Python.\n",
    "\n",
    "## 🎯 ¿Qué vamos a hacer en esta demo?\n",
    "\n",
    "Aprenderemos a ejecutar comandos del sistema operativo desde Python, capturar su salida y manejar errores.\n",
    "\n",
    "### 📋 Operaciones que realizaremos:\n",
    "\n",
    "1. **Ejecutar comandos simples**\n",
    "   - `subprocess.run()` - Ejecutar y esperar resultado\n",
    "   - `capture_output=True` - Capturar stdout y stderr\n",
    "   - `text=True` - Obtener strings en lugar de bytes\n",
    "\n",
    "2. **Comandos Unix/Linux**\n",
    "   - `ls -lh` - Listar archivos\n",
    "   - Pipes: `ls -la | grep demo` - Encadenar comandos\n",
    "\n",
    "3. **Uso del shell**\n",
    "   - `shell=True` - Ejecutar con características del shell\n",
    "   - ⚠️ **Riesgos de seguridad** (inyección de comandos)\n",
    "   - Variables de entorno (`$USER`, `$HOME`)\n",
    "\n",
    "4. **Control del proceso**\n",
    "   - `subprocess.Popen()` - Control más fino\n",
    "   - Salida en tiempo real (línea por línea)\n",
    "   - Códigos de retorno (éxito/error)\n",
    "\n",
    "5. **Timeouts y límites de tiempo**\n",
    "   - `timeout=N` - Limitar tiempo de ejecución\n",
    "   - `TimeoutExpired` - Manejo de comandos que tardan demasiado\n",
    "\n",
    "6. **Información del sistema**\n",
    "   - `hostname` - Nombre del equipo\n",
    "   - `whoami` - Usuario actual\n",
    "\n",
    "### 🔑 Parámetros clave de `subprocess.run()`:\n",
    "\n",
    "| Parámetro | Descripción | Ejemplo |\n",
    "|-----------|-------------|---------|\n",
    "| `capture_output=True` | Captura stdout y stderr | `resultado.stdout` |\n",
    "| `text=True` | Devuelve strings (no bytes) | Sin `decode()` |\n",
    "| `check=True` | Excepción si falla | `CalledProcessError` |\n",
    "| `timeout=N` | Límite de tiempo (segundos) | `timeout=5` |\n",
    "| `shell=True` | ⚠️ Ejecuta en shell | Variables `$VAR` |\n",
    "\n",
    "### 💡 ¿Cuándo usar `subprocess` vs `os`?\n",
    "\n",
    "- **`os`**: Operaciones nativas de Python (crear carpetas, listar archivos)\n",
    "- **`subprocess`**: Ejecutar comandos externos que no tienen equivalente en Python\n",
    "\n",
    "---"
   ]
  },
  {
   "cell_type": "markdown",
   "id": "2e560ad6",
   "metadata": {},
   "source": [
    "## 1. Ejecutar Comando Simple"
   ]
  },
  {
   "cell_type": "code",
   "execution_count": 1,
   "id": "44c372dd",
   "metadata": {},
   "outputs": [
    {
     "name": "stdout",
     "output_type": "stream",
     "text": [
      "Salida: Hola desde subprocess\n",
      "\n",
      "Código de retorno: 0\n",
      "Error (si lo hay): \n"
     ]
    }
   ],
   "source": [
    "import subprocess\n",
    "\n",
    "# Ejecutar comando simple\n",
    "resultado = subprocess.run(['echo', 'Hola desde subprocess'], \n",
    "                          capture_output=True, \n",
    "                          text=True)\n",
    "\n",
    "print(f\"Salida: {resultado.stdout}\")\n",
    "print(f\"Código de retorno: {resultado.returncode}\")\n",
    "print(f\"Error (si lo hay): {resultado.stderr}\")"
   ]
  },
  {
   "cell_type": "markdown",
   "id": "51f5fc2f",
   "metadata": {},
   "source": [
    "## 2. Listar Archivos con `ls` (Unix/Linux)"
   ]
  },
  {
   "cell_type": "code",
   "execution_count": 2,
   "id": "a84f0c43",
   "metadata": {},
   "outputs": [
    {
     "name": "stdout",
     "output_type": "stream",
     "text": [
      "Salida de 'ls -lh':\n",
      "total 144K\n",
      "-rw-rw-r-- 1 user user 15K oct 21 10:29 demo_00_live.ipynb\n",
      "-rw-rw-r-- 1 user user 13K oct 20 19:47 demo_01_modulo_os.ipynb\n",
      "-rw-rw-r-- 1 user user 33K oct 21 11:30 demo_02_subprocess.ipynb\n",
      "-rw-rw-r-- 1 user user 16K oct 20 19:55 demo_03_pathlib.ipynb\n",
      "-rw-rw-r-- 1 user user 19K oct 20 19:55 demo_04_shutil.ipynb\n",
      "\n"
     ]
    }
   ],
   "source": [
    "# Listar archivos del directorio actual\n",
    "try:\n",
    "    resultado = subprocess.run(['ls', '-lh'], \n",
    "                              capture_output=True, \n",
    "                              text=True,\n",
    "                              check=True)\n",
    "    print(\"Salida de 'ls -lh':\")\n",
    "    print(resultado.stdout)\n",
    "except FileNotFoundError:\n",
    "    print(\"❌ Comando 'ls' no disponible (probablemente Windows)\")\n",
    "    print(\"En Windows usaríamos 'dir'\")\n",
    "except subprocess.CalledProcessError as e:\n",
    "    print(f\"❌ Error al ejecutar el comando: {e}\")"
   ]
  },
  {
   "cell_type": "markdown",
   "id": "c97bd619",
   "metadata": {},
   "source": [
    "## 3. Comando con Pipe (tubería)\n",
    "\n",
    "Un **pipe** (`|`) conecta la salida de un comando con la entrada de otro:\n",
    "\n",
    "```bash\n",
    "ls -la | grep demo\n",
    "# └─stdout─→ stdin─┘\n",
    "```\n",
    "\n",
    "**Diagrama visual:**\n",
    "```\n",
    "┌──────────┐  stdout   ┌──────────┐\n",
    "│  ls -la  ├──────────►│   grep   │\n",
    "└──────────┘   (pipe)  │   demo   │\n",
    "                       └──────────┘\n",
    "```\n",
    "\n",
    "En Python, lo implementamos ejecutando ambos comandos y pasando la salida (`stdout`) del primero como entrada (`stdin`) del segundo.\n",
    "\n",
    "**💡 `text=True`**: Convierte la salida a string automáticamente. Sin esta opción, tendríamos que usar `.decode('utf-8')` para convertir de bytes a texto."
   ]
  },
  {
   "cell_type": "code",
   "execution_count": 3,
   "id": "148c1af8",
   "metadata": {},
   "outputs": [
    {
     "name": "stdout",
     "output_type": "stream",
     "text": [
      "Archivos que contienen 'demo' en su nombre:\n",
      "-rw-rw-r--  1 user user 15351 oct 21 10:29 demo_00_live.ipynb\n",
      "-rw-rw-r--  1 user user 12886 oct 20 19:47 demo_01_modulo_os.ipynb\n",
      "-rw-rw-r--  1 user user 33501 oct 21 11:30 demo_02_subprocess.ipynb\n",
      "-rw-rw-r--  1 user user 16107 oct 20 19:55 demo_03_pathlib.ipynb\n",
      "-rw-rw-r--  1 user user 18500 oct 20 19:55 demo_04_shutil.ipynb\n",
      "\n"
     ]
    }
   ],
   "source": [
    "# Equivalente a: ls -la | grep demo\n",
    "try:\n",
    "    # Paso 1: Ejecutar ls -la y capturar su salida\n",
    "    p1 = subprocess.run(['ls', '-la'], \n",
    "                       capture_output=True, \n",
    "                       text=True)  # text=True → str (no bytes)\n",
    "    \n",
    "    # Paso 2: Pasar la salida de p1 como entrada a grep\n",
    "    p2 = subprocess.run(['grep', 'demo'], \n",
    "                       input=p1.stdout,      # stdout de p1 → stdin de p2\n",
    "                       capture_output=True, \n",
    "                       text=True)\n",
    "    \n",
    "    print(\"Archivos que contienen 'demo' en su nombre:\")\n",
    "    print(p2.stdout)\n",
    "    \n",
    "except FileNotFoundError:\n",
    "    print(\"❌ Comandos no disponibles en este sistema\")"
   ]
  },
  {
   "cell_type": "markdown",
   "id": "72cf6730",
   "metadata": {},
   "source": [
    "## 4. Ejecutar Comando Shell con `shell=True`\n",
    "\n",
    "**`shell=True`** ejecuta el comando a través del shell del sistema (bash, sh, cmd.exe), permitiendo:\n",
    "- Variables de entorno: `$USER`, `$HOME`\n",
    "- Pipes: `|`\n",
    "- Redirecciones: `>`, `>>`\n",
    "- Operadores lógicos: `&&`, `||`\n",
    "\n",
    "### ⚠️ Riesgo de Seguridad: Inyección de Comandos\n",
    "\n",
    "**Ejemplo peligroso:**\n",
    "```python\n",
    "# ❌ PELIGROSO - No validar entrada del usuario\n",
    "nombre = input(\"Archivo: \")  # Usuario escribe: file.txt; rm -rf /\n",
    "subprocess.run(f\"cat {nombre}\", shell=True)  # ¡Ejecuta rm -rf /!\n",
    "```\n",
    "\n",
    "**Solución segura:**\n",
    "```python\n",
    "# ✅ SEGURO - Lista de argumentos (no shell)\n",
    "subprocess.run(['cat', nombre])  # El ; se trata como parte del nombre\n",
    "                                 # No se interpreta como comando\n",
    "```\n",
    "\n",
    "**Regla de oro:** \n",
    "- ✅ Usa `shell=True` solo cuando necesites características del shell\n",
    "- ❌ **NUNCA** con datos de usuario sin validar\n",
    "- ✅ Prefiere listas de argumentos cuando sea posible"
   ]
  },
  {
   "cell_type": "code",
   "execution_count": 4,
   "id": "b10585b0",
   "metadata": {},
   "outputs": [
    {
     "name": "stdout",
     "output_type": "stream",
     "text": [
      "Salida con shell=True:\n",
      "Usuario: user\n",
      "Home: /home/user\n",
      "\n",
      "\n",
      "Salida sin shell=True (literal):\n",
      "\"Usuario: $USER\" && echo \"Home: $HOME\"\n",
      "\n"
     ]
    }
   ],
   "source": [
    "# Con shell=True se puede usar la sintaxis completa del shell\n",
    "resultado = subprocess.run('echo \"Usuario: $USER\" && echo \"Home: $HOME\"',\n",
    "                          shell=True,\n",
    "                          capture_output=True,\n",
    "                          text=True)\n",
    "\n",
    "print(\"Salida con shell=True:\")\n",
    "print(resultado.stdout)\n",
    "\n",
    "# Sin shell=True no funciona (no interpreta $USER ni &&)\n",
    "try:\n",
    "    resultado2 = subprocess.run(['echo', '\"Usuario: $USER\" && echo \"Home: $HOME\"'],\n",
    "                               capture_output=True,\n",
    "                               text=True)\n",
    "    print(\"\\nSalida sin shell=True (literal):\")\n",
    "    print(resultado2.stdout)\n",
    "except Exception as e:\n",
    "    print(f\"Error: {e}\")"
   ]
  },
  {
   "cell_type": "markdown",
   "id": "17794832",
   "metadata": {},
   "source": [
    "## 5. Capturar Salida en Tiempo Real"
   ]
  },
  {
   "cell_type": "code",
   "execution_count": 5,
   "id": "8e3b7db5",
   "metadata": {},
   "outputs": [
    {
     "name": "stdout",
     "output_type": "stream",
     "text": [
      "Archivos (uno por línea):\n",
      "  📄 demo_00_live.ipynb\n",
      "  📄 demo_01_modulo_os.ipynb\n",
      "  📄 demo_02_subprocess.ipynb\n",
      "  📄 demo_03_pathlib.ipynb\n",
      "  📄 demo_04_shutil.ipynb\n",
      "\n",
      "Código de retorno: 0\n"
     ]
    }
   ],
   "source": [
    "# Ejecutar comando y mostrar salida línea por línea\n",
    "import sys\n",
    "\n",
    "try:\n",
    "    # Usar Popen para control más fino\n",
    "    proceso = subprocess.Popen(['ls', '-1'],\n",
    "                               stdout=subprocess.PIPE,\n",
    "                               stderr=subprocess.PIPE,\n",
    "                               text=True)\n",
    "    \n",
    "    print(\"Archivos (uno por línea):\")\n",
    "    for linea in proceso.stdout:\n",
    "        print(f\"  📄 {linea.strip()}\")\n",
    "    \n",
    "    proceso.wait()\n",
    "    print(f\"\\nCódigo de retorno: {proceso.returncode}\")\n",
    "    \n",
    "except FileNotFoundError:\n",
    "    print(\"❌ Comando no disponible\")"
   ]
  },
  {
   "cell_type": "markdown",
   "id": "e2211d59",
   "metadata": {},
   "source": [
    "## 6. Verificar Código de Retorno"
   ]
  },
  {
   "cell_type": "code",
   "execution_count": 6,
   "id": "689b9c1f",
   "metadata": {},
   "outputs": [
    {
     "name": "stdout",
     "output_type": "stream",
     "text": [
      "❌ Comando falló con código 2\n",
      "Error: ls: no se puede acceder a 'archivo_que_no_existe': No existe el archivo o el directorio\n",
      "\n"
     ]
    }
   ],
   "source": [
    "# Comando que falla\n",
    "resultado = subprocess.run(['ls', 'archivo_que_no_existe'],\n",
    "                          capture_output=True,\n",
    "                          text=True)\n",
    "\n",
    "if resultado.returncode == 0:\n",
    "    print(\"✅ Comando ejecutado correctamente\")\n",
    "    print(resultado.stdout)\n",
    "else:\n",
    "    print(f\"❌ Comando falló con código {resultado.returncode}\")\n",
    "    print(f\"Error: {resultado.stderr}\")"
   ]
  },
  {
   "cell_type": "markdown",
   "id": "dde05dbe",
   "metadata": {},
   "source": [
    "## 7. Ejecutar con Timeout\n",
    "\n",
    "El parámetro `timeout` limita el tiempo de ejecución. Si el comando excede el límite, se lanza `TimeoutExpired`."
   ]
  },
  {
   "cell_type": "code",
   "execution_count": 7,
   "id": "2e942ace",
   "metadata": {},
   "outputs": [
    {
     "name": "stdout",
     "output_type": "stream",
     "text": [
      "✅ Caso 1: Comando rápido (2s) con timeout de 5s\n",
      "   Comando completado correctamente\n",
      "   Comando completado correctamente\n"
     ]
    }
   ],
   "source": [
    "import time\n",
    "\n",
    "# Caso 1: Comando que completa dentro del timeout\n",
    "print(\"✅ Caso 1: Comando rápido (2s) con timeout de 5s\")\n",
    "try:\n",
    "    resultado = subprocess.run(['sleep', '2'],\n",
    "                              timeout=5,\n",
    "                              capture_output=True)\n",
    "    print(\"   Comando completado correctamente\")\n",
    "except subprocess.TimeoutExpired:\n",
    "    print(\"   ❌ Timeout excedido\")\n",
    "except FileNotFoundError:\n",
    "    print(\"   ℹ️ Comando 'sleep' no disponible (Windows)\")"
   ]
  },
  {
   "cell_type": "code",
   "execution_count": 8,
   "id": "2f5e1251",
   "metadata": {},
   "outputs": [
    {
     "name": "stdout",
     "output_type": "stream",
     "text": [
      "⏳ Caso 2: Comando lento (10s) con timeout de 3s\n",
      "   ❌ Timeout excedido: 3s\n",
      "   Proceso terminado tras 3.0s\n",
      "   ❌ Timeout excedido: 3s\n",
      "   Proceso terminado tras 3.0s\n"
     ]
    }
   ],
   "source": [
    "# Caso 2: Comando que EXCEDE el timeout\n",
    "print(\"⏳ Caso 2: Comando lento (10s) con timeout de 3s\")\n",
    "inicio = time.time()\n",
    "\n",
    "try:\n",
    "    resultado = subprocess.run(['sleep', '10'],\n",
    "                              timeout=3,  # Solo 3 segundos\n",
    "                              capture_output=True)\n",
    "    print(\"   ✅ Comando completado\")\n",
    "except subprocess.TimeoutExpired as e:\n",
    "    transcurrido = time.time() - inicio\n",
    "    print(f\"   ❌ Timeout excedido: {e.timeout}s\")\n",
    "    print(f\"   Proceso terminado tras {transcurrido:.1f}s\")\n",
    "except FileNotFoundError:\n",
    "    print(\"   ℹ️ Comando 'sleep' no disponible (Windows)\")"
   ]
  },
  {
   "cell_type": "markdown",
   "id": "e6ae1410",
   "metadata": {},
   "source": [
    "## 8. Obtener Información del Sistema"
   ]
  },
  {
   "cell_type": "code",
   "execution_count": 9,
   "id": "66631754",
   "metadata": {},
   "outputs": [
    {
     "name": "stdout",
     "output_type": "stream",
     "text": [
      "📍 Nombre del host: VMLinuxMint22\n",
      "👤 Usuario actual: user\n"
     ]
    }
   ],
   "source": [
    "# Obtener información del sistema con comandos Unix/Linux\n",
    "\n",
    "# 1. Nombre del host\n",
    "try:\n",
    "    resultado = subprocess.run(['hostname'],\n",
    "                              capture_output=True,\n",
    "                              text=True)\n",
    "    print(f\"📍 Nombre del host: {resultado.stdout.strip()}\")\n",
    "except FileNotFoundError:\n",
    "    print(\"❌ Comando 'hostname' no disponible\")\n",
    "\n",
    "# 2. Usuario actual\n",
    "try:\n",
    "    resultado = subprocess.run(['whoami'],\n",
    "                              capture_output=True,\n",
    "                              text=True)\n",
    "    print(f\"👤 Usuario actual: {resultado.stdout.strip()}\")\n",
    "except FileNotFoundError:\n",
    "    print(\"❌ Comando 'whoami' no disponible\")"
   ]
  },
  {
   "cell_type": "markdown",
   "id": "f122be34",
   "metadata": {},
   "source": [
    "## 📚 Resumen de `subprocess`\n",
    "\n",
    "### Funciones principales:\n",
    "\n",
    "| Función | Descripción |\n",
    "|---------|-------------|\n",
    "| `subprocess.run()` | Ejecutar comando y esperar | \n",
    "| `subprocess.Popen()` | Control más fino del proceso |\n",
    "| `capture_output=True` | Capturar stdout y stderr |\n",
    "| `text=True` | Devolver strings en vez de bytes |\n",
    "| `check=True` | Lanzar excepción si el comando falla |\n",
    "| `timeout=N` | Límite de tiempo en segundos |\n",
    "| `shell=True` | Ejecutar en el shell (⚠️ cuidado con seguridad) |\n",
    "\n",
    "### Atributos del resultado:\n",
    "\n",
    "- `.stdout` - Salida estándar\n",
    "- `.stderr` - Salida de error\n",
    "- `.returncode` - Código de retorno (0 = éxito)\n",
    "\n",
    "### ⚠️ Consideraciones de seguridad:\n",
    "\n",
    "1. **Evitar `shell=True`** cuando sea posible\n",
    "2. **No pasar datos no confiables** directamente a comandos\n",
    "3. **Validar entradas** antes de usarlas en comandos\n",
    "4. **Usar listas** en lugar de strings para comandos\n",
    "\n",
    "---\n",
    "\n",
    "### 📝 Para temas avanzados:\n",
    "\n",
    "Ver **`demo_05_adicional_ejecucion.ipynb`** para ejemplos de:\n",
    "- Ejecutar ejecutables específicos del sistema\n",
    "- Comandos con privilegios elevados (sudo)"
   ]
  }
 ],
 "metadata": {
  "kernelspec": {
   "display_name": "SEA_ejemplosT4",
   "language": "python",
   "name": "python3"
  },
  "language_info": {
   "codemirror_mode": {
    "name": "ipython",
    "version": 3
   },
   "file_extension": ".py",
   "mimetype": "text/x-python",
   "name": "python",
   "nbconvert_exporter": "python",
   "pygments_lexer": "ipython3",
   "version": "3.12.3"
  }
 },
 "nbformat": 4,
 "nbformat_minor": 5
}
