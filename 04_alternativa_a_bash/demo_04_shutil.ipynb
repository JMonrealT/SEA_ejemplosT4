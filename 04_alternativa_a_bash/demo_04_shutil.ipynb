{
 "cells": [
  {
   "cell_type": "markdown",
   "id": "e3b82803",
   "metadata": {},
   "source": [
    "# Módulo `shutil` - Operaciones de Alto Nivel con Archivos\n",
    "\n",
    "`shutil` (shell utilities) proporciona operaciones de alto nivel para copiar, mover y eliminar archivos y directorios.\n",
    "\n",
    "## 🎯 ¿Qué vamos a hacer en esta demo?\n",
    "\n",
    "Aprenderemos a usar `shutil` para operaciones avanzadas con archivos y directorios que no están disponibles en `os` o `pathlib`.\n",
    "\n",
    "### 📋 Operaciones que realizaremos:\n",
    "\n",
    "1. **Copiar archivos**\n",
    "   - `shutil.copy()` - Copia simple\n",
    "   - `shutil.copy2()` - Copia preservando metadatos (timestamps, permisos)\n",
    "\n",
    "2. **Copiar directorios completos**\n",
    "   - `shutil.copytree()` - Copia recursiva de todo un árbol de directorios\n",
    "\n",
    "3. **Mover y renombrar**\n",
    "   - `shutil.move()` - Mover o renombrar archivos/directorios\n",
    "\n",
    "4. **Eliminar directorios con contenido**\n",
    "   - `shutil.rmtree()` - ⚠️ Elimina todo recursivamente (¡cuidado!)\n",
    "\n",
    "5. **Compresión y descompresión**\n",
    "   - `shutil.make_archive()` - Crear archivos .zip, .tar, etc.\n",
    "   - `shutil.unpack_archive()` - Descomprimir archivos\n",
    "\n",
    "6. **Información del sistema**\n",
    "   - `shutil.disk_usage()` - Espacio en disco (total, usado, libre)\n",
    "   - `shutil.which()` - Encontrar ejecutables en el PATH\n",
    "\n",
    "7. **Operaciones avanzadas**\n",
    "   - Copiar con filtros (ignorar ciertos archivos)\n",
    "   - Calcular tamaño de directorios\n",
    "\n",
    "### 🔑 Funciones clave y sus equivalentes en Bash:\n",
    "\n",
    "| shutil | Bash | Descripción |\n",
    "|--------|------|-------------|\n",
    "| `copy(src, dst)` | `cp` | Copiar archivo |\n",
    "| `copytree(src, dst)` | `cp -r` | Copiar directorio |\n",
    "| `move(src, dst)` | `mv` | Mover/renombrar |\n",
    "| `rmtree(path)` | `rm -rf` | Eliminar todo |\n",
    "| `disk_usage(path)` | `df` | Uso del disco |\n",
    "| `which(cmd)` | `which` | Buscar comando |\n",
    "| `make_archive()` | `tar`/`zip` | Comprimir |\n",
    "\n",
    "### ⚠️ Advertencias importantes:\n",
    "\n",
    "- **`rmtree()` es destructivo** - Elimina sin confirmación\n",
    "- **Siempre verifica** antes de operaciones de eliminación\n",
    "- **Usa try/except** para manejar errores de permisos\n",
    "\n",
    "---"
   ]
  },
  {
   "cell_type": "markdown",
   "id": "17bd3b09",
   "metadata": {},
   "source": [
    "## 1. Preparación - Crear Estructura de Prueba"
   ]
  },
  {
   "cell_type": "code",
   "execution_count": 1,
   "id": "23763c52",
   "metadata": {},
   "outputs": [
    {
     "name": "stdout",
     "output_type": "stream",
     "text": [
      "✅ Estructura de prueba creada:\n",
      "  📄 archivo1.txt\n",
      "  📄 archivo2.txt\n",
      "  📄 datos.csv\n"
     ]
    }
   ],
   "source": [
    "import shutil\n",
    "from pathlib import Path\n",
    "\n",
    "# Crear estructura de prueba\n",
    "test_dir = Path('test_shutil')\n",
    "test_dir.mkdir(exist_ok=True)\n",
    "\n",
    "# Crear algunos archivos de ejemplo\n",
    "(test_dir / 'archivo1.txt').write_text('Contenido del archivo 1')\n",
    "(test_dir / 'archivo2.txt').write_text('Contenido del archivo 2')\n",
    "(test_dir / 'datos.csv').write_text('nombre,edad\\nAna,25\\nLuis,30')\n",
    "\n",
    "print(\"✅ Estructura de prueba creada:\")\n",
    "for item in sorted(test_dir.iterdir()):\n",
    "    print(f\"  📄 {item.name}\")"
   ]
  },
  {
   "cell_type": "markdown",
   "id": "0a1e6b0a",
   "metadata": {},
   "source": [
    "## 2. Copiar Archivos"
   ]
  },
  {
   "cell_type": "code",
   "execution_count": 2,
   "id": "209dc163",
   "metadata": {},
   "outputs": [
    {
     "name": "stdout",
     "output_type": "stream",
     "text": [
      "✅ Copiado con copy(): archivo1_copia.txt\n",
      "✅ Copiado con copy2(): archivo2_copia.txt (preserva metadatos)\n",
      "\n",
      "Contenido actual:\n",
      "  📄 archivo1.txt\n",
      "  📄 archivo1_copia.txt\n",
      "  📄 archivo2.txt\n",
      "  📄 archivo2_copia.txt\n",
      "  📄 datos.csv\n"
     ]
    }
   ],
   "source": [
    "# copy: Copia el archivo (no preserva todos los metadatos)\n",
    "origen = test_dir / 'archivo1.txt'\n",
    "destino = test_dir / 'archivo1_copia.txt'\n",
    "\n",
    "shutil.copy(origen, destino)\n",
    "print(f\"✅ Copiado con copy(): {destino.name}\")\n",
    "\n",
    "# copy2: Copia el archivo preservando metadatos (timestamps, permisos)\n",
    "origen2 = test_dir / 'archivo2.txt'\n",
    "destino2 = test_dir / 'archivo2_copia.txt'\n",
    "\n",
    "shutil.copy2(origen2, destino2)\n",
    "print(f\"✅ Copiado con copy2(): {destino2.name} (preserva metadatos)\")\n",
    "\n",
    "# Verificar\n",
    "print(f\"\\nContenido actual:\")\n",
    "for item in sorted(test_dir.iterdir()):\n",
    "    print(f\"  📄 {item.name}\")"
   ]
  },
  {
   "cell_type": "markdown",
   "id": "29a9278a",
   "metadata": {},
   "source": [
    "## 3. Mover y Renombrar Archivos"
   ]
  },
  {
   "cell_type": "code",
   "execution_count": 3,
   "id": "93db1826",
   "metadata": {},
   "outputs": [
    {
     "name": "stdout",
     "output_type": "stream",
     "text": [
      "✅ Movido/renombrado: archivo1_copia.txt → archivo_movido.txt\n",
      "\n",
      "¿Existe el original? False\n",
      "¿Existe el destino? True\n"
     ]
    }
   ],
   "source": [
    "# move: Mover o renombrar archivo/directorio\n",
    "origen = test_dir / 'archivo1_copia.txt'\n",
    "destino = test_dir / 'archivo_movido.txt'\n",
    "\n",
    "shutil.move(str(origen), str(destino))\n",
    "print(f\"✅ Movido/renombrado: {origen.name} → {destino.name}\")\n",
    "\n",
    "# Verificar que el original ya no existe\n",
    "print(f\"\\n¿Existe el original? {origen.exists()}\")\n",
    "print(f\"¿Existe el destino? {destino.exists()}\")"
   ]
  },
  {
   "cell_type": "markdown",
   "id": "6275a20e",
   "metadata": {},
   "source": [
    "## 4. Copiar Directorios Completos"
   ]
  },
  {
   "cell_type": "code",
   "execution_count": 4,
   "id": "5d8ca866",
   "metadata": {},
   "outputs": [
    {
     "name": "stdout",
     "output_type": "stream",
     "text": [
      "✅ Subcarpeta creada con archivos\n",
      "\n",
      "✅ Directorio copiado completo: subcarpeta_copia\n",
      "\n",
      "Contenido de subcarpeta_copia:\n",
      "  📄 archivo_sub1.txt\n",
      "  📄 archivo_sub2.txt\n"
     ]
    }
   ],
   "source": [
    "# Crear un subdirectorio con archivos\n",
    "subdir = test_dir / 'subcarpeta'\n",
    "subdir.mkdir(exist_ok=True)\n",
    "(subdir / 'archivo_sub1.txt').write_text('Archivo en subcarpeta 1')\n",
    "(subdir / 'archivo_sub2.txt').write_text('Archivo en subcarpeta 2')\n",
    "\n",
    "print(\"✅ Subcarpeta creada con archivos\")\n",
    "\n",
    "# copytree: Copiar todo un árbol de directorios\n",
    "origen_dir = test_dir / 'subcarpeta'\n",
    "destino_dir = test_dir / 'subcarpeta_copia'\n",
    "\n",
    "shutil.copytree(origen_dir, destino_dir)\n",
    "print(f\"\\n✅ Directorio copiado completo: {destino_dir.name}\")\n",
    "\n",
    "# Verificar contenido copiado\n",
    "print(f\"\\nContenido de {destino_dir.name}:\")\n",
    "for item in sorted(destino_dir.iterdir()):\n",
    "    print(f\"  📄 {item.name}\")"
   ]
  },
  {
   "cell_type": "markdown",
   "id": "29c001c8",
   "metadata": {},
   "source": [
    "## 5. Eliminar Directorios con Contenido"
   ]
  },
  {
   "cell_type": "code",
   "execution_count": 5,
   "id": "5f1c7d19",
   "metadata": {},
   "outputs": [
    {
     "name": "stdout",
     "output_type": "stream",
     "text": [
      "🗑️ Directorio eliminado: subcarpeta_copia\n",
      "¿Existe ahora? False\n"
     ]
    }
   ],
   "source": [
    "# rmtree: Eliminar directorio y todo su contenido (¡cuidado!)\n",
    "directorio_a_eliminar = test_dir / 'subcarpeta_copia'\n",
    "\n",
    "if directorio_a_eliminar.exists():\n",
    "    shutil.rmtree(directorio_a_eliminar)\n",
    "    print(f\"🗑️ Directorio eliminado: {directorio_a_eliminar.name}\")\n",
    "    print(f\"¿Existe ahora? {directorio_a_eliminar.exists()}\")"
   ]
  },
  {
   "cell_type": "markdown",
   "id": "0376d801",
   "metadata": {},
   "source": [
    "## 6. Información del Disco"
   ]
  },
  {
   "cell_type": "code",
   "execution_count": 6,
   "id": "778fb81a",
   "metadata": {},
   "outputs": [
    {
     "name": "stdout",
     "output_type": "stream",
     "text": [
      "Uso del disco (partición actual):\n",
      "  Total: 76.23 GB\n",
      "  Usado: 60.83 GB\n",
      "  Libre: 11.80 GB\n",
      "  Porcentaje usado: 79.8%\n"
     ]
    }
   ],
   "source": [
    "# disk_usage: Obtener estadísticas del disco\n",
    "uso = shutil.disk_usage('.')\n",
    "\n",
    "print(f\"Uso del disco (partición actual):\")\n",
    "print(f\"  Total: {uso.total / (1024**3):.2f} GB\")\n",
    "print(f\"  Usado: {uso.used / (1024**3):.2f} GB\")\n",
    "print(f\"  Libre: {uso.free / (1024**3):.2f} GB\")\n",
    "print(f\"  Porcentaje usado: {(uso.used / uso.total * 100):.1f}%\")"
   ]
  },
  {
   "cell_type": "markdown",
   "id": "d20090c0",
   "metadata": {},
   "source": [
    "## 7. Encontrar Ejecutables en el PATH"
   ]
  },
  {
   "cell_type": "code",
   "execution_count": 7,
   "id": "e910d609",
   "metadata": {},
   "outputs": [
    {
     "name": "stdout",
     "output_type": "stream",
     "text": [
      "Ubicación de comandos:\n",
      "  ✅ python: /home/user/miniconda3/envs/SEA_ejemplosT4/bin/python\n",
      "  ✅ python3: /home/user/miniconda3/envs/SEA_ejemplosT4/bin/python3\n",
      "  ✅ ls: /usr/bin/ls\n",
      "  ✅ git: /usr/bin/git\n",
      "  ✅ bash: /usr/bin/bash\n"
     ]
    }
   ],
   "source": [
    "# which: Encontrar la ruta completa de un comando\n",
    "comandos = ['python', 'python3', 'ls', 'git', 'bash']\n",
    "\n",
    "print(\"Ubicación de comandos:\")\n",
    "for cmd in comandos:\n",
    "    ruta = shutil.which(cmd)\n",
    "    if ruta:\n",
    "        print(f\"  ✅ {cmd}: {ruta}\")\n",
    "    else:\n",
    "        print(f\"  ❌ {cmd}: no encontrado\")"
   ]
  },
  {
   "cell_type": "markdown",
   "id": "6f9ccd72",
   "metadata": {},
   "source": [
    "## 8. Comprimir y Descomprimir Archivos"
   ]
  },
  {
   "cell_type": "code",
   "execution_count": null,
   "id": "449238cc",
   "metadata": {},
   "outputs": [
    {
     "name": "stdout",
     "output_type": "stream",
     "text": [
      "✅ Archivo comprimido creado: backup.zip\n",
      "Tamaño: 288 bytes\n"
     ]
    }
   ],
   "source": [
    "# make_archive: Crear archivo comprimido\n",
    "directorio_a_comprimir = test_dir / 'subcarpeta'\n",
    "archivo_salida = test_dir / 'backup'\n",
    "\n",
    "# Formatos disponibles: 'zip', 'tar', 'gztar', 'bztar', 'xztar'\n",
    "archivo_creado = shutil.make_archive(\n",
    "    str(archivo_salida),\n",
    "    'zip',  # Formato\n",
    "    str(directorio_a_comprimir)\n",
    ")\n",
    "\n",
    "print(f\"✅ Archivo comprimido creado: {Path(archivo_creado).name}\")\n",
    "print(f\"   Tamaño: {Path(archivo_creado).stat().st_size} bytes\")\n",
    "\n",
    "# unpack_archive: Descomprimir archivo\n",
    "archivo_zip = test_dir / 'backup.zip'\n",
    "destino_descompresion = test_dir / 'descomprimido'\n",
    "\n",
    "if archivo_zip.exists():\n",
    "    shutil.unpack_archive(archivo_zip, destino_descompresion)\n",
    "    print(f\"\\n✅ Archivo descomprimido en: {destino_descompresion.name}\")\n",
    "    \n",
    "    # Mostrar contenido\n",
    "    print(f\"\\n   Contenido descomprimido:\")\n",
    "    for item in destino_descompresion.rglob('*'):\n",
    "        if item.is_file():\n",
    "            print(f\"     📄 {item.relative_to(destino_descompresion)}\")"
   ]
  },
  {
   "cell_type": "markdown",
   "id": "81c00aed",
   "metadata": {},
   "source": [
    "## 9. Copiar con Filtros"
   ]
  },
  {
   "cell_type": "code",
   "execution_count": null,
   "id": "c4249534",
   "metadata": {},
   "outputs": [
    {
     "name": "stdout",
     "output_type": "stream",
     "text": [
      "✅ Copiado con filtro (sin archivos .txt)\n",
      "\n",
      "Contenido de copia_filtrada:\n",
      "  (vacío - todos los archivos eran .txt)\n"
     ]
    }
   ],
   "source": [
    "# Copiar directorio ignorando ciertos archivos\n",
    "def ignorar_archivos(directorio, archivos):\n",
    "    # Ignorar archivos .txt\n",
    "    return [f for f in archivos if f.endswith('.txt')]\n",
    "\n",
    "origen = test_dir / 'subcarpeta'\n",
    "destino = test_dir / 'copia_filtrada'\n",
    "\n",
    "if origen.exists():\n",
    "    if destino.exists():\n",
    "        shutil.rmtree(destino)\n",
    "    \n",
    "    shutil.copytree(origen, destino, ignore=ignorar_archivos)\n",
    "    print(f\"✅ Copiado con filtro (sin archivos .txt)\")\n",
    "    \n",
    "    print(f\"\\nContenido de {destino.name}:\")\n",
    "    archivos = list(destino.rglob('*'))\n",
    "    if len([f for f in archivos if f.is_file()]) == 0:\n",
    "        print(f\"  (vacío - todos los archivos eran .txt)\")\n",
    "    else:\n",
    "        for item in archivos:\n",
    "            if item.is_file():\n",
    "                print(f\"  📄 {item.name}\")"
   ]
  },
  {
   "cell_type": "markdown",
   "id": "f738ffcd",
   "metadata": {},
   "source": [
    "## 10. Obtener Tamaño Total de un Directorio"
   ]
  },
  {
   "cell_type": "code",
   "execution_count": 11,
   "id": "cc9b435b",
   "metadata": {},
   "outputs": [
    {
     "name": "stdout",
     "output_type": "stream",
     "text": [
      "Tamaño total de test_shutil:\n",
      "  498 bytes\n",
      "  0.49 KB\n",
      "\n",
      "Desglose por archivo:\n",
      "      23 bytes - archivo1.txt\n",
      "      23 bytes - archivo2.txt\n",
      "      23 bytes - archivo2_copia.txt\n",
      "      23 bytes - archivo_movido.txt\n",
      "     288 bytes - backup.zip\n",
      "      26 bytes - datos.csv\n",
      "      23 bytes - descomprimido/archivo_sub1.txt\n",
      "      23 bytes - descomprimido/archivo_sub2.txt\n",
      "      23 bytes - subcarpeta/archivo_sub1.txt\n",
      "      23 bytes - subcarpeta/archivo_sub2.txt\n"
     ]
    }
   ],
   "source": [
    "# Calcular tamaño total de un directorio\n",
    "def obtener_tamano_directorio(ruta):\n",
    "    \"\"\"Calcula el tamaño total de un directorio recursivamente\"\"\"\n",
    "    total = 0\n",
    "    for item in Path(ruta).rglob('*'):\n",
    "        if item.is_file():\n",
    "            total += item.stat().st_size\n",
    "    return total\n",
    "\n",
    "if test_dir.exists():\n",
    "    tamano = obtener_tamano_directorio(test_dir)\n",
    "    print(f\"Tamaño total de {test_dir.name}:\")\n",
    "    print(f\"  {tamano} bytes\")\n",
    "    print(f\"  {tamano / 1024:.2f} KB\")\n",
    "    \n",
    "    # Desglose por archivo\n",
    "    print(f\"\\nDesglose por archivo:\")\n",
    "    for item in sorted(test_dir.rglob('*')):\n",
    "        if item.is_file():\n",
    "            tam = item.stat().st_size\n",
    "            print(f\"  {tam:>6} bytes - {item.relative_to(test_dir)}\")"
   ]
  },
  {
   "cell_type": "markdown",
   "id": "ed141207",
   "metadata": {},
   "source": [
    "## 11. Limpieza - Eliminar Todo"
   ]
  },
  {
   "cell_type": "code",
   "execution_count": 12,
   "id": "1121d04c",
   "metadata": {},
   "outputs": [
    {
     "name": "stdout",
     "output_type": "stream",
     "text": [
      "🗑️ Directorio de prueba eliminado: test_shutil\n",
      "¿Existe? False\n",
      "\n",
      "✨ Limpieza completada\n"
     ]
    }
   ],
   "source": [
    "# Limpiar todo el directorio de prueba\n",
    "if test_dir.exists():\n",
    "    shutil.rmtree(test_dir)\n",
    "    print(f\"🗑️ Directorio de prueba eliminado: {test_dir}\")\n",
    "    print(f\"¿Existe? {test_dir.exists()}\")\n",
    "    print(\"\\n✨ Limpieza completada\")"
   ]
  },
  {
   "cell_type": "markdown",
   "id": "4f88fdb0",
   "metadata": {},
   "source": [
    "## 📚 Resumen de `shutil`\n",
    "\n",
    "### Funciones principales:\n",
    "\n",
    "| Función | Descripción | Equivalente Bash |\n",
    "|---------|-------------|------------------|\n",
    "| `shutil.copy(src, dst)` | Copiar archivo | `cp` |\n",
    "| `shutil.copy2(src, dst)` | Copiar con metadatos | `cp -p` |\n",
    "| `shutil.copytree(src, dst)` | Copiar directorio | `cp -r` |\n",
    "| `shutil.move(src, dst)` | Mover/renombrar | `mv` |\n",
    "| `shutil.rmtree(path)` | Eliminar directorio | `rm -rf` |\n",
    "| `shutil.disk_usage(path)` | Uso del disco | `df` |\n",
    "| `shutil.which(cmd)` | Buscar ejecutable | `which` |\n",
    "| `shutil.make_archive()` | Crear archivo comprimido | `tar`, `zip` |\n",
    "| `shutil.unpack_archive()` | Descomprimir | `unzip`, `tar -x` |\n",
    "\n",
    "### Diferencias entre copy y copy2:\n",
    "\n",
    "- **`copy()`**: Copia el archivo pero no preserva todos los metadatos\n",
    "- **`copy2()`**: Copia el archivo preservando timestamps, permisos, etc.\n",
    "\n",
    "### ⚠️ Advertencias:\n",
    "\n",
    "1. **`rmtree()` es peligroso** - Elimina todo sin confirmación\n",
    "2. **`copytree()` falla si el destino existe** - Usar `dirs_exist_ok=True` en Python 3.8+\n",
    "3. **Verificar siempre** antes de operaciones destructivas\n",
    "4. **Usar `try/except`** para manejar errores de permisos o espacio\n",
    "\n",
    "### 💡 Casos de uso comunes:\n",
    "\n",
    "- Backups de directorios\n",
    "- Limpieza de archivos temporales\n",
    "- Organización de archivos\n",
    "- Creación de archivos comprimidos\n",
    "- Scripts de instalación/desinstalación"
   ]
  }
 ],
 "metadata": {
  "kernelspec": {
   "display_name": "SEA_ejemplosT4",
   "language": "python",
   "name": "python3"
  },
  "language_info": {
   "codemirror_mode": {
    "name": "ipython",
    "version": 3
   },
   "file_extension": ".py",
   "mimetype": "text/x-python",
   "name": "python",
   "nbconvert_exporter": "python",
   "pygments_lexer": "ipython3",
   "version": "3.12.3"
  }
 },
 "nbformat": 4,
 "nbformat_minor": 5
}
