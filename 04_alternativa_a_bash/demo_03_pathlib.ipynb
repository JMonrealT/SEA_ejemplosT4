{
 "cells": [
  {
   "cell_type": "markdown",
   "id": "04a0d7b3",
   "metadata": {},
   "source": [
    "# Módulo `pathlib` - Rutas Orientadas a Objetos\n",
    "\n",
    "`pathlib` proporciona una forma moderna y elegante de trabajar con rutas de archivos y directorios usando programación orientada a objetos.\n",
    "\n",
    "## 🎯 ¿Qué vamos a hacer en esta demo?\n",
    "\n",
    "Aprenderemos a usar `pathlib`, la forma moderna de manejar rutas en Python con sintaxis orientada a objetos.\n",
    "\n",
    "### 📋 Operaciones que realizaremos:\n",
    "\n",
    "1. **Crear objetos Path**\n",
    "   - `Path.cwd()` - Directorio actual\n",
    "   - `Path.home()` - Directorio home\n",
    "   - `Path('.')` - Crear objeto de ruta\n",
    "\n",
    "2. **Construir rutas elegantemente**\n",
    "   - Operador `/` - `Path.home() / 'docs' / 'file.txt'`\n",
    "   - `.joinpath()` - Método alternativo\n",
    "\n",
    "3. **Propiedades de rutas**\n",
    "   - `.name`, `.stem`, `.suffix` - Componentes del nombre\n",
    "   - `.parent`, `.parents` - Directorios padres\n",
    "   - `.parts` - Todas las partes de la ruta\n",
    "\n",
    "4. **Verificaciones**\n",
    "   - `.exists()`, `.is_dir()`, `.is_file()` - Comprobaciones\n",
    "   - `.stat()` - Información del archivo (tamaño, etc.)\n",
    "\n",
    "5. **Listar contenido**\n",
    "   - `.iterdir()` - Lista el contenido del directorio\n",
    "   - `.glob(pattern)` - Buscar con patrón (no recursivo)\n",
    "   - `.rglob(pattern)` - Buscar recursivamente\n",
    "\n",
    "6. **Gestión de archivos/directorios**\n",
    "   - `.mkdir()` - Crear directorios\n",
    "   - `.touch()` - Crear archivos vacíos\n",
    "   - `.rename()` - Renombrar\n",
    "   - `.unlink()` - Eliminar archivos\n",
    "\n",
    "### 💡 ¿Por qué `pathlib` es mejor que `os.path`?\n",
    "\n",
    "| `os.path` (antiguo) | `pathlib` (moderno) |\n",
    "|---------------------|---------------------|\n",
    "| `os.path.join(a, b, c)` | `Path(a) / b / c` |\n",
    "| Funciones separadas | Métodos del objeto |\n",
    "| Menos intuitivo | Orientado a objetos |\n",
    "| Strings planos | Objetos `Path` |\n",
    "\n",
    "---"
   ]
  },
  {
   "cell_type": "markdown",
   "id": "d3db5fb4",
   "metadata": {},
   "source": [
    "## 1. Crear Objetos Path"
   ]
  },
  {
   "cell_type": "code",
   "execution_count": 16,
   "id": "7dbaa262",
   "metadata": {},
   "outputs": [
    {
     "name": "stdout",
     "output_type": "stream",
     "text": [
      "Ruta actual: .\n",
      "Ruta absoluta: /home/user/Escritorio/SEA_ejemplosT4/04_alternativa_a_bash\n",
      "\n",
      "Directorio home: /home/user\n",
      "Working directory: /home/user/Escritorio/SEA_ejemplosT4/04_alternativa_a_bash\n"
     ]
    }
   ],
   "source": [
    "from pathlib import Path\n",
    "\n",
    "# Directorio actual\n",
    "ruta_actual = Path('.')\n",
    "print(f\"Ruta actual: {ruta_actual}\")\n",
    "print(f\"Ruta absoluta: {ruta_actual.absolute()}\")\n",
    "\n",
    "# Directorio home\n",
    "home = Path.home()\n",
    "print(f\"\\nDirectorio home: {home}\")\n",
    "\n",
    "# Directorio de trabajo actual\n",
    "cwd = Path.cwd()\n",
    "print(f\"Working directory: {cwd}\")"
   ]
  },
  {
   "cell_type": "markdown",
   "id": "1dcaa355",
   "metadata": {},
   "source": [
    "## 2. Construir Rutas con el Operador `/`"
   ]
  },
  {
   "cell_type": "code",
   "execution_count": 17,
   "id": "4e6268b2",
   "metadata": {},
   "outputs": [
    {
     "name": "stdout",
     "output_type": "stream",
     "text": [
      "Ruta construida: /home/user/documentos/proyectos/archivo.txt\n",
      "Mismo resultado: /home/user/documentos/proyectos/archivo.txt\n",
      "\n",
      "¿Son iguales? True\n"
     ]
    }
   ],
   "source": [
    "# Construir rutas de forma elegante con /\n",
    "ruta = Path.home() / 'documentos' / 'proyectos' / 'archivo.txt'\n",
    "print(f\"Ruta construida: {ruta}\")\n",
    "\n",
    "# Es equivalente a:\n",
    "ruta2 = Path.home().joinpath('documentos', 'proyectos', 'archivo.txt')\n",
    "print(f\"Mismo resultado: {ruta2}\")\n",
    "\n",
    "print(f\"\\n¿Son iguales? {ruta == ruta2}\")"
   ]
  },
  {
   "cell_type": "markdown",
   "id": "e88b7ca2",
   "metadata": {},
   "source": [
    "## 3. Propiedades de las Rutas"
   ]
  },
  {
   "cell_type": "code",
   "execution_count": 18,
   "id": "4a7ffd2a",
   "metadata": {},
   "outputs": [
    {
     "name": "stdout",
     "output_type": "stream",
     "text": [
      "Ruta completa: /home/usuario/documentos/proyecto/archivo.txt\n",
      "\n",
      "Componentes:\n",
      "  Nombre: archivo.txt\n",
      "  Nombre sin extensión: archivo\n",
      "  Extensión: .txt\n",
      "  Directorio padre: /home/usuario/documentos/proyecto\n",
      "  Todos los padres: [PosixPath('/home/usuario/documentos/proyecto'), PosixPath('/home/usuario/documentos'), PosixPath('/home/usuario'), PosixPath('/home'), PosixPath('/')]\n",
      "  Partes: ('/', 'home', 'usuario', 'documentos', 'proyecto', 'archivo.txt')\n"
     ]
    }
   ],
   "source": [
    "# Analizar componentes de una ruta\n",
    "ruta = Path('/home/usuario/documentos/proyecto/archivo.txt')\n",
    "\n",
    "print(f\"Ruta completa: {ruta}\")\n",
    "print(f\"\\nComponentes:\")\n",
    "print(f\"  Nombre: {ruta.name}\")\n",
    "print(f\"  Nombre sin extensión: {ruta.stem}\")\n",
    "print(f\"  Extensión: {ruta.suffix}\")\n",
    "print(f\"  Directorio padre: {ruta.parent}\")\n",
    "print(f\"  Todos los padres: {list(ruta.parents)}\")\n",
    "print(f\"  Partes: {ruta.parts}\")"
   ]
  },
  {
   "cell_type": "markdown",
   "id": "8c07f859",
   "metadata": {},
   "source": [
    "## 4. Verificar Existencia y Tipo"
   ]
  },
  {
   "cell_type": "code",
   "execution_count": 19,
   "id": "b541a486",
   "metadata": {},
   "outputs": [
    {
     "name": "stdout",
     "output_type": "stream",
     "text": [
      "¿Existe?: True\n",
      "¿Es directorio?: True\n",
      "¿Es archivo?: False\n",
      "¿Es absoluta?: False\n",
      "\n",
      "✅ demo_01_modulo_os.ipynb existe\n",
      "   Es archivo: True\n",
      "   Tamaño: 10743 bytes\n"
     ]
    }
   ],
   "source": [
    "# Verificaciones\n",
    "ruta_actual = Path('.')\n",
    "\n",
    "print(f\"¿Existe?: {ruta_actual.exists()}\")\n",
    "print(f\"¿Es directorio?: {ruta_actual.is_dir()}\")\n",
    "print(f\"¿Es archivo?: {ruta_actual.is_file()}\")\n",
    "print(f\"¿Es absoluta?: {ruta_actual.is_absolute()}\")\n",
    "\n",
    "# Verificar un archivo del directorio actual\n",
    "demo_file = Path('demo_01_modulo_os.ipynb')\n",
    "if demo_file.exists():\n",
    "    print(f\"\\n✅ {demo_file.name} existe\")\n",
    "    print(f\"   Es archivo: {demo_file.is_file()}\")\n",
    "    print(f\"   Tamaño: {demo_file.stat().st_size} bytes\")"
   ]
  },
  {
   "cell_type": "markdown",
   "id": "d97b24f7",
   "metadata": {},
   "source": [
    "## 5. Listar Archivos con `glob()` y `rglob()`\n",
    "\n",
    "**`.glob(pattern)`** y **`.rglob(pattern)`** son métodos de los objetos `Path` que permiten buscar archivos usando patrones (wildcards):\n",
    "\n",
    "- `.glob('*.txt')` - Busca en el directorio actual (no recursivo)\n",
    "- `.rglob('*.txt')` - Busca recursivamente en subdirectorios (la 'r' significa \"recursive\")\n",
    "\n",
    "Son equivalentes a los comandos de shell:\n",
    "- `glob` → `ls *.txt`\n",
    "- `rglob` → `find . -name \"*.txt\"`"
   ]
  },
  {
   "cell_type": "code",
   "execution_count": 20,
   "id": "100647b8",
   "metadata": {},
   "outputs": [
    {
     "name": "stdout",
     "output_type": "stream",
     "text": [
      "Contenido del directorio actual (iterdir):\n",
      "  📄 demo_01_modulo_os.ipynb\n",
      "  📄 demo_02_subprocess.ipynb\n",
      "  📄 demo_03_pathlib.ipynb\n",
      "  📄 demo_04_shutil.ipynb\n",
      "  📄 demo_05_seguridad.ipynb\n"
     ]
    }
   ],
   "source": [
    "# Listar todo el contenido con iterdir()\n",
    "ruta = Path('.')\n",
    "print(\"Contenido del directorio actual (iterdir):\")\n",
    "for item in sorted(ruta.iterdir()):\n",
    "    if item.is_dir():\n",
    "        print(f\"  📁 {item.name}/\")\n",
    "    else:\n",
    "        print(f\"  📄 {item.name}\")"
   ]
  },
  {
   "cell_type": "code",
   "execution_count": 21,
   "id": "9bbbc13c",
   "metadata": {},
   "outputs": [
    {
     "name": "stdout",
     "output_type": "stream",
     "text": [
      "Archivos .ipynb con glob():\n",
      "  📓 demo_01_modulo_os.ipynb\n",
      "  📓 demo_02_subprocess.ipynb\n",
      "  📓 demo_03_pathlib.ipynb\n",
      "  📓 demo_04_shutil.ipynb\n",
      "  📓 demo_05_seguridad.ipynb\n",
      "\n",
      "Archivos .py con rglob() - búsqueda recursiva:\n",
      "  🐍 03_conceptos_basicos/mi_calculadora.py\n",
      "\n",
      "ℹ️ glob() y rglob() son MÉTODOS del objeto Path\n",
      "   Tipo: <class 'method'>\n"
     ]
    }
   ],
   "source": [
    "# Buscar con patrones usando glob (método de Path)\n",
    "print(\"Archivos .ipynb con glob():\")\n",
    "for archivo in sorted(Path('.').glob('*.ipynb')):\n",
    "    print(f\"  📓 {archivo.name}\")\n",
    "\n",
    "# Búsqueda recursiva con rglob (método de Path)\n",
    "print(\"\\nArchivos .py con rglob() - búsqueda recursiva:\")\n",
    "for archivo in list(Path('..').rglob('*.py'))[:10]:  # Primeros 10\n",
    "    print(f\"  🐍 {archivo.relative_to('..')}\")\n",
    "\n",
    "print(\"\\nℹ️ glob() y rglob() son MÉTODOS del objeto Path\")\n",
    "print(f\"   Tipo: {type(Path('.').glob)}\")"
   ]
  },
  {
   "cell_type": "markdown",
   "id": "35fd0316",
   "metadata": {},
   "source": [
    "## 6. Crear Directorios y Archivos"
   ]
  },
  {
   "cell_type": "code",
   "execution_count": null,
   "id": "c896f775",
   "metadata": {},
   "outputs": [
    {
     "name": "stdout",
     "output_type": "stream",
     "text": [
      "✅ Directorio creado/verificado: test_pathlib\n",
      "✅ Estructura creada: test_pathlib/nivel1/nivel2/nivel3\n"
     ]
    }
   ],
   "source": [
    "# Crear directorio simple\n",
    "nueva_carpeta = Path('test_pathlib')\n",
    "nueva_carpeta.mkdir(exist_ok=True)  # exist_ok=True: no error si ya existe\n",
    "print(f\"✅ Directorio creado/verificado: {nueva_carpeta}\")\n",
    "\n",
    "# Crear estructura de directorios anidados\n",
    "estructura = Path('test_pathlib/nivel1/nivel2/nivel3')\n",
    "estructura.mkdir(parents=True, exist_ok=True)  # parents=True: crea todos los niveles\n",
    "print(f\"✅ Estructura creada: {estructura}\")\n",
    "\n",
    "# Crear archivos de ejemplo\n",
    "archivos = [\n",
    "    Path('test_pathlib/archivo1.txt'),\n",
    "    Path('test_pathlib/nivel1/archivo2.txt'),\n",
    "    Path('test_pathlib/nivel1/nivel2/archivo3.txt')\n",
    "]\n",
    "\n",
    "for archivo in archivos:\n",
    "    archivo.touch()  # Crear archivo vacío\n",
    "    print(f\"✅ Creado: {archivo}\")\n",
    "\n",
    "# Verificar contenido creado\n",
    "print(\"\\n📂 Contenido de test_pathlib (recursivo):\")\n",
    "for item in sorted(Path('test_pathlib').rglob('*')):\n",
    "    tipo = \"📁\" if item.is_dir() else \"📄\"\n",
    "    print(f\"  {tipo} {item.relative_to('test_pathlib')}\")"
   ]
  },
  {
   "cell_type": "markdown",
   "id": "c2d34de3",
   "metadata": {},
   "source": [
    "## 7. Renombrar Archivos"
   ]
  },
  {
   "cell_type": "code",
   "execution_count": 25,
   "id": "55f3137e",
   "metadata": {},
   "outputs": [
    {
     "name": "stdout",
     "output_type": "stream",
     "text": [
      "✅ Archivo renombrado: archivo1.txt → archivo1_renombrado.txt\n",
      "\n",
      "¿Existe el original? False\n",
      "¿Existe el nuevo? True\n",
      "\n",
      "Contenido actualizado:\n",
      "  📄 archivo1_renombrado.txt\n",
      "  📄 nivel1/archivo2.txt\n",
      "  📄 nivel1/nivel2/archivo3.txt\n"
     ]
    }
   ],
   "source": [
    "# Renombrar archivo\n",
    "archivo_original = Path('test_pathlib/archivo1.txt')\n",
    "archivo_nuevo = Path('test_pathlib/archivo1_renombrado.txt')\n",
    "\n",
    "if archivo_original.exists():\n",
    "    archivo_original.rename(archivo_nuevo)\n",
    "    print(f\"✅ Archivo renombrado: {archivo_original.name} → {archivo_nuevo.name}\")\n",
    "\n",
    "# Verificar\n",
    "print(f\"\\n¿Existe el original? {archivo_original.exists()}\")\n",
    "print(f\"¿Existe el nuevo? {archivo_nuevo.exists()}\")\n",
    "\n",
    "# Mostrar contenido actualizado\n",
    "print(\"\\nContenido actualizado:\")\n",
    "for item in sorted(Path('test_pathlib').rglob('*')):\n",
    "    if item.is_file():\n",
    "        print(f\"  📄 {item.relative_to('test_pathlib')}\")"
   ]
  },
  {
   "cell_type": "markdown",
   "id": "4cb9b03b",
   "metadata": {},
   "source": [
    "## 8. Eliminar Archivos y Directorios"
   ]
  },
  {
   "cell_type": "code",
   "execution_count": null,
   "id": "c1ba9e86",
   "metadata": {},
   "outputs": [
    {
     "name": "stdout",
     "output_type": "stream",
     "text": [
      "Eliminando archivos:\n",
      "  🗑️ archivo1_renombrado.txt\n",
      "  🗑️ archivo2.txt\n",
      "  🗑️ archivo3.txt\n"
     ]
    }
   ],
   "source": [
    "import shutil\n",
    "\n",
    "# Opción 1: Eliminar archivos uno por uno\n",
    "print(\"Método 1 - Eliminar archivos individuales:\")\n",
    "for archivo in Path('test_pathlib').rglob('*.txt'):\n",
    "    if archivo.is_file():\n",
    "        archivo.unlink()  # Método para eliminar archivos\n",
    "        print(f\"  🗑️ {archivo.name}\")\n",
    "\n",
    "# Opción 2: Eliminar directorio completo con todo su contenido\n",
    "print(\"\\nMétodo 2 - Eliminar directorio completo:\")\n",
    "carpeta = Path('test_pathlib')\n",
    "if carpeta.exists():\n",
    "    shutil.rmtree(carpeta)  # Elimina recursivamente todo\n",
    "    print(f\"  🗑️ Directorio eliminado: {carpeta}\")\n",
    "\n",
    "# Verificar\n",
    "print(f\"\\n¿Existe test_pathlib? {carpeta.exists()}\")"
   ]
  },
  {
   "cell_type": "markdown",
   "id": "ae1aea84",
   "metadata": {},
   "source": [
    "## 📚 Resumen de `pathlib`\n",
    "\n",
    "### Ventajas sobre `os.path`:\n",
    "\n",
    "✅ **Orientado a objetos** - Más intuitivo y legible  \n",
    "✅ **Operador `/`** - Construcción elegante de rutas  \n",
    "✅ **Métodos integrados** - read_text(), write_text(), etc.  \n",
    "✅ **Más moderno** - Recomendado para código nuevo  \n",
    "\n",
    "### Métodos principales:\n",
    "\n",
    "| Método | Descripción |\n",
    "|--------|-------------|\n",
    "| `Path.cwd()` | Directorio actual |\n",
    "| `Path.home()` | Directorio home |\n",
    "| `.exists()` | ¿Existe? |\n",
    "| `.is_dir()` | ¿Es directorio? |\n",
    "| `.is_file()` | ¿Es archivo? |\n",
    "| `.iterdir()` | Listar contenido (no recursivo) |\n",
    "| `.glob(pattern)` | Buscar con patrón (no recursivo) |\n",
    "| `.rglob(pattern)` | Buscar recursivamente |\n",
    "| `.mkdir()` | Crear directorio |\n",
    "| `.touch()` | Crear archivo vacío |\n",
    "| `.unlink()` | Eliminar archivo |\n",
    "| `.rename(nuevo)` | Renombrar archivo |\n",
    "\n",
    "### Propiedades:\n",
    "\n",
    "- `.name` - Nombre del archivo\n",
    "- `.stem` - Nombre sin extensión\n",
    "- `.suffix` - Extensión\n",
    "- `.parent` - Directorio padre\n",
    "- `.parents` - Lista de todos los padres\n",
    "- `.parts` - Componentes de la ruta"
   ]
  }
 ],
 "metadata": {
  "kernelspec": {
   "display_name": "SEA_ejemplosT4",
   "language": "python",
   "name": "python3"
  },
  "language_info": {
   "codemirror_mode": {
    "name": "ipython",
    "version": 3
   },
   "file_extension": ".py",
   "mimetype": "text/x-python",
   "name": "python",
   "nbconvert_exporter": "python",
   "pygments_lexer": "ipython3",
   "version": "3.12.3"
  }
 },
 "nbformat": 4,
 "nbformat_minor": 5
}
