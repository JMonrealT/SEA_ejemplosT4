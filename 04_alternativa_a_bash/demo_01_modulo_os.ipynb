{
 "cells": [
  {
   "cell_type": "markdown",
   "id": "fff38a63",
   "metadata": {},
   "source": [
    "# Módulo `os` - Operaciones del Sistema Operativo\n",
    "\n",
    "El módulo `os` proporciona funciones para interactuar con el sistema operativo de forma portable.\n",
    "\n",
    "## 🎯 ¿Qué vamos a hacer en esta demo?\n",
    "\n",
    "En esta demostración aprenderemos a usar Python como alternativa a comandos de BASH para gestionar el sistema de archivos. Exploraremos:\n",
    "\n",
    "### 📋 Operaciones que realizaremos:\n",
    "\n",
    "1. **Navegación de directorios**\n",
    "   - `os.getcwd()` - Obtener directorio actual (como `pwd`)\n",
    "   - `os.chdir()` - Cambiar de directorio (como `cd`)\n",
    "\n",
    "2. **Expansión de rutas**\n",
    "   - `os.path.expanduser()` - Expandir `~` al directorio home\n",
    "\n",
    "3. **Listar contenido**\n",
    "   - `os.listdir()` - Listar archivos y carpetas (como `ls`)\n",
    "   - `os.path.isdir()`, `os.path.isfile()` - Distinguir carpetas de archivos\n",
    "\n",
    "4. **Gestión de directorios**\n",
    "   - `os.mkdir()` - Crear directorios (como `mkdir`)\n",
    "   - `os.path.exists()` - Verificar existencia (como `test -e`)\n",
    "   - `os.rmdir()` - Eliminar directorios vacíos (como `rmdir`)\n",
    "\n",
    "5. **Manipulación de rutas**\n",
    "   - `os.path.join()` - Construir rutas multiplataforma\n",
    "   - `os.path.dirname()` - Obtener directorio padre\n",
    "   - `os.path.basename()` - Obtener nombre de archivo\n",
    "   - `os.path.splitext()` - Separar nombre y extensión\n",
    "\n",
    "6. **Variables de entorno**\n",
    "   - `os.environ` - Acceder a variables como `$HOME`, `$USER`, `$PATH`\n",
    "   - `os.pathsep`, `os.sep` - Separadores del sistema\n",
    "\n",
    "7. **Información del sistema**\n",
    "   - `os.name` - Nombre del sistema operativo\n",
    "   - `os.uname()` - Información detallada del sistema (Unix/Linux)\n",
    "\n",
    "### 💡 Ventaja de usar Python sobre BASH:\n",
    "\n",
    "- ✅ **Multiplataforma**: El mismo código funciona en Linux, Windows, macOS\n",
    "- ✅ **Manejo de errores**: Excepciones más claras que códigos de retorno\n",
    "- ✅ **Manipulación de datos**: Listas, diccionarios para procesar información\n",
    "- ✅ **Legibilidad**: Código más estructurado y mantenible\n",
    "\n",
    "---"
   ]
  },
  {
   "cell_type": "markdown",
   "id": "a6cadd62",
   "metadata": {},
   "source": [
    "## 1. Directorio de Trabajo Actual"
   ]
  },
  {
   "cell_type": "code",
   "execution_count": 1,
   "id": "2af7e3d7",
   "metadata": {},
   "outputs": [
    {
     "name": "stdout",
     "output_type": "stream",
     "text": [
      "Directorio actual: /home/user/Escritorio/SEA_ejemplosT4/04_alternativa_a_bash\n",
      "\n",
      "Después de chdir al padre: /home/user/Escritorio/SEA_ejemplosT4\n",
      "De vuelta al directorio original: /home/user/Escritorio/SEA_ejemplosT4/04_alternativa_a_bash\n"
     ]
    }
   ],
   "source": [
    "import os\n",
    "\n",
    "# Obtener el directorio actual\n",
    "directorio_actual = os.getcwd()\n",
    "print(f\"Directorio actual: {directorio_actual}\")\n",
    "\n",
    "# Cambiar al directorio padre\n",
    "directorio_padre = os.path.dirname(directorio_actual)\n",
    "os.chdir(directorio_padre)\n",
    "print(f\"\\nDespués de chdir al padre: {os.getcwd()}\")\n",
    "\n",
    "# Volver al directorio original\n",
    "os.chdir(directorio_actual)\n",
    "print(f\"De vuelta al directorio original: {os.getcwd()}\")"
   ]
  },
  {
   "cell_type": "markdown",
   "id": "03d6a83d",
   "metadata": {},
   "source": [
    "## 2. Expandir Rutas con la Virgulilla `~`"
   ]
  },
  {
   "cell_type": "code",
   "execution_count": 9,
   "id": "4e6f4e16",
   "metadata": {},
   "outputs": [
    {
     "name": "stdout",
     "output_type": "stream",
     "text": [
      "Ruta con ~: ~/documentos/archivo.txt\n",
      "Ruta expandida: /home/user/documentos/archivo.txt\n",
      "\n",
      "Directorio home: /home/user\n"
     ]
    }
   ],
   "source": [
    "# expanduser: expande la virgulilla ~ al directorio home del usuario\n",
    "ruta_con_virgulilla = \"~/documentos/archivo.txt\"\n",
    "ruta_expandida = os.path.expanduser(ruta_con_virgulilla)\n",
    "\n",
    "print(f\"Ruta con ~: {ruta_con_virgulilla}\")\n",
    "print(f\"Ruta expandida: {ruta_expandida}\")\n",
    "print(f\"\\nDirectorio home: {os.path.expanduser('~')}\")"
   ]
  },
  {
   "cell_type": "markdown",
   "id": "6441aea2",
   "metadata": {},
   "source": [
    "## 3. Listar Contenido de Directorios"
   ]
  },
  {
   "cell_type": "code",
   "execution_count": 3,
   "id": "4a88d3a5",
   "metadata": {},
   "outputs": [
    {
     "name": "stdout",
     "output_type": "stream",
     "text": [
      "Contenido del directorio actual:\n",
      "  📄 demo.ipynb\n",
      "  📄 demo_01_modulo_os.ipynb\n",
      "  📄 demo_02_subprocess.ipynb\n",
      "  📄 demo_03_pathlib.ipynb\n",
      "  📄 demo_04_shutil.ipynb\n"
     ]
    }
   ],
   "source": [
    "# Listar contenido de un directorio\n",
    "contenido = os.listdir('.')\n",
    "print(\"Contenido del directorio actual:\")\n",
    "for item in sorted(contenido):\n",
    "    if os.path.isdir(item):\n",
    "        print(f\"  📁 {item}\")\n",
    "    else:\n",
    "        print(f\"  📄 {item}\")"
   ]
  },
  {
   "cell_type": "markdown",
   "id": "71bb710f",
   "metadata": {},
   "source": [
    "## 4. Crear, Verificar y Eliminar Directorios"
   ]
  },
  {
   "cell_type": "code",
   "execution_count": 4,
   "id": "da1d5cc1",
   "metadata": {},
   "outputs": [
    {
     "name": "stdout",
     "output_type": "stream",
     "text": [
      "✅ Directorio 'test_python_bash' creado\n",
      "\n",
      "Contenido de la carpeta actual:\n",
      "  📄 demo.ipynb\n",
      "  📄 demo_02_subprocess.ipynb\n",
      "  📄 demo_03_pathlib.ipynb\n",
      "  📄 demo_04_shutil.ipynb\n",
      "  📁 test_python_bash ← ¡Aquí está!\n",
      "  📄 demo_01_modulo_os.ipynb\n"
     ]
    }
   ],
   "source": [
    "# Crear un directorio\n",
    "carpeta_test = \"test_python_bash\"\n",
    "if not os.path.exists(carpeta_test):\n",
    "    os.mkdir(carpeta_test)\n",
    "    print(f\"✅ Directorio '{carpeta_test}' creado\")\n",
    "else:\n",
    "    print(f\"⚠️ El directorio '{carpeta_test}' ya existe\")\n",
    "\n",
    "# Verificar que existe listando el contenido\n",
    "print(f\"\\nContenido de la carpeta actual:\")\n",
    "for item in os.listdir('.'):\n",
    "    if item == carpeta_test:\n",
    "        print(f\"  📁 {item} ← ¡Aquí está!\")\n",
    "    elif os.path.isdir(item):\n",
    "        print(f\"  📁 {item}\")\n",
    "    else:\n",
    "        print(f\"  📄 {item}\")"
   ]
  },
  {
   "cell_type": "code",
   "execution_count": 5,
   "id": "0d6393f0",
   "metadata": {},
   "outputs": [
    {
     "name": "stdout",
     "output_type": "stream",
     "text": [
      "🗑️ Directorio 'test_python_bash' eliminado\n",
      "\n",
      "¿Existe 'test_python_bash'?: False\n"
     ]
    }
   ],
   "source": [
    "# Eliminar el directorio de prueba\n",
    "if os.path.exists(carpeta_test):\n",
    "    os.rmdir(carpeta_test)\n",
    "    print(f\"🗑️ Directorio '{carpeta_test}' eliminado\")\n",
    "\n",
    "# Verificar que ya no existe\n",
    "print(f\"\\n¿Existe '{carpeta_test}'?: {os.path.exists(carpeta_test)}\")"
   ]
  },
  {
   "cell_type": "markdown",
   "id": "1c13c938",
   "metadata": {},
   "source": [
    "## 5. Manipulación de Rutas con `os.path`"
   ]
  },
  {
   "cell_type": "code",
   "execution_count": 6,
   "id": "3ddb2946",
   "metadata": {},
   "outputs": [
    {
     "name": "stdout",
     "output_type": "stream",
     "text": [
      "Ruta construida: carpeta/subcarpeta/archivo.txt\n",
      "\n",
      "Ruta completa: /home/usuario/documentos/archivo.txt\n",
      "Directorio: /home/usuario/documentos\n",
      "Nombre del archivo: archivo.txt\n",
      "Extensión: .txt\n",
      "Sin extensión: /home/usuario/documentos/archivo\n"
     ]
    }
   ],
   "source": [
    "# Unir rutas de forma portable\n",
    "ruta = os.path.join('carpeta', 'subcarpeta', 'archivo.txt')\n",
    "print(f\"Ruta construida: {ruta}\")\n",
    "\n",
    "# Obtener información de rutas\n",
    "ruta_ejemplo = \"/home/usuario/documentos/archivo.txt\"\n",
    "print(f\"\\nRuta completa: {ruta_ejemplo}\")\n",
    "print(f\"Directorio: {os.path.dirname(ruta_ejemplo)}\")\n",
    "print(f\"Nombre del archivo: {os.path.basename(ruta_ejemplo)}\")\n",
    "print(f\"Extensión: {os.path.splitext(ruta_ejemplo)[1]}\")\n",
    "print(f\"Sin extensión: {os.path.splitext(ruta_ejemplo)[0]}\")"
   ]
  },
  {
   "cell_type": "markdown",
   "id": "c984558c",
   "metadata": {},
   "source": [
    "## 6. Variables de Entorno"
   ]
  },
  {
   "cell_type": "code",
   "execution_count": 7,
   "id": "47f18083",
   "metadata": {},
   "outputs": [
    {
     "name": "stdout",
     "output_type": "stream",
     "text": [
      "Algunas variables de entorno:\n",
      "  HOME: /home/user\n",
      "  USER: user\n",
      "  SHELL: /bin/bash\n",
      "\n",
      "  PATH: /home/user/miniconda3/envs/SEA_ejemplosT4/bin:/home/user/miniconda3/condabin:/usr/local/sbin:/usr/lo...\n",
      "\n",
      "Separador de PATH: ':'\n",
      "Separador de directorios: '/'\n"
     ]
    }
   ],
   "source": [
    "# Acceder a variables de entorno\n",
    "print(\"Algunas variables de entorno:\")\n",
    "print(f\"  HOME: {os.environ.get('HOME', 'No definida')}\")\n",
    "print(f\"  USER: {os.environ.get('USER', 'No definida')}\")\n",
    "print(f\"  SHELL: {os.environ.get('SHELL', 'No definida')}\")\n",
    "\n",
    "# PATH (primeros caracteres)\n",
    "path = os.environ.get('PATH', '')\n",
    "print(f\"\\n  PATH: {path[:100]}...\")\n",
    "\n",
    "# Separador de PATH según el sistema operativo\n",
    "print(f\"\\nSeparador de PATH: '{os.pathsep}'\")\n",
    "print(f\"Separador de directorios: '{os.sep}'\")"
   ]
  },
  {
   "cell_type": "markdown",
   "id": "5e2b5021",
   "metadata": {},
   "source": [
    "## 7. Información del Sistema"
   ]
  },
  {
   "cell_type": "code",
   "execution_count": 8,
   "id": "e94992ef",
   "metadata": {},
   "outputs": [
    {
     "name": "stdout",
     "output_type": "stream",
     "text": [
      "Sistema operativo: posix\n",
      "\n",
      "Información del sistema:\n",
      "  Sistema: Linux\n",
      "  Nodo: VMLinuxMint22\n",
      "  Release: 6.8.0-85-generic\n",
      "  Versión: #85-Ubuntu SMP PREEMPT_DYNAMIC Thu Sep 18 15:26:59 UTC 2025\n",
      "  Máquina: x86_64\n"
     ]
    }
   ],
   "source": [
    "# Nombre del sistema operativo\n",
    "print(f\"Sistema operativo: {os.name}\")\n",
    "\n",
    "# Información más detallada (Unix/Linux)\n",
    "if hasattr(os, 'uname'):\n",
    "    info = os.uname()\n",
    "    print(f\"\\nInformación del sistema:\")\n",
    "    print(f\"  Sistema: {info.sysname}\")\n",
    "    print(f\"  Nodo: {info.nodename}\")\n",
    "    print(f\"  Release: {info.release}\")\n",
    "    print(f\"  Versión: {info.version}\")\n",
    "    print(f\"  Máquina: {info.machine}\")\n",
    "else:\n",
    "    print(\"\\nInformación extendida no disponible en este sistema\")"
   ]
  },
  {
   "cell_type": "markdown",
   "id": "e5ede031",
   "metadata": {},
   "source": [
    "## 📚 Resumen de Funciones del Módulo `os`\n",
    "\n",
    "| Función | Descripción | Equivalente Bash |\n",
    "|---------|-------------|------------------|\n",
    "| `os.getcwd()` | Obtener directorio actual | `pwd` |\n",
    "| `os.chdir(ruta)` | Cambiar directorio | `cd` |\n",
    "| `os.listdir(ruta)` | Listar contenido | `ls` |\n",
    "| `os.mkdir(ruta)` | Crear directorio | `mkdir` |\n",
    "| `os.rmdir(ruta)` | Eliminar directorio vacío | `rmdir` |\n",
    "| `os.remove(archivo)` | Eliminar archivo | `rm` |\n",
    "| `os.path.exists(ruta)` | Verificar existencia | `test -e` |\n",
    "| `os.path.isdir(ruta)` | ¿Es directorio? | `test -d` |\n",
    "| `os.path.isfile(ruta)` | ¿Es archivo? | `test -f` |\n",
    "| `os.path.join(...)` | Unir rutas | N/A |\n",
    "| `os.path.expanduser('~')` | Expandir ~ | `~` en shell |\n",
    "| `os.environ` | Variables de entorno | `$VAR` |"
   ]
  }
 ],
 "metadata": {
  "kernelspec": {
   "display_name": "SEA_ejemplosT4",
   "language": "python",
   "name": "python3"
  },
  "language_info": {
   "codemirror_mode": {
    "name": "ipython",
    "version": 3
   },
   "file_extension": ".py",
   "mimetype": "text/x-python",
   "name": "python",
   "nbconvert_exporter": "python",
   "pygments_lexer": "ipython3",
   "version": "3.12.3"
  }
 },
 "nbformat": 4,
 "nbformat_minor": 5
}
