{
 "cells": [
  {
   "cell_type": "markdown",
   "id": "m1",
   "metadata": {},
   "source": [
    "# ## 16. Varios: *args, **kwargs, Unpacking, ctypes y Qt5\n",
    "\n",
    "Técnicas avanzadas: argumentos variables, desempaquetamiento, y librerías especializadas.\n",
    "\n",
    "## 🎯 Contenido Clave\n",
    "\n",
    "- ✅ `*args`: Argumentos posicionales variables\n",
    "- ✅ `**kwargs`: Argumentos con nombre variables  \n",
    "- ✅ **Unpacking:** Desempaquetar listas y diccionarios con `*` y `**`\n",
    "- ✅ **ctypes:** Llamar a librerías compiladas (DLL, SO)\n",
    "- ✅ **PyQt5:** Crear interfaces gráficas (GUI)"
   ]
  },
  {
   "cell_type": "markdown",
   "id": "m2",
   "metadata": {},
   "source": [
    "## 1️⃣ *args - Argumentos Posicionales Variables"
   ]
  },
  {
   "cell_type": "code",
   "execution_count": 105,
   "id": "c1",
   "metadata": {},
   "outputs": [
    {
     "name": "stdout",
     "output_type": "stream",
     "text": [
      "=== *args Ejemplo ===\n",
      "sumar(1, 2) = 3\n",
      "sumar(1, 2, 3, 4, 5) = 15\n",
      "sumar(10) = 10\n",
      "\n",
      "Perfil de: Ana\n",
      "  - lectura\n",
      "  - programación\n",
      "  - senderismo\n"
     ]
    }
   ],
   "source": [
    "def sumar(*args):\n",
    "    \"\"\"Suma todos los argumentos recibidos\"\"\"\n",
    "    return sum(args)\n",
    "\n",
    "print(\"=== *args Ejemplo ===\")\n",
    "print(f\"sumar(1, 2) = {sumar(1, 2)}\")\n",
    "print(f\"sumar(1, 2, 3, 4, 5) = {sumar(1, 2, 3, 4, 5)}\")\n",
    "print(f\"sumar(10) = {sumar(10)}\")\n",
    "\n",
    "def crear_perfil(nombre, *hobbies):\n",
    "    \"\"\"Crea perfil con hobbies variables\"\"\"\n",
    "    print(f\"\\nPerfil de: {nombre}\")\n",
    "    for hobby in hobbies:\n",
    "        print(f\"  - {hobby}\")\n",
    "\n",
    "crear_perfil(\"Ana\", \"lectura\", \"programación\", \"senderismo\")"
   ]
  },
  {
   "cell_type": "markdown",
   "id": "m3",
   "metadata": {},
   "source": [
    "## 2️⃣ **kwargs - Argumentos Nombrados Variables"
   ]
  },
  {
   "cell_type": "code",
   "execution_count": 106,
   "id": "c2",
   "metadata": {},
   "outputs": [
    {
     "name": "stdout",
     "output_type": "stream",
     "text": [
      "=== **kwargs Ejemplo ===\n",
      "Usuario 1: {'nombre': 'Ana', 'email': 'ana@ejemplo.com', 'edad': 25, 'ciudad': 'Madrid'}\n",
      "Usuario 2: {'nombre': 'Juan', 'telefono': '123456789', 'activo': True}\n"
     ]
    }
   ],
   "source": [
    "def crear_usuario(nombre, **opciones):\n",
    "    \"\"\"Crea usuario con opciones dinámicas\"\"\"\n",
    "    usuario = {'nombre': nombre}\n",
    "    usuario.update(opciones)  # Combina diccionarios\n",
    "    return usuario\n",
    "\n",
    "print(\"=== **kwargs Ejemplo ===\")\n",
    "usuario1 = crear_usuario(\"Ana\", email=\"ana@ejemplo.com\", edad=25, ciudad=\"Madrid\")\n",
    "print(f\"Usuario 1: {usuario1}\")\n",
    "\n",
    "usuario2 = crear_usuario(\"Juan\", telefono=\"123456789\", activo=True)\n",
    "print(f\"Usuario 2: {usuario2}\")"
   ]
  },
  {
   "cell_type": "markdown",
   "id": "m4",
   "metadata": {},
   "source": [
    "## 3️⃣ Unpacking con * y **"
   ]
  },
  {
   "cell_type": "code",
   "execution_count": 107,
   "id": "c3",
   "metadata": {},
   "outputs": [
    {
     "name": "stdout",
     "output_type": "stream",
     "text": [
      "=== Unpacking con * ===\n",
      "numeros = [1, 2, 3, 4, 5]\n",
      "primero, *resto = numeros\n",
      "primero = 1\n",
      "resto = [2, 3, 4, 5]\n",
      "\n",
      "Combinar listas: [1, 2, 3, 4, 5, 6]\n"
     ]
    }
   ],
   "source": [
    "# La imagen adjunta muestra esto:\n",
    "numeros = [1, 2, 3, 4, 5]\n",
    "primero, *resto = numeros\n",
    "\n",
    "print(\"=== Unpacking con * ===\")\n",
    "print(f\"numeros = {numeros}\")\n",
    "print(f\"primero, *resto = numeros\")\n",
    "print(f\"primero = {primero}\")\n",
    "print(f\"resto = {resto}\")\n",
    "\n",
    "# Combinar listas\n",
    "lista1 = [1, 2, 3]\n",
    "lista2 = [4, 5, 6]\n",
    "combinada = [*lista1, *lista2]\n",
    "print(f\"\\nCombinar listas: {combinada}\")"
   ]
  },
  {
   "cell_type": "code",
   "execution_count": null,
   "id": "c4",
   "metadata": {},
   "outputs": [
    {
     "name": "stdout",
     "output_type": "stream",
     "text": [
      "=== Unpacking con ** ===\n",
      "usuario1 = {'nombre': 'Juan', 'rol': 'admin'}\n",
      "usuario2 = {'edad': 30, 'ciudad': 'Madrid'}\n",
      "combinado = {'nombre': 'Juan', 'rol': 'admin', 'edad': 30, 'ciudad': 'Madrid'}\n",
      "\n",
      "presentar(**datos) = Ana (25 años)\n",
      "\n",
      "presentar(**datos) = Ana (25 años)\n"
     ]
    }
   ],
   "source": [
    "# Unpacking de diccionarios\n",
    "usuario1 = {\"nombre\": \"Juan\", \"rol\": \"admin\"}\n",
    "usuario2 = {\"edad\": 30, \"ciudad\": \"Madrid\"}\n",
    "usuario_completo = {**usuario1, **usuario2}\n",
    "\n",
    "print(\"=== Unpacking con ** ===\")\n",
    "print(f\"usuario1 = {usuario1}\")\n",
    "print(f\"usuario2 = {usuario2}\")\n",
    "print(f\"combinado = {usuario_completo}\")\n",
    "\n",
    "# Pasar como argumentos\n",
    "def presentar(nombre, edad):\n",
    "    return f\"{nombre} ({edad} años)\"\n",
    "\n",
    "datos = {\"nombre\": \"Ana\", \"edad\": 25}\n",
    "print(f\"\\npresentar(**datos) = {presentar(**datos)}\")\n",
    "print(f\"\\npresentar(**datos) = {presentar(edad=datos['edad'], nombre=datos['nombre'])}\")"
   ]
  },
  {
   "cell_type": "markdown",
   "id": "m5",
   "metadata": {},
   "source": [
    "## 4️⃣ ctypes - Importar DLLs"
   ]
  },
  {
   "cell_type": "code",
   "execution_count": null,
   "id": "c5",
   "metadata": {},
   "outputs": [
    {
     "name": "stdout",
     "output_type": "stream",
     "text": [
      "=== Cargando librerías compiladas ===\n",
      "Sistema: Linux\n",
      "✅ Librería libc cargada\n"
     ]
    }
   ],
   "source": [
    "import ctypes\n",
    "import platform\n",
    "\n",
    "print(\"=== Cargando librerías compiladas ===\")\n",
    "print(f\"Sistema: {platform.system()}\")\n",
    "\n",
    "# Cargar librerías según el SO\n",
    "if platform.system() == \"Windows\":\n",
    "    try:\n",
    "        libc = ctypes.CDLL(\"msvcrt\")  # Microsoft Visual C Runtime\n",
    "        print(\"✅ Librería MSVCRT cargada\")\n",
    "        \n",
    "        # Usar función abs\n",
    "        abs_func = libc.abs\n",
    "        abs_func.argtypes = [ctypes.c_int]\n",
    "        abs_func.restype = ctypes.c_int\n",
    "        resultado = abs_func(-42)\n",
    "        print(f\"abs(-42) = {resultado}\")\n",
    "    except Exception as e:\n",
    "        print(f\"❌ Error: {e}\")\n",
    "elif platform.system() == \"Linux\":\n",
    "    try:\n",
    "        libc = ctypes.CDLL(\"libc.so.6\")\n",
    "        print(\"✅ Librería libc cargada\")\n",
    "    except:\n",
    "        print(\"❌ Error al cargar libc\")\n",
    "else:\n",
    "    try:\n",
    "        libc = ctypes.CDLL(\"libc.dylib\")\n",
    "        print(\"✅ Librería libc.dylib cargada (macOS)\")\n",
    "    except:\n",
    "        print(\"❌ Error\")"
   ]
  },
  {
   "cell_type": "code",
   "execution_count": null,
   "id": "c6",
   "metadata": {},
   "outputs": [
    {
     "name": "stdout",
     "output_type": "stream",
     "text": [
      "=== Tipos de Datos en ctypes ===\n",
      "c_int(42) = 42\n",
      "c_double(3.14) = 3.14\n",
      "c_char_p(b'Hola') = b'Hola'\n",
      "c_bool(True) = True\n",
      "Array (c_int * 3): [1, 2, 3]\n"
     ]
    }
   ],
   "source": [
    "# Tipos de datos en ctypes\n",
    "print(\"=== Tipos de Datos en ctypes ===\")\n",
    "print(f\"c_int(42) = {ctypes.c_int(42).value}\")\n",
    "print(f\"c_double(3.14) = {ctypes.c_double(3.14).value}\")\n",
    "print(f\"c_char_p(b'Hola') = {ctypes.c_char_p(b'Hola').value}\")\n",
    "print(f\"c_bool(True) = {ctypes.c_bool(True).value}\")\n",
    "\n",
    "# Array en C\n",
    "array_c = (ctypes.c_int * 3)(1, 2, 3)\n",
    "print(f\"Array (c_int * 3): {list(array_c)}\")"
   ]
  },
  {
   "cell_type": "markdown",
   "id": "m6",
   "metadata": {},
   "source": [
    "## 5️⃣ PyQt5 - Interfaces Gráficas"
   ]
  },
  {
   "cell_type": "code",
   "execution_count": null,
   "id": "c7",
   "metadata": {},
   "outputs": [
    {
     "name": "stdout",
     "output_type": "stream",
     "text": [
      "=== PyQt5 ===\n",
      "✅ PyQt5 está instalado\n"
     ]
    }
   ],
   "source": [
    "print(\"=== PyQt5 ===\")\n",
    "try:\n",
    "    from PyQt5.QtWidgets import QApplication, QMainWindow, QPushButton, QLabel, QVBoxLayout, QWidget\n",
    "    print(\"✅ PyQt5 está instalado\")\n",
    "except ImportError:\n",
    "    print(\"❌ PyQt5 no está instalado\")\n",
    "    print(\"   Instala con: pip install PyQt5\")"
   ]
  },
  {
   "cell_type": "code",
   "execution_count": null,
   "id": "c8",
   "metadata": {},
   "outputs": [
    {
     "name": "stdout",
     "output_type": "stream",
     "text": [
      "=== Ejecutando QtExample.py ===\n",
      "✅ Iniciando aplicación PyQt5...\n",
      "STDOUT: Botón Botón 6,3 ha sido pulsado\n",
      "Botón Botón 6,2 ha sido pulsado\n",
      "Botón Botón 5,3 ha sido pulsado\n",
      "\n",
      "STDERR: qt.glx: qglx_findConfig: Failed to finding matching FBConfig for QSurfaceFormat(version 2.0, options QFlags<QSurfaceFormat::FormatOption>(), depthBufferSize -1, redBufferSize 1, greenBufferSize 1, blueBufferSize 1, alphaBufferSize -1, stencilBufferSize -1, samples -1, swapBehavior QSurfaceFormat::SingleBuffer, swapInterval 1, colorSpace QSurfaceFormat::DefaultColorSpace, profile  QSurfaceFormat::NoProfile)\n",
      "\n",
      "✅ Ejecución completada\n"
     ]
    }
   ],
   "source": [
    "import subprocess\n",
    "import os\n",
    "\n",
    "print(\"=== Ejecutando QtExample.py ===\")\n",
    "os.chdir(\"/home/user/Escritorio/SEA_ejemplosT4/16_varios\")\n",
    "\n",
    "try:\n",
    "    print(\"✅ Iniciando aplicación PyQt5...\")\n",
    "    resultado = subprocess.run(\n",
    "        [\"python\", \"QtExample.py\"],\n",
    "        capture_output=True,\n",
    "        text=True\n",
    "    )\n",
    "    if resultado.stdout:\n",
    "        print(\"STDOUT:\", resultado.stdout)\n",
    "    if resultado.stderr:\n",
    "        print(\"STDERR:\", resultado.stderr)\n",
    "    print(\"✅ Ejecución completada\")\n",
    "except subprocess.TimeoutExpired:\n",
    "    print(\"✅ Aplicación ejecutada (interfaz gráfica activa)\")\n",
    "except FileNotFoundError:\n",
    "    print(\"❌ Archivo QtExample.py no encontrado\")\n",
    "except Exception as e:\n",
    "    print(f\"❌ Error: {e}\")"
   ]
  }
 ],
 "metadata": {
  "kernelspec": {
   "display_name": "SEA_ejemplosT4",
   "language": "python",
   "name": "python3"
  },
  "language_info": {
   "codemirror_mode": {
    "name": "ipython",
    "version": 3
   },
   "file_extension": ".py",
   "mimetype": "text/x-python",
   "name": "python",
   "nbconvert_exporter": "python",
   "pygments_lexer": "ipython3",
   "version": "3.12.3"
  }
 },
 "nbformat": 4,
 "nbformat_minor": 4
}
