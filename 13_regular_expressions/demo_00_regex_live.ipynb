{
 "cells": [
  {
   "cell_type": "markdown",
   "metadata": {},
   "source": [
    "# ## 13. Regular Expressions\n",
    "\n",
    "Patrones para buscar, validar y manipular texto con flexibilidad"
   ]
  },
  {
   "cell_type": "markdown",
   "metadata": {},
   "source": [
    "## Resumen - ¿Por qué Expresiones Regulares?\n",
    "\n",
    "### Conceptos Clave\n",
    "- **Búsqueda flexible:** Encontrar patrones complejos en texto\n",
    "- **Validación:** Verificar que un texto cumple cierto formato\n",
    "- **Extracción:** Capturar partes específicas del texto\n",
    "- **Sustitución:** Reemplazar texto que coincida con patrones\n",
    "- **Raw strings:** Usar prefijo `r\"...\"` para evitar conflictos con escapes"
   ]
  },
  {
   "cell_type": "markdown",
   "metadata": {},
   "source": [
    "## 1️⃣ Introducción - Raw Strings\n",
    "\n",
    "Las **raw strings** (prefijo `r`) tratan caracteres de escape literalmente. Sin ellas, `\\d` se interpretaría como una cadena normal."
   ]
  },
  {
   "cell_type": "code",
   "execution_count": 7,
   "metadata": {},
   "outputs": [
    {
     "name": "stdout",
     "output_type": "stream",
     "text": [
      "Patrón: \\d{3}\n",
      "\n",
      "✓ Encontrado número en: 'Tengo 25 años'\n",
      "✓ Email válido: usuario@ejemplo.com\n"
     ]
    }
   ],
   "source": [
    "import re\n",
    "\n",
    "# Raw string: la barra invertida es literal\n",
    "patron = r\"\\d{3}\"  # Busca 3 dígitos\n",
    "print(f\"Patrón: {patron}\\n\")\n",
    "\n",
    "# Búsqueda básica\n",
    "texto = \"Tengo 25 años\"\n",
    "if re.search(r\"\\d+\", texto):\n",
    "    print(f\"✅ Encontrado número en: '{texto}'\")\n",
    "\n",
    "# Email simple\n",
    "email = \"usuario@ejemplo.com\"\n",
    "if re.search(r\"@\", email):\n",
    "    print(f\"✅ Email válido: {email}\")"
   ]
  },
  {
   "cell_type": "markdown",
   "metadata": {},
   "source": [
    "## 2️⃣ Elementos de Expresiones Regulares\n",
    "\n",
    "### Literales\n",
    "Coinciden exactamente: `hola`, `test`, `.com`\n",
    "\n",
    "### Metacaracteres\n",
    "- `.` - Cualquier carácter excepto salto de línea\n",
    "- `\\d` - Dígito (0-9)\n",
    "- `\\w` - Alfanumérico (letras, dígitos, _)\n",
    "- `\\s` - Espacio en blanco\n",
    "- `\\D`, `\\W`, `\\S` - Negaciones\n",
    "\n",
    "### Clases\n",
    "- `[aeiou]` - Cualquier vocal\n",
    "- `[a-z]` - Letras minúsculas\n",
    "- `[0-9]` - Dígitos\n",
    "- `[^abc]` - Cualquier carácter excepto a, b, c\n",
    "\n",
    "### Cuantificadores\n",
    "- `*` - Cero o más\n",
    "- `+` - Una o más\n",
    "- `?` - Cero o una\n",
    "- `{n}` - Exactamente n\n",
    "- `{n,m}` - Entre n y m\n",
    "\n",
    "### Anclajes\n",
    "- `^` - Inicio de cadena\n",
    "- `$` - Fin de cadena\n",
    "- `\\b` - Límite de palabra\n",
    "\n",
    "### Grupos y Captura\n",
    "- `(abc)` - Grupo capturador\n",
    "- `(?:abc)` - Grupo NO capturador\n",
    "\n",
    "### Alternancia\n",
    "- `a|b` - Coincide con a O b"
   ]
  },
  {
   "cell_type": "markdown",
   "metadata": {},
   "source": [
    "## 3️⃣ Modificadores (Flags)\n",
    "\n",
    "Cambian cómo se interpreta el patrón"
   ]
  },
  {
   "cell_type": "code",
   "execution_count": 8,
   "metadata": {},
   "outputs": [
    {
     "name": "stdout",
     "output_type": "stream",
     "text": [
      "Sin (?i): 1 coincidencias\n",
      "Con (?i): 3 coincidencias\n",
      "\n",
      "Modificadores comunes:\n",
      "  (?i) = Case-insensitive\n",
      "  (?m) = Multiline (^ y $ por línea)\n",
      "  (?s) = Dot matches newline\n",
      "  (?:...) = Grupo no capturador\n",
      "  (?!...) = Negative lookahead\n"
     ]
    }
   ],
   "source": [
    "import re\n",
    "\n",
    "texto = \"Python PYTHON python\"\n",
    "\n",
    "# Sin modificador: case-sensitive\n",
    "resultados_sin = re.findall(r\"python\", texto)\n",
    "print(f\"Sin (?i): {len(resultados_sin)} coincidencias\")\n",
    "\n",
    "# Con (?i): case-insensitive\n",
    "resultados_con = re.findall(r\"(?i)python\", texto)\n",
    "print(f\"Con (?i): {len(resultados_con)} coincidencias\\n\")\n",
    "\n",
    "# Otros modificadores\n",
    "print(\"Modificadores comunes:\")\n",
    "print(\"  (?i) = Case-insensitive\")\n",
    "print(\"  (?m) = Multiline (^ y $ por línea)\")\n",
    "print(\"  (?s) = Dot matches newline\")\n",
    "print(\"  (?:...) = Grupo no capturador\")\n",
    "print(\"  (?!...) = Negative lookahead\")"
   ]
  },
  {
   "cell_type": "markdown",
   "metadata": {},
   "source": [
    "## 4️⃣ Tablas de Referencia\n",
    "\n",
    "### Símbolos Principales\n",
    "\n",
    "| Símbolo | Significado |\n",
    "|---------|-------------|\n",
    "| `.` | Cualquier carácter |\n",
    "| `^` | Inicio de cadena |\n",
    "| `$` | Fin de cadena |\n",
    "| `\\d` | Dígito |\n",
    "| `\\D` | No dígito |\n",
    "| `\\w` | Alfanumérico |\n",
    "| `\\W` | No alfanumérico |\n",
    "| `\\s` | Espacio en blanco |\n",
    "| `\\S` | No espacio |\n",
    "| `\\|` | Alternancia (OR) |\n",
    "| `()` | Grupo capturador |\n",
    "| `(?:)` | Grupo NO capturador |\n",
    "| `[]` | Clase de caracteres |\n",
    "\n",
    "### Cuantificadores\n",
    "\n",
    "| Símbolo | Significado |\n",
    "|---------|-------------|\n",
    "| `*` | Cero o más |\n",
    "| `+` | Una o más |\n",
    "| `?` | Cero o una |\n",
    "| `{n}` | Exactamente n |\n",
    "| `{n,}` | Al menos n |\n",
    "| `{n,m}` | Entre n y m |"
   ]
  },
  {
   "cell_type": "markdown",
   "metadata": {},
   "source": [
    "## 5️⃣ Ejemplos Prácticos\n",
    "\n",
    "### 1️⃣ Validar Email\n",
    "\n",
    "**Patrón:** `^[a-zA-Z0-9._%+-]+@[a-zA-Z0-9.-]+\\.[a-zA-Z]{2,}$`\n",
    "\n",
    "**Desglose del patrón:**\n",
    "- `^` - Inicio de la cadena\n",
    "- `[a-zA-Z0-9._%+-]+` - Una o más letras, números o caracteres especiales (antes de @)\n",
    "- `@` - Símbolo @ literal\n",
    "- `[a-zA-Z0-9.-]+` - Dominio (letras, números, puntos o guiones)\n",
    "- `\\.` - Punto literal (escapado)\n",
    "- `[a-zA-Z]{2,}` - Al menos 2 letras para el TLD (.com, .es, etc.)\n",
    "- `$` - Fin de la cadena"
   ]
  },
  {
   "cell_type": "code",
   "execution_count": 9,
   "metadata": {},
   "outputs": [
    {
     "name": "stdout",
     "output_type": "stream",
     "text": [
      "Validación de emails:\n",
      "\n",
      "  ✓ usuario@ejemplo.com\n",
      "  ✓ juan@mail.co\n",
      "  ✗ invalido@\n",
      "  ✗ sin@dominio\n"
     ]
    }
   ],
   "source": [
    "import re\n",
    "\n",
    "patron = r\"^[a-zA-Z0-9._%+-]+@[a-zA-Z0-9.-]+\\.[a-zA-Z]{2,}$\"\n",
    "\n",
    "def validar_email(email):\n",
    "    return bool(re.match(patron, email))\n",
    "\n",
    "# Probar con diferentes emails\n",
    "pruebas = [\"usuario@ejemplo.com\", \"juan@mail.co\", \"invalido@\", \"sin@dominio\"]\n",
    "\n",
    "print(\"Validación de emails:\\n\")\n",
    "for email in pruebas:\n",
    "    resultado = \"✅\" if validar_email(email) else \"❌\"\n",
    "    print(f\"  {resultado} {email}\")"
   ]
  },
  {
   "cell_type": "markdown",
   "metadata": {},
   "source": [
    "### 2️⃣ Extraer Fecha (DD/MM/YYYY)\n",
    "\n",
    "**Patrón:** `(\\d{2})/(\\d{2})/(\\d{4})`\n",
    "\n",
    "**Desglose del patrón:**\n",
    "- `(\\d{2})` - Grupo 1: exactamente 2 dígitos para el día\n",
    "- `/` - Barra literal\n",
    "- `(\\d{2})` - Grupo 2: exactamente 2 dígitos para el mes\n",
    "- `/` - Barra literal\n",
    "- `(\\d{4})` - Grupo 3: exactamente 4 dígitos para el año\n",
    "\n",
    "**Uso de grupos:** Los paréntesis `()` capturan partes del patrón. Con `.groups()` obtenemos una tupla con cada grupo."
   ]
  },
  {
   "cell_type": "code",
   "execution_count": 10,
   "metadata": {},
   "outputs": [
    {
     "name": "stdout",
     "output_type": "stream",
     "text": [
      "Extracción de fechas:\n",
      "\n",
      "  ✓ La reunión es el 25/12/2023\n",
      "    → {'dia': 25, 'mes': 12, 'año': 2023}\n",
      "\n",
      "  ✓ Fecha: 01/01/2024\n",
      "    → {'dia': 1, 'mes': 1, 'año': 2024}\n",
      "\n",
      "  ✗ Sin fecha aquí (no encontrada)\n",
      "\n"
     ]
    }
   ],
   "source": [
    "import re\n",
    "\n",
    "patron = r\"(\\d{2})/(\\d{2})/(\\d{4})\"\n",
    "\n",
    "def extraer_fecha(texto):\n",
    "    m = re.search(patron, texto)\n",
    "    if m:\n",
    "        dia, mes, año = m.groups()\n",
    "        return {\"dia\": int(dia), \"mes\": int(mes), \"año\": int(año)}\n",
    "    return None\n",
    "\n",
    "# Ejemplos de extracción\n",
    "textos = [\n",
    "    \"La reunión es el 25/12/2023\",\n",
    "    \"Fecha: 01/01/2024\",\n",
    "    \"Sin fecha aquí\"\n",
    "]\n",
    "\n",
    "print(\"Extracción de fechas:\\n\")\n",
    "for texto in textos:\n",
    "    resultado = extraer_fecha(texto)\n",
    "    if resultado:\n",
    "        print(f\"  ✅ {texto}\")\n",
    "        print(f\"    → {resultado}\\n\")\n",
    "    else:\n",
    "        print(f\"  ❌ {texto} (no encontrada)\\n\")"
   ]
  },
  {
   "cell_type": "markdown",
   "metadata": {},
   "source": [
    "### 3️⃣ Extraer URLs\n",
    "\n",
    "**Patrón:** `https?://\\S+`\n",
    "\n",
    "**Desglose del patrón:**\n",
    "- `https?` - \"http\" seguido de \"s\" opcional (http o https)\n",
    "- `://` - Literal: ://\n",
    "- `\\S+` - Una o más caracteres que no sean espacios\n",
    "\n",
    "Este patrón es simple pero funcional para la mayoría de URLs comunes."
   ]
  },
  {
   "cell_type": "code",
   "execution_count": 11,
   "metadata": {},
   "outputs": [
    {
     "name": "stdout",
     "output_type": "stream",
     "text": [
      "Extracción de URLs:\n",
      "\n",
      "Texto: Visita https://www.ejemplo.com y http://otro-sitio.es para más info\n",
      "\n",
      "URLs encontradas:\n",
      "  • https://www.ejemplo.com\n",
      "  • http://otro-sitio.es\n"
     ]
    }
   ],
   "source": [
    "import re\n",
    "\n",
    "patron = r\"https?://\\S+\"\n",
    "\n",
    "texto = \"Visita https://www.ejemplo.com y http://otro-sitio.es para más info\"\n",
    "\n",
    "urls = re.findall(patron, texto)\n",
    "\n",
    "print(\"Extracción de URLs:\\n\")\n",
    "print(f\"Texto: {texto}\\n\")\n",
    "print(\"URLs encontradas:\")\n",
    "for url in urls:\n",
    "    print(f\"  • {url}\")"
   ]
  },
  {
   "cell_type": "markdown",
   "metadata": {},
   "source": [
    "## 6️⃣ Funciones del Módulo `re`\n",
    "\n",
    "| Función | Descripción |\n",
    "|---------|-------------|\n",
    "| `re.search()` | Encuentra la PRIMERA coincidencia |\n",
    "| `re.match()` | Coincide SOLO en el inicio |\n",
    "| `re.findall()` | Encuentra TODAS las coincidencias |\n",
    "| `re.finditer()` | Itera sobre las coincidencias |\n",
    "| `re.sub()` | Reemplaza coincidencias |\n",
    "| `re.split()` | Divide usando un patrón |\n",
    "| `re.compile()` | Compila patrón para reutilizar |\n",
    "\n",
    "### Cuándo usar cada una:\n",
    "\n",
    "- **search()** - ¿Existe este patrón en algún lugar?\n",
    "- **match()** - ¿Comienza así?\n",
    "- **findall()** - Dame TODOS los que encuentres\n",
    "- **sub()** - Reemplaza coincidencias\n",
    "- **split()** - Divide por patrón\n",
    "\n",
    "### Consejo: Uso de `re.compile()`\n",
    "\n",
    "Si usas el mismo patrón múltiples veces, compílalo primero:\n",
    "\n",
    "```python\n",
    "patron_compilado = re.compile(r\"\\d{3}\")\n",
    "patron_compilado.findall(texto)  # Reutilizable\n",
    "```"
   ]
  }
 ],
 "metadata": {
  "kernelspec": {
   "display_name": "SEA_ejemplosT4",
   "language": "python",
   "name": "python3"
  },
  "language_info": {
   "codemirror_mode": {
    "name": "ipython",
    "version": 3
   },
   "file_extension": ".py",
   "mimetype": "text/x-python",
   "name": "python",
   "nbconvert_exporter": "python",
   "pygments_lexer": "ipython3",
   "version": "3.12.3"
  }
 },
 "nbformat": 4,
 "nbformat_minor": 4
}
