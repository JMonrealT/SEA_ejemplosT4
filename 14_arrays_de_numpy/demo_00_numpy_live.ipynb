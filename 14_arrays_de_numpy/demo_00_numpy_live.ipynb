{
 "cells": [
  {
   "cell_type": "markdown",
   "metadata": {},
   "source": [
    "# ## 14. Arrays de NumPy\n",
    "\n",
    "NumPy es la biblioteca fundamental para computación científica en Python, proporcionando arrays multidimensionales eficientes y funciones matemáticas poderosas."
   ]
  },
  {
   "cell_type": "markdown",
   "metadata": {},
   "source": [
    "## 🎯 Resumen - ¿Por qué usar NumPy?\n",
    "\n",
    "### ⚡ Eficiencia\n",
    "- **Velocidad:** Manejo hasta 50 veces más rápido que las listas Python\n",
    "- **Memoria:** Usan mucha menos memoria que las listas\n",
    "\n",
    "### 📚 Sencillez de uso\n",
    "- **Funciones matemáticas:** suma, resta, multiplicación, división, concatenación, etc.\n",
    "- **Álgebra lineal:** descomposición LU, inversión de matrices, cálculo de determinantes, etc.\n",
    "- **Indexación:** NumPy permite seleccionar subconjuntos de arrays de forma sencilla y eficiente\n",
    "\n",
    "### 🔄 Versatilidad\n",
    "- **Multidimensionalidad:** Arrays 1D, 2D, 3D, etc.\n",
    "- **Compatibilidad:** Compatible con otras librerías (Pandas, SciPy, Matplotlib)"
   ]
  },
  {
   "cell_type": "markdown",
   "metadata": {},
   "source": [
    "## 1️⃣ Importar NumPy y Crear Arrays\n",
    "\n",
    "**Convención:** Importar NumPy como `np`"
   ]
  },
  {
   "cell_type": "code",
   "execution_count": 8,
   "metadata": {},
   "outputs": [
    {
     "name": "stdout",
     "output_type": "stream",
     "text": [
      "Array 1D: [1 2 3 4 5]\n",
      "Tipo: <class 'numpy.ndarray'>\n",
      "\n",
      "Array 2D:\n",
      "[[1 2 3]\n",
      " [4 5 6]]\n"
     ]
    }
   ],
   "source": [
    "import numpy as np\n",
    "\n",
    "# Crear array desde lista\n",
    "arr1 = np.array([1, 2, 3, 4, 5])\n",
    "print(f\"Array 1D: {arr1}\")\n",
    "print(f\"Tipo: {type(arr1)}\")\n",
    "\n",
    "# Array 2D (matriz)\n",
    "arr2 = np.array([[1, 2, 3], [4, 5, 6]])\n",
    "print(f\"\\nArray 2D:\\n{arr2}\")"
   ]
  },
  {
   "cell_type": "code",
   "execution_count": 9,
   "metadata": {},
   "outputs": [
    {
     "name": "stdout",
     "output_type": "stream",
     "text": [
      "Ceros: [0. 0. 0. 0. 0.]\n",
      "\n",
      "Unos:\n",
      "[[1. 1. 1.]\n",
      " [1. 1. 1.]]\n",
      "\n",
      "Rango: [0 2 4 6 8]\n",
      "\n",
      "Linspace: [0.   0.25 0.5  0.75 1.  ]\n"
     ]
    }
   ],
   "source": [
    "# Funciones para crear arrays\n",
    "\n",
    "# Array de ceros\n",
    "ceros = np.zeros(5)\n",
    "print(f\"Ceros: {ceros}\")\n",
    "\n",
    "# Array de unos\n",
    "unos = np.ones((2, 3))  # 2 filas, 3 columnas\n",
    "print(f\"\\nUnos:\\n{unos}\")\n",
    "\n",
    "# Rango de números\n",
    "rango = np.arange(0, 10, 2)  # inicio, fin, paso\n",
    "print(f\"\\nRango: {rango}\")\n",
    "\n",
    "# Espaciado lineal\n",
    "linspace = np.linspace(0, 1, 5)  # 5 números entre 0 y 1\n",
    "print(f\"\\nLinspace: {linspace}\")"
   ]
  },
  {
   "cell_type": "markdown",
   "metadata": {},
   "source": [
    "## 2️⃣ Propiedades de Arrays\n",
    "\n",
    "| 📊 Propiedad | 📝 Descripción |\n",
    "|---|---|\n",
    "| `shape` | Dimensiones (filas, columnas) |\n",
    "| `size` | Número total de elementos |\n",
    "| `ndim` | Número de dimensiones |\n",
    "| `dtype` | Tipo de datos |\n",
    "| `dtype.name` | Nombre del tipo de datos |"
   ]
  },
  {
   "cell_type": "code",
   "execution_count": 10,
   "metadata": {},
   "outputs": [
    {
     "name": "stdout",
     "output_type": "stream",
     "text": [
      "Array:\n",
      "[[ 1  2  3  4]\n",
      " [ 5  6  7  8]\n",
      " [ 9 10 11 12]]\n",
      "\n",
      "Shape (forma):      (3, 4)\n",
      "Size (tamaño):      12\n",
      "Ndim (dimensiones): 2\n",
      "Dtype (tipo):       int64\n"
     ]
    }
   ],
   "source": [
    "# Crear array 2D\n",
    "arr = np.array([[1, 2, 3, 4], \n",
    "                [5, 6, 7, 8], \n",
    "                [9, 10, 11, 12]])\n",
    "\n",
    "print(f\"Array:\\n{arr}\\n\")\n",
    "print(f\"Shape (forma):      {arr.shape}\")  # (3, 4) = 3 filas, 4 columnas\n",
    "print(f\"Size (tamaño):      {arr.size}\")   # 12 elementos\n",
    "print(f\"Ndim (dimensiones): {arr.ndim}\")   # 2 dimensiones\n",
    "print(f\"Dtype (tipo):       {arr.dtype}\")  # int64"
   ]
  },
  {
   "cell_type": "markdown",
   "metadata": {},
   "source": [
    "## 3️⃣ Operaciones Matemáticas\n",
    "\n",
    "NumPy realiza operaciones **elemento por elemento** (vectorización)."
   ]
  },
  {
   "cell_type": "code",
   "execution_count": 11,
   "metadata": {},
   "outputs": [
    {
     "name": "stdout",
     "output_type": "stream",
     "text": [
      "a = [1 2 3 4]\n",
      "b = [10 20 30 40]\n",
      "\n",
      "Suma:           a + b = [11 22 33 44]\n",
      "Resta:          a - b = [ -9 -18 -27 -36]\n",
      "Multiplicación: a * b = [ 10  40  90 160]\n",
      "División:       b / a = [10. 10. 10. 10.]\n",
      "Potencia:       a ** 2 = [ 1  4  9 16]\n"
     ]
    }
   ],
   "source": [
    "a = np.array([1, 2, 3, 4])\n",
    "b = np.array([10, 20, 30, 40])\n",
    "\n",
    "# Operaciones básicas\n",
    "print(f\"a = {a}\")\n",
    "print(f\"b = {b}\\n\")\n",
    "\n",
    "print(f\"Suma:           a + b = {a + b}\")\n",
    "print(f\"Resta:          a - b = {a - b}\")\n",
    "print(f\"Multiplicación: a * b = {a * b}\")\n",
    "print(f\"División:       b / a = {b / a}\")\n",
    "print(f\"Potencia:       a ** 2 = {a ** 2}\")"
   ]
  },
  {
   "cell_type": "markdown",
   "metadata": {},
   "source": [
    "## 4️⃣ Indexación y Selección\n",
    "\n",
    "Accede a elementos específicos del array usando índices."
   ]
  },
  {
   "cell_type": "code",
   "execution_count": 12,
   "metadata": {},
   "outputs": [
    {
     "name": "stdout",
     "output_type": "stream",
     "text": [
      "Array:\n",
      "[[1 2 3]\n",
      " [4 5 6]]\n",
      "\n",
      "arr[0, 1] = 2\n",
      "Fila 1: arr[1] = [4 5 6]\n",
      "Columna 1: arr[:, 1] = [2 5]\n",
      "Submatriz: arr[0:2, 1:3] = \n",
      "[[2 3]\n",
      " [5 6]]\n"
     ]
    }
   ],
   "source": [
    "# Acceso a elementos\n",
    "arr = np.array([[1, 2, 3], \n",
    "                [4, 5, 6]])\n",
    "\n",
    "print(f\"Array:\\n{arr}\\n\")\n",
    "\n",
    "# Elemento individual\n",
    "print(f\"arr[0, 1] = {arr[0, 1]}\")  # Fila 0, columna 1 = 2\n",
    "\n",
    "# Fila completa\n",
    "print(f\"Fila 1: arr[1] = {arr[1]}\")\n",
    "\n",
    "# Columna completa\n",
    "print(f\"Columna 1: arr[:, 1] = {arr[:, 1]}\")\n",
    "\n",
    "# Submatriz\n",
    "print(f\"Submatriz: arr[0:2, 1:3] = \\n{arr[0:2, 1:3]}\")"
   ]
  },
  {
   "cell_type": "markdown",
   "metadata": {},
   "source": [
    "## 5️⃣ Funciones Estadísticas\n",
    "\n",
    "NumPy proporciona funciones para análisis estadístico rápido."
   ]
  },
  {
   "cell_type": "code",
   "execution_count": 13,
   "metadata": {},
   "outputs": [
    {
     "name": "stdout",
     "output_type": "stream",
     "text": [
      "Datos: [ 1  2  3  4  5  6  7  8  9 10]\n",
      "\n",
      "Suma:          55\n",
      "Media:         5.5\n",
      "Mediana:       5.5\n",
      "Desviación:    2.87\n",
      "Mínimo:        1\n",
      "Máximo:        10\n"
     ]
    }
   ],
   "source": [
    "datos = np.array([1, 2, 3, 4, 5, 6, 7, 8, 9, 10])\n",
    "\n",
    "print(f\"Datos: {datos}\\n\")\n",
    "\n",
    "# Estadísticas\n",
    "print(f\"Suma:          {np.sum(datos)}\")\n",
    "print(f\"Media:         {np.mean(datos)}\")\n",
    "print(f\"Mediana:       {np.median(datos)}\")\n",
    "print(f\"Desviación:    {np.std(datos):.2f}\")\n",
    "print(f\"Mínimo:        {np.min(datos)}\")\n",
    "print(f\"Máximo:        {np.max(datos)}\")"
   ]
  },
  {
   "cell_type": "markdown",
   "metadata": {},
   "source": [
    "## 6️⃣ Funciones de Álgebra Lineal\n",
    "\n",
    "NumPy incluye funciones avanzadas para operaciones matriciales."
   ]
  },
  {
   "cell_type": "code",
   "execution_count": 14,
   "metadata": {},
   "outputs": [
    {
     "name": "stdout",
     "output_type": "stream",
     "text": [
      "Producto escalar: [1 2 3] · [4 5 6] = 32\n",
      "\n",
      "Producto matricial A·B:\n",
      "[[19 22]\n",
      " [43 50]]\n",
      "\n",
      "Inversa de A:\n",
      "[[-2.   1. ]\n",
      " [ 1.5 -0.5]]\n",
      "\n",
      "Determinante: -2.00\n"
     ]
    }
   ],
   "source": [
    "# Producto escalar\n",
    "v1 = np.array([1, 2, 3])\n",
    "v2 = np.array([4, 5, 6])\n",
    "\n",
    "producto = np.dot(v1, v2)\n",
    "print(f\"Producto escalar: {v1} · {v2} = {producto}\\n\")\n",
    "\n",
    "# Producto matricial\n",
    "A = np.array([[1, 2], [3, 4]])\n",
    "B = np.array([[5, 6], [7, 8]])\n",
    "\n",
    "C = np.dot(A, B)\n",
    "print(f\"Producto matricial A·B:\\n{C}\\n\")\n",
    "\n",
    "# Inversa de matriz\n",
    "A_inv = np.linalg.inv(A)\n",
    "print(f\"Inversa de A:\\n{A_inv}\\n\")\n",
    "\n",
    "# Determinante\n",
    "det_A = np.linalg.det(A)\n",
    "print(f\"Determinante: {det_A:.2f}\")"
   ]
  },
  {
   "cell_type": "markdown",
   "metadata": {},
   "source": [
    "## 📋 Conclusiones\n",
    "\n",
    "NumPy es la base de la computación científica en Python. Sus principales ventajas son:\n",
    "\n",
    "| ✨ Ventaja | 📝 Descripción |\n",
    "|---|---|\n",
    "| **Eficiencia** | 50x más rápido que listas Python, uso óptimo de memoria |\n",
    "| **Vectorización** | Operaciones elemento por elemento sin bucles explícitos |\n",
    "| **Multidimensionalidad** | Arrays 1D, 2D, 3D... sin complicaciones |\n",
    "| **Funciones integradas** | Estadísticas, álgebra lineal, transformaciones |\n",
    "| **Compatibilidad** | Compatible con Pandas, SciPy, Matplotlib, scikit-learn |\n",
    "\n",
    "### 💡 Casos de uso típicos:\n",
    "- 🔬 Análisis científico y cálculos matemáticos\n",
    "- 📊 Procesamiento de datos y estadísticas\n",
    "- 🤖 Machine Learning (junto con scikit-learn)\n",
    "- 🖼️ Procesamiento de imágenes (con OpenCV, PIL)\n",
    "- 📈 Visualización (con Matplotlib)\n",
    "\n",
    "### 🎯 Próximos pasos:\n",
    "- Aprender **Pandas** para manejo de datos estructurados (DataFrames)\n",
    "- Explorar **SciPy** para funciones científicas avanzadas\n",
    "- Practicar con datos reales y problemas del mundo real"
   ]
  }
 ],
 "metadata": {
  "kernelspec": {
   "display_name": "SEA_ejemplosT4",
   "language": "python",
   "name": "python3"
  },
  "language_info": {
   "codemirror_mode": {
    "name": "ipython",
    "version": 3
   },
   "file_extension": ".py",
   "mimetype": "text/x-python",
   "name": "python",
   "nbconvert_exporter": "python",
   "pygments_lexer": "ipython3",
   "version": "3.12.3"
  }
 },
 "nbformat": 4,
 "nbformat_minor": 4
}
