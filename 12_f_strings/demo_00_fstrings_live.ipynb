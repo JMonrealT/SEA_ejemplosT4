{
 "cells": [
  {
   "cell_type": "markdown",
   "metadata": {},
   "source": [
    "# ## 12. F-Strings\n",
    "\n",
    "Formatted String Literals: inserción elegante de variables y expresiones en cadenas de texto\n"
   ]
  },
  {
   "cell_type": "markdown",
   "metadata": {},
   "source": [
    "## Resumen - ¿Por qué F-Strings?\n",
    "\n",
    "### Características Clave\n",
    "- ✅ Disponibles: Python 3.6+\n",
    "- ✅ Velocidad: Más rápidas que `.format()` o concatenación\n",
    "- ✅ Legibilidad: Código limpio y comprensible\n",
    "- ✅ Flexibilidad: Permite expresiones Python directas\n",
    "- ✅ Formato: Números, alineación, espacios personalizados\n"
   ]
  },
  {
   "cell_type": "markdown",
   "metadata": {},
   "source": [
    "## 1️⃣ Introducción - Sintaxis Básica\n",
    "\n",
    "La forma más simple: prefijo `f` + comillas + variables en `{}`"
   ]
  },
  {
   "cell_type": "code",
   "execution_count": null,
   "metadata": {},
   "outputs": [
    {
     "name": "stdout",
     "output_type": "stream",
     "text": [
      "Hola, soy Ana y tengo 25 años\n",
      "Vivo en Madrid\n",
      "\n",
      "Ana (25) de Madrid\n"
     ]
    }
   ],
   "source": [
    "# Variables dentro de f-strings\n",
    "nombre = \"Ana\"\n",
    "edad = 25\n",
    "ciudad = \"Madrid\"\n",
    "\n",
    "print(f\"Hola, soy {nombre} y tengo {edad} años\")\n",
    "print(f\"Vivo en {ciudad}\")\n",
    "\n",
    "# Múltiples variables\n",
    "print(f\"\\n{nombre} ({edad}) de {ciudad}\")\n"
   ]
  },
  {
   "cell_type": "markdown",
   "metadata": {},
   "source": [
    "## 2️⃣ Expresiones en F-Strings\n",
    "\n",
    "No solo insertas variables, sino **expresiones Python** (operaciones, funciones, condicionales)"
   ]
  },
  {
   "cell_type": "code",
   "execution_count": null,
   "metadata": {},
   "outputs": [
    {
     "name": "stdout",
     "output_type": "stream",
     "text": [
      "✅ 5 + 3 = 8\n",
      "✅ 5 × 3 = 15\n",
      "✅ 5 ÷ 3 = 1.67\n",
      "\n",
      "📊 Suma: 150\n",
      "📊 Promedio: 30.0\n",
      "📊 Máximo: 50\n",
      "\n",
      "✏️ A los 18 años eres mayor de edad\n"
     ]
    }
   ],
   "source": [
    "# Operaciones matemáticas\n",
    "x = 5\n",
    "y = 3\n",
    "\n",
    "print(f\"{x} + {y} = {x + y}\")\n",
    "print(f\"{x} × {y} = {x * y}\")\n",
    "print(f\"{x} ÷ {y} = {x / y:.2f}\")\n",
    "\n",
    "# Llamadas a funciones\n",
    "numeros = [10, 20, 30, 40, 50]\n",
    "print(f\"\\nSuma: {sum(numeros)}\")\n",
    "print(f\"Promedio: {sum(numeros) / len(numeros)}\")\n",
    "print(f\"Máximo: {max(numeros)}\")\n",
    "\n",
    "# Condicionales\n",
    "edad = 18\n",
    "estado = \"mayor\" if edad >= 18 else \"menor\"\n",
    "print(f\"\\nA los {edad} años eres {estado} de edad\")\n"
   ]
  },
  {
   "cell_type": "markdown",
   "metadata": {},
   "source": [
    "## 3️⃣ Formato de Números\n",
    "\n",
    "Especifica decimales, separadores de miles, porcentajes usando `:` + especificador"
   ]
  },
  {
   "cell_type": "code",
   "execution_count": null,
   "metadata": {},
   "outputs": [
    {
     "name": "stdout",
     "output_type": "stream",
     "text": [
      "Precio: €15.76\n",
      "Precio: €15.8\n",
      "\n",
      "Número: 1,234,567\n",
      "Número: 1_234_567\n",
      "\n",
      "Porcentaje: 85.7%\n",
      "Porcentaje: 86%\n"
     ]
    }
   ],
   "source": [
    "# Decimales\n",
    "precio = 15.756\n",
    "print(f\"Precio: €{precio:.2f}\")      # 2 decimales: 15.76\n",
    "print(f\"Precio: €{precio:.1f}\")      # 1 decimal: 15.8\n",
    "\n",
    "# Separador de miles\n",
    "numero = 1234567\n",
    "print(f\"\\nNúmero: {numero:,}\")       # 1,234,567\n",
    "print(f\"Número: {numero:_}\")         # 1_234_567\n",
    "\n",
    "# Porcentajes\n",
    "ratio = 0.8567\n",
    "print(f\"\\nPorcentaje: {ratio:.1%}\")  # 85.7%\n",
    "print(f\"Porcentaje: {ratio:.0%}\")    # 86%\n"
   ]
  },
  {
   "cell_type": "markdown",
   "metadata": {},
   "source": [
    "## 4️⃣ Alineación y Padding\n",
    "\n",
    "Alinea a izquierda, derecha, centro con ancho fijo (útil para tablas)"
   ]
  },
  {
   "cell_type": "code",
   "execution_count": null,
   "metadata": {},
   "outputs": [
    {
     "name": "stdout",
     "output_type": "stream",
     "text": [
      "➡️  Derecha:  |        42|\n",
      "⬅️  Izquierda:|Python    |\n",
      "🎯  Centro:   |    42    |\n",
      "\n",
      "0️⃣  Con ceros: 00042\n",
      "0️⃣  Con ceros: 007\n"
     ]
    }
   ],
   "source": [
    "# Alineación a DERECHA (default para números)\n",
    "print(f\"Derecha:  |{42:>10}|\")\n",
    "\n",
    "# Alineación a IZQUIERDA\n",
    "print(f\"Izquierda:|{'Python':<10}|\")\n",
    "\n",
    "# Alineación al CENTRO\n",
    "print(f\"Centro:   |{42:^10}|\")\n",
    "\n",
    "# Padding con CEROS (enteros)\n",
    "print(f\"\\nCon ceros: {42:05d}\")\n",
    "print(f\"Con ceros: {7:03d}\")\n"
   ]
  },
  {
   "cell_type": "markdown",
   "metadata": {},
   "source": [
    "## 5️⃣ Tablas con Alineación\n",
    "\n",
    "Ejemplo práctico: crear una tabla usando f-strings con alineación"
   ]
  },
  {
   "cell_type": "code",
   "execution_count": null,
   "metadata": {},
   "outputs": [
    {
     "name": "stdout",
     "output_type": "stream",
     "text": [
      "📊 CATÁLOGO DE PRODUCTOS\n",
      "========================================\n",
      "Producto            Precio\n",
      "========================================\n",
      "Laptop          €   799.99\n",
      "Mouse           €    25.50\n",
      "Teclado         €    89.99\n",
      "========================================\n",
      "TOTAL           €   915.48\n"
     ]
    }
   ],
   "source": [
    "# Tabla de productos\n",
    "productos = [\n",
    "    (\"Laptop\", 799.99),\n",
    "    (\"Mouse\", 25.50),\n",
    "    (\"Teclado\", 89.99),\n",
    "]\n",
    "\n",
    "print(\"CATÁLOGO DE PRODUCTOS\")\n",
    "print(\"=\"*40)\n",
    "print(f\"{'Producto':<15} {'Precio':>10}\")\n",
    "print(\"=\"*40)\n",
    "\n",
    "total = 0\n",
    "for producto, precio in productos:\n",
    "    print(f\"{producto:<15} €{precio:>9.2f}\")\n",
    "    total += precio\n",
    "\n",
    "print(\"=\"*40)\n",
    "print(f\"{'TOTAL':<15} €{total:>9.2f}\")\n"
   ]
  },
  {
   "cell_type": "markdown",
   "metadata": {},
   "source": [
    "## 6️⃣ Llaves Literales\n",
    "\n",
    "Si necesitas insertar llaves `{}` en la cadena, **dóblalas**: `{{` y `}}`"
   ]
  },
  {
   "cell_type": "code",
   "execution_count": 3,
   "metadata": {},
   "outputs": [
    {
     "name": "stdout",
     "output_type": "stream",
     "text": [
      "Código: {Python}\n",
      "\n",
      "Datos: {'nombre': 'Ana', 'edad': 25}\n",
      "Como vemos, los diccionarios muestran los resultados con llaves: {...}\n",
      "\n",
      "Fácil distinguir:\n",
      "  Variable: Python {}\n",
      "  Literal: {}\n",
      "  Juntos: Python {} {}\n"
     ]
    }
   ],
   "source": [
    "# Escaping de llaves\n",
    "lenguaje = \"Python\"\n",
    "print(f\"Código: {{{lenguaje}}}\\n\")       # Output: Código: {Python}\n",
    "\n",
    "# Diccionario con formato\n",
    "datos = {\"nombre\": \"Ana\", \"edad\": 25}\n",
    "print(f\"Datos: {datos}\")\n",
    "print(f\"Como vemos, los diccionarios muestran los resultados con llaves: {{...}}\")\n",
    "\n",
    "# Sin confusión\n",
    "lenguaje = \"Python {}\"\n",
    "print(f\"\\nFácil distinguir:\")\n",
    "print(f\"  Variable: {lenguaje}\")\n",
    "print(f\"  Literal: {{}}\")\n",
    "print(f\"  Juntos: {lenguaje} {{}}\")\n"
   ]
  },
  {
   "cell_type": "markdown",
   "metadata": {},
   "source": [
    "## Conclusiones\n",
    "\n",
    "### Sintaxis Rápida:\n",
    "```python\n",
    "f\"{variable}\"                  # Variable simple\n",
    "f\"{expresion + 1}\"             # Expresión\n",
    "f\"{precio:.2f}\"                # 2 decimales\n",
    "f\"{numero:,}\"                  # Separador de miles\n",
    "f\"{ratio:.1%}\"                 # Porcentaje\n",
    "f\"{texto:>10}\"                 # Alineado a derecha, ancho 10\n",
    "f\"{numero:05d}\"                # Padding con ceros\n",
    "f\"{{{variable}}}\"              # Llaves literales\n",
    "```\n",
    "\n",
    "### Especificadores Comunes:\n",
    "\n",
    "| Especificador | Descripción | Ejemplo |\n",
    "|---|---|---|\n",
    "| `.2f` | Decimales | `15.76` |\n",
    "| `:,` | Separador miles | `1,234,567` |\n",
    "| `.1%` | Porcentaje | `85.7%` |\n",
    "| `>10` | Derecha, ancho 10 | `       42` |\n",
    "| `<10` | Izquierda, ancho 10 | `42       ` |\n",
    "| `^10` | Centro, ancho 10 | `    42    ` |\n",
    "| `05d` | 5 dígitos con ceros | `00042` |\n",
    "\n",
    "### Ventajas vs Alternativas:\n",
    "\n",
    "| Método | Código | Velocidad |\n",
    "|--------|--------|----------|\n",
    "| F-string | `f\"{x:.2f}\"` | ⚡ Más rápido |\n",
    "| `.format()` | `\"{:.2f}\".format(x)` | ⏳ Medio |\n",
    "| Concatenación | `str(x)` | 🐢 Lento |\n",
    "\n",
    "### 🎯 Recuerda:\n",
    "- ✅ Usa F-Strings siempre que necesites formatear (Python 3.6+)\n",
    "- ✅ Son el estándar moderno de Python\n",
    "- ✅ Combina variables, expresiones y formato fácilmente\n",
    "- ✅ Perfectas para crear tablas y salida formateada\n"
   ]
  }
 ],
 "metadata": {
  "kernelspec": {
   "display_name": "SEA_ejemplosT4",
   "language": "python",
   "name": "python3"
  },
  "language_info": {
   "codemirror_mode": {
    "name": "ipython",
    "version": 3
   },
   "file_extension": ".py",
   "mimetype": "text/x-python",
   "name": "python",
   "nbconvert_exporter": "python",
   "pygments_lexer": "ipython3",
   "version": "3.12.3"
  }
 },
 "nbformat": 4,
 "nbformat_minor": 4
}
