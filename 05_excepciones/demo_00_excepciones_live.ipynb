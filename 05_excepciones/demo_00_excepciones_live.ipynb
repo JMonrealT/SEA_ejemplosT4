{
 "cells": [
  {
   "cell_type": "markdown",
   "id": "3764009e",
   "metadata": {},
   "source": [
    "# ## 05. Manejo de Excepciones en Python\n",
    "\n",
    "⚠️ Guía rápida: captura, manejo y control de errores\n",
    "\n",
    "Una guía compacta con los conceptos esenciales del manejo de excepciones.\n",
    "\n",
    "## 📋 Contenido:\n",
    "\n",
    "1. **try-except** - Capturar errores\n",
    "2. **Múltiples excepciones** - Diferentes tipos de errores\n",
    "3. **else y finally** - Flujo completo\n",
    "4. **raise** - Lanzar excepciones\n",
    "5. **Excepciones personalizadas** - Crear propias excepciones\n",
    "\n",
    "| Bloque | ¿Cuándo? | Uso |\n",
    "|--------|----------|-----|\n",
    "| `try` | Siempre | Código con riesgo |\n",
    "| `except` | Si hay error | Manejar error |\n",
    "| `else` | Si NO hay error | Código de éxito |\n",
    "| `finally` | SIEMPRE | Limpieza |\n",
    "\n",
    "---"
   ]
  },
  {
   "cell_type": "markdown",
   "id": "23d1d984",
   "metadata": {},
   "source": [
    "---\n",
    "\n",
    "💡 **Nota**: Esta es una guía rápida con lo esencial. Para ejemplos más detallados y explicaciones en profundidad, consulta **`demo_01_try_except_basico.ipynb`** y las siguientes demos numeradas.\n",
    "\n",
    "---"
   ]
  },
  {
   "cell_type": "markdown",
   "id": "579bc7f8",
   "metadata": {},
   "source": [
    "## 1️⃣ try-except Básico\n",
    "\n",
    "Captura errores para que el programa continúe ejecutándose."
   ]
  },
  {
   "cell_type": "code",
   "execution_count": 1,
   "id": "5c18890b",
   "metadata": {},
   "outputs": [
    {
     "name": "stdout",
     "output_type": "stream",
     "text": [
      "❌ Error: División por cero\n",
      "✅ Programa continúa: resultado = None\n"
     ]
    }
   ],
   "source": [
    "# Ejemplo básico\n",
    "try:\n",
    "    resultado = 10 / 0\n",
    "except ZeroDivisionError:\n",
    "    print(\"❌ Error: División por cero\")\n",
    "    resultado = None\n",
    "\n",
    "print(f\"✅ Programa continúa: resultado = {resultado}\")"
   ]
  },
  {
   "cell_type": "code",
   "execution_count": 2,
   "id": "e57a5237",
   "metadata": {},
   "outputs": [
    {
     "name": "stdout",
     "output_type": "stream",
     "text": [
      "❌ ValueError: invalid literal for int() with base 10: 'texto'\n"
     ]
    }
   ],
   "source": [
    "# Capturar información del error\n",
    "try:\n",
    "    numero = int(\"texto\")\n",
    "except ValueError as error:\n",
    "    print(f\"❌ {type(error).__name__}: {error}\")"
   ]
  },
  {
   "cell_type": "markdown",
   "id": "d9136c84",
   "metadata": {},
   "source": [
    "## 2️⃣ Múltiples Excepciones\n",
    "\n",
    "Maneja diferentes tipos de errores en un mismo bloque try."
   ]
  },
  {
   "cell_type": "code",
   "execution_count": 3,
   "id": "d968bef3",
   "metadata": {},
   "outputs": [
    {
     "name": "stdout",
     "output_type": "stream",
     "text": [
      "5.0\n",
      "❌ División por cero\n",
      "❌ Tipos incompatibles\n"
     ]
    }
   ],
   "source": [
    "# Forma 1: Múltiples except\n",
    "def procesar(a, b):\n",
    "    try:\n",
    "        return a / b\n",
    "    except ZeroDivisionError:\n",
    "        return \"❌ División por cero\"\n",
    "    except TypeError:\n",
    "        return \"❌ Tipos incompatibles\"\n",
    "\n",
    "print(procesar(10, 2))\n",
    "print(procesar(10, 0))\n",
    "print(procesar(10, \"x\"))"
   ]
  },
  {
   "cell_type": "code",
   "execution_count": 4,
   "id": "8a29220f",
   "metadata": {},
   "outputs": [
    {
     "name": "stdout",
     "output_type": "stream",
     "text": [
      "convertir('10'): 10.0\n",
      "convertir('0'): ❌ ZeroDivisionError\n",
      "convertir('abc'): ❌ ValueError\n"
     ]
    }
   ],
   "source": [
    "# Forma 2: Varios tipos en un except\n",
    "def convertir(valor):\n",
    "    try:\n",
    "        num = int(valor)\n",
    "        return 100 / num\n",
    "    except (ValueError, ZeroDivisionError) as error:\n",
    "        return f\"❌ {type(error).__name__}\"\n",
    "\n",
    "print(f\"convertir('10'): {convertir('10')}\")\n",
    "print(f\"convertir('0'): {convertir('0')}\")\n",
    "print(f\"convertir('abc'): {convertir('abc')}\")"
   ]
  },
  {
   "cell_type": "markdown",
   "id": "8811ec0b",
   "metadata": {},
   "source": [
    "## 3️⃣ else y finally - Flujo Completo\n",
    "\n",
    "**else**: Se ejecuta solo si NO hay error  \n",
    "**finally**: Se ejecuta SIEMPRE (ideal para limpieza)"
   ]
  },
  {
   "cell_type": "code",
   "execution_count": 5,
   "id": "714665f0",
   "metadata": {},
   "outputs": [
    {
     "name": "stdout",
     "output_type": "stream",
     "text": [
      "✅ División exitosa\n",
      "10/3 = 3.33\n",
      "❌ Error: División por cero\n",
      "10/0 = None\n"
     ]
    }
   ],
   "source": [
    "# Ejemplo con else\n",
    "def dividir_con_else(a, b):\n",
    "    try:\n",
    "        resultado = a / b\n",
    "    except ZeroDivisionError:\n",
    "        print(\"❌ Error: División por cero\")\n",
    "        return None\n",
    "    else:\n",
    "        print(\"✅ División exitosa\")\n",
    "        return round(resultado, 2)\n",
    "\n",
    "print(f\"10/3 = {dividir_con_else(10, 3)}\")\n",
    "print(f\"10/0 = {dividir_con_else(10, 0)}\")"
   ]
  },
  {
   "cell_type": "code",
   "execution_count": 6,
   "id": "72eaf89c",
   "metadata": {},
   "outputs": [
    {
     "name": "stdout",
     "output_type": "stream",
     "text": [
      "✅ Resultado: 5.0\n",
      "🧹 Limpieza completada\n",
      "\n",
      "❌ Error de división\n",
      "🧹 Limpieza completada\n",
      "\n"
     ]
    }
   ],
   "source": [
    "# Ejemplo con finally (siempre se ejecuta)\n",
    "def operacion_con_cleanup(dividir_por_cero=False):\n",
    "    try:\n",
    "        resultado = 10 / (0 if dividir_por_cero else 2)\n",
    "        print(f\"✅ Resultado: {resultado}\")\n",
    "    except ZeroDivisionError:\n",
    "        print(\"❌ Error de división\")\n",
    "    finally:\n",
    "        print(\"🧹 Limpieza completada\\n\")\n",
    "\n",
    "operacion_con_cleanup(False)\n",
    "operacion_con_cleanup(True)"
   ]
  },
  {
   "cell_type": "code",
   "execution_count": 7,
   "id": "7854de6f",
   "metadata": {},
   "outputs": [
    {
     "name": "stdout",
     "output_type": "stream",
     "text": [
      "✅ Promedio: 20.00\n",
      "🧹 Limpieza\n",
      "\n",
      "❌ Error: division by zero\n",
      "🧹 Limpieza\n",
      "\n",
      "❌ Error: Debe ser lista\n",
      "🧹 Limpieza\n",
      "\n"
     ]
    }
   ],
   "source": [
    "# Estructura completa: try-except-else-finally\n",
    "def procesar_completo(datos, divisor):\n",
    "    try:\n",
    "        if not isinstance(datos, list):\n",
    "            raise TypeError(\"Debe ser lista\")\n",
    "        promedio = sum(datos) / divisor\n",
    "    except (TypeError, ZeroDivisionError) as error:\n",
    "        print(f\"❌ Error: {error}\")\n",
    "        return None\n",
    "    else:\n",
    "        print(f\"✅ Promedio: {promedio:.2f}\")\n",
    "        return promedio\n",
    "    finally:\n",
    "        print(\"🧹 Limpieza\\n\")\n",
    "\n",
    "procesar_completo([10, 20, 30], 3)\n",
    "procesar_completo([10, 20, 30], 0)\n",
    "procesar_completo(\"texto\", 3)"
   ]
  },
  {
   "cell_type": "markdown",
   "id": "698ecdb6",
   "metadata": {},
   "source": [
    "## 4️⃣ raise - Lanzar Excepciones\n",
    "\n",
    "Usa `raise` para lanzar excepciones manualmente cuando detectas un error."
   ]
  },
  {
   "cell_type": "code",
   "execution_count": 8,
   "id": "c6a9712d",
   "metadata": {},
   "outputs": [
    {
     "name": "stdout",
     "output_type": "stream",
     "text": [
      "✅ Válido: 25\n",
      "❌ ValueError: Edad negativa\n",
      "❌ TypeError: Debe ser entero\n",
      "❌ ValueError: Edad no realista\n"
     ]
    }
   ],
   "source": [
    "# Validación con raise\n",
    "def validar_edad(edad):\n",
    "    if not isinstance(edad, int):\n",
    "        raise TypeError(\"Debe ser entero\")\n",
    "    if edad < 0:\n",
    "        raise ValueError(\"Edad negativa\")\n",
    "    if edad > 150:\n",
    "        raise ValueError(\"Edad no realista\")\n",
    "    return True\n",
    "\n",
    "# Probar\n",
    "for valor in [25, -5, \"texto\", 200]:\n",
    "    try:\n",
    "        validar_edad(valor)\n",
    "        print(f\"✅ Válido: {valor}\")\n",
    "    except (TypeError, ValueError) as error:\n",
    "        print(f\"❌ {type(error).__name__}: {error}\")"
   ]
  },
  {
   "cell_type": "code",
   "execution_count": 9,
   "id": "2bf8f9a1",
   "metadata": {},
   "outputs": [
    {
     "name": "stdout",
     "output_type": "stream",
     "text": [
      "⚠️ [LOG] Error con a=10, b=0\n",
      "❌ Error capturado en nivel superior\n"
     ]
    }
   ],
   "source": [
    "# Re-lanzar excepciones (con logging)\n",
    "def dividir_con_log(a, b):\n",
    "    try:\n",
    "        return a / b\n",
    "    except ZeroDivisionError:\n",
    "        print(f\"⚠️ [LOG] Error con a={a}, b={b}\")\n",
    "        raise  # Re-lanza el error\n",
    "\n",
    "try:\n",
    "    dividir_con_log(10, 0)\n",
    "except ZeroDivisionError:\n",
    "    print(\"❌ Error capturado en nivel superior\")"
   ]
  },
  {
   "cell_type": "markdown",
   "id": "f0da146d",
   "metadata": {},
   "source": [
    "## 5️⃣ Excepciones Personalizadas\n",
    "\n",
    "Crea tus propias excepciones para errores específicos de tu dominio."
   ]
  },
  {
   "cell_type": "code",
   "execution_count": 10,
   "id": "ea29320d",
   "metadata": {},
   "outputs": [
    {
     "name": "stdout",
     "output_type": "stream",
     "text": [
      "✅ Válido: user@example.com\n",
      "❌ Email inválido: 'sin-arroba'\n"
     ]
    }
   ],
   "source": [
    "# Excepción simple\n",
    "class ErrorValidacion(Exception):\n",
    "    \"\"\"Error de validación\"\"\"\n",
    "    pass\n",
    "\n",
    "def validar_email(email):\n",
    "    if '@' not in email:\n",
    "        raise ErrorValidacion(f\"Email inválido: '{email}'\")\n",
    "    return True\n",
    "\n",
    "# Probar\n",
    "for email in [\"user@example.com\", \"sin-arroba\"]:\n",
    "    try:\n",
    "        validar_email(email)\n",
    "        print(f\"✅ Válido: {email}\")\n",
    "    except ErrorValidacion as error:\n",
    "        print(f\"❌ {error}\")"
   ]
  },
  {
   "cell_type": "code",
   "execution_count": 11,
   "id": "edc69b27",
   "metadata": {},
   "outputs": [
    {
     "name": "stdout",
     "output_type": "stream",
     "text": [
      "✅ Retiro exitoso. Nuevo saldo: $500.00\n",
      "❌ Falta $100.00 (tiene $100.00, necesita $200.00)\n",
      "   💡 Deposite $100.00\n"
     ]
    }
   ],
   "source": [
    "# Jerarquía de excepciones con atributos\n",
    "class ErrorBancario(Exception):\n",
    "    \"\"\"Base para errores bancarios\"\"\"\n",
    "    pass\n",
    "\n",
    "class SaldoInsuficiente(ErrorBancario):\n",
    "    def __init__(self, saldo, monto):\n",
    "        self.saldo = saldo\n",
    "        self.monto = monto\n",
    "        super().__init__(\n",
    "            f\"Falta ${monto - saldo:.2f} \"\n",
    "            f\"(tiene ${saldo:.2f}, necesita ${monto:.2f})\"\n",
    "        )\n",
    "\n",
    "def retirar(saldo, monto):\n",
    "    if monto > saldo:\n",
    "        raise SaldoInsuficiente(saldo, monto)\n",
    "    return saldo - monto\n",
    "\n",
    "# Probar\n",
    "for saldo, monto in [(1000, 500), (100, 200)]:\n",
    "    try:\n",
    "        nuevo = retirar(saldo, monto)\n",
    "        print(f\"✅ Retiro exitoso. Nuevo saldo: ${nuevo:.2f}\")\n",
    "    except SaldoInsuficiente as error:\n",
    "        print(f\"❌ {error}\")\n",
    "        print(f\"   💡 Deposite ${error.monto - error.saldo:.2f}\")"
   ]
  },
  {
   "cell_type": "markdown",
   "id": "6e35f428",
   "metadata": {},
   "source": [
    "## 📚 Resumen\n",
    "\n",
    "### Estructura completa:\n",
    "```python\n",
    "try:\n",
    "    operacion_con_riesgo()\n",
    "except TipoError1:\n",
    "    manejar_error1()\n",
    "except TipoError2:\n",
    "    manejar_error2()\n",
    "else:\n",
    "    codigo_si_no_hay_error()\n",
    "finally:\n",
    "    limpieza_siempre()\n",
    "```\n",
    "\n",
    "### ✅ Mejores prácticas:\n",
    "- Captura excepciones **específicas**\n",
    "- Usa `as error` para info del error\n",
    "- Usa `finally` para limpieza\n",
    "- Crea excepciones personalizadas para tu dominio\n",
    "\n",
    "### ❌ Evitar:\n",
    "- `except:` sin tipo (captura TODO)\n",
    "- Usar excepciones para flujo normal\n",
    "- Ignorar errores con `pass`\n",
    "\n",
    "### 🎯 Recuerda:\n",
    "1. Excepciones son para casos **excepcionales**\n",
    "2. Captura solo lo que puedas **manejar**\n",
    "3. Siempre **limpia recursos**\n",
    "4. Mensajes **útiles** al usuario\n",
    "\n",
    "---\n",
    "\n",
    "**¡Guía rápida completada!** 🎉"
   ]
  }
 ],
 "metadata": {
  "kernelspec": {
   "display_name": "SEA_ejemplosT4",
   "language": "python",
   "name": "python3"
  },
  "language_info": {
   "codemirror_mode": {
    "name": "ipython",
    "version": 3
   },
   "file_extension": ".py",
   "mimetype": "text/x-python",
   "name": "python",
   "nbconvert_exporter": "python",
   "pygments_lexer": "ipython3",
   "version": "3.12.3"
  }
 },
 "nbformat": 4,
 "nbformat_minor": 5
}
