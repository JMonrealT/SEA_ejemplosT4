{
 "cells": [
  {
   "cell_type": "markdown",
   "id": "373f787d",
   "metadata": {},
   "source": [
    "# ## 06. Comprensión de Listas\n",
    "\n",
    "📝 List comprehensions: forma elegante de crear y transformar listas\n",
    "\n",
    "Las **list comprehensions** (comprensión de listas) son una forma elegante y concisa de crear listas en Python. Permiten transformar y filtrar datos en una sola línea.\n",
    "\n",
    "## 📐 Estructura y Sintaxis\n",
    "\n",
    "### Sintaxis básica:\n",
    "```python\n",
    "[expresión for elemento in iterable]\n",
    "```\n",
    "\n",
    "**Componentes:**\n",
    "- **`expresión`**: Qué hacer con cada elemento (transformación)\n",
    "- **`for elemento in iterable`**: De dónde vienen los datos\n",
    "- **`[]`**: Corchetes indican que estamos creando una lista\n",
    "\n",
    "### Ejemplo visual:\n",
    "```python\n",
    "cuadrados = [x**2 for x in range(5)]\n",
    "#            ↑    ↑           ↑\n",
    "#            │    │           └─ Origen: números del 0 al 4\n",
    "#            │    └───────────── Variable temporal\n",
    "#            └────────────────── Transformación: elevar al cuadrado\n",
    "# Resultado: [0, 1, 4, 9, 16]\n",
    "```\n",
    "\n",
    "---\n",
    "\n",
    "### Sintaxis con filtro (condición):\n",
    "```python\n",
    "[expresión for elemento in iterable if condición]\n",
    "```\n",
    "\n",
    "**Componentes adicionales:**\n",
    "- **`if condición`**: Filtro que decide qué elementos incluir\n",
    "\n",
    "### Ejemplo visual:\n",
    "```python\n",
    "pares = [x for x in range(10) if x % 2 == 0]\n",
    "#        ↑  ↑              ↑    ↑\n",
    "#        │  │              │    └─ Filtro: solo si es par\n",
    "#        │  │              └────── Origen: números del 0 al 9\n",
    "#        │  └───────────────────── Variable temporal\n",
    "#        └──────────────────────── Expresión: el número sin cambios\n",
    "# Resultado: [0, 2, 4, 6, 8]\n",
    "```\n",
    "\n",
    "---\n",
    "\n",
    "### Comparación con bucle tradicional:\n",
    "\n",
    "| Bucle tradicional (3-4 líneas) | List comprehension (1 línea) |\n",
    "|--------------------------------|------------------------------|\n",
    "| `resultado = []`<br>`for x in range(5):`<br>&nbsp;&nbsp;&nbsp;&nbsp;`resultado.append(x**2)` | `resultado = [x**2 for x in range(5)]` |\n",
    "\n",
    "### 💡 Ventajas:\n",
    "- ✅ **Más conciso**: 1 línea vs múltiples\n",
    "- ✅ **Evita dependencias cruzadas**: Creación de objetos independientes en cada elemento de lista\n",
    "- ✅ **Más legible**: Intención clara\n",
    "- ✅ **Más rápido**: Optimizado internamente\n",
    "- ✅ **Más Pythonic**: Estilo idiomático de Python\n",
    "\n",
    "---"
   ]
  },
  {
   "cell_type": "markdown",
   "id": "744b5d1a",
   "metadata": {},
   "source": [
    "## Sintaxis Básica"
   ]
  },
  {
   "cell_type": "code",
   "execution_count": 1,
   "id": "17101c96",
   "metadata": {},
   "outputs": [
    {
     "name": "stdout",
     "output_type": "stream",
     "text": [
      "Forma tradicional:\n",
      "[0, 1, 4, 9, 16, 25, 36, 49, 64, 81]\n"
     ]
    }
   ],
   "source": [
    "# Estructura: [expresión for elemento in iterable]\n",
    "\n",
    "# Forma tradicional con bucle for\n",
    "cuadrados_tradicional = []\n",
    "for x in range(10):\n",
    "    cuadrados_tradicional.append(x ** 2)\n",
    "\n",
    "print(\"Forma tradicional:\")\n",
    "print(cuadrados_tradicional)"
   ]
  },
  {
   "cell_type": "code",
   "execution_count": 2,
   "id": "c1ee8996",
   "metadata": {},
   "outputs": [
    {
     "name": "stdout",
     "output_type": "stream",
     "text": [
      "Con list comprehension:\n",
      "[0, 1, 4, 9, 16, 25, 36, 49, 64, 81]\n",
      "\n",
      "Resultados iguales: True\n"
     ]
    }
   ],
   "source": [
    "# Con comprensión de listas (más Pythonic)\n",
    "cuadrados_comprehension = [x ** 2 for x in range(10)]\n",
    "\n",
    "print(\"Con list comprehension:\")\n",
    "print(cuadrados_comprehension)\n",
    "print(f\"\\nResultados iguales: {cuadrados_tradicional == cuadrados_comprehension}\")"
   ]
  },
  {
   "cell_type": "markdown",
   "id": "9d3f5df6",
   "metadata": {},
   "source": [
    "## Ejemplos Básicos"
   ]
  },
  {
   "cell_type": "code",
   "execution_count": 3,
   "id": "e49ad54e",
   "metadata": {},
   "outputs": [
    {
     "name": "stdout",
     "output_type": "stream",
     "text": [
      "Original: [1, 2, 3, 4, 5]\n",
      "Duplicados: [2, 4, 6, 8, 10]\n"
     ]
    }
   ],
   "source": [
    "# Duplicar cada número\n",
    "numeros = [1, 2, 3, 4, 5]\n",
    "duplicados = [x * 2 for x in numeros]\n",
    "print(f\"Original: {numeros}\")\n",
    "print(f\"Duplicados: {duplicados}\")"
   ]
  },
  {
   "cell_type": "code",
   "execution_count": 4,
   "id": "558f3a06",
   "metadata": {},
   "outputs": [
    {
     "name": "stdout",
     "output_type": "stream",
     "text": [
      "Números: [1, 2, 3, 4, 5]\n",
      "Como strings: ['1', '2', '3', '4', '5']\n",
      "Tipos: ['str', 'str', 'str', 'str', 'str']\n"
     ]
    }
   ],
   "source": [
    "# Convertir a cadenas\n",
    "numeros = [1, 2, 3, 4, 5]\n",
    "cadenas = [str(n) for n in numeros]\n",
    "print(f\"Números: {numeros}\")\n",
    "print(f\"Como strings: {cadenas}\")\n",
    "print(f\"Tipos: {[type(x).__name__ for x in cadenas]}\")"
   ]
  },
  {
   "cell_type": "code",
   "execution_count": 5,
   "id": "01eb83b5",
   "metadata": {},
   "outputs": [
    {
     "name": "stdout",
     "output_type": "stream",
     "text": [
      "Conversión Celsius → Fahrenheit:\n",
      "  0°C = 32.0°F\n",
      "  10°C = 50.0°F\n",
      "  20°C = 68.0°F\n",
      "  30°C = 86.0°F\n",
      "  40°C = 104.0°F\n"
     ]
    }
   ],
   "source": [
    "# Operaciones matemáticas\n",
    "temperaturas_c = [0, 10, 20, 30, 40]\n",
    "temperaturas_f = [(9/5) * temp + 32 for temp in temperaturas_c]\n",
    "\n",
    "print(\"Conversión Celsius → Fahrenheit:\")\n",
    "for c, f in zip(temperaturas_c, temperaturas_f):\n",
    "    print(f\"  {c}°C = {f}°F\")"
   ]
  },
  {
   "cell_type": "markdown",
   "id": "42f78919",
   "metadata": {},
   "source": [
    "## Comprensiones con Filtros (if)"
   ]
  },
  {
   "cell_type": "code",
   "execution_count": 6,
   "id": "296a51d1",
   "metadata": {},
   "outputs": [
    {
     "name": "stdout",
     "output_type": "stream",
     "text": [
      "Números pares (0-19): [0, 2, 4, 6, 8, 10, 12, 14, 16, 18]\n"
     ]
    }
   ],
   "source": [
    "# Estructura: [expresión for elemento in iterable if condición]\n",
    "\n",
    "# Solo números pares\n",
    "pares = [x for x in range(20) if x % 2 == 0]\n",
    "print(f\"Números pares (0-19): {pares}\")"
   ]
  },
  {
   "cell_type": "code",
   "execution_count": 7,
   "id": "257c7edf",
   "metadata": {},
   "outputs": [
    {
     "name": "stdout",
     "output_type": "stream",
     "text": [
      "Números impares (0-19): [1, 3, 5, 7, 9, 11, 13, 15, 17, 19]\n"
     ]
    }
   ],
   "source": [
    "# Solo números impares\n",
    "impares = [x for x in range(20) if x % 2 != 0]\n",
    "print(f\"Números impares (0-19): {impares}\")"
   ]
  },
  {
   "cell_type": "code",
   "execution_count": 8,
   "id": "6416b469",
   "metadata": {},
   "outputs": [
    {
     "name": "stdout",
     "output_type": "stream",
     "text": [
      "Impares > 5: [7, 9, 11, 13, 15, 17, 19]\n",
      "Mismo resultado: True\n"
     ]
    }
   ],
   "source": [
    "# Múltiples condiciones (AND)\n",
    "impares_mayores = [x for x in range(20) if x % 2 != 0 if x > 5]\n",
    "print(f\"Impares > 5: {impares_mayores}\")\n",
    "\n",
    "# Equivalente con una sola condición compuesta\n",
    "impares_mayores_2 = [x for x in range(20) if x % 2 != 0 and x > 5]\n",
    "print(f\"Mismo resultado: {impares_mayores == impares_mayores_2}\")"
   ]
  },
  {
   "cell_type": "markdown",
   "id": "1576080d",
   "metadata": {},
   "source": [
    "## Filtrar Secuencias"
   ]
  },
  {
   "cell_type": "code",
   "execution_count": 9,
   "id": "1eca5a7a",
   "metadata": {},
   "outputs": [
    {
     "name": "stdout",
     "output_type": "stream",
     "text": [
      "Todas: ['sol', 'luna', 'estrella', 'mar', 'cielo', 'montaña']\n",
      "Largas (> 4): ['estrella', 'cielo', 'montaña']\n",
      "Cortas (≤ 4): ['sol', 'luna', 'mar']\n"
     ]
    }
   ],
   "source": [
    "# Filtrar palabras por longitud\n",
    "palabras = ['sol', 'luna', 'estrella', 'mar', 'cielo', 'montaña']\n",
    "palabras_largas = [palabra for palabra in palabras if len(palabra) > 4]\n",
    "palabras_cortas = [palabra for palabra in palabras if len(palabra) <= 4]\n",
    "\n",
    "print(f\"Todas: {palabras}\")\n",
    "print(f\"Largas (> 4): {palabras_largas}\")\n",
    "print(f\"Cortas (≤ 4): {palabras_cortas}\")"
   ]
  },
  {
   "cell_type": "code",
   "execution_count": 10,
   "id": "8d55dda7",
   "metadata": {},
   "outputs": [
    {
     "name": "stdout",
     "output_type": "stream",
     "text": [
      "Todas las notas: [85, 62, 78, 35, 78, 91, 43, 55]\n",
      "Aprobados (≥80): [85, 62, 78, 78, 91, 55] → 6 estudiantes\n",
      "Suspensos (<80): [35, 43] → 2 estudiantes\n"
     ]
    }
   ],
   "source": [
    "# Filtrar por valor numérico\n",
    "calificaciones = [85, 62, 78, 35, 78, 91, 43, 55]\n",
    "aprobados = [nota for nota in calificaciones if nota >= 50]\n",
    "suspensos = [nota for nota in calificaciones if nota < 50]\n",
    "\n",
    "print(f\"Todas las notas: {calificaciones}\")\n",
    "print(f\"Aprobados (≥80): {aprobados} → {len(aprobados)} estudiantes\")\n",
    "print(f\"Suspensos (<80): {suspensos} → {len(suspensos)} estudiantes\")"
   ]
  },
  {
   "cell_type": "code",
   "execution_count": 11,
   "id": "8525c584",
   "metadata": {},
   "outputs": [
    {
     "name": "stdout",
     "output_type": "stream",
     "text": [
      "Original: [-5, 3, -2, 8, -1, 10, 0, -7, 6]\n",
      "Positivos: [3, 8, 10, 6]\n",
      "Negativos: [-5, -2, -1, -7]\n",
      "Ceros: [0]\n"
     ]
    }
   ],
   "source": [
    "# Filtrar números positivos/negativos\n",
    "numeros = [-5, 3, -2, 8, -1, 10, 0, -7, 6]\n",
    "positivos = [n for n in numeros if n > 0]\n",
    "negativos = [n for n in numeros if n < 0]\n",
    "ceros = [n for n in numeros if n == 0]\n",
    "\n",
    "print(f\"Original: {numeros}\")\n",
    "print(f\"Positivos: {positivos}\")\n",
    "print(f\"Negativos: {negativos}\")\n",
    "print(f\"Ceros: {ceros}\")"
   ]
  },
  {
   "cell_type": "markdown",
   "id": "aa299fd3",
   "metadata": {},
   "source": [
    "## Trabajar con Rangos"
   ]
  },
  {
   "cell_type": "code",
   "execution_count": 12,
   "id": "ddd429e4",
   "metadata": {},
   "outputs": [
    {
     "name": "stdout",
     "output_type": "stream",
     "text": [
      "Primeros 10 múltiplos de 5: [5, 10, 15, 20, 25, 30, 35, 40, 45, 50]\n",
      "Primeros 10 múltiplos de 7: [7, 14, 21, 28, 35, 42, 49, 56, 63, 70]\n"
     ]
    }
   ],
   "source": [
    "# Primeros N múltiplos de un número\n",
    "multiplos_5 = [5 * i for i in range(1, 11)]\n",
    "print(f\"Primeros 10 múltiplos de 5: {multiplos_5}\")\n",
    "\n",
    "multiplos_7 = [7 * i for i in range(1, 11)]\n",
    "print(f\"Primeros 10 múltiplos de 7: {multiplos_7}\")"
   ]
  },
  {
   "cell_type": "code",
   "execution_count": 13,
   "id": "144e05f3",
   "metadata": {},
   "outputs": [
    {
     "name": "stdout",
     "output_type": "stream",
     "text": [
      "Primeras 10 potencias de 2: [1, 2, 4, 8, 16, 32, 64, 128, 256, 512]\n"
     ]
    }
   ],
   "source": [
    "# Potencias de 2\n",
    "potencias_2 = [2 ** i for i in range(10)]\n",
    "print(f\"Primeras 10 potencias de 2: {potencias_2}\")"
   ]
  },
  {
   "cell_type": "code",
   "execution_count": 14,
   "id": "e5e841dc",
   "metadata": {},
   "outputs": [
    {
     "name": "stdout",
     "output_type": "stream",
     "text": [
      "Números primos hasta 50: [2, 3, 5, 7, 11, 13, 17, 19, 23, 29, 31, 37, 41, 43, 47]\n"
     ]
    }
   ],
   "source": [
    "# Números primos simples (método básico)\n",
    "def es_primo(n):\n",
    "    if n < 2:\n",
    "        return False\n",
    "    for i in range(2, int(n ** 0.5) + 1):\n",
    "        if n % i == 0:\n",
    "            return False\n",
    "    return True\n",
    "\n",
    "primos = [n for n in range(2, 50) if es_primo(n)]\n",
    "print(f\"Números primos hasta 50: {primos}\")"
   ]
  },
  {
   "cell_type": "markdown",
   "id": "c63f881d",
   "metadata": {},
   "source": [
    "## 📚 Resumen\n",
    "\n",
    "**Sintaxis básica:**\n",
    "```python\n",
    "# Sin filtro\n",
    "[expresión for elemento in iterable]\n",
    "\n",
    "# Con filtro\n",
    "[expresión for elemento in iterable if condición]\n",
    "\n",
    "# Múltiples condiciones\n",
    "[expresión for elemento in iterable if cond1 if cond2]\n",
    "# O:\n",
    "[expresión for elemento in iterable if cond1 and cond2]\n",
    "```\n",
    "\n",
    "**Ventajas:**\n",
    "- ✅ **Conciso**: Una línea vs múltiples\n",
    "- ✅ **Rápido**: Más eficiente que bucles tradicionales\n",
    "- ✅ **Legible**: Expresa claramente la intención\n",
    "- ✅ **Pythonic**: Estilo idiomático de Python\n",
    "\n",
    "**Cuándo usar:**\n",
    "- ✅ Transformar elementos de una lista\n",
    "- ✅ Filtrar elementos por condición\n",
    "- ✅ Combinar transformación + filtrado\n",
    "- ✅ Crear listas derivadas de secuencias\n",
    "\n",
    "**Equivalencias:**\n",
    "```python\n",
    "# Tradicional\n",
    "resultado = []\n",
    "for x in iterable:\n",
    "    if condicion:\n",
    "        resultado.append(expresion)\n",
    "\n",
    "# Comprehension\n",
    "resultado = [expresion for x in iterable if condicion]\n",
    "```"
   ]
  }
 ],
 "metadata": {
  "kernelspec": {
   "display_name": "SEA_ejemplosT4",
   "language": "python",
   "name": "python3"
  },
  "language_info": {
   "codemirror_mode": {
    "name": "ipython",
    "version": 3
   },
   "file_extension": ".py",
   "mimetype": "text/x-python",
   "name": "python",
   "nbconvert_exporter": "python",
   "pygments_lexer": "ipython3",
   "version": "3.12.3"
  }
 },
 "nbformat": 4,
 "nbformat_minor": 5
}
