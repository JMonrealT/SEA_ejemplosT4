{
 "cells": [
  {
   "cell_type": "markdown",
   "id": "97a2afae",
   "metadata": {},
   "source": [
    "# Referencias en Listas Anidadas - ⚠️ Peligro Común\n",
    "\n",
    "Este ejemplo muestra un error muy común: cuando una lista contiene referencias múltiples a la **misma** sublista, modificar un elemento puede cambiar varios lugares inesperadamente."
   ]
  },
  {
   "cell_type": "markdown",
   "id": "8d7d9c8a",
   "metadata": {},
   "source": [
    "## 🎯 El Problema: Referencias Compartidas\n",
    "\n",
    "Imagina que queremos crear una tabla de 3x3 con ceros. ¿Cuál es la forma correcta?"
   ]
  },
  {
   "cell_type": "code",
   "execution_count": 9,
   "id": "f12e53dc",
   "metadata": {},
   "outputs": [
    {
     "name": "stdout",
     "output_type": "stream",
     "text": [
      "=== FORMA INCORRECTA - Usando referencias compartidas ===\n",
      "\n",
      "Tabla creada:\n",
      "  Fila 0: [0, 0, 0]\n",
      "  Fila 1: [0, 0, 0]\n",
      "  Fila 2: [0, 0, 0]\n",
      "\n",
      "🔍 IDs de las filas:\n",
      "  Fila 0: ID = 133722376162816\n",
      "  Fila 1: ID = 133722376162816\n",
      "  Fila 2: ID = 133722376162816\n",
      "\n",
      "⚠️ ¡Todas las filas tienen el MISMO ID! Son la misma lista.\n"
     ]
    }
   ],
   "source": [
    "print(\"=== FORMA INCORRECTA - Usando referencias compartidas ===\")\n",
    "\n",
    "# ❌ Esto es INCORRECTO pero común\n",
    "fila = [0, 0, 0]\n",
    "tabla_incorrecta = [fila, fila, fila]  # ¡Las 3 filas son LA MISMA lista!\n",
    "\n",
    "print(\"\\nTabla creada:\")\n",
    "for i, fila in enumerate(tabla_incorrecta):\n",
    "    print(f\"  Fila {i}: {fila}\")\n",
    "\n",
    "# Verificar IDs - ¡Son iguales!\n",
    "print(\"\\n🔍 IDs de las filas:\")\n",
    "for i, fila in enumerate(tabla_incorrecta):\n",
    "    print(f\"  Fila {i}: ID = {id(fila)}\")\n",
    "print(\"\\n⚠️ ¡Todas las filas tienen el MISMO ID! Son la misma lista.\")"
   ]
  },
  {
   "cell_type": "markdown",
   "id": "378a52e9",
   "metadata": {},
   "source": [
    "## 💥 El Problema en Acción\n",
    "\n",
    "Ahora intentemos modificar solo un elemento..."
   ]
  },
  {
   "cell_type": "code",
   "execution_count": 10,
   "id": "ec0b6212",
   "metadata": {},
   "outputs": [
    {
     "name": "stdout",
     "output_type": "stream",
     "text": [
      "=== Modificando un elemento ===\n",
      "\n",
      "Tabla ANTES de modificar:\n",
      "  Fila 0: [0, 0, 0]\n",
      "  Fila 1: [0, 0, 0]\n",
      "  Fila 2: [0, 0, 0]\n",
      "\n",
      "🎯 Intentamos cambiar tabla[0][1] = 5\n",
      "\n",
      "💥 Tabla DESPUÉS de modificar:\n",
      "  Fila 0: [0, 5, 0]\n",
      "  Fila 1: [0, 5, 0]\n",
      "  Fila 2: [0, 5, 0]\n",
      "\n",
      "⚠️ ¡PROBLEMA! Queríamos cambiar solo la fila 0, pero cambiaron TODAS las filas.\n",
      "Esto ocurrió porque las 3 'filas' son en realidad la MISMA lista.\n"
     ]
    }
   ],
   "source": [
    "print(\"=== Modificando un elemento ===\")\n",
    "\n",
    "print(\"\\nTabla ANTES de modificar:\")\n",
    "for i, fila in enumerate(tabla_incorrecta):\n",
    "    print(f\"  Fila {i}: {fila}\")\n",
    "\n",
    "# Intentamos cambiar SOLO la posición [0][1] (fila 0, columna 1)\n",
    "print(\"\\n🎯 Intentamos cambiar tabla[0][1] = 5\")\n",
    "tabla_incorrecta[0][1] = 5\n",
    "\n",
    "print(\"\\n💥 Tabla DESPUÉS de modificar:\")\n",
    "for i, fila in enumerate(tabla_incorrecta):\n",
    "    print(f\"  Fila {i}: {fila}\")\n",
    "\n",
    "print(\"\\n⚠️ ¡PROBLEMA! Queríamos cambiar solo la fila 0, pero cambiaron TODAS las filas.\")\n",
    "print(\"Esto ocurrió porque las 3 'filas' son en realidad la MISMA lista.\")"
   ]
  },
  {
   "cell_type": "markdown",
   "id": "afa99804",
   "metadata": {},
   "source": [
    "## 🔬 Visualización del Problema\n",
    "\n",
    "Veamos gráficamente qué está pasando:\n",
    "\n",
    "```\n",
    "Cuando creamos: fila = [0, 0, 0]\n",
    "                tabla = [fila, fila, fila]\n",
    "\n",
    "Lo que Python hace:\n",
    "\n",
    "  tabla[0] ───┐\n",
    "              │\n",
    "  tabla[1] ───┼──→  [0, 0, 0]  ← La MISMA lista en memoria\n",
    "              │\n",
    "  tabla[2] ───┘\n",
    "\n",
    "Por eso al modificar tabla[0][1], afecta a tabla[1][1] y tabla[2][1] también.\n",
    "```\n",
    "\n",
    "💡 **Todas las 'filas' apuntan al mismo objeto en memoria.**\n",
    "\n",
    "---\n",
    "\n",
    "**Comparación con la forma correcta:**\n",
    "\n",
    "```\n",
    "❌ INCORRECTO:                      ✅ CORRECTO:\n",
    "   tabla = [fila, fila, fila]          tabla = [[0,0,0], [0,0,0], [0,0,0]]\n",
    "\n",
    "   tabla[0] ───┐                       tabla[0] ───→ [0, 0, 0]\n",
    "               │                                       \n",
    "   tabla[1] ───┼──→ [0, 0, 0]          tabla[1] ───→ [0, 0, 0]\n",
    "               │                                       \n",
    "   tabla[2] ───┘                       tabla[2] ───→ [0, 0, 0]\n",
    "   \n",
    "   UNA SOLA lista                      TRES listas diferentes\n",
    "   Modificar una → cambian todas       Modificar una → solo cambia esa\n",
    "```"
   ]
  },
  {
   "cell_type": "markdown",
   "id": "28a69bc7",
   "metadata": {},
   "source": [
    "## ✅ Solución 1: Crear Copias Explícitas"
   ]
  },
  {
   "cell_type": "code",
   "execution_count": 12,
   "id": "c97139b0",
   "metadata": {},
   "outputs": [
    {
     "name": "stdout",
     "output_type": "stream",
     "text": [
      "\n",
      "=== SOLUCIÓN 1: Crear copias explícitas ===\n",
      "\n",
      "🔍 IDs de las filas (ahora diferentes):\n",
      "  Fila 0: ID = 133722376461312\n",
      "  Fila 1: ID = 133722376461376\n",
      "  Fila 2: ID = 133722376461056\n",
      "\n",
      "✅ Cada fila tiene un ID diferente. Son listas independientes.\n",
      "\n",
      "Tabla ANTES:\n",
      "  Fila 0: [0, 0, 0]\n",
      "  Fila 1: [0, 0, 0]\n",
      "  Fila 2: [0, 0, 0]\n",
      "\n",
      "Tabla DESPUÉS de cambiar tabla[0][1] = 5:\n",
      "  Fila 0: [0, 5, 0]\n",
      "  Fila 1: [0, 0, 0]\n",
      "  Fila 2: [0, 0, 0]\n",
      "\n",
      "✅ ¡Perfecto! Solo cambió la fila 0.\n"
     ]
    }
   ],
   "source": [
    "print(\"\\n=== SOLUCIÓN 1: Crear copias explícitas ===\")\n",
    "\n",
    "# ✅ Crear una copia de la lista cada vez\n",
    "fila_base = [0, 0, 0]\n",
    "tabla_correcta = [fila_base.copy(), fila_base.copy(), fila_base.copy()]\n",
    "\n",
    "print(\"\\n🔍 IDs de las filas (ahora diferentes):\")\n",
    "for i, fila in enumerate(tabla_correcta):\n",
    "    print(f\"  Fila {i}: ID = {id(fila)}\")\n",
    "print(\"\\n✅ Cada fila tiene un ID diferente. Son listas independientes.\")\n",
    "\n",
    "# Modificar un elemento\n",
    "print(\"\\nTabla ANTES:\")\n",
    "for i, fila in enumerate(tabla_correcta):\n",
    "    print(f\"  Fila {i}: {fila}\")\n",
    "\n",
    "tabla_correcta[0][1] = 5\n",
    "\n",
    "print(\"\\nTabla DESPUÉS de cambiar tabla[0][1] = 5:\")\n",
    "for i, fila in enumerate(tabla_correcta):\n",
    "    print(f\"  Fila {i}: {fila}\")\n",
    "\n",
    "print(\"\\n✅ ¡Perfecto! Solo cambió la fila 0.\")"
   ]
  },
  {
   "cell_type": "markdown",
   "id": "10a49e4c",
   "metadata": {},
   "source": [
    "## ✅ Solución 2: List Comprehension (Recomendado)\n",
    "\n",
    "La veremos en detalle más adelante."
   ]
  },
  {
   "cell_type": "code",
   "execution_count": 13,
   "id": "2256c29d",
   "metadata": {},
   "outputs": [
    {
     "name": "stdout",
     "output_type": "stream",
     "text": [
      "\n",
      "=== SOLUCIÓN 2: List Comprehension (RECOMENDADO) ===\n",
      "\n",
      "🔍 IDs de las filas:\n",
      "  Fila 0: ID = 133722376403008\n",
      "  Fila 1: ID = 133722376491072\n",
      "  Fila 2: ID = 133722376551744\n",
      "\n",
      "✅ Cada fila es independiente.\n",
      "\n",
      "Modificando diferentes elementos:\n",
      "\n",
      "Tabla final:\n",
      "  Fila 0: [1, 0, 0]\n",
      "  Fila 1: [0, 2, 0]\n",
      "  Fila 2: [0, 0, 3]\n",
      "\n",
      "✅ ¡Perfecto! Cada modificación afecta solo su posición.\n"
     ]
    }
   ],
   "source": [
    "print(\"\\n=== SOLUCIÓN 2: List Comprehension (RECOMENDADO) ===\")\n",
    "\n",
    "# ✅ Cada iteración crea una NUEVA lista\n",
    "tabla_mejor = [[0, 0, 0] for _ in range(3)]\n",
    "\n",
    "print(\"\\n🔍 IDs de las filas:\")\n",
    "for i, fila in enumerate(tabla_mejor):\n",
    "    print(f\"  Fila {i}: ID = {id(fila)}\")\n",
    "print(\"\\n✅ Cada fila es independiente.\")\n",
    "\n",
    "# Modificar varios elementos\n",
    "print(\"\\nModificando diferentes elementos:\")\n",
    "tabla_mejor[0][0] = 1\n",
    "tabla_mejor[1][1] = 2\n",
    "tabla_mejor[2][2] = 3\n",
    "\n",
    "print(\"\\nTabla final:\")\n",
    "for i, fila in enumerate(tabla_mejor):\n",
    "    print(f\"  Fila {i}: {fila}\")\n",
    "\n",
    "print(\"\\n✅ ¡Perfecto! Cada modificación afecta solo su posición.\")"
   ]
  },
  {
   "cell_type": "markdown",
   "id": "3837092f",
   "metadata": {},
   "source": [
    "## 🔬 Ejemplo Detallado: Agenda de Estudiantes\n",
    "\n",
    "Veamos un ejemplo más realista donde este problema puede aparecer."
   ]
  },
  {
   "cell_type": "code",
   "execution_count": 14,
   "id": "2552f4c1",
   "metadata": {},
   "outputs": [
    {
     "name": "stdout",
     "output_type": "stream",
     "text": [
      "=== EJEMPLO REALISTA: Agenda de estudiantes ===\n",
      "\n",
      "Queremos crear una agenda semanal para 3 estudiantes.\n",
      "Cada estudiante tiene una lista de tareas: [tarea1, tarea2, ...]\n",
      "\n",
      "❌ FORMA INCORRECTA:\n",
      "\n",
      "Agenda inicial:\n",
      "  Ana: ['Matemáticas', 'Ciencias']\n",
      "  Luis: ['Matemáticas', 'Ciencias']\n",
      "  María: ['Matemáticas', 'Ciencias']\n",
      "\n",
      "🎯 Queremos agregar 'Historia' solo a Ana...\n",
      "\n",
      "💥 Resultado:\n",
      "  Ana: ['Matemáticas', 'Ciencias', 'Historia']\n",
      "  Luis: ['Matemáticas', 'Ciencias', 'Historia']\n",
      "  María: ['Matemáticas', 'Ciencias', 'Historia']\n",
      "\n",
      "⚠️ ¡Se agregó a TODOS! Porque todos comparten la misma lista.\n"
     ]
    }
   ],
   "source": [
    "print(\"=== EJEMPLO REALISTA: Agenda de estudiantes ===\")\n",
    "print(\"\\nQueremos crear una agenda semanal para 3 estudiantes.\")\n",
    "print(\"Cada estudiante tiene una lista de tareas: [tarea1, tarea2, ...]\")\n",
    "\n",
    "# ❌ FORMA INCORRECTA\n",
    "print(\"\\n❌ FORMA INCORRECTA:\")\n",
    "tareas_base = [\"Matemáticas\", \"Ciencias\"]\n",
    "agenda_incorrecta = {\n",
    "    \"Ana\": tareas_base,\n",
    "    \"Luis\": tareas_base,\n",
    "    \"María\": tareas_base\n",
    "}\n",
    "\n",
    "print(\"\\nAgenda inicial:\")\n",
    "for estudiante, tareas in agenda_incorrecta.items():\n",
    "    print(f\"  {estudiante}: {tareas}\")\n",
    "\n",
    "# Intentamos agregar una tarea solo a Ana\n",
    "print(\"\\n🎯 Queremos agregar 'Historia' solo a Ana...\")\n",
    "agenda_incorrecta[\"Ana\"].append(\"Historia\")\n",
    "\n",
    "print(\"\\n💥 Resultado:\")\n",
    "for estudiante, tareas in agenda_incorrecta.items():\n",
    "    print(f\"  {estudiante}: {tareas}\")\n",
    "    \n",
    "print(\"\\n⚠️ ¡Se agregó a TODOS! Porque todos comparten la misma lista.\")"
   ]
  },
  {
   "cell_type": "code",
   "execution_count": 15,
   "id": "ba83362d",
   "metadata": {},
   "outputs": [
    {
     "name": "stdout",
     "output_type": "stream",
     "text": [
      "\n",
      "✅ FORMA CORRECTA:\n",
      "\n",
      "Verificando IDs:\n",
      "  Ana: ID = 133722376490624\n",
      "  Luis: ID = 133722376547776\n",
      "  María: ID = 133722376400192\n",
      "\n",
      "✅ Cada estudiante tiene su propia lista independiente.\n",
      "\n",
      "🎯 Agregamos 'Historia' a Ana...\n",
      "\n",
      "✅ Resultado correcto:\n",
      "  Ana: ['Matemáticas', 'Ciencias', 'Historia']\n",
      "  Luis: ['Matemáticas', 'Ciencias', 'Inglés']\n",
      "  María: ['Matemáticas', 'Ciencias']\n",
      "\n",
      "✅ ¡Perfecto! Cada estudiante tiene sus propias tareas.\n"
     ]
    }
   ],
   "source": [
    "# ✅ FORMA CORRECTA\n",
    "print(\"\\n✅ FORMA CORRECTA:\")\n",
    "agenda_correcta = {\n",
    "    \"Ana\": [\"Matemáticas\", \"Ciencias\"],\n",
    "    \"Luis\": [\"Matemáticas\", \"Ciencias\"],\n",
    "    \"María\": [\"Matemáticas\", \"Ciencias\"]\n",
    "}\n",
    "\n",
    "print(\"\\nVerificando IDs:\")\n",
    "for estudiante, tareas in agenda_correcta.items():\n",
    "    print(f\"  {estudiante}: ID = {id(tareas)}\")\n",
    "print(\"\\n✅ Cada estudiante tiene su propia lista independiente.\")\n",
    "\n",
    "# Ahora agregamos solo a Ana\n",
    "print(\"\\n🎯 Agregamos 'Historia' a Ana...\")\n",
    "agenda_correcta[\"Ana\"].append(\"Historia\")\n",
    "\n",
    "# Y algo diferente a Luis\n",
    "agenda_correcta[\"Luis\"].append(\"Inglés\")\n",
    "\n",
    "print(\"\\n✅ Resultado correcto:\")\n",
    "for estudiante, tareas in agenda_correcta.items():\n",
    "    print(f\"  {estudiante}: {tareas}\")\n",
    "\n",
    "print(\"\\n✅ ¡Perfecto! Cada estudiante tiene sus propias tareas.\")"
   ]
  },
  {
   "cell_type": "markdown",
   "id": "fbf4d7e8",
   "metadata": {},
   "source": [
    "## 📚 Resumen y Mejores Prácticas\n",
    "\n",
    "### ⚠️ El Problema\n",
    "Cuando creas estructuras anidadas reutilizando la misma referencia:\n",
    "```python\n",
    "fila = [0, 0, 0]\n",
    "tabla = [fila, fila, fila]  # ❌ Todas apuntan a la misma lista\n",
    "```\n",
    "\n",
    "### ✅ Soluciones\n",
    "\n",
    "1. **List Comprehension** (Recomendado):\n",
    "```python\n",
    "tabla = [[0, 0, 0] for _ in range(3)]  # ✅ Cada fila es nueva\n",
    "```\n",
    "\n",
    "2. **Copias explícitas**:\n",
    "```python\n",
    "fila = [0, 0, 0]\n",
    "tabla = [fila.copy(), fila.copy(), fila.copy()]  # ✅ Copias independientes\n",
    "```\n",
    "\n",
    "3. **Crear nuevas listas directamente**:\n",
    "```python\n",
    "tabla = [\n",
    "    [0, 0, 0],\n",
    "    [0, 0, 0],\n",
    "    [0, 0, 0]\n",
    "]  # ✅ Cada una es nueva\n",
    "```\n",
    "\n",
    "### 💡 Regla de Oro\n",
    "**Cuando trabajes con listas anidadas, asegúrate de que cada sublista sea un objeto independiente en memoria.**\n",
    "\n",
    "### 🔍 Cómo Verificar\n",
    "Usa `id()` para verificar que las sublistas tengan IDs diferentes:\n",
    "```python\n",
    "for i, fila in enumerate(tabla):\n",
    "    print(f\"Fila {i}: ID = {id(fila)}\")\n",
    "```\n",
    "\n",
    "Si todos los IDs son iguales, ¡tienes referencias compartidas!"
   ]
  }
 ],
 "metadata": {
  "kernelspec": {
   "display_name": "SEA_ejemplosT4",
   "language": "python",
   "name": "python3"
  },
  "language_info": {
   "codemirror_mode": {
    "name": "ipython",
    "version": 3
   },
   "file_extension": ".py",
   "mimetype": "text/x-python",
   "name": "python",
   "nbconvert_exporter": "python",
   "pygments_lexer": "ipython3",
   "version": "3.12.3"
  }
 },
 "nbformat": 4,
 "nbformat_minor": 5
}
