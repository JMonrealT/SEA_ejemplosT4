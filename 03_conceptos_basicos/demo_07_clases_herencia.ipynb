{
 "cells": [
  {
   "cell_type": "markdown",
   "id": "titulo",
   "metadata": {},
   "source": [
    "# Clases y Herencia\n",
    "\n",
    "La programación orientada a objetos permite modelar entidades como clases con atributos y métodos."
   ]
  },
  {
   "cell_type": "markdown",
   "id": "resumen",
   "metadata": {},
   "source": [
    "## Resumen\n",
    "\n",
    "- **Clase**: Plantilla para crear objetos\n",
    "- **Atributos**: Datos del objeto\n",
    "- **Métodos**: Funciones de la clase\n",
    "- **__init__**: Constructor (inicialización)\n",
    "- **self**: Referencia al objeto\n",
    "- **Herencia**: Una clase puede heredar de otra"
   ]
  },
  {
   "cell_type": "markdown",
   "id": "seccion1",
   "metadata": {},
   "source": [
    "## 1️⃣ Clase Básica\n",
    "\n",
    "Una clase con atributos y métodos."
   ]
  },
  {
   "cell_type": "code",
   "execution_count": null,
   "id": "clase_basica",
   "metadata": {},
   "outputs": [],
   "source": [
    "class Persona:\n",
    "    # Constructor\n",
    "    def __init__(self, nombre, edad):\n",
    "        self.nombre = nombre\n",
    "        self.edad = edad\n",
    "    \n",
    "    # Método\n",
    "    def saludar(self):\n",
    "        print(f\"Hola, me llamo {self.nombre}\")\n",
    "    \n",
    "    def __str__(self):\n",
    "        return f\"Persona({self.nombre}, {self.edad} años)\"\n",
    "\n",
    "# Crear objeto\n",
    "p1 = Persona(\"Alice\", 30)\n",
    "p1.saludar()\n",
    "print(p1)"
   ]
  },
  {
   "cell_type": "markdown",
   "id": "seccion2",
   "metadata": {},
   "source": [
    "## 2️⃣ Atributos de Clase vs Instancia\n",
    "\n",
    "Los atributos de clase son compartidos. Los de instancia son individuales."
   ]
  },
  {
   "cell_type": "code",
   "execution_count": null,
   "id": "atributos",
   "metadata": {},
   "outputs": [],
   "source": [
    "class Contador:\n",
    "    total = 0  # Atributo de clase\n",
    "    \n",
    "    def __init__(self, nombre):\n",
    "        self.nombre = nombre  # Atributo de instancia\n",
    "        Contador.total += 1\n",
    "\n",
    "c1 = Contador(\"C1\")\n",
    "c2 = Contador(\"C2\")\n",
    "c3 = Contador(\"C3\")\n",
    "\n",
    "print(f\"Total de objetos: {Contador.total}\")"
   ]
  },
  {
   "cell_type": "markdown",
   "id": "seccion3",
   "metadata": {},
   "source": [
    "## 3️⃣ Herencia Básica\n",
    "\n",
    "Una clase hija hereda de una clase padre."
   ]
  },
  {
   "cell_type": "code",
   "execution_count": null,
   "id": "herencia",
   "metadata": {},
   "outputs": [],
   "source": [
    "class Animal:\n",
    "    def __init__(self, nombre):\n",
    "        self.nombre = nombre\n",
    "    \n",
    "    def hacer_sonido(self):\n",
    "        print(\"Sonido genérico\")\n",
    "\n",
    "class Perro(Animal):\n",
    "    def hacer_sonido(self):\n",
    "        print(f\"{self.nombre} ladra: ¡Guau!\")\n",
    "\n",
    "class Gato(Animal):\n",
    "    def hacer_sonido(self):\n",
    "        print(f\"{self.nombre} maúlla: ¡Miau!\")\n",
    "\n",
    "perro = Perro(\"Rex\")\n",
    "gato = Gato(\"Whiskers\")\n",
    "\n",
    "perro.hacer_sonido()\n",
    "gato.hacer_sonido()"
   ]
  },
  {
   "cell_type": "markdown",
   "id": "seccion4",
   "metadata": {},
   "source": [
    "## 4️⃣ Sobrescritura y super()\n",
    "\n",
    "Usar `super()` para llamar al método de la clase padre."
   ]
  },
  {
   "cell_type": "code",
   "execution_count": null,
   "id": "super",
   "metadata": {},
   "outputs": [],
   "source": [
    "class Vehiculo:\n",
    "    def __init__(self, marca):\n",
    "        self.marca = marca\n",
    "    \n",
    "    def info(self):\n",
    "        return f\"Vehículo: {self.marca}\"\n",
    "\n",
    "class Coche(Vehiculo):\n",
    "    def __init__(self, marca, puertas):\n",
    "        super().__init__(marca)  # Llamar constructor padre\n",
    "        self.puertas = puertas\n",
    "    \n",
    "    def info(self):\n",
    "        padre = super().info()  # Llamar método padre\n",
    "        return f\"{padre}, puertas: {self.puertas}\"\n",
    "\n",
    "coche = Coche(\"Toyota\", 4)\n",
    "print(coche.info())"
   ]
  },
  {
   "cell_type": "markdown",
   "id": "seccion5",
   "metadata": {},
   "source": [
    "## 5️⃣ Herencia Múltiple\n",
    "\n",
    "Una clase puede heredar de múltiples clases (MRO - Method Resolution Order)."
   ]
  },
  {
   "cell_type": "code",
   "execution_count": null,
   "id": "herencia_multiple",
   "metadata": {},
   "outputs": [],
   "source": [
    "class Terrestre:\n",
    "    def caminar(self):\n",
    "        print(\"Caminando...\")\n",
    "\n",
    "class Acuatico:\n",
    "    def nadar(self):\n",
    "        print(\"Nadando...\")\n",
    "\n",
    "class Pato(Terrestre, Acuatico):\n",
    "    def cuackear(self):\n",
    "        print(\"¡Cuack!\")\n",
    "\n",
    "pato = Pato()\n",
    "pato.caminar()\n",
    "pato.nadar()\n",
    "pato.cuackear()\n",
    "print(f\"MRO: {Pato.__mro__}\")"
   ]
  },
  {
   "cell_type": "markdown",
   "id": "seccion6",
   "metadata": {},
   "source": [
    "## 6️⃣ Métodos Especiales\n",
    "\n",
    "Métodos `__` (dunder) para personalizar el comportamiento."
   ]
  },
  {
   "cell_type": "code",
   "execution_count": null,
   "id": "metodos_especiales",
   "metadata": {},
   "outputs": [],
   "source": [
    "class Punto:\n",
    "    def __init__(self, x, y):\n",
    "        self.x = x\n",
    "        self.y = y\n",
    "    \n",
    "    def __str__(self):\n",
    "        return f\"({self.x}, {self.y})\"\n",
    "    \n",
    "    def __repr__(self):\n",
    "        return f\"Punto({self.x}, {self.y})\"\n",
    "    \n",
    "    def __eq__(self, otro):\n",
    "        return self.x == otro.x and self.y == otro.y\n",
    "    \n",
    "    def __add__(self, otro):\n",
    "        return Punto(self.x + otro.x, self.y + otro.y)\n",
    "\n",
    "p1 = Punto(1, 2)\n",
    "p2 = Punto(3, 4)\n",
    "p3 = p1 + p2\n",
    "\n",
    "print(f\"p1: {p1}\")\n",
    "print(f\"p2: {p2}\")\n",
    "print(f\"p1 + p2: {p3}\")\n",
    "print(f\"p1 == p2: {p1 == p2}\")"
   ]
  },
  {
   "cell_type": "markdown",
   "id": "conclusiones",
   "metadata": {},
   "source": [
    "## Conclusiones\n",
    "\n",
    "- Las clases modelan objetos del mundo real\n",
    "- Encapsulación: agrupar datos y métodos\n",
    "- Herencia: reutilizar código desde clase padre\n",
    "- Polimorfismo: métodos con mismo nombre, diferentes implementaciones\n",
    "- Métodos especiales personalizan el comportamiento"
   ]
  }
 ],
 "metadata": {
  "kernelspec": {
   "display_name": "SEA_ejemplosT4",
   "language": "python",
   "name": "python3"
  },
  "language_info": {
   "name": "python",
   "version": "3.12.3"
  }
 },
 "nbformat": 4,
 "nbformat_minor": 5
}
