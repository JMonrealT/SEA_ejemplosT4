{
 "cells": [
  {
   "cell_type": "markdown",
   "id": "fe916efd",
   "metadata": {},
   "source": [
    "# Demostración de Comentarios en Python\n",
    "\n",
    "Los comentarios son esenciales para documentar el código y hacerlo más comprensible."
   ]
  },
  {
   "cell_type": "markdown",
   "id": "29d47566",
   "metadata": {},
   "source": [
    "## Tipos de Comentarios\n",
    "\n",
    "Python soporta:\n",
    "- Comentarios de una línea con `#`\n",
    "- Comentarios multilínea con `\"\"\"` o `'''` (docstrings)"
   ]
  },
  {
   "cell_type": "code",
   "execution_count": 1,
   "id": "b72fbc91",
   "metadata": {},
   "outputs": [],
   "source": [
    "# Este es un comentario de una línea\n",
    "\n",
    "\"\"\"\n",
    "Este es un comentario\n",
    "de múltiples líneas\n",
    "o docstring\n",
    "\"\"\"\n",
    "\n",
    "def saludar(nombre):\n",
    "    \"\"\"\n",
    "    Función que saluda a una persona\n",
    "    Args: nombre (str): Nombre de la persona\n",
    "    Returns: str: Mensaje de saludo\n",
    "    \"\"\"\n",
    "    return f\"Hola, {nombre}!\""
   ]
  },
  {
   "cell_type": "markdown",
   "id": "43135cf2",
   "metadata": {},
   "source": [
    "## Comentarios Inline\n",
    "\n",
    "Podemos agregar comentarios al final de una línea de código."
   ]
  },
  {
   "cell_type": "code",
   "execution_count": 2,
   "id": "4678db62",
   "metadata": {},
   "outputs": [
    {
     "name": "stdout",
     "output_type": "stream",
     "text": [
      "Demo de Comentarios\n",
      "Hola, Ana!\n",
      "Edad: 25\n"
     ]
    }
   ],
   "source": [
    "edad = 25  # Esta es la edad en años\n",
    "\n",
    "print(\"Demo de Comentarios\")\n",
    "print(saludar(\"Ana\"))  # Llamada a la función\n",
    "print(f\"Edad: {edad}\")"
   ]
  },
  {
   "cell_type": "markdown",
   "id": "bbf5d739",
   "metadata": {},
   "source": [
    "## Comentarios para Código Complejo\n",
    "\n",
    "Es buena práctica comentar código complejo para explicar qué hace."
   ]
  },
  {
   "cell_type": "code",
   "execution_count": 3,
   "id": "3e3c84e7",
   "metadata": {},
   "outputs": [
    {
     "name": "stdout",
     "output_type": "stream",
     "text": [
      "Suma de cuadrados de números pares del 0-9: 120\n",
      "\n",
      "Demo de comentarios completada\n"
     ]
    }
   ],
   "source": [
    "# Comentarios para explicar código complejo\n",
    "resultado = sum(x**2 for x in range(10) if x % 2 == 0)  # Suma de cuadrados de pares\n",
    "print(f\"Suma de cuadrados de números pares del 0-9: {resultado}\")\n",
    "\n",
    "print(\"\\nDemo de comentarios completada\")"
   ]
  }
 ],
 "metadata": {
  "kernelspec": {
   "display_name": "SEA_ejemplosT4",
   "language": "python",
   "name": "python3"
  },
  "language_info": {
   "codemirror_mode": {
    "name": "ipython",
    "version": 3
   },
   "file_extension": ".py",
   "mimetype": "text/x-python",
   "name": "python",
   "nbconvert_exporter": "python",
   "pygments_lexer": "ipython3",
   "version": "3.12.3"
  }
 },
 "nbformat": 4,
 "nbformat_minor": 5
}
