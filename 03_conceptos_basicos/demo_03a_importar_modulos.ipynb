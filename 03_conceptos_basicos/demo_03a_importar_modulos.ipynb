{
 "cells": [
  {
   "cell_type": "markdown",
   "id": "7a6d009e",
   "metadata": {},
   "source": [
    "# Demostración de Importación de Módulos\n",
    "\n",
    "Python permite reutilizar código mediante la importación de módulos y paquetes."
   ]
  },
  {
   "cell_type": "markdown",
   "id": "e38ff1e6",
   "metadata": {},
   "source": [
    "## Diferentes Formas de Importar\n",
    "\n",
    "Existen varias formas de importar módulos en Python:\n",
    "\n",
    "1. **Importar módulo completo**: `import modulo`\n",
    "   - 📦 **Importamos toda la caja de herramientas**\n",
    "   - Debemos mencionar `modulo.funcion()` para usar cada herramienta\n",
    "\n",
    "2. **Importar funciones específicas**: `from modulo import funcion`\n",
    "   - 🔧 **Solo sacamos las herramientas que necesitamos de la caja**\n",
    "   - Usamos directamente `funcion()` sin mencionar el módulo\n",
    "\n",
    "3. **Importar con alias**: `import modulo as alias`\n",
    "   - 🏷️ **Le ponemos un nombre más corto a la caja**\n",
    "   - Usamos `alias.funcion()` en lugar del nombre original"
   ]
  },
  {
   "cell_type": "code",
   "execution_count": 1,
   "id": "fb7873ba",
   "metadata": {},
   "outputs": [
    {
     "name": "stdout",
     "output_type": "stream",
     "text": [
      "Demo de Importación de Módulos\n"
     ]
    }
   ],
   "source": [
    "print(\"Demo de Importación de Módulos\")\n",
    "\n",
    "# 1. Importar módulo completo\n",
    "import math\n",
    "import datetime\n",
    "\n",
    "# 2. Importar función específica  \n",
    "from random import randint, choice\n",
    "from os import getcwd\n",
    "\n",
    "# 3. Importar con alias\n",
    "import json as js"
   ]
  },
  {
   "cell_type": "markdown",
   "id": "976fe92c",
   "metadata": {},
   "source": [
    "## Usando el Módulo Math\n",
    "\n",
    "📦 **Módulo completo importado**: `import math`\n",
    "- Tenemos toda la caja, debemos especificar `math.funcion()`"
   ]
  },
  {
   "cell_type": "code",
   "execution_count": 2,
   "id": "ac53091e",
   "metadata": {},
   "outputs": [
    {
     "name": "stdout",
     "output_type": "stream",
     "text": [
      "Usando math:\n",
      "PI = 3.1416\n",
      "Raíz de 16 = 4.0\n"
     ]
    }
   ],
   "source": [
    "print(\"Usando math:\")\n",
    "print(f\"PI = {math.pi:.4f}\")\n",
    "print(f\"Raíz de 16 = {math.sqrt(16)}\")"
   ]
  },
  {
   "cell_type": "markdown",
   "id": "49a4fc3c",
   "metadata": {},
   "source": [
    "## Usando el Módulo Datetime\n",
    "\n",
    "📦 **Módulo completo importado**: `import datetime`\n",
    "- Necesitamos especificar `datetime.datetime.now()` (módulo.clase.método)"
   ]
  },
  {
   "cell_type": "code",
   "execution_count": 3,
   "id": "51af6fff",
   "metadata": {},
   "outputs": [
    {
     "name": "stdout",
     "output_type": "stream",
     "text": [
      "Usando datetime:\n",
      "Fecha actual: 2025-10-15\n"
     ]
    }
   ],
   "source": [
    "print(\"Usando datetime:\")\n",
    "print(f\"Fecha actual: {datetime.datetime.now().strftime('%Y-%m-%d')}\")"
   ]
  },
  {
   "cell_type": "markdown",
   "id": "c32198c2",
   "metadata": {},
   "source": [
    "## Usando el Módulo Random\n",
    "\n",
    "🔧 **Funciones específicas importadas**: `from random import randint, choice`\n",
    "- Solo sacamos estas herramientas de la caja\n",
    "- Usamos directamente `randint()` y `choice()` sin mencionar el módulo"
   ]
  },
  {
   "cell_type": "code",
   "execution_count": 4,
   "id": "0991717e",
   "metadata": {},
   "outputs": [
    {
     "name": "stdout",
     "output_type": "stream",
     "text": [
      "Usando random:\n",
      "Número aleatorio: 6\n",
      "Fruta aleatoria: manzana\n"
     ]
    }
   ],
   "source": [
    "print(\"Usando random:\")\n",
    "print(f\"Número aleatorio: {randint(1, 10)}\")\n",
    "frutas = [\"manzana\", \"banana\", \"naranja\"]\n",
    "print(f\"Fruta aleatoria: {choice(frutas)}\")"
   ]
  },
  {
   "cell_type": "markdown",
   "id": "979860f1",
   "metadata": {},
   "source": [
    "## Usando el Módulo OS\n",
    "\n",
    "🔧 **Función específica importada**: `from os import getcwd`\n",
    "- Solo sacamos esta herramienta de la caja\n",
    "- Usamos directamente `getcwd()` sin mencionar `os.getcwd()`"
   ]
  },
  {
   "cell_type": "code",
   "execution_count": 5,
   "id": "2fb47db1",
   "metadata": {},
   "outputs": [
    {
     "name": "stdout",
     "output_type": "stream",
     "text": [
      "Usando os:\n",
      "Directorio actual: /home/user/Escritorio/SEA_ejemplosT4/03_conceptos_basicos\n"
     ]
    }
   ],
   "source": [
    "print(\"Usando os:\")\n",
    "print(f\"Directorio actual: {getcwd()}\")"
   ]
  },
  {
   "cell_type": "markdown",
   "id": "86dd5a17",
   "metadata": {},
   "source": [
    "## Usando JSON con Alias\n",
    "\n",
    "🏷️ **Módulo con alias**: `import json as js`\n",
    "- Le pusimos el nombre corto \"js\" a la caja \"json\"\n",
    "- Usamos `js.dumps()` en lugar de `json.dumps()`"
   ]
  },
  {
   "cell_type": "code",
   "execution_count": 6,
   "id": "b4f9a924",
   "metadata": {},
   "outputs": [
    {
     "name": "stdout",
     "output_type": "stream",
     "text": [
      "Usando json con alias:\n",
      "JSON: {\"nombre\": \"Python\", \"version\": 3.9}\n",
      "\n",
      "Demo completada\n"
     ]
    }
   ],
   "source": [
    "print(\"Usando json con alias:\")\n",
    "datos = {\"nombre\": \"Python\", \"version\": 3.9}\n",
    "json_string = js.dumps(datos)\n",
    "print(f\"JSON: {json_string}\")\n",
    "\n",
    "print(\"\\nDemo completada\")"
   ]
  },
  {
   "cell_type": "markdown",
   "id": "bcc61661",
   "metadata": {},
   "source": [
    "## 📝 Resumen Comparativo\n",
    "\n",
    "| Tipo de Importación | Código | Cómo usar | Analogía |\n",
    "|---------------------|--------|-----------|----------|\n",
    "| Módulo completo | `import math` | `math.sqrt(16)` | 📦 Traemos toda la caja |\n",
    "| Función específica | `from random import randint` | `randint(1, 10)` | 🔧 Solo la herramienta que necesitamos |\n",
    "| Con alias | `import json as js` | `js.dumps(data)` | 🏷️ Renombramos la caja |\n",
    "\n",
    "**Ventajas y cuándo usar cada una:**\n",
    "\n",
    "- **📦 Módulo completo**: Cuando necesitas varias funciones y quieres saber de dónde vienen\n",
    "- **🔧 Función específica**: Cuando solo necesitas pocas funciones y quieres código más limpio\n",
    "- **🏷️ Con alias**: Cuando el nombre del módulo es muy largo (ej: `pandas as pd`, `numpy as np`)"
   ]
  }
 ],
 "metadata": {
  "kernelspec": {
   "display_name": "SEA_ejemplosT4",
   "language": "python",
   "name": "python3"
  },
  "language_info": {
   "codemirror_mode": {
    "name": "ipython",
    "version": 3
   },
   "file_extension": ".py",
   "mimetype": "text/x-python",
   "name": "python",
   "nbconvert_exporter": "python",
   "pygments_lexer": "ipython3",
   "version": "3.12.3"
  }
 },
 "nbformat": 4,
 "nbformat_minor": 5
}
