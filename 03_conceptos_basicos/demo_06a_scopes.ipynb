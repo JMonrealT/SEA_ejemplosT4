{
 "cells": [
  {
   "cell_type": "markdown",
   "id": "titulo",
   "metadata": {},
   "source": [
    "# Scopes (Ámbitos)\n",
    "\n",
    "El scope determina la visibilidad y accesibilidad de las variables en diferentes partes del código."
   ]
  },
  {
   "cell_type": "markdown",
   "id": "resumen",
   "metadata": {},
   "source": [
    "## Resumen\n",
    "\n",
    "- **Global**: Accesible desde cualquier parte del código\n",
    "- **Local**: Solo accesible dentro de la función\n",
    "- **Enclosing**: Variables de funciones externas (closures)\n",
    "- **Built-in**: Funciones y constantes predefinidas de Python\n",
    "- **Regla LEGB**: Orden de búsqueda de variables"
   ]
  },
  {
   "cell_type": "markdown",
   "id": "seccion1",
   "metadata": {},
   "source": [
    "## 1️⃣ Variables Globales y Locales\n",
    "\n",
    "Las variables definidas fuera de funciones son globales. Dentro de funciones son locales."
   ]
  },
  {
   "cell_type": "code",
   "execution_count": null,
   "id": "global_local",
   "metadata": {},
   "outputs": [],
   "source": [
    "# Variable global\n",
    "nombre = \"Soy global\"\n",
    "\n",
    "def mostrar_scopes():\n",
    "    # Variable local\n",
    "    edad = 25\n",
    "    print(f\"Global: {nombre}\")\n",
    "    print(f\"Local: {edad}\")\n",
    "\n",
    "mostrar_scopes()\n",
    "print(f\"\\nFuera de función - Global: {nombre}\")\n",
    "# print(edad)  # Error: edad no existe aquí"
   ]
  },
  {
   "cell_type": "markdown",
   "id": "seccion2",
   "metadata": {},
   "source": [
    "## 2️⃣ Modificar Variables Globales\n",
    "\n",
    "Para modificar una variable global dentro de una función, usa `global`."
   ]
  },
  {
   "cell_type": "code",
   "execution_count": null,
   "id": "modificar_global",
   "metadata": {},
   "outputs": [],
   "source": [
    "contador = 0\n",
    "\n",
    "def incrementar():\n",
    "    global contador\n",
    "    contador += 1\n",
    "    print(f\"Contador: {contador}\")\n",
    "\n",
    "print(f\"Inicial: {contador}\")\n",
    "incrementar()\n",
    "incrementar()\n",
    "print(f\"Final: {contador}\")"
   ]
  },
  {
   "cell_type": "markdown",
   "id": "seccion3",
   "metadata": {},
   "source": [
    "## 3️⃣ Error Común: Sin `global`\n",
    "\n",
    "Sin `global`, Python crea una variable local nueva en lugar de modificar la global."
   ]
  },
  {
   "cell_type": "code",
   "execution_count": null,
   "id": "error_scope",
   "metadata": {},
   "outputs": [],
   "source": [
    "x = 100\n",
    "\n",
    "def intentar_modificar():\n",
    "    # Sin 'global', esto crea una variable local\n",
    "    x = 200\n",
    "    print(f\"Dentro de la función: {x}\")\n",
    "\n",
    "print(f\"Antes: {x}\")\n",
    "intentar_modificar()\n",
    "print(f\"Después: {x}  (no cambió)\")"
   ]
  },
  {
   "cell_type": "markdown",
   "id": "seccion4",
   "metadata": {},
   "source": [
    "## 4️⃣ Scope Anidado (Enclosing)\n",
    "\n",
    "Las funciones anidadas pueden acceder al scope de la función externa."
   ]
  },
  {
   "cell_type": "code",
   "execution_count": null,
   "id": "enclosing",
   "metadata": {},
   "outputs": [],
   "source": [
    "def externa():\n",
    "    mensaje = \"Hola desde externa\"\n",
    "    \n",
    "    def interna():\n",
    "        print(f\"Dentro de interna: {mensaje}\")\n",
    "    \n",
    "    interna()\n",
    "\n",
    "externa()"
   ]
  },
  {
   "cell_type": "markdown",
   "id": "seccion5",
   "metadata": {},
   "source": [
    "## 5️⃣ Usar `nonlocal` en Funciones Anidadas\n",
    "\n",
    "Para modificar variables de la función externa, usa `nonlocal`."
   ]
  },
  {
   "cell_type": "code",
   "execution_count": null,
   "id": "nonlocal",
   "metadata": {},
   "outputs": [],
   "source": [
    "def externa():\n",
    "    contador = 0\n",
    "    \n",
    "    def incrementar():\n",
    "        nonlocal contador\n",
    "        contador += 1\n",
    "        return contador\n",
    "    \n",
    "    print(f\"Primera: {incrementar()}\")\n",
    "    print(f\"Segunda: {incrementar()}\")\n",
    "    print(f\"Tercera: {incrementar()}\")\n",
    "\n",
    "externa()"
   ]
  },
  {
   "cell_type": "markdown",
   "id": "seccion6",
   "metadata": {},
   "source": [
    "## 6️⃣ Regla LEGB\n",
    "\n",
    "Orden de búsqueda de variables: Local → Enclosing → Global → Built-in"
   ]
  },
  {
   "cell_type": "code",
   "execution_count": null,
   "id": "legb",
   "metadata": {},
   "outputs": [],
   "source": [
    "x = \"global\"\n",
    "\n",
    "def Externa():\n",
    "    x = \"enclosing\"\n",
    "    \n",
    "    def interna():\n",
    "        x = \"local\"\n",
    "        print(f\"Dentro: {x}\")  # Usa local\n",
    "    \n",
    "    interna()\n",
    "    print(f\"Función Externa: {x}\")  # Usa enclosing\n",
    "\n",
    "Externa()\n",
    "print(f\"Global: {x}\")  # Usa global\n",
    "print(f\"Built-in: {len([1,2,3])}\")  # Usa built-in"
   ]
  },
  {
   "cell_type": "markdown",
   "id": "conclusiones",
   "metadata": {},
   "source": [
    "## Conclusiones\n",
    "\n",
    "- Variables tienen diferentes niveles de acceso según su scope\n",
    "- `global` para modificar variables globales desde funciones\n",
    "- `nonlocal` para modificar variables de funciones externas\n",
    "- LEGB define el orden de búsqueda de variables\n",
    "- Mejor evitar variables globales cuando sea posible"
   ]
  }
 ],
 "metadata": {
  "kernelspec": {
   "display_name": "Python 3",
   "language": "python",
   "name": "python3"
  },
  "language_info": {
   "name": "python",
   "version": "3.9.0"
  }
 },
 "nbformat": 4,
 "nbformat_minor": 5
}
