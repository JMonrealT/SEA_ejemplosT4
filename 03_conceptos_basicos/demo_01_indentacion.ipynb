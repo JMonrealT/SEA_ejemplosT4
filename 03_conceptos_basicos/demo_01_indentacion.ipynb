{
 "cells": [
  {
   "cell_type": "markdown",
   "id": "53c7d5f0",
   "metadata": {},
   "source": [
    "# Demostración de Indentación en Python\n",
    "\n",
    "Python usa la indentación para definir bloques de código. A diferencia de otros lenguajes que usan llaves `{}`, Python usa espacios o tabuladores."
   ]
  },
  {
   "cell_type": "code",
   "execution_count": 1,
   "id": "09eb7c9a",
   "metadata": {},
   "outputs": [
    {
     "name": "stdout",
     "output_type": "stream",
     "text": [
      "Demo de indentación:\n"
     ]
    }
   ],
   "source": [
    "print(\"Demo de indentación:\")"
   ]
  },
  {
   "cell_type": "markdown",
   "id": "27570a48",
   "metadata": {},
   "source": [
    "## Estructura Condicional\n",
    "\n",
    "Las estructuras condicionales requieren indentación para definir qué código pertenece a cada bloque."
   ]
  },
  {
   "cell_type": "code",
   "execution_count": 2,
   "id": "4679ef6e",
   "metadata": {},
   "outputs": [
    {
     "name": "stdout",
     "output_type": "stream",
     "text": [
      "  Número positivo\n",
      "    Pero menor o igual a 10\n"
     ]
    }
   ],
   "source": [
    "numero = 5\n",
    "if numero > 0:\n",
    "    print(\"  Número positivo\")\n",
    "    if numero > 10:\n",
    "        print(\"    Y mayor que 10\")\n",
    "    else:\n",
    "        print(\"    Pero menor o igual a 10\")\n",
    "else:\n",
    "    print(\"  Número no positivo\")"
   ]
  },
  {
   "cell_type": "markdown",
   "id": "cbff4be5",
   "metadata": {},
   "source": [
    "## Bucles\n",
    "\n",
    "Los bucles también requieren indentación para el cuerpo del loop."
   ]
  },
  {
   "cell_type": "code",
   "execution_count": 3,
   "id": "b07d5426",
   "metadata": {},
   "outputs": [
    {
     "name": "stdout",
     "output_type": "stream",
     "text": [
      "\n",
      "Conteo:\n",
      "  Número: 0\n",
      "  Número: 1\n",
      "  Número: 2\n"
     ]
    }
   ],
   "source": [
    "print(\"\\nConteo:\")\n",
    "for i in range(3):\n",
    "    print(f\"  Número: {i}\")"
   ]
  },
  {
   "cell_type": "markdown",
   "id": "b5c6b020",
   "metadata": {},
   "source": [
    "## Errores Comunes\n",
    "\n",
    "Un error común es olvidar la indentación. Ejecuta la siguiente celda para ver el error:"
   ]
  },
  {
   "cell_type": "code",
   "execution_count": 6,
   "id": "a5c3a819",
   "metadata": {},
   "outputs": [
    {
     "ename": "IndentationError",
     "evalue": "expected an indented block after 'if' statement on line 2 (3231656141.py, line 3)",
     "output_type": "error",
     "traceback": [
      "  \u001b[36mCell\u001b[39m\u001b[36m \u001b[39m\u001b[32mIn[6]\u001b[39m\u001b[32m, line 3\u001b[39m\n\u001b[31m    \u001b[39m\u001b[31mprint(\"Error!\")\u001b[39m\n    ^\n\u001b[31mIndentationError\u001b[39m\u001b[31m:\u001b[39m expected an indented block after 'if' statement on line 2\n"
     ]
    }
   ],
   "source": [
    "# Ejemplo de error de indentación\n",
    "if True:\n",
    "print(\"Error!\")"
   ]
  },
  {
   "cell_type": "code",
   "execution_count": 4,
   "id": "b8ed0eb7",
   "metadata": {},
   "outputs": [
    {
     "name": "stdout",
     "output_type": "stream",
     "text": [
      "\n",
      "Demo de indentación completada\n"
     ]
    }
   ],
   "source": [
    "print(\"\\nDemo de indentación completada\")"
   ]
  }
 ],
 "metadata": {
  "kernelspec": {
   "display_name": "SEA_ejemplosT4",
   "language": "python",
   "name": "python3"
  },
  "language_info": {
   "codemirror_mode": {
    "name": "ipython",
    "version": 3
   },
   "file_extension": ".py",
   "mimetype": "text/x-python",
   "name": "python",
   "nbconvert_exporter": "python",
   "pygments_lexer": "ipython3",
   "version": "3.12.3"
  }
 },
 "nbformat": 4,
 "nbformat_minor": 5
}
