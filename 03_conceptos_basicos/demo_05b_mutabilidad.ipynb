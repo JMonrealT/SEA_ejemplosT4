{
 "cells": [
  {
   "cell_type": "markdown",
   "id": "3dc408c8",
   "metadata": {},
   "source": [
    "# Mutabilidad en Estructuras de Datos\n",
    "\n",
    "En Python, algunas estructuras pueden modificarse (mutables) y otras no (inmutables)."
   ]
  },
  {
   "cell_type": "markdown",
   "id": "ecdf8c87",
   "metadata": {},
   "source": [
    "## Listas - Son Mutables\n",
    "\n",
    "Las listas pueden modificarse después de ser creadas. Tienen métodos para agregar, eliminar y modificar elementos."
   ]
  },
  {
   "cell_type": "code",
   "execution_count": 1,
   "id": "34f299c4",
   "metadata": {},
   "outputs": [
    {
     "name": "stdout",
     "output_type": "stream",
     "text": [
      "Lista original: ['manzana', 'pera', 'naranja']\n"
     ]
    }
   ],
   "source": [
    "# Crear lista\n",
    "frutas = [\"manzana\", \"pera\", \"naranja\"]\n",
    "print(f\"Lista original: {frutas}\")"
   ]
  },
  {
   "cell_type": "code",
   "execution_count": 2,
   "id": "aefeee53",
   "metadata": {},
   "outputs": [
    {
     "name": "stdout",
     "output_type": "stream",
     "text": [
      "Después de modificar índice 1: ['manzana', 'plátano', 'naranja']\n"
     ]
    }
   ],
   "source": [
    "# Modificar elementos\n",
    "frutas[1] = \"plátano\"\n",
    "print(f\"Después de modificar índice 1: {frutas}\")"
   ]
  },
  {
   "cell_type": "code",
   "execution_count": 3,
   "id": "1736c940",
   "metadata": {},
   "outputs": [
    {
     "name": "stdout",
     "output_type": "stream",
     "text": [
      "Después de append: ['manzana', 'plátano', 'naranja', 'uva']\n"
     ]
    }
   ],
   "source": [
    "# Agregar elementos con append()\n",
    "frutas.append(\"uva\")\n",
    "print(f\"Después de append: {frutas}\")"
   ]
  },
  {
   "cell_type": "code",
   "execution_count": 4,
   "id": "66530b64",
   "metadata": {},
   "outputs": [
    {
     "name": "stdout",
     "output_type": "stream",
     "text": [
      "Después de insert en posición 1: ['manzana', 'kiwi', 'plátano', 'naranja', 'uva']\n"
     ]
    }
   ],
   "source": [
    "# Insertar en posición específica\n",
    "frutas.insert(1, \"kiwi\")\n",
    "print(f\"Después de insert en posición 1: {frutas}\")"
   ]
  },
  {
   "cell_type": "code",
   "execution_count": 5,
   "id": "a1e2dadc",
   "metadata": {},
   "outputs": [
    {
     "name": "stdout",
     "output_type": "stream",
     "text": [
      "Después de remove 'plátano': ['manzana', 'kiwi', 'naranja', 'uva']\n"
     ]
    }
   ],
   "source": [
    "# Eliminar elemento por valor\n",
    "frutas.remove(\"plátano\")\n",
    "print(f\"Después de remove 'plátano': {frutas}\")"
   ]
  },
  {
   "cell_type": "code",
   "execution_count": 6,
   "id": "43bdf2d5",
   "metadata": {},
   "outputs": [
    {
     "name": "stdout",
     "output_type": "stream",
     "text": [
      "Elemento eliminado con pop(0): manzana\n",
      "Lista final: ['kiwi', 'naranja', 'uva']\n"
     ]
    }
   ],
   "source": [
    "# Eliminar por índice con pop()\n",
    "elemento = frutas.pop(0)\n",
    "print(f\"Elemento eliminado con pop(0): {elemento}\")\n",
    "print(f\"Lista final: {frutas}\")"
   ]
  },
  {
   "cell_type": "markdown",
   "id": "ba715ba9",
   "metadata": {},
   "source": [
    "## Diccionarios - Son Mutables\n",
    "\n",
    "Los diccionarios pueden modificarse agregando, actualizando o eliminando pares clave-valor."
   ]
  },
  {
   "cell_type": "code",
   "execution_count": 7,
   "id": "f09af8be",
   "metadata": {},
   "outputs": [
    {
     "name": "stdout",
     "output_type": "stream",
     "text": [
      "Diccionario original: {'nombre': 'Ana', 'edad': 25}\n"
     ]
    }
   ],
   "source": [
    "# Crear diccionario\n",
    "persona = {\"nombre\": \"Ana\", \"edad\": 25}\n",
    "print(f\"Diccionario original: {persona}\")"
   ]
  },
  {
   "cell_type": "code",
   "execution_count": 8,
   "id": "afc26282",
   "metadata": {},
   "outputs": [
    {
     "name": "stdout",
     "output_type": "stream",
     "text": [
      "Después de modificar edad: {'nombre': 'Ana', 'edad': 26}\n"
     ]
    }
   ],
   "source": [
    "# Modificar valor existente\n",
    "persona[\"edad\"] = 26\n",
    "print(f\"Después de modificar edad: {persona}\")"
   ]
  },
  {
   "cell_type": "code",
   "execution_count": 9,
   "id": "ea507cac",
   "metadata": {},
   "outputs": [
    {
     "name": "stdout",
     "output_type": "stream",
     "text": [
      "Después de agregar ciudad: {'nombre': 'Ana', 'edad': 26, 'ciudad': 'Madrid'}\n"
     ]
    }
   ],
   "source": [
    "# Agregar nueva clave-valor\n",
    "persona[\"ciudad\"] = \"Madrid\"\n",
    "print(f\"Después de agregar ciudad: {persona}\")"
   ]
  },
  {
   "cell_type": "code",
   "execution_count": 10,
   "id": "4beb6dca",
   "metadata": {},
   "outputs": [
    {
     "name": "stdout",
     "output_type": "stream",
     "text": [
      "Después de update: {'nombre': 'Ana', 'edad': 27, 'ciudad': 'Madrid', 'profesión': 'Ingeniera'}\n"
     ]
    }
   ],
   "source": [
    "# Actualizar múltiples valores con update()\n",
    "persona.update({\"edad\": 27, \"profesión\": \"Ingeniera\"})\n",
    "print(f\"Después de update: {persona}\")"
   ]
  },
  {
   "cell_type": "code",
   "execution_count": 11,
   "id": "ffd75e27",
   "metadata": {},
   "outputs": [
    {
     "name": "stdout",
     "output_type": "stream",
     "text": [
      "Después de eliminar ciudad: {'nombre': 'Ana', 'edad': 27, 'profesión': 'Ingeniera'}\n"
     ]
    }
   ],
   "source": [
    "# Eliminar clave con del\n",
    "del persona[\"ciudad\"]\n",
    "print(f\"Después de eliminar ciudad: {persona}\")"
   ]
  },
  {
   "cell_type": "code",
   "execution_count": 12,
   "id": "4fa35c3d",
   "metadata": {},
   "outputs": [
    {
     "name": "stdout",
     "output_type": "stream",
     "text": [
      "Profesión eliminada: Ingeniera\n",
      "Diccionario final: {'nombre': 'Ana', 'edad': 27}\n"
     ]
    }
   ],
   "source": [
    "# Pop - eliminar y obtener valor\n",
    "profesion = persona.pop(\"profesión\")\n",
    "print(f\"Profesión eliminada: {profesion}\")\n",
    "print(f\"Diccionario final: {persona}\")"
   ]
  },
  {
   "cell_type": "markdown",
   "id": "3d0300e2",
   "metadata": {},
   "source": [
    "## Conjuntos (Sets) - Son Mutables pero No Permiten Duplicados\n",
    "\n",
    "Los conjuntos pueden modificarse, pero automáticamente eliminan elementos duplicados."
   ]
  },
  {
   "cell_type": "code",
   "execution_count": 13,
   "id": "63ef9bbf",
   "metadata": {},
   "outputs": [
    {
     "name": "stdout",
     "output_type": "stream",
     "text": [
      "Conjunto original: {1, 2, 3, 4}\n"
     ]
    }
   ],
   "source": [
    "# Crear conjunto\n",
    "numeros = {1, 2, 3, 4}\n",
    "print(f\"Conjunto original: {numeros}\")"
   ]
  },
  {
   "cell_type": "code",
   "execution_count": 14,
   "id": "1353c4af",
   "metadata": {},
   "outputs": [
    {
     "name": "stdout",
     "output_type": "stream",
     "text": [
      "Después de intentar agregar 3 (duplicado): {1, 2, 3, 4}\n"
     ]
    }
   ],
   "source": [
    "# Intentar agregar duplicado (no se agrega)\n",
    "numeros.add(3)\n",
    "print(f\"Después de intentar agregar 3 (duplicado): {numeros}\")"
   ]
  },
  {
   "cell_type": "code",
   "execution_count": 15,
   "id": "4ddb291b",
   "metadata": {},
   "outputs": [
    {
     "name": "stdout",
     "output_type": "stream",
     "text": [
      "Después de agregar 5: {1, 2, 3, 4, 5}\n"
     ]
    }
   ],
   "source": [
    "# Agregar elemento nuevo\n",
    "numeros.add(5)\n",
    "print(f\"Después de agregar 5: {numeros}\")"
   ]
  },
  {
   "cell_type": "code",
   "execution_count": 16,
   "id": "01c292c9",
   "metadata": {},
   "outputs": [
    {
     "name": "stdout",
     "output_type": "stream",
     "text": [
      "Conjunto creado con duplicados: {1, 2, 3, 4}\n",
      "⚠️ Los duplicados se eliminaron automáticamente\n"
     ]
    }
   ],
   "source": [
    "# Crear conjunto con duplicados - se eliminan automáticamente\n",
    "con_duplicados = {1, 2, 2, 3, 3, 3, 4}\n",
    "print(f\"Conjunto creado con duplicados: {con_duplicados}\")\n",
    "print(\"⚠️ Los duplicados se eliminaron automáticamente\")"
   ]
  },
  {
   "cell_type": "code",
   "execution_count": 17,
   "id": "169f769a",
   "metadata": {},
   "outputs": [
    {
     "name": "stdout",
     "output_type": "stream",
     "text": [
      "Después de remove(2): {1, 3, 4, 5}\n"
     ]
    }
   ],
   "source": [
    "# Eliminar elementos con remove()\n",
    "numeros.remove(2)\n",
    "print(f\"Después de remove(2): {numeros}\")"
   ]
  },
  {
   "cell_type": "code",
   "execution_count": 18,
   "id": "36fb30ac",
   "metadata": {},
   "outputs": [
    {
     "name": "stdout",
     "output_type": "stream",
     "text": [
      "Otro conjunto: {4, 5, 6, 7}\n",
      "Unión: {1, 3, 4, 5, 6, 7}\n",
      "Intersección: {4, 5}\n"
     ]
    }
   ],
   "source": [
    "# Operaciones de conjuntos\n",
    "otros_numeros = {4, 5, 6, 7}\n",
    "print(f\"Otro conjunto: {otros_numeros}\")\n",
    "print(f\"Unión: {numeros | otros_numeros}\")\n",
    "print(f\"Intersección: {numeros & otros_numeros}\")"
   ]
  },
  {
   "cell_type": "markdown",
   "id": "65f2983c",
   "metadata": {},
   "source": [
    "## Frozensets - Son Inmutables\n",
    "\n",
    "Los frozensets son como sets pero **NO** pueden modificarse después de ser creados."
   ]
  },
  {
   "cell_type": "code",
   "execution_count": 19,
   "id": "d5b4a136",
   "metadata": {},
   "outputs": [
    {
     "name": "stdout",
     "output_type": "stream",
     "text": [
      "Frozenset: frozenset({1, 2, 3, 4, 5})\n",
      "Tipo: <class 'frozenset'>\n"
     ]
    }
   ],
   "source": [
    "# Crear frozenset\n",
    "numeros_inmutables = frozenset([1, 2, 3, 4, 5])\n",
    "print(f\"Frozenset: {numeros_inmutables}\")\n",
    "print(f\"Tipo: {type(numeros_inmutables)}\")"
   ]
  },
  {
   "cell_type": "code",
   "execution_count": 20,
   "id": "59d649fb",
   "metadata": {},
   "outputs": [
    {
     "name": "stdout",
     "output_type": "stream",
     "text": [
      "Frozenset con duplicados: frozenset({1, 2, 3})\n",
      "⚠️ Los duplicados se eliminaron automáticamente\n"
     ]
    }
   ],
   "source": [
    "# Los frozensets también eliminan duplicados\n",
    "con_duplicados = frozenset([1, 2, 2, 3, 3, 3])\n",
    "print(f\"Frozenset con duplicados: {con_duplicados}\")\n",
    "print(\"⚠️ Los duplicados se eliminaron automáticamente\")"
   ]
  },
  {
   "cell_type": "code",
   "execution_count": 21,
   "id": "b9616764",
   "metadata": {},
   "outputs": [
    {
     "name": "stdout",
     "output_type": "stream",
     "text": [
      "⚠️ Los frozensets NO tienen métodos add(), remove(), etc.\n",
      "Métodos disponibles: ['difference', 'intersection', 'isdisjoint', 'issubset', 'issuperset', 'symmetric_difference', 'union']\n"
     ]
    }
   ],
   "source": [
    "# Intentar modificar causaría error\n",
    "print(\"⚠️ Los frozensets NO tienen métodos add(), remove(), etc.\")\n",
    "print(f\"Métodos disponibles: {[m for m in dir(numeros_inmutables) if not m.startswith('_') and m not in ['copy']]}\")"
   ]
  },
  {
   "cell_type": "code",
   "execution_count": 22,
   "id": "2c86d732",
   "metadata": {},
   "outputs": [
    {
     "name": "stdout",
     "output_type": "stream",
     "text": [
      "Otro frozenset: frozenset({3, 4, 5, 6})\n",
      "Unión de frozensets: frozenset({1, 2, 3, 4, 5, 6})\n",
      "Intersección: frozenset({3, 4, 5})\n"
     ]
    }
   ],
   "source": [
    "# Pero pueden usarse en operaciones de conjuntos\n",
    "otros = frozenset([3, 4, 5, 6])\n",
    "print(f\"Otro frozenset: {otros}\")\n",
    "print(f\"Unión de frozensets: {numeros_inmutables | otros}\")\n",
    "print(f\"Intersección: {numeros_inmutables & otros}\")"
   ]
  },
  {
   "cell_type": "markdown",
   "id": "28879171",
   "metadata": {},
   "source": [
    "## Tuplas - Son Inmutables\n",
    "\n",
    "Las tuplas **NO** pueden modificarse después de ser creadas."
   ]
  },
  {
   "cell_type": "code",
   "execution_count": 23,
   "id": "89476cbb",
   "metadata": {},
   "outputs": [
    {
     "name": "stdout",
     "output_type": "stream",
     "text": [
      "Tupla: (10, 20, 30)\n",
      "Primer elemento: 10\n"
     ]
    }
   ],
   "source": [
    "# Crear tupla\n",
    "coordenadas = (10, 20, 30)\n",
    "print(f\"Tupla: {coordenadas}\")\n",
    "print(f\"Primer elemento: {coordenadas[0]}\")"
   ]
  },
  {
   "cell_type": "code",
   "execution_count": 24,
   "id": "69fba7d8",
   "metadata": {},
   "outputs": [
    {
     "name": "stdout",
     "output_type": "stream",
     "text": [
      "⚠️ Intentar modificar una tupla causa TypeError\n",
      "Error: 'tuple' object does not support item assignment\n"
     ]
    }
   ],
   "source": [
    "# Intentar modificar causaría error\n",
    "print(\"⚠️ Intentar modificar una tupla causa TypeError\")\n",
    "try:\n",
    "    coordenadas[0] = 100\n",
    "except TypeError as e:\n",
    "    print(f\"Error: {e}\")"
   ]
  },
  {
   "cell_type": "code",
   "execution_count": 25,
   "id": "7e3b1980",
   "metadata": {},
   "outputs": [
    {
     "name": "stdout",
     "output_type": "stream",
     "text": [
      "Métodos de tuplas (solo lectura): ['count', 'index']\n"
     ]
    }
   ],
   "source": [
    "# Las tuplas no tienen métodos de modificación\n",
    "print(f\"Métodos de tuplas (solo lectura): {[m for m in dir(coordenadas) if not m.startswith('_')]}\")"
   ]
  },
  {
   "cell_type": "markdown",
   "id": "a872cb3a",
   "metadata": {},
   "source": [
    "## ⚠️ Tuplas con Listas - Caso Especial\n",
    "\n",
    "Una tupla con listas es **inmutable** en cuanto a QUÉ objetos contiene, pero el **contenido** de las listas SÍ puede modificarse."
   ]
  },
  {
   "cell_type": "code",
   "execution_count": 26,
   "id": "a5ae5368",
   "metadata": {},
   "outputs": [
    {
     "name": "stdout",
     "output_type": "stream",
     "text": [
      "Tupla original: ([1, 2, 3], [4, 5, 6])\n",
      "ID de la tupla: 129547080496896\n",
      "ID de la primera lista: 129547080604992\n"
     ]
    }
   ],
   "source": [
    "# Crear tupla que contiene listas\n",
    "datos = ([1, 2, 3], [4, 5, 6])\n",
    "print(f\"Tupla original: {datos}\")\n",
    "print(f\"ID de la tupla: {id(datos)}\")\n",
    "print(f\"ID de la primera lista: {id(datos[0])}\")"
   ]
  },
  {
   "cell_type": "code",
   "execution_count": 27,
   "id": "b472204a",
   "metadata": {},
   "outputs": [
    {
     "name": "stdout",
     "output_type": "stream",
     "text": [
      "⚠️ No podemos reemplazar la lista:\n",
      "Error: 'tuple' object does not support item assignment\n"
     ]
    }
   ],
   "source": [
    "# No podemos cambiar A QUÉ lista apunta la tupla\n",
    "print(\"⚠️ No podemos reemplazar la lista:\")\n",
    "try:\n",
    "    datos[0] = [7, 8, 9]\n",
    "except TypeError as e:\n",
    "    print(f\"Error: {e}\")"
   ]
  },
  {
   "cell_type": "code",
   "execution_count": 28,
   "id": "254b0ac6",
   "metadata": {},
   "outputs": [
    {
     "name": "stdout",
     "output_type": "stream",
     "text": [
      "✅ Pero SÍ podemos modificar el contenido de la lista:\n",
      "Después de append: ([1, 2, 3, 100], [4, 5, 6])\n",
      "ID de la tupla (sin cambios): 129547080496896\n",
      "ID de la primera lista (sin cambios): 129547080604992\n"
     ]
    }
   ],
   "source": [
    "# PERO podemos modificar el CONTENIDO de la lista\n",
    "print(\"✅ Pero SÍ podemos modificar el contenido de la lista:\")\n",
    "datos[0].append(100)\n",
    "print(f\"Después de append: {datos}\")\n",
    "print(f\"ID de la tupla (sin cambios): {id(datos)}\")\n",
    "print(f\"ID de la primera lista (sin cambios): {id(datos[0])}\")"
   ]
  },
  {
   "cell_type": "code",
   "execution_count": 29,
   "id": "6519c7fc",
   "metadata": {},
   "outputs": [
    {
     "name": "stdout",
     "output_type": "stream",
     "text": [
      "Después de modificar elemento de segunda lista: ([1, 2, 3, 100], [999, 5, 6])\n",
      "\n",
      "💡 Conclusión:\n",
      "- La tupla NO puede cambiar QUÉ listas contiene (inmutable)\n",
      "- Pero las listas DENTRO de la tupla SÍ pueden modificarse (son mutables)\n"
     ]
    }
   ],
   "source": [
    "# Más modificaciones a las listas internas\n",
    "datos[1][0] = 999\n",
    "print(f\"Después de modificar elemento de segunda lista: {datos}\")\n",
    "\n",
    "print(\"\\n💡 Conclusión:\")\n",
    "print(\"- La tupla NO puede cambiar QUÉ listas contiene (inmutable)\")\n",
    "print(\"- Pero las listas DENTRO de la tupla SÍ pueden modificarse (son mutables)\")"
   ]
  },
  {
   "cell_type": "markdown",
   "id": "e131144a",
   "metadata": {},
   "source": [
    "## 📊 Resumen de Mutabilidad\n",
    "\n",
    "| Estructura | ¿Mutable? | ¿Permite duplicados? | Ordenada |\n",
    "|------------|-----------|---------------------|----------|\n",
    "| **Lista** | ✅ Sí | ✅ Sí | ✅ Sí |\n",
    "| **Tupla** | ❌ No | ✅ Sí | ✅ Sí |\n",
    "| **Diccionario** | ✅ Sí | ❌ No (claves únicas) | ✅ Sí (desde Python 3.7+) |\n",
    "| **Set** | ✅ Sí | ❌ No | ❌ No |\n",
    "| **Frozenset** | ❌ No | ❌ No | ❌ No |"
   ]
  }
 ],
 "metadata": {
  "kernelspec": {
   "display_name": "SEA_ejemplosT4",
   "language": "python",
   "name": "python3"
  },
  "language_info": {
   "codemirror_mode": {
    "name": "ipython",
    "version": 3
   },
   "file_extension": ".py",
   "mimetype": "text/x-python",
   "name": "python",
   "nbconvert_exporter": "python",
   "pygments_lexer": "ipython3",
   "version": "3.12.3"
  }
 },
 "nbformat": 4,
 "nbformat_minor": 5
}
