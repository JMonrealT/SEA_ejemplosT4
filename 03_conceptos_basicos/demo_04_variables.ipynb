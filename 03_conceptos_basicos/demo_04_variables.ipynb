{
 "cells": [
  {
   "cell_type": "markdown",
   "id": "3b4252f5",
   "metadata": {},
   "source": [
    "# Variables\n",
    "\n",
    "Las variables en Python son contenedores para almacenar datos. Python es un lenguaje de tipado dinámico."
   ]
  },
  {
   "cell_type": "markdown",
   "id": "resumen",
   "metadata": {},
   "source": [
    "## Resumen\n",
    "\n",
    "- Las variables se crean al asignarles un valor\n",
    "- Python determina el tipo automáticamente\n",
    "- Puede cambiar el tipo en cualquier momento\n",
    "- Convención: usar `snake_case` para nombres"
   ]
  },
  {
   "cell_type": "markdown",
   "id": "seccion1",
   "metadata": {},
   "source": [
    "## 1️⃣ Variables Básicas"
   ]
  },
  {
   "cell_type": "code",
   "execution_count": null,
   "id": "b2a15e82",
   "metadata": {},
   "outputs": [],
   "source": [
    "# Variables básicas\n",
    "nombre = \"Python\"\n",
    "version = 3.9\n",
    "es_interpretado = True\n",
    "\n",
    "print(f\"Lenguaje: {nombre}\")\n",
    "print(f\"Versión: {version}\")\n",
    "print(f\"Es interpretado? {es_interpretado}\")"
   ]
  },
  {
   "cell_type": "markdown",
   "id": "seccion2",
   "metadata": {},
   "source": [
    "## 2️⃣ Asignación Múltiple\n",
    "\n",
    "Python permite asignar múltiples variables en una sola línea."
   ]
  },
  {
   "cell_type": "code",
   "execution_count": null,
   "id": "f8f7b3c5",
   "metadata": {},
   "outputs": [],
   "source": [
    "# Asignación múltiple\n",
    "x, y, z = 1, 2, 3\n",
    "print(f\"x={x}, y={y}, z={z}\")\n",
    "\n",
    "# Asignación con desempaquetado\n",
    "a, b, c = [10, 20, 30]\n",
    "print(f\"a={a}, b={b}, c={c}\")"
   ]
  },
  {
   "cell_type": "markdown",
   "id": "seccion3",
   "metadata": {},
   "source": [
    "## 3️⃣ Asignación en Cadena\n",
    "\n",
    "Asignar el mismo valor a múltiples variables."
   ]
  },
  {
   "cell_type": "code",
   "execution_count": null,
   "id": "33eddb4a",
   "metadata": {},
   "outputs": [],
   "source": [
    "# Asignación en cadena\n",
    "a = b = c = 0\n",
    "print(f\"a={a}, b={b}, c={c}\")\n",
    "\n",
    "# Modificar una\n",
    "a = 10\n",
    "print(f\"Después de cambiar a: a={a}, b={b}, c={c}\")"
   ]
  },
  {
   "cell_type": "markdown",
   "id": "seccion4",
   "metadata": {},
   "source": [
    "## 4️⃣ Intercambio de Variables\n",
    "\n",
    "Python permite intercambiar valores de forma elegante."
   ]
  },
  {
   "cell_type": "code",
   "execution_count": null,
   "id": "69156dec",
   "metadata": {},
   "outputs": [],
   "source": [
    "# Intercambio de variables (pythónico)\n",
    "primera = \"A\"\n",
    "segunda = \"B\"\n",
    "print(f\"Antes: primera={primera}, segunda={segunda}\")\n",
    "\n",
    "primera, segunda = segunda, primera\n",
    "print(f\"Después: primera={primera}, segunda={segunda}\")"
   ]
  },
  {
   "cell_type": "markdown",
   "id": "seccion5",
   "metadata": {},
   "source": [
    "## 5️⃣ Convenciones de Nombres\n",
    "\n",
    "Python tiene convenciones para nombrar variables:\n",
    "\n",
    "- `CONSTANTE` - MAYÚSCULAS para constantes\n",
    "- `mi_variable` - snake_case para variables (recomendado)\n",
    "- `_privada` - Guion bajo indica variable \"privada\"\n",
    "- `__especial__` - Doble guion indica variables especiales"
   ]
  },
  {
   "cell_type": "code",
   "execution_count": null,
   "id": "64a4d027",
   "metadata": {},
   "outputs": [],
   "source": [
    "CONSTANTE = 100           # Constante (por convención)\n",
    "mi_variable = \"snake_case\"  # Recomendado en Python\n",
    "_privada = \"uso interno\"    # Por convención, privada\n",
    "__especial__ = \"especial\"   # Variables especiales\n",
    "\n",
    "print(f\"Constante: {CONSTANTE}\")\n",
    "print(f\"Variable: {mi_variable}\")\n",
    "print(f\"Privada: {_privada}\")\n",
    "print(f\"Especial: {__especial__}\")"
   ]
  },
  {
   "cell_type": "markdown",
   "id": "seccion6",
   "metadata": {},
   "source": [
    "## 6️⃣ Tipado Dinámico\n",
    "\n",
    "Python permite cambiar el tipo de una variable en cualquier momento."
   ]
  },
  {
   "cell_type": "code",
   "execution_count": null,
   "id": "328b459c",
   "metadata": {},
   "outputs": [],
   "source": [
    "# Variable comienza como int\n",
    "valor = 42\n",
    "print(f\"valor es {type(valor).__name__}: {valor}\")\n",
    "\n",
    "# Se convierte a str\n",
    "valor = \"Ahora soy texto\"\n",
    "print(f\"valor es {type(valor).__name__}: {valor}\")\n",
    "\n",
    "# Se convierte a list\n",
    "valor = [1, 2, 3]\n",
    "print(f\"valor es {type(valor).__name__}: {valor}\")\n",
    "\n",
    "# Se convierte a dict\n",
    "valor = {\"clave\": \"valor\"}\n",
    "print(f\"valor es {type(valor).__name__}: {valor}\")"
   ]
  },
  {
   "cell_type": "markdown",
   "id": "conclusiones",
   "metadata": {},
   "source": [
    "## Conclusiones\n",
    "\n",
    "- Las variables se crean sin declaración explícita\n",
    "- Python infiere el tipo automáticamente\n",
    "- El tipado es dinámico: puede cambiar de tipo\n",
    "- Usar `snake_case` es la convención de Python (PEP 8)\n",
    "- Múltiples asignaciones hacen código más pythónico"
   ]
  }
 ],
 "metadata": {
  "kernelspec": {
   "display_name": "SEA_ejemplosT4",
   "language": "python",
   "name": "python3"
  },
  "language_info": {
   "name": "python",
   "version": "3.12.3"
  }
 },
 "nbformat": 4,
 "nbformat_minor": 5
}
