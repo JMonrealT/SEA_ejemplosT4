{
 "cells": [
  {
   "cell_type": "markdown",
   "id": "titulo",
   "metadata": {},
   "source": [
    "# Tipos de Datos\n",
    "\n",
    "Python soporta diversos tipos de datos básicos y estructuras complejas."
   ]
  },
  {
   "cell_type": "markdown",
   "id": "resumen",
   "metadata": {},
   "source": [
    "## Resumen\n",
    "\n",
    "- **Números**: int, float, complex\n",
    "- **Texto**: str\n",
    "- **Booleanos**: True, False\n",
    "- **Especial**: None\n",
    "- **Estructuras**: list, tuple, dict, set\n",
    "- **Conversión**: int(), str(), float(), etc."
   ]
  },
  {
   "cell_type": "markdown",
   "id": "seccion1",
   "metadata": {},
   "source": [
    "## 1️⃣ Números\n",
    "\n",
    "Python soporta enteros, flotantes y complejos."
   ]
  },
  {
   "cell_type": "code",
   "execution_count": null,
   "id": "numeros",
   "metadata": {},
   "outputs": [],
   "source": [
    "entero = 42\n",
    "flotante = 3.14159\n",
    "complejo = 3 + 4j\n",
    "\n",
    "print(f\"Entero: {entero} ({type(entero).__name__})\")\n",
    "print(f\"Flotante: {flotante} ({type(flotante).__name__})\")\n",
    "print(f\"Complejo: {complejo} ({type(complejo).__name__})\")"
   ]
  },
  {
   "cell_type": "markdown",
   "id": "seccion2",
   "metadata": {},
   "source": [
    "## 2️⃣ Cadenas de Texto\n",
    "\n",
    "Las cadenas (strings) pueden ser de una línea o multilínea."
   ]
  },
  {
   "cell_type": "code",
   "execution_count": null,
   "id": "cadenas",
   "metadata": {},
   "outputs": [],
   "source": [
    "texto = \"Hola mundo\"\n",
    "texto_multilinea = \"\"\"Este es un\n",
    "texto de múltiples\n",
    "líneas\"\"\"\n",
    "\n",
    "print(f\"Texto: '{texto}'\")\n",
    "print(f\"Tipo: {type(texto).__name__}\")\n",
    "print(f\"\\nTexto multilínea:\\n{texto_multilinea}\")"
   ]
  },
  {
   "cell_type": "markdown",
   "id": "seccion3",
   "metadata": {},
   "source": [
    "## 3️⃣ Booleanos\n",
    "\n",
    "Los valores booleanos son `True` y `False`."
   ]
  },
  {
   "cell_type": "code",
   "execution_count": null,
   "id": "booleanos",
   "metadata": {},
   "outputs": [],
   "source": [
    "verdadero = True\n",
    "falso = False\n",
    "\n",
    "print(f\"Verdadero: {verdadero} ({type(verdadero).__name__})\")\n",
    "print(f\"Falso: {falso} ({type(falso).__name__})\")\n",
    "print(f\"\\nVerdadero == 1: {verdadero == 1}\")\n",
    "print(f\"Falso == 0: {falso == 0}\")"
   ]
  },
  {
   "cell_type": "markdown",
   "id": "seccion4",
   "metadata": {},
   "source": [
    "## 4️⃣ Tipo Especial: None\n",
    "\n",
    "`None` representa la ausencia de valor."
   ]
  },
  {
   "cell_type": "code",
   "execution_count": null,
   "id": "none",
   "metadata": {},
   "outputs": [],
   "source": [
    "vacio = None\n",
    "resultado = None\n",
    "\n",
    "print(f\"Valor None: {vacio}\")\n",
    "print(f\"Tipo: {type(vacio).__name__}\")\n",
    "print(f\"\\nComparación: vacio is None = {vacio is None}\")\n",
    "print(f\"Comparación: resultado == None = {resultado == None}\")"
   ]
  },
  {
   "cell_type": "markdown",
   "id": "seccion5",
   "metadata": {},
   "source": [
    "## 5️⃣ Estructuras de Datos\n",
    "\n",
    "Contenedores para agrupar múltiples valores."
   ]
  },
  {
   "cell_type": "code",
   "execution_count": null,
   "id": "estructuras",
   "metadata": {},
   "outputs": [],
   "source": [
    "lista = [1, 2, 3, \"texto\", True]\n",
    "tupla = (1, 2, 3)\n",
    "diccionario = {\"nombre\": \"Python\", \"version\": 3.9}\n",
    "conjunto = {1, 2, 3, 3, 2}  # Sin duplicados\n",
    "\n",
    "print(f\"Lista: {lista} ({type(lista).__name__})\")\n",
    "print(f\"Tupla: {tupla} ({type(tupla).__name__})\")\n",
    "print(f\"Diccionario: {diccionario} ({type(diccionario).__name__})\")\n",
    "print(f\"Conjunto: {conjunto} ({type(conjunto).__name__})\")"
   ]
  },
  {
   "cell_type": "markdown",
   "id": "seccion6",
   "metadata": {},
   "source": [
    "## 6️⃣ Conversión de Tipos\n",
    "\n",
    "Python permite convertir entre diferentes tipos de datos."
   ]
  },
  {
   "cell_type": "code",
   "execution_count": null,
   "id": "conversion",
   "metadata": {},
   "outputs": [],
   "source": [
    "# De string a números\n",
    "numero_str = \"123\"\n",
    "numero_int = int(numero_str)\n",
    "numero_float = float(numero_str)\n",
    "\n",
    "print(f\"String '{numero_str}' → int: {numero_int}\")\n",
    "print(f\"String '{numero_str}' → float: {numero_float}\")\n",
    "\n",
    "# A booleano\n",
    "print(f\"\\nConversión a bool:\")\n",
    "print(f\"  int(1) → bool: {bool(1)}\")\n",
    "print(f\"  int(0) → bool: {bool(0)}\")\n",
    "print(f\"  string vacío → bool: {bool('')}\")\n",
    "print(f\"  lista vacía → bool: {bool([])}\")"
   ]
  },
  {
   "cell_type": "markdown",
   "id": "conclusiones",
   "metadata": {},
   "source": [
    "## Conclusiones\n",
    "\n",
    "- Python es dinámicamente tipado\n",
    "- Múltiples tipos para diferentes casos de uso\n",
    "- `type()` muestra el tipo de un valor\n",
    "- Conversión automática en muchos contextos\n",
    "- Estructuras de datos flexibles: listas, tuplas, dicts, sets"
   ]
  }
 ],
 "metadata": {
  "kernelspec": {
   "display_name": "SEA_ejemplosT4",
   "language": "python",
   "name": "python3"
  },
  "language_info": {
   "name": "python",
   "version": "3.12.3"
  }
 },
 "nbformat": 4,
 "nbformat_minor": 5
}
