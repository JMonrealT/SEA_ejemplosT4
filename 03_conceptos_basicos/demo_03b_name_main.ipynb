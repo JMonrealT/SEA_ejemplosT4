{
 "cells": [
  {
   "cell_type": "markdown",
   "id": "4ea3f05e",
   "metadata": {},
   "source": [
    "# Demostración de `if __name__ == '__main__'`\n",
    "\n",
    "## 🎯 ¿Qué problema resuelve?\n",
    "\n",
    "Imagina que creas un archivo `.py` con funciones útiles. Quieres:\n",
    "1. **Importarlo** en otros archivos para usar sus funciones\n",
    "2. **Ejecutarlo directamente** para probarlo\n",
    "\n",
    "¿Cómo evitar que el código de prueba se ejecute cuando lo importas?"
   ]
  },
  {
   "cell_type": "markdown",
   "id": "f4103830",
   "metadata": {},
   "source": [
    "## 📦 Nuestro Módulo: `mi_calculadora.py`\n",
    "\n",
    "Hemos creado un módulo simple. Este es su contenido:\n",
    "\n",
    "```python\n",
    "# mi_calculadora.py - Módulo simple con funciones matemáticas\n",
    "\n",
    "print(f\"📦 Cargando módulo 'mi_calculadora'...\")\n",
    "print(f\"📍 __name__ = '{__name__}'\")\n",
    "\n",
    "def sumar(a, b):\n",
    "    \"\"\"Suma dos números\"\"\"\n",
    "    return a + b\n",
    "\n",
    "def multiplicar(a, b):\n",
    "    \"\"\"Multiplica dos números\"\"\"\n",
    "    return a * b\n",
    "\n",
    "# Este código SOLO se ejecuta si ejecutamos el archivo directamente\n",
    "if __name__ == '__main__':\n",
    "    print(\"\\n\" + \"=\"*50)\n",
    "    print(\"🏃 EJECUTANDO COMO SCRIPT PRINCIPAL\")\n",
    "    print(\"=\"*50)\n",
    "    \n",
    "    # Código de prueba\n",
    "    print(\"\\nProbando las funciones:\")\n",
    "    print(f\"  5 + 3 = {sumar(5, 3)}\")\n",
    "    print(f\"  5 × 3 = {multiplicar(5, 3)}\")\n",
    "    \n",
    "    print(\"\\n✅ Pruebas completadas\")\n",
    "    print(\"=\"*50)\n",
    "\n",
    "print(f\"✓ Módulo 'mi_calculadora' cargado\\n\")\n",
    "```"
   ]
  },
  {
   "cell_type": "markdown",
   "id": "b786cf1d",
   "metadata": {},
   "source": [
    "## 🔬 Experimento 1: Ejecutar el módulo directamente\n",
    "\n",
    "Cuando ejecutamos `python mi_calculadora.py` desde la terminal:"
   ]
  },
  {
   "cell_type": "code",
   "execution_count": 6,
   "id": "e8ac7236",
   "metadata": {},
   "outputs": [
    {
     "name": "stdout",
     "output_type": "stream",
     "text": [
      "📦 Cargando módulo 'mi_calculadora'...\n",
      "📍 __name__ = '__main__'\n",
      "\n",
      "==================================================\n",
      "🏃 EJECUTANDO COMO SCRIPT PRINCIPAL\n",
      "==================================================\n",
      "\n",
      "Probando las funciones:\n",
      "  5 + 3 = 8\n",
      "  5 × 3 = 15\n",
      "\n",
      "✅ Pruebas completadas\n",
      "==================================================\n",
      "✓ Módulo 'mi_calculadora' cargado\n",
      "\n"
     ]
    }
   ],
   "source": [
    "# Ejecutemos el módulo como script\n",
    "!python mi_calculadora.py"
   ]
  },
  {
   "cell_type": "markdown",
   "id": "6c720688",
   "metadata": {},
   "source": [
    "### 📝 ¿Qué observamos?\n",
    "\n",
    "1. ✅ Se imprime `__name__ = '__main__'`\n",
    "2. ✅ Se ejecuta TODO el código, incluyendo el bloque `if __name__ == '__main__':`\n",
    "3. ✅ Vemos las pruebas de las funciones (5 + 3 = 8, etc.)"
   ]
  },
  {
   "cell_type": "markdown",
   "id": "3e4873da",
   "metadata": {},
   "source": [
    "## 🔬 Experimento 2: Importar el módulo\n",
    "\n",
    "Ahora importemos el módulo desde este notebook:"
   ]
  },
  {
   "cell_type": "code",
   "execution_count": 1,
   "id": "5f0febb9",
   "metadata": {},
   "outputs": [
    {
     "name": "stdout",
     "output_type": "stream",
     "text": [
      "📦 Cargando módulo 'mi_calculadora'...\n",
      "📍 __name__ = 'mi_calculadora'\n",
      "✓ Módulo 'mi_calculadora' cargado\n",
      "\n"
     ]
    }
   ],
   "source": [
    "# Importamos el módulo\n",
    "import mi_calculadora"
   ]
  },
  {
   "cell_type": "markdown",
   "id": "5e8107d4",
   "metadata": {},
   "source": [
    "### 📝 ¿Qué observamos?\n",
    "\n",
    "1. ✅ Se imprime `__name__ = 'mi_calculadora'` (no es `'__main__'`)\n",
    "2. ✅ **NO** se ejecuta el bloque `if __name__ == '__main__':`\n",
    "3. ✅ **NO** vemos las pruebas (5 + 3 = 8, etc.)\n",
    "4. ✅ Solo se cargan las funciones, listas para usar"
   ]
  },
  {
   "cell_type": "markdown",
   "id": "5db1a597",
   "metadata": {},
   "source": [
    "## 🎯 Usando las funciones importadas\n",
    "\n",
    "Ahora podemos usar las funciones del módulo:"
   ]
  },
  {
   "cell_type": "code",
   "execution_count": 8,
   "id": "8919d27c",
   "metadata": {},
   "outputs": [
    {
     "name": "stdout",
     "output_type": "stream",
     "text": [
      "Usando el módulo importado:\n",
      "10 + 20 = 30\n",
      "7 × 8 = 56\n"
     ]
    }
   ],
   "source": [
    "# Usamos las funciones importadas\n",
    "print(\"Usando el módulo importado:\")\n",
    "print(f\"10 + 20 = {mi_calculadora.sumar(10, 20)}\")\n",
    "print(f\"7 × 8 = {mi_calculadora.multiplicar(7, 8)}\")"
   ]
  },
  {
   "cell_type": "markdown",
   "id": "852c2995",
   "metadata": {},
   "source": [
    "## 📊 Comparación: ¿Cuál es la diferencia?\n",
    "\n",
    "| Acción | `__name__` | ¿Ejecuta `if __name__ == '__main__':`? | Uso |\n",
    "|--------|-----------|----------------------------------------|-----|\n",
    "| `python mi_calculadora.py` | `'__main__'` | ✅ **SÍ** | Probar el módulo |\n",
    "| `import mi_calculadora` | `'mi_calculadora'` | ❌ **NO** | Usar las funciones |\n",
    "\n",
    "## 💡 La Clave\n",
    "\n",
    "```python\n",
    "if __name__ == '__main__':\n",
    "    # Este código solo se ejecuta al ejecutar directamente\n",
    "    # NO se ejecuta al importar\n",
    "```\n",
    "\n",
    "Esto permite:\n",
    "- ✅ Tener código de prueba en el mismo archivo\n",
    "- ✅ Importar el módulo sin ejecutar las pruebas\n",
    "- ✅ Hacer que un archivo sea módulo Y script a la vez"
   ]
  },
  {
   "cell_type": "markdown",
   "id": "869c1ec1",
   "metadata": {},
   "source": [
    "## 🔄 Verificando `__name__` en este notebook\n",
    "\n",
    "En Jupyter Notebook, `__name__` siempre es `'__main__'`:"
   ]
  },
  {
   "cell_type": "code",
   "execution_count": 9,
   "id": "435f566c",
   "metadata": {},
   "outputs": [
    {
     "name": "stdout",
     "output_type": "stream",
     "text": [
      "En este notebook: __name__ = '__main__'\n",
      "En el módulo importado: __name__ = 'mi_calculadora'\n"
     ]
    }
   ],
   "source": [
    "print(f\"En este notebook: __name__ = '{__name__}'\")\n",
    "print(f\"En el módulo importado: __name__ = '{mi_calculadora.__name__}'\")"
   ]
  },
  {
   "cell_type": "markdown",
   "id": "20beec05",
   "metadata": {},
   "source": [
    "## 🎓 Resumen\n",
    "\n",
    "### ¿Para qué sirve `if __name__ == '__main__':`?\n",
    "\n",
    "1. **Separar código reutilizable de código de prueba**\n",
    "   - Las funciones están siempre disponibles\n",
    "   - Las pruebas solo se ejecutan si lo pides\n",
    "\n",
    "2. **Crear archivos que son módulo Y script**\n",
    "   - Puedes importarlo: `import mi_calculadora`\n",
    "   - Puedes ejecutarlo: `python mi_calculadora.py`\n",
    "\n",
    "3. **Evitar código innecesario al importar**\n",
    "   - No ejecutas operaciones costosas al importar\n",
    "   - Solo cargas lo que necesitas\n",
    "\n",
    "### 📓 Nota sobre Jupyter\n",
    "\n",
    "Este patrón es más útil en archivos `.py` que en notebooks, porque en notebooks siempre ejecutas celdas directamente."
   ]
  }
 ],
 "metadata": {
  "kernelspec": {
   "display_name": "SEA_ejemplosT4",
   "language": "python",
   "name": "python3"
  },
  "language_info": {
   "codemirror_mode": {
    "name": "ipython",
    "version": 3
   },
   "file_extension": ".py",
   "mimetype": "text/x-python",
   "name": "python",
   "nbconvert_exporter": "python",
   "pygments_lexer": "ipython3",
   "version": "3.12.3"
  }
 },
 "nbformat": 4,
 "nbformat_minor": 5
}
