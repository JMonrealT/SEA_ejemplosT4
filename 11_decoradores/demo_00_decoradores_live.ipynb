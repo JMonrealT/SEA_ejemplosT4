{
 "cells": [
  {
   "cell_type": "markdown",
   "id": "fc1a5846",
   "metadata": {},
   "source": [
    "## ## 11. Decoradores en Python - Demo en Vivo\n",
    "\n",
    "Los decoradores son funciones que modifican el comportamiento de otras funciones sin cambiar su código fuente.\n",
    "\n",
    "## 📋 Contenido:\n",
    "0. Fundamento: Funciones como objetos y mecanismo de decoradores\n",
    "1. Concepto básico (con y sin @)\n",
    "2. Decoradores con argumentos (*args, **kwargs)\n",
    "3. Preservar metadatos con @wraps\n",
    "4. Ejemplos prácticos\n",
    "\n",
    "---"
   ]
  },
  {
   "cell_type": "markdown",
   "id": "407587ea",
   "metadata": {},
   "source": [
    "## 0️⃣ Fundamento: Funciones como Objetos\n",
    "\n",
    "Para entender los decoradores, primero hay que entender que **en Python las funciones son objetos**.\n",
    "\n",
    "**Concepto clave:** Las variables son \"etiquetas\" o \"punteros\" que apuntan a objetos en memoria.\n",
    "\n",
    "> 📚 **Nota:** Para profundizar en este concepto, revisa `../10_funciones_como_objetos/demo_00_funciones_objetos.ipynb`"
   ]
  },
  {
   "cell_type": "code",
   "execution_count": 7,
   "id": "4f22e0c2",
   "metadata": {},
   "outputs": [
    {
     "name": "stdout",
     "output_type": "stream",
     "text": [
      "Tipo: <class 'function'>\n",
      "ID en memoria: 135461620761440\n",
      "\n",
      "¿Son el mismo objeto?\n",
      "  funcion_original is otra_variable: True\n",
      "  ID de funcion_original: 135461620761440\n",
      "  ID de otra_variable:    135461620761440\n",
      "\n",
      "Ejecutando desde diferentes variables:\n",
      "Soy la función original\n",
      "Soy la función original\n"
     ]
    }
   ],
   "source": [
    "# Las funciones son objetos\n",
    "def funcion_original():\n",
    "    print(\"Soy la función original\")\n",
    "\n",
    "print(f\"Tipo: {type(funcion_original)}\")  # <class 'function'>\n",
    "print(f\"ID en memoria: {id(funcion_original)}\")\n",
    "\n",
    "# Una variable puede \"apuntar\" a la función\n",
    "otra_variable = funcion_original\n",
    "\n",
    "print(f\"\\n¿Son el mismo objeto?\")\n",
    "print(f\"  funcion_original is otra_variable: {funcion_original is otra_variable}\")\n",
    "print(f\"  ID de funcion_original: {id(funcion_original)}\")\n",
    "print(f\"  ID de otra_variable:    {id(otra_variable)}\")\n",
    "\n",
    "# Ambas variables apuntan al mismo objeto función\n",
    "print(\"\\nEjecutando desde diferentes variables:\")\n",
    "funcion_original()\n",
    "otra_variable()"
   ]
  },
  {
   "cell_type": "markdown",
   "id": "ec43acd1",
   "metadata": {},
   "source": [
    "## 🔄 Mecanismo del Decorador: Reasignación de Variables\n",
    "\n",
    "**¿Qué hace un decorador?**\n",
    "\n",
    "1. Crea una **nueva función** (el wrapper/envoltorio)\n",
    "2. La variable `funcion` **deja de apuntar** al objeto original\n",
    "3. Ahora **apunta al decorador**, que internamente llama a la función original\n",
    "\n",
    "```\n",
    "ANTES del decorador:\n",
    "   funcion ────────────────────────────► [Objeto Función Original]\n",
    "\n",
    "DESPUÉS del decorador:\n",
    "   funcion ──────────► [Decorador/Wrapper] ──► [Objeto Función Original]\n",
    "                              ↑\n",
    "                       (añade funcionalidad)\n",
    "```"
   ]
  },
  {
   "cell_type": "code",
   "execution_count": 8,
   "id": "680af7a7",
   "metadata": {},
   "outputs": [
    {
     "name": "stdout",
     "output_type": "stream",
     "text": [
      "=== ANTES del decorador ===\n",
      "saludar apunta a ID: 135461620314688\n",
      "\n",
      "=== APLICANDO decorador ===\n",
      "→ Decorando función con ID: 135461620314688\n",
      "→ Wrapper creado con ID: 135461620761760\n",
      "\n",
      "=== DESPUÉS del decorador ===\n",
      "saludar ahora apunta a ID: 135461620761760\n",
      "¿Es el mismo objeto? False\n",
      "\n",
      "=== Ejecutando función decorada ===\n",
      "  [ANTES]\n",
      "  ¡Hola!\n",
      "  [DESPUÉS]\n"
     ]
    }
   ],
   "source": [
    "# Ilustración del mecanismo\n",
    "def mi_decorador(func):\n",
    "    print(f\"→ Decorando función con ID: {id(func)}\")\n",
    "    \n",
    "    def wrapper():  # Nueva función que envuelve la original\n",
    "        print(\"  [ANTES]\")\n",
    "        func()  # Llamada al objeto función original\n",
    "        print(\"  [DESPUÉS]\")\n",
    "    \n",
    "    print(f\"→ Wrapper creado con ID: {id(wrapper)}\")\n",
    "    return wrapper  # Retorna el nuevo objeto función\n",
    "\n",
    "# Función original\n",
    "def saludar():\n",
    "    print(\"  ¡Hola!\")\n",
    "\n",
    "print(\"=== ANTES del decorador ===\")\n",
    "print(f\"saludar apunta a ID: {id(saludar)}\")\n",
    "id_original = id(saludar)\n",
    "\n",
    "# Aplicar decorador manualmente\n",
    "print(\"\\n=== APLICANDO decorador ===\")\n",
    "saludar = mi_decorador(saludar)  # ← reasignación de variable\n",
    "\n",
    "print(\"\\n=== DESPUÉS del decorador ===\")\n",
    "print(f\"saludar ahora apunta a ID: {id(saludar)}\")\n",
    "print(f\"¿Es el mismo objeto? {id(saludar) == id_original}\")\n",
    "\n",
    "print(\"\\n=== Ejecutando función decorada ===\")\n",
    "saludar()  # Ejecuta el wrapper, que internamente llama a la función original"
   ]
  },
  {
   "cell_type": "markdown",
   "id": "8725d0fa",
   "metadata": {},
   "source": [
    "### 📊 Visualización del Flujo:\n",
    "\n",
    "```python\n",
    "@mi_decorador\n",
    "def mi_funcion():\n",
    "    print(\"Original\")\n",
    "```\n",
    "\n",
    "**Es equivalente a:**\n",
    "```python\n",
    "def mi_funcion():\n",
    "    print(\"Original\")\n",
    "\n",
    "mi_funcion = mi_decorador(mi_funcion)\n",
    "```\n",
    "\n",
    "**Lo que sucede:**\n",
    "1. Se define `mi_funcion` → Variable apunta al objeto función original\n",
    "2. Se llama `mi_decorador(mi_funcion)` → Pasa el objeto original como argumento\n",
    "3. El decorador crea `wrapper` → Nuevo objeto que envuelve el original\n",
    "4. Se reasigna: `mi_funcion = wrapper` → La variable ahora apunta al wrapper\n",
    "5. Al llamar `mi_funcion()` → Se ejecuta el wrapper, que llama al original\n",
    "\n",
    "**Resultado:** `mi_funcion` ya no apunta directamente al código original, sino al wrapper que añade funcionalidad extra."
   ]
  },
  {
   "cell_type": "markdown",
   "id": "0d1c91e7",
   "metadata": {},
   "source": [
    "## 1️⃣ Concepto Básico: ¿Qué es un Decorador?\n",
    "\n",
    "Un decorador es una función que:\n",
    "- Recibe una función como parámetro\n",
    "- La envuelve con funcionalidad adicional\n",
    "- Retorna la función modificada\n",
    "\n",
    "**Sintaxis:** `@decorador` es sintaxis reducida para `func = decorador(func)`"
   ]
  },
  {
   "cell_type": "code",
   "execution_count": 9,
   "id": "3d456d55",
   "metadata": {},
   "outputs": [
    {
     "name": "stdout",
     "output_type": "stream",
     "text": [
      "→ Antes de la función\n",
      "¡Hola!\n",
      "→ Después de la función\n"
     ]
    }
   ],
   "source": [
    "# Forma manual (sin @)\n",
    "def mi_decorador(func):\n",
    "    def wrapper():\n",
    "        print(\"→ Antes de la función\")\n",
    "        func()\n",
    "        print(\"→ Después de la función\")\n",
    "    return wrapper\n",
    "\n",
    "def saludar():\n",
    "    print(\"¡Hola!\")\n",
    "\n",
    "# Decorar manualmente\n",
    "saludar_decorada = mi_decorador(saludar)\n",
    "saludar_decorada()"
   ]
  },
  {
   "cell_type": "code",
   "execution_count": 10,
   "id": "4bfa0443",
   "metadata": {},
   "outputs": [
    {
     "name": "stdout",
     "output_type": "stream",
     "text": [
      "→ Antes de la función\n",
      "¡Adiós!\n",
      "→ Después de la función\n"
     ]
    }
   ],
   "source": [
    "# Forma moderna (con @)\n",
    "@mi_decorador\n",
    "def despedir():\n",
    "    print(\"¡Adiós!\")\n",
    "\n",
    "# Equivalente a: despedir = mi_decorador(despedir)\n",
    "despedir()"
   ]
  },
  {
   "cell_type": "markdown",
   "id": "a57d65d2",
   "metadata": {},
   "source": [
    "## 2️⃣ Ejemplos Prácticos de Decoradores"
   ]
  },
  {
   "cell_type": "code",
   "execution_count": 11,
   "id": "b069db58",
   "metadata": {},
   "outputs": [
    {
     "name": "stdout",
     "output_type": "stream",
     "text": [
      "========================================\n",
      "🚨 ALERTA: Mantenimiento programado\n",
      "========================================\n"
     ]
    }
   ],
   "source": [
    "# Ejemplo 1: Agregar borde visual\n",
    "def agregar_borde(func):\n",
    "    def wrapper():\n",
    "        print(\"=\" * 40)\n",
    "        func()\n",
    "        print(\"=\" * 40)\n",
    "    return wrapper\n",
    "\n",
    "@agregar_borde\n",
    "def mensaje_importante():\n",
    "    print(\"🚨 ALERTA: Mantenimiento programado\")\n",
    "\n",
    "mensaje_importante()"
   ]
  },
  {
   "cell_type": "code",
   "execution_count": 12,
   "id": "1c7f4e35",
   "metadata": {},
   "outputs": [
    {
     "name": "stdout",
     "output_type": "stream",
     "text": [
      "Ejecución 1:\n",
      "  ⏰ Tic-tac\n",
      "Ejecución 2:\n",
      "  ⏰ Tic-tac\n",
      "Ejecución 3:\n",
      "  ⏰ Tic-tac\n"
     ]
    }
   ],
   "source": [
    "# Ejemplo 2: Repetir ejecución\n",
    "def repetir_tres_veces(func):\n",
    "    def wrapper():\n",
    "        for i in range(3):\n",
    "            print(f\"Ejecución {i+1}:\")\n",
    "            func()\n",
    "    return wrapper\n",
    "\n",
    "@repetir_tres_veces\n",
    "def contar():\n",
    "    print(\"  ⏰ Tic-tac\")\n",
    "\n",
    "contar()"
   ]
  },
  {
   "cell_type": "markdown",
   "id": "f50c6c37",
   "metadata": {},
   "source": [
    "## 3️⃣ Decoradores con Argumentos\n",
    "\n",
    "**Problema:** Los decoradores básicos no funcionan con funciones que tienen parámetros.\n",
    "\n",
    "**Solución:** Usar `*args` y `**kwargs` para aceptar cualquier argumento."
   ]
  },
  {
   "cell_type": "code",
   "execution_count": 13,
   "id": "7cdbd981",
   "metadata": {},
   "outputs": [
    {
     "name": "stdout",
     "output_type": "stream",
     "text": [
      "Funciona sin argumentos\n"
     ]
    }
   ],
   "source": [
    "# ❌ Este decorador NO funciona con argumentos\n",
    "def decorador_simple(func):\n",
    "    def wrapper():  # ← No acepta argumentos\n",
    "        func()      # ← No pasa argumentos\n",
    "    return wrapper\n",
    "\n",
    "@decorador_simple\n",
    "def sin_args():\n",
    "    print(\"Funciona sin argumentos\")\n",
    "\n",
    "sin_args()  # ✅ Funciona\n",
    "\n",
    "# Pero esto fallaría:\n",
    "# @decorador_simple\n",
    "# def con_args(nombre):\n",
    "#     print(f\"Hola, {nombre}\")\n",
    "# con_args(\"Ana\")  # ❌ Error: wrapper() no acepta argumentos"
   ]
  },
  {
   "cell_type": "code",
   "execution_count": 14,
   "id": "4135673d",
   "metadata": {},
   "outputs": [
    {
     "name": "stdout",
     "output_type": "stream",
     "text": [
      "→ Antes\n",
      "¡Hola, Ana!\n",
      "→ Después\n",
      "→ Antes\n",
      "→ Después\n",
      "Resultado: 8\n"
     ]
    }
   ],
   "source": [
    "# ✅ Solución: *args y **kwargs\n",
    "def decorador_flexible(func):\n",
    "    def wrapper(*args, **kwargs):  # ← Acepta cualquier argumento\n",
    "        print(\"→ Antes\")\n",
    "        resultado = func(*args, **kwargs)  # ← Pasa todos los argumentos\n",
    "        print(\"→ Después\")\n",
    "        return resultado  # ← Retorna el resultado\n",
    "    return wrapper\n",
    "\n",
    "@decorador_flexible\n",
    "def saludar(nombre):\n",
    "    print(f\"¡Hola, {nombre}!\")\n",
    "\n",
    "@decorador_flexible\n",
    "def sumar(a, b):\n",
    "    return a + b\n",
    "\n",
    "saludar(\"Ana\")\n",
    "resultado = sumar(5, 3)\n",
    "print(f\"Resultado: {resultado}\")"
   ]
  },
  {
   "cell_type": "markdown",
   "id": "f73c9ee1",
   "metadata": {},
   "source": [
    "## 4️⃣ Ejemplos con Argumentos"
   ]
  },
  {
   "cell_type": "code",
   "execution_count": null,
   "id": "39b42941",
   "metadata": {},
   "outputs": [
    {
     "name": "stdout",
     "output_type": "stream",
     "text": [
      "📥 Llamando a calcular\n",
      "   Args: ('suma', 10, 5)\n",
      "   Kwargs: {}\n",
      "📤 Resultado: 15\n",
      "\n",
      "📥 Llamando a calcular\n",
      "   Args: ('resta',)\n",
      "   Kwargs: {'a': 20, 'b': 8}\n",
      "📤 Resultado: 12\n"
     ]
    },
    {
     "data": {
      "text/plain": [
       "12"
      ]
     },
     "execution_count": 15,
     "metadata": {},
     "output_type": "execute_result"
    }
   ],
   "source": [
    "# Ejemplo 1: Mostrar argumentos\n",
    "def mostrar_argumentos(func):\n",
    "    def wrapper(*args, **kwargs):\n",
    "        print(f\"📥 Llamando a {func.__name__}\")\n",
    "        print(f\"   Args: {args}\")\n",
    "        print(f\"   Kwargs: {kwargs}\")\n",
    "        resultado = func(*args, **kwargs)\n",
    "        print(f\"📤 Resultado: {resultado}\")\n",
    "        return resultado\n",
    "    return wrapper\n",
    "\n",
    "@mostrar_argumentos\n",
    "def calcular(operacion, a, b):\n",
    "    if operacion == \"suma\":\n",
    "        return a + b\n",
    "    elif operacion == \"resta\":\n",
    "        return a - b\n",
    "    return 0\n",
    "\n",
    "calcular(\"suma\", 10, 5)\n",
    "print() # Lo que hace es quemar que \"calcular\" devuelva el resultado\n",
    "calcular(\"resta\", a=20, b=8) # Como no ponemos print, mostrará el resultado en el terminal"
   ]
  },
  {
   "cell_type": "code",
   "execution_count": 16,
   "id": "311ee98b",
   "metadata": {},
   "outputs": [
    {
     "name": "stdout",
     "output_type": "stream",
     "text": [
      "⏱️  operacion_lenta tardó 100.92 ms\n",
      "Completado\n",
      "⏱️  operacion_rapida tardó 0.01 ms\n",
      "Suma: 499500\n"
     ]
    }
   ],
   "source": [
    "# Ejemplo 2: Medir tiempo de ejecución\n",
    "import time\n",
    "\n",
    "def medir_tiempo(func):\n",
    "    def wrapper(*args, **kwargs):\n",
    "        inicio = time.time()\n",
    "        resultado = func(*args, **kwargs)\n",
    "        fin = time.time()\n",
    "        print(f\"⏱️  {func.__name__} tardó {(fin - inicio)*1000:.2f} ms\")\n",
    "        return resultado\n",
    "    return wrapper\n",
    "\n",
    "@medir_tiempo\n",
    "def operacion_lenta():\n",
    "    time.sleep(0.1)  # Simular operación que tarda\n",
    "    return \"Completado\"\n",
    "\n",
    "@medir_tiempo\n",
    "def operacion_rapida():\n",
    "    return sum(range(1000))\n",
    "\n",
    "print(operacion_lenta())\n",
    "print(f\"Suma: {operacion_rapida()}\")"
   ]
  },
  {
   "cell_type": "markdown",
   "id": "92a47b40",
   "metadata": {},
   "source": [
    "## 5️⃣ Preservar Metadatos con @wraps\n",
    "\n",
    "**Problema:** Los decoradores cambian el nombre y documentación de las funciones decoradas.\n",
    "\n",
    "**Solución:** Usar `@wraps` de `functools` para preservar los metadatos originales."
   ]
  },
  {
   "cell_type": "code",
   "execution_count": 17,
   "id": "d8e8e658",
   "metadata": {},
   "outputs": [
    {
     "name": "stdout",
     "output_type": "stream",
     "text": [
      "Nombre: wrapper\n",
      "Doc: None\n"
     ]
    }
   ],
   "source": [
    "# ❌ Sin @wraps: Se pierden metadatos\n",
    "def decorador_sin_wraps(func):\n",
    "    def wrapper(*args, **kwargs):\n",
    "        return func(*args, **kwargs)\n",
    "    return wrapper\n",
    "\n",
    "@decorador_sin_wraps\n",
    "def mi_funcion():\n",
    "    \"\"\"Esta es la documentación de mi_funcion\"\"\"\n",
    "    pass\n",
    "\n",
    "print(f\"Nombre: {mi_funcion.__name__}\")  # wrapper ❌\n",
    "print(f\"Doc: {mi_funcion.__doc__}\")      # None ❌"
   ]
  },
  {
   "cell_type": "code",
   "execution_count": 18,
   "id": "db214431",
   "metadata": {},
   "outputs": [
    {
     "name": "stdout",
     "output_type": "stream",
     "text": [
      "Nombre: otra_funcion\n",
      "Doc: Esta es la documentación de otra_funcion\n"
     ]
    }
   ],
   "source": [
    "# ✅ Con @wraps: Se preservan metadatos\n",
    "from functools import wraps\n",
    "\n",
    "def decorador_con_wraps(func):\n",
    "    @wraps(func)  # ← Preserva nombre, doc, etc.\n",
    "    def wrapper(*args, **kwargs):\n",
    "        return func(*args, **kwargs)\n",
    "    return wrapper\n",
    "\n",
    "@decorador_con_wraps\n",
    "def otra_funcion():\n",
    "    \"\"\"Esta es la documentación de otra_funcion\"\"\"\n",
    "    pass\n",
    "\n",
    "print(f\"Nombre: {otra_funcion.__name__}\")  # otra_funcion ✅\n",
    "print(f\"Doc: {otra_funcion.__doc__}\")      # Documentación correcta ✅"
   ]
  },
  {
   "cell_type": "markdown",
   "id": "435efcd6",
   "metadata": {},
   "source": [
    "## 6️⃣ Decorador Completo (Template)\n",
    "\n",
    "Esta es la estructura recomendada para crear decoradores:"
   ]
  },
  {
   "cell_type": "code",
   "execution_count": 19,
   "id": "3169243e",
   "metadata": {},
   "outputs": [
    {
     "name": "stdout",
     "output_type": "stream",
     "text": [
      "→ Ejecutando ejemplo\n",
      "  📢 Hola\n",
      "  📢 Hola\n",
      "→ Completado\n",
      "Retorno: OK\n"
     ]
    }
   ],
   "source": [
    "from functools import wraps\n",
    "\n",
    "def mi_decorador_completo(func):\n",
    "    \"\"\"Template de decorador completo\"\"\"\n",
    "    @wraps(func)  # Preserva metadatos\n",
    "    def wrapper(*args, **kwargs):  # Acepta cualquier argumento\n",
    "        # --- Código ANTES de la función ---\n",
    "        print(f\"→ Ejecutando {func.__name__}\")\n",
    "        \n",
    "        # --- Llamar a la función original ---\n",
    "        resultado = func(*args, **kwargs)\n",
    "        \n",
    "        # --- Código DESPUÉS de la función ---\n",
    "        print(f\"→ Completado\")\n",
    "        \n",
    "        return resultado  # Retornar el resultado\n",
    "    return wrapper\n",
    "\n",
    "@mi_decorador_completo\n",
    "def ejemplo(mensaje, repetir=1):\n",
    "    \"\"\"Función de ejemplo con argumentos\"\"\"\n",
    "    for _ in range(repetir):\n",
    "        print(f\"  📢 {mensaje}\")\n",
    "    return \"OK\"\n",
    "\n",
    "resultado = ejemplo(\"Hola\", repetir=2)\n",
    "print(f\"Retorno: {resultado}\")"
   ]
  },
  {
   "cell_type": "markdown",
   "id": "79de2d8d",
   "metadata": {},
   "source": [
    "## 📚 Resumen de Decoradores\n",
    "\n",
    "### Estructura Básica:\n",
    "```python\n",
    "def decorador(func):\n",
    "    def wrapper(*args, **kwargs):\n",
    "        # código antes\n",
    "        resultado = func(*args, **kwargs)\n",
    "        # código después\n",
    "        return resultado\n",
    "    return wrapper\n",
    "```\n",
    "\n",
    "### Uso:\n",
    "```python\n",
    "@decorador\n",
    "def mi_funcion(x, y):\n",
    "    return x + y\n",
    "```\n",
    "\n",
    "Equivale a: `mi_funcion = decorador(mi_funcion)`\n",
    "\n",
    "### 🔑 Elementos Clave:\n",
    "\n",
    "| Elemento | Descripción |\n",
    "|----------|-------------|\n",
    "| `*args` | Captura argumentos posicionales |\n",
    "| `**kwargs` | Captura argumentos con nombre |\n",
    "| `@wraps(func)` | Preserva metadatos (nombre, doc) |\n",
    "| `return resultado` | Retorna el valor de la función original |\n",
    "\n",
    "### 💡 Usos Comunes:\n",
    "- ⏱️ **Medir tiempo** de ejecución\n",
    "- 📝 **Logging** (registrar llamadas)\n",
    "- 🔒 **Validación** de permisos\n",
    "- 🔄 **Reintentos** en caso de error\n",
    "- 💾 **Caché** de resultados\n",
    "\n",
    "---\n",
    "\n",
    "**¡Fin de la demo!** 🎉"
   ]
  }
 ],
 "metadata": {
  "kernelspec": {
   "display_name": "SEA_ejemplosT4",
   "language": "python",
   "name": "python3"
  },
  "language_info": {
   "codemirror_mode": {
    "name": "ipython",
    "version": 3
   },
   "file_extension": ".py",
   "mimetype": "text/x-python",
   "name": "python",
   "nbconvert_exporter": "python",
   "pygments_lexer": "ipython3",
   "version": "3.12.3"
  }
 },
 "nbformat": 4,
 "nbformat_minor": 5
}
